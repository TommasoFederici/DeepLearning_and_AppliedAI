{
  "nbformat": 4,
  "nbformat_minor": 0,
  "metadata": {
    "colab": {
      "provenance": [],
      "collapsed_sections": [
        "4C5Ct9yoZKYa",
        "dHLO4Z-T_yxB",
        "GPHftSvUaIhe",
        "0PAIT1NjFUhk",
        "8htU_ACVGQY5",
        "i8kq5mSFOHul",
        "mhRdUyWpwX-v",
        "yTDKBC5GL7MI",
        "CENyGHlSp_FX",
        "FXq55ce581os",
        "5z1iX6ltDTx8",
        "Tvpx3YbdcKlK",
        "ndnx7HJxkvXH",
        "SYYP8rCj2-Ae",
        "Q4l1TIvepi6H",
        "zFEIytCKlMsQ",
        "DUhUSCRNoTQb"
      ],
      "toc_visible": true,
      "include_colab_link": true
    },
    "kernelspec": {
      "name": "python3",
      "display_name": "Python 3"
    }
  },
  "cells": [
    {
      "cell_type": "markdown",
      "metadata": {
        "id": "view-in-github",
        "colab_type": "text"
      },
      "source": [
        "<a href=\"https://colab.research.google.com/github/TommasoFederici/DeepLearning_and_AppliedAI/blob/main/labs/03_Linear_models_and_Pytorch_Datasets.ipynb\" target=\"_parent\"><img src=\"https://colab.research.google.com/assets/colab-badge.svg\" alt=\"Open In Colab\"/></a>"
      ]
    },
    {
      "cell_type": "markdown",
      "metadata": {
        "id": "4C5Ct9yoZKYa"
      },
      "source": [
        "# Deep Learning & Applied AI\n",
        "\n",
        "# Tutorial 3: Linear models and Pytorch Datasets\n",
        "\n",
        "In this tutorial, we will cover:\n",
        "\n",
        "- Linear models\n",
        "- Pytorch Dataset and DataLoader\n",
        "\n",
        "Based on original material by Dr. Luca Moschella (moschella@di.uniroma1.it) and Dr. Antonio Norelli (norelli@di.uniroma1.it)\n",
        "\n",
        "Course:\n",
        "\n",
        "- Website and notebooks will be available at https://erodola.github.io/DLAI-s2-2025/\n",
        "\n",
        "#### Instructions\n",
        "We encourage you to form small groups of 2-3 people to read and discuss the notebooks together.\n",
        "\n",
        "Run the code and play with it! It is very easy to edit the code locally and make small experiments. Try whatever comes to your mind, this is the best way to learn! Python notebooks are designed to be used in this way, that's why we chose them for the DLAI lab sessions.\n",
        "\n",
        "There will be some exercises, try to do them by yourself, and when everyone in your group has finished, compare the solutions with each other.\n",
        "\n",
        "When something is not clear or you have a question, raise your hand and we will come to you, or directly approach us.\n",
        "\n",
        "Some sections in the notebooks are marked with 📖. This is additional content for further reading outside of class. You may want to go through it at home or during class if you finish early. (Some sections are \"more optional\" than others, those marked with more books 📖📖)\n",
        "\n",
        "Let's start!"
      ]
    },
    {
      "cell_type": "markdown",
      "metadata": {
        "id": "dHLO4Z-T_yxB"
      },
      "source": [
        "### Import dependencies"
      ]
    },
    {
      "cell_type": "markdown",
      "source": [
        "In this notebook you will discover **Plotly**, a powerful plotting library (there are many [visualization libraries](https://pyviz.org/overviews/index.html) for Python).\n",
        "Effectively communicating your findings through plots and visualizations is an essential part of any scientific or engineering project.\n",
        "Plotly is a modern library that makes interactive plots very easy to produce, and is very popular also outside of the DL community.\n",
        "\n",
        "[Here](https://plot.ly/python/) you can find its documentation."
      ],
      "metadata": {
        "id": "GHKiAWxOGLb1"
      }
    },
    {
      "cell_type": "code",
      "metadata": {
        "id": "pRePt-K1_yw9"
      },
      "source": [
        "import torch\n",
        "import numpy as np\n",
        "import plotly.express as px\n",
        "from plotly.subplots import make_subplots\n",
        "import plotly.graph_objects as go"
      ],
      "execution_count": 1,
      "outputs": []
    },
    {
      "cell_type": "markdown",
      "source": [
        "### A note on reproducibility\n",
        "\n",
        "As mentioned in the previous notebooks, we are going to ensure that all the RNGs used in different parts of this notebook produce the same sequence of numbers each time."
      ],
      "metadata": {
        "id": "pcNRBDwVUlkl"
      }
    },
    {
      "cell_type": "code",
      "metadata": {
        "id": "2tGN_bJOcfd3"
      },
      "source": [
        "# Reproducibility stuff\n",
        "\n",
        "import random\n",
        "torch.manual_seed(42)      # PyTorch CPU\n",
        "np.random.seed(42)         # NumPy\n",
        "random.seed(0)             # Python built-in\n",
        "torch.cuda.manual_seed(0)  # PyTorch GPU"
      ],
      "execution_count": 2,
      "outputs": []
    },
    {
      "cell_type": "markdown",
      "source": [
        "For some operations, cuDNN (NVIDIA's library for deep neural networks) uses algorithms that can produce different results on different runs, *even* with the same inputs and the same seed. Below we set `deterministic = True`, forcing cuDNN to use deterministic algorithms where possible. This might limit cuDNN to a subset of algorithms that might not be  the most efficient, but will produce the same results across different runs."
      ],
      "metadata": {
        "id": "WB-2WlPSU8Fl"
      }
    },
    {
      "cell_type": "code",
      "source": [
        "torch.backends.cudnn.deterministic = True"
      ],
      "metadata": {
        "id": "rNcVjPZPVJuf"
      },
      "execution_count": null,
      "outputs": []
    },
    {
      "cell_type": "markdown",
      "source": [
        "Finally, when `benchmark = True`, cuDNN will automatically find the most efficient algorithms for your specific operations based on your network architecture and input sizes. This can greatly improve performance. However, since the selection of algorithms might change from one run to another, this can lead to non-deterministic behavior. Setting it to `benchmark = False` prevents cuDNN from dynamically selecting algorithms, thus improving reproducibility at the cost of potential performance gains."
      ],
      "metadata": {
        "id": "YDdgn57QVLI5"
      }
    },
    {
      "cell_type": "code",
      "source": [
        "torch.backends.cudnn.benchmark = False"
      ],
      "metadata": {
        "id": "Vl8AGAIfVS9J"
      },
      "execution_count": null,
      "outputs": []
    },
    {
      "cell_type": "markdown",
      "source": [
        "Enough about reproducibility, let's move on to the meat!"
      ],
      "metadata": {
        "id": "4AOnQMcxVTa7"
      }
    },
    {
      "cell_type": "markdown",
      "metadata": {
        "id": "GPHftSvUaIhe"
      },
      "source": [
        "##Linear models\n"
      ]
    },
    {
      "cell_type": "markdown",
      "source": [
        "Today we'll work with **linear models**. Don't underestimate their power! Linear models are simple, but they are at the heart of several effective pipelines. They will provide solid baselines for our experiments at the very least, and are a useful tool to study more advanced topics in modern deep learning."
      ],
      "metadata": {
        "id": "sCRBI35LWCvt"
      }
    },
    {
      "cell_type": "markdown",
      "metadata": {
        "id": "0PAIT1NjFUhk"
      },
      "source": [
        "###The regression problem\n"
      ]
    },
    {
      "cell_type": "markdown",
      "source": [
        "####The general definition\n",
        "We observe a phenomenon $\\mathcal{P}$ where a variable of interest $t$ depends on another variable $x$.\n",
        "\n",
        "**Problem**: Given a set of $N$ paired observations $(x, t)$, $\\mathbf{D}=\\{(x_1, t_1),...,(x_N, t_N)\\}$, and a new *input* instance $x_i$, find the corresponding *target* $t_i$."
      ],
      "metadata": {
        "id": "8htU_ACVGQY5"
      }
    },
    {
      "cell_type": "markdown",
      "metadata": {
        "id": "i8kq5mSFOHul"
      },
      "source": [
        "####Our workspace\n",
        "\n",
        "In our workspace, the underlying law governing our phenomenon $\\mathcal{P}$ links $t$ to a $x \\in [0,1]$ through a $\\sin$ function.\n",
        "For our purposes, we are going to synthetically generate a set of observations --our *dataset*-- following this rule:\n",
        "\n",
        "$$t=\\sin(2\\pi x) + 0.1\\epsilon \\;\\;\\;\\;\\;\\;\\;\\;\\; \\epsilon \\sim \\mathcal{N}(0,1)$$\n",
        "\n",
        "where $\\sim \\mathcal{N}(0,1)$ means \"*sampled from a gaussian distribution with $\\mu=0$ and $\\sigma=1$*\".\n",
        "\n",
        "In this way, we are simulating the measurement process of any phenomenon: there is a global and general regularity (that we wish to discover) but all observations are plagued by uncertainty, here modeled with gaussian noise. Uncertainty usually comes from the finite precision of our measuring instrument, but may also be due to sources of variability we do not care about. Sometimes the problem we are tackling is intrinsically stochastic --such as measurements in quantum mechanics or idealized scenarios like the multi-armed bandit-- and we want to figure out just the non-stochastic part of the underlying rule.\n",
        "\n",
        "This is our dataset:"
      ]
    },
    {
      "cell_type": "code",
      "metadata": {
        "id": "qJyjckvQE-aZ"
      },
      "source": [
        "x = np.random.rand(10)\n",
        "t = np.sin(2 * np.pi * x) + 0.1 * np.random.randn(10)"
      ],
      "execution_count": 3,
      "outputs": []
    },
    {
      "cell_type": "code",
      "metadata": {
        "id": "IMJNXRXZGJS0",
        "outputId": "74580ac9-8a1b-49dc-d827-adeca7eda4fe",
        "colab": {
          "base_uri": "https://localhost:8080/",
          "height": 542
        }
      },
      "source": [
        "fig = px.scatter(x=x, y=t)\n",
        "fig.show()"
      ],
      "execution_count": 4,
      "outputs": [
        {
          "output_type": "display_data",
          "data": {
            "text/html": [
              "<html>\n",
              "<head><meta charset=\"utf-8\" /></head>\n",
              "<body>\n",
              "    <div>            <script src=\"https://cdnjs.cloudflare.com/ajax/libs/mathjax/2.7.5/MathJax.js?config=TeX-AMS-MML_SVG\"></script><script type=\"text/javascript\">if (window.MathJax && window.MathJax.Hub && window.MathJax.Hub.Config) {window.MathJax.Hub.Config({SVG: {font: \"STIX-Web\"}});}</script>                <script type=\"text/javascript\">window.PlotlyConfig = {MathJaxConfig: 'local'};</script>\n",
              "        <script charset=\"utf-8\" src=\"https://cdn.plot.ly/plotly-2.35.2.min.js\"></script>                <div id=\"dcece85c-590d-4a01-be48-c35e67e71aa5\" class=\"plotly-graph-div\" style=\"height:525px; width:100%;\"></div>            <script type=\"text/javascript\">                                    window.PLOTLYENV=window.PLOTLYENV || {};                                    if (document.getElementById(\"dcece85c-590d-4a01-be48-c35e67e71aa5\")) {                    Plotly.newPlot(                        \"dcece85c-590d-4a01-be48-c35e67e71aa5\",                        [{\"hovertemplate\":\"x=%{x}\\u003cbr\\u003ey=%{y}\\u003cextra\\u003e\\u003c\\u002fextra\\u003e\",\"legendgroup\":\"\",\"marker\":{\"color\":\"#636efa\",\"symbol\":\"circle\"},\"mode\":\"markers\",\"name\":\"\",\"orientation\":\"v\",\"showlegend\":false,\"x\":[0.3745401188473625,0.9507143064099162,0.7319939418114051,0.5986584841970366,0.15601864044243652,0.15599452033620265,0.05808361216819946,0.8661761457749352,0.6011150117432088,0.7080725777960455],\"xaxis\":\"x\",\"y\":[0.6621995859491285,-0.2504894367193866,-1.0399487832345553,-0.6275182299806012,0.854857342681687,0.6392487011533475,0.18441089666331875,-0.8014323286500792,-0.6947217251134631,-0.9340757540684701],\"yaxis\":\"y\",\"type\":\"scatter\"}],                        {\"template\":{\"data\":{\"histogram2dcontour\":[{\"type\":\"histogram2dcontour\",\"colorbar\":{\"outlinewidth\":0,\"ticks\":\"\"},\"colorscale\":[[0.0,\"#0d0887\"],[0.1111111111111111,\"#46039f\"],[0.2222222222222222,\"#7201a8\"],[0.3333333333333333,\"#9c179e\"],[0.4444444444444444,\"#bd3786\"],[0.5555555555555556,\"#d8576b\"],[0.6666666666666666,\"#ed7953\"],[0.7777777777777778,\"#fb9f3a\"],[0.8888888888888888,\"#fdca26\"],[1.0,\"#f0f921\"]]}],\"choropleth\":[{\"type\":\"choropleth\",\"colorbar\":{\"outlinewidth\":0,\"ticks\":\"\"}}],\"histogram2d\":[{\"type\":\"histogram2d\",\"colorbar\":{\"outlinewidth\":0,\"ticks\":\"\"},\"colorscale\":[[0.0,\"#0d0887\"],[0.1111111111111111,\"#46039f\"],[0.2222222222222222,\"#7201a8\"],[0.3333333333333333,\"#9c179e\"],[0.4444444444444444,\"#bd3786\"],[0.5555555555555556,\"#d8576b\"],[0.6666666666666666,\"#ed7953\"],[0.7777777777777778,\"#fb9f3a\"],[0.8888888888888888,\"#fdca26\"],[1.0,\"#f0f921\"]]}],\"heatmap\":[{\"type\":\"heatmap\",\"colorbar\":{\"outlinewidth\":0,\"ticks\":\"\"},\"colorscale\":[[0.0,\"#0d0887\"],[0.1111111111111111,\"#46039f\"],[0.2222222222222222,\"#7201a8\"],[0.3333333333333333,\"#9c179e\"],[0.4444444444444444,\"#bd3786\"],[0.5555555555555556,\"#d8576b\"],[0.6666666666666666,\"#ed7953\"],[0.7777777777777778,\"#fb9f3a\"],[0.8888888888888888,\"#fdca26\"],[1.0,\"#f0f921\"]]}],\"heatmapgl\":[{\"type\":\"heatmapgl\",\"colorbar\":{\"outlinewidth\":0,\"ticks\":\"\"},\"colorscale\":[[0.0,\"#0d0887\"],[0.1111111111111111,\"#46039f\"],[0.2222222222222222,\"#7201a8\"],[0.3333333333333333,\"#9c179e\"],[0.4444444444444444,\"#bd3786\"],[0.5555555555555556,\"#d8576b\"],[0.6666666666666666,\"#ed7953\"],[0.7777777777777778,\"#fb9f3a\"],[0.8888888888888888,\"#fdca26\"],[1.0,\"#f0f921\"]]}],\"contourcarpet\":[{\"type\":\"contourcarpet\",\"colorbar\":{\"outlinewidth\":0,\"ticks\":\"\"}}],\"contour\":[{\"type\":\"contour\",\"colorbar\":{\"outlinewidth\":0,\"ticks\":\"\"},\"colorscale\":[[0.0,\"#0d0887\"],[0.1111111111111111,\"#46039f\"],[0.2222222222222222,\"#7201a8\"],[0.3333333333333333,\"#9c179e\"],[0.4444444444444444,\"#bd3786\"],[0.5555555555555556,\"#d8576b\"],[0.6666666666666666,\"#ed7953\"],[0.7777777777777778,\"#fb9f3a\"],[0.8888888888888888,\"#fdca26\"],[1.0,\"#f0f921\"]]}],\"surface\":[{\"type\":\"surface\",\"colorbar\":{\"outlinewidth\":0,\"ticks\":\"\"},\"colorscale\":[[0.0,\"#0d0887\"],[0.1111111111111111,\"#46039f\"],[0.2222222222222222,\"#7201a8\"],[0.3333333333333333,\"#9c179e\"],[0.4444444444444444,\"#bd3786\"],[0.5555555555555556,\"#d8576b\"],[0.6666666666666666,\"#ed7953\"],[0.7777777777777778,\"#fb9f3a\"],[0.8888888888888888,\"#fdca26\"],[1.0,\"#f0f921\"]]}],\"mesh3d\":[{\"type\":\"mesh3d\",\"colorbar\":{\"outlinewidth\":0,\"ticks\":\"\"}}],\"scatter\":[{\"fillpattern\":{\"fillmode\":\"overlay\",\"size\":10,\"solidity\":0.2},\"type\":\"scatter\"}],\"parcoords\":[{\"type\":\"parcoords\",\"line\":{\"colorbar\":{\"outlinewidth\":0,\"ticks\":\"\"}}}],\"scatterpolargl\":[{\"type\":\"scatterpolargl\",\"marker\":{\"colorbar\":{\"outlinewidth\":0,\"ticks\":\"\"}}}],\"bar\":[{\"error_x\":{\"color\":\"#2a3f5f\"},\"error_y\":{\"color\":\"#2a3f5f\"},\"marker\":{\"line\":{\"color\":\"#E5ECF6\",\"width\":0.5},\"pattern\":{\"fillmode\":\"overlay\",\"size\":10,\"solidity\":0.2}},\"type\":\"bar\"}],\"scattergeo\":[{\"type\":\"scattergeo\",\"marker\":{\"colorbar\":{\"outlinewidth\":0,\"ticks\":\"\"}}}],\"scatterpolar\":[{\"type\":\"scatterpolar\",\"marker\":{\"colorbar\":{\"outlinewidth\":0,\"ticks\":\"\"}}}],\"histogram\":[{\"marker\":{\"pattern\":{\"fillmode\":\"overlay\",\"size\":10,\"solidity\":0.2}},\"type\":\"histogram\"}],\"scattergl\":[{\"type\":\"scattergl\",\"marker\":{\"colorbar\":{\"outlinewidth\":0,\"ticks\":\"\"}}}],\"scatter3d\":[{\"type\":\"scatter3d\",\"line\":{\"colorbar\":{\"outlinewidth\":0,\"ticks\":\"\"}},\"marker\":{\"colorbar\":{\"outlinewidth\":0,\"ticks\":\"\"}}}],\"scattermapbox\":[{\"type\":\"scattermapbox\",\"marker\":{\"colorbar\":{\"outlinewidth\":0,\"ticks\":\"\"}}}],\"scatterternary\":[{\"type\":\"scatterternary\",\"marker\":{\"colorbar\":{\"outlinewidth\":0,\"ticks\":\"\"}}}],\"scattercarpet\":[{\"type\":\"scattercarpet\",\"marker\":{\"colorbar\":{\"outlinewidth\":0,\"ticks\":\"\"}}}],\"carpet\":[{\"aaxis\":{\"endlinecolor\":\"#2a3f5f\",\"gridcolor\":\"white\",\"linecolor\":\"white\",\"minorgridcolor\":\"white\",\"startlinecolor\":\"#2a3f5f\"},\"baxis\":{\"endlinecolor\":\"#2a3f5f\",\"gridcolor\":\"white\",\"linecolor\":\"white\",\"minorgridcolor\":\"white\",\"startlinecolor\":\"#2a3f5f\"},\"type\":\"carpet\"}],\"table\":[{\"cells\":{\"fill\":{\"color\":\"#EBF0F8\"},\"line\":{\"color\":\"white\"}},\"header\":{\"fill\":{\"color\":\"#C8D4E3\"},\"line\":{\"color\":\"white\"}},\"type\":\"table\"}],\"barpolar\":[{\"marker\":{\"line\":{\"color\":\"#E5ECF6\",\"width\":0.5},\"pattern\":{\"fillmode\":\"overlay\",\"size\":10,\"solidity\":0.2}},\"type\":\"barpolar\"}],\"pie\":[{\"automargin\":true,\"type\":\"pie\"}]},\"layout\":{\"autotypenumbers\":\"strict\",\"colorway\":[\"#636efa\",\"#EF553B\",\"#00cc96\",\"#ab63fa\",\"#FFA15A\",\"#19d3f3\",\"#FF6692\",\"#B6E880\",\"#FF97FF\",\"#FECB52\"],\"font\":{\"color\":\"#2a3f5f\"},\"hovermode\":\"closest\",\"hoverlabel\":{\"align\":\"left\"},\"paper_bgcolor\":\"white\",\"plot_bgcolor\":\"#E5ECF6\",\"polar\":{\"bgcolor\":\"#E5ECF6\",\"angularaxis\":{\"gridcolor\":\"white\",\"linecolor\":\"white\",\"ticks\":\"\"},\"radialaxis\":{\"gridcolor\":\"white\",\"linecolor\":\"white\",\"ticks\":\"\"}},\"ternary\":{\"bgcolor\":\"#E5ECF6\",\"aaxis\":{\"gridcolor\":\"white\",\"linecolor\":\"white\",\"ticks\":\"\"},\"baxis\":{\"gridcolor\":\"white\",\"linecolor\":\"white\",\"ticks\":\"\"},\"caxis\":{\"gridcolor\":\"white\",\"linecolor\":\"white\",\"ticks\":\"\"}},\"coloraxis\":{\"colorbar\":{\"outlinewidth\":0,\"ticks\":\"\"}},\"colorscale\":{\"sequential\":[[0.0,\"#0d0887\"],[0.1111111111111111,\"#46039f\"],[0.2222222222222222,\"#7201a8\"],[0.3333333333333333,\"#9c179e\"],[0.4444444444444444,\"#bd3786\"],[0.5555555555555556,\"#d8576b\"],[0.6666666666666666,\"#ed7953\"],[0.7777777777777778,\"#fb9f3a\"],[0.8888888888888888,\"#fdca26\"],[1.0,\"#f0f921\"]],\"sequentialminus\":[[0.0,\"#0d0887\"],[0.1111111111111111,\"#46039f\"],[0.2222222222222222,\"#7201a8\"],[0.3333333333333333,\"#9c179e\"],[0.4444444444444444,\"#bd3786\"],[0.5555555555555556,\"#d8576b\"],[0.6666666666666666,\"#ed7953\"],[0.7777777777777778,\"#fb9f3a\"],[0.8888888888888888,\"#fdca26\"],[1.0,\"#f0f921\"]],\"diverging\":[[0,\"#8e0152\"],[0.1,\"#c51b7d\"],[0.2,\"#de77ae\"],[0.3,\"#f1b6da\"],[0.4,\"#fde0ef\"],[0.5,\"#f7f7f7\"],[0.6,\"#e6f5d0\"],[0.7,\"#b8e186\"],[0.8,\"#7fbc41\"],[0.9,\"#4d9221\"],[1,\"#276419\"]]},\"xaxis\":{\"gridcolor\":\"white\",\"linecolor\":\"white\",\"ticks\":\"\",\"title\":{\"standoff\":15},\"zerolinecolor\":\"white\",\"automargin\":true,\"zerolinewidth\":2},\"yaxis\":{\"gridcolor\":\"white\",\"linecolor\":\"white\",\"ticks\":\"\",\"title\":{\"standoff\":15},\"zerolinecolor\":\"white\",\"automargin\":true,\"zerolinewidth\":2},\"scene\":{\"xaxis\":{\"backgroundcolor\":\"#E5ECF6\",\"gridcolor\":\"white\",\"linecolor\":\"white\",\"showbackground\":true,\"ticks\":\"\",\"zerolinecolor\":\"white\",\"gridwidth\":2},\"yaxis\":{\"backgroundcolor\":\"#E5ECF6\",\"gridcolor\":\"white\",\"linecolor\":\"white\",\"showbackground\":true,\"ticks\":\"\",\"zerolinecolor\":\"white\",\"gridwidth\":2},\"zaxis\":{\"backgroundcolor\":\"#E5ECF6\",\"gridcolor\":\"white\",\"linecolor\":\"white\",\"showbackground\":true,\"ticks\":\"\",\"zerolinecolor\":\"white\",\"gridwidth\":2}},\"shapedefaults\":{\"line\":{\"color\":\"#2a3f5f\"}},\"annotationdefaults\":{\"arrowcolor\":\"#2a3f5f\",\"arrowhead\":0,\"arrowwidth\":1},\"geo\":{\"bgcolor\":\"white\",\"landcolor\":\"#E5ECF6\",\"subunitcolor\":\"white\",\"showland\":true,\"showlakes\":true,\"lakecolor\":\"white\"},\"title\":{\"x\":0.05},\"mapbox\":{\"style\":\"light\"}}},\"xaxis\":{\"anchor\":\"y\",\"domain\":[0.0,1.0],\"title\":{\"text\":\"x\"}},\"yaxis\":{\"anchor\":\"x\",\"domain\":[0.0,1.0],\"title\":{\"text\":\"y\"}},\"legend\":{\"tracegroupgap\":0},\"margin\":{\"t\":60}},                        {\"responsive\": true}                    ).then(function(){\n",
              "                            \n",
              "var gd = document.getElementById('dcece85c-590d-4a01-be48-c35e67e71aa5');\n",
              "var x = new MutationObserver(function (mutations, observer) {{\n",
              "        var display = window.getComputedStyle(gd).display;\n",
              "        if (!display || display === 'none') {{\n",
              "            console.log([gd, 'removed!']);\n",
              "            Plotly.purge(gd);\n",
              "            observer.disconnect();\n",
              "        }}\n",
              "}});\n",
              "\n",
              "// Listen for the removal of the full notebook cells\n",
              "var notebookContainer = gd.closest('#notebook-container');\n",
              "if (notebookContainer) {{\n",
              "    x.observe(notebookContainer, {childList: true});\n",
              "}}\n",
              "\n",
              "// Listen for the clearing of the current output cell\n",
              "var outputEl = gd.closest('.output');\n",
              "if (outputEl) {{\n",
              "    x.observe(outputEl, {childList: true});\n",
              "}}\n",
              "\n",
              "                        })                };                            </script>        </div>\n",
              "</body>\n",
              "</html>"
            ]
          },
          "metadata": {}
        }
      ]
    },
    {
      "cell_type": "markdown",
      "metadata": {
        "id": "SN_Ao9LRMr7s"
      },
      "source": [
        "It seems we have very little to work with! Just a handful of noisy points.\n",
        "\n",
        "How is it possible to devise a rule $f$ that is valid in general --i.e. for all the *infinite* points $x_i$ between 0 and 1 shall occur $t_i=f(x_i)$-- from such a *finite* set of observations?\n",
        "\n",
        "If we collect just 10 points and each of them agrees with a precise rule, why does that give us *any grounds* --even probabilistic grounds-- to expect the 11[$^{st}$](https://translate.google.com/translate?sl=it&tl=en&u=https://it.wikipedia.org/wiki/Tacchino_induttivista) point to follow the same rule?\n",
        "\n",
        "This is the essence of the so called [*Problem of induction*](https://ar5iv.labs.arxiv.org/html/1108.1791#S7) raised by David Hume more than two centuries ago. Still today this problem is at the core of the philosophical debate on the nature of knowledge."
      ]
    },
    {
      "cell_type": "markdown",
      "metadata": {
        "id": "mhRdUyWpwX-v"
      },
      "source": [
        "### Where to restart from?"
      ]
    },
    {
      "cell_type": "markdown",
      "source": [
        "We will take a very pragmatic point of view. Even if induction cannot be justified in general, we note that \"often it seems to work\". Therefore we proceed with our quest to find $f$.\n",
        "\n",
        "First of all, we observe that the quality of our guess $f$ depends crucially on how much information about the phenomenon $\\mathcal{P}$ we are given in advance, i.e. what **priors** do we have.\n",
        "\n",
        "\n",
        "\n",
        "**EXERCISE**: Suppose you have to guess this general rule $f$ to make predictions for new $x_i \\in [0,1]$. In which of the following scenarios would you like to find yourself to make the most accurate predictions?\n",
        "\n",
        "Write down a ranking from best to worst scenario, and then compare your ranking with those of your neighbors.\n",
        "\n",
        "For each scenario below, we give you a description of the available priors together with a plot.\n",
        "\n",
        "\n",
        "> **Scenario A**\n",
        ">\n",
        "> *priors:*\n",
        "> - 20 observations $(x_i,t_i)$ in the interval $[0,1]$ affected by a gaussian noise $0.1*\\epsilon$ where $\\epsilon \\sim \\mathcal{N}(0,1)$.\n",
        "\n",
        "> **Scenario B**\n",
        ">\n",
        "> *priors:*\n",
        "> - 20 observations $(x_i,t_i)$ in the interval $[0,1]$ affected by a gaussian noise $0.5*\\epsilon$ where $\\epsilon \\sim \\mathcal{N}(0,1)$\n",
        "\n",
        "> **Scenario C**\n",
        ">\n",
        "> *priors:*\n",
        "> - 40 observations $(x_i,t_i)$ in the interval $[0,1]$ affected by a gaussian noise $0.1*\\epsilon$ where $\\epsilon \\sim \\mathcal{N}(0,1)$\n",
        "\n",
        "> **Scenario D**\n",
        ">\n",
        "> *priors:*\n",
        "> - 100 observations $(x_i,t_i)$ in the interval $[0,0.3]$ affected by a gaussian noise $0.1*\\epsilon$ where $\\epsilon \\sim \\mathcal{N}(0,1)$\n",
        "\n",
        "> **Scenario E**\n",
        ">\n",
        "> *priors:*\n",
        "> - 10 observations $(x_i,t_i)$ in the interval $[0,1]$ affected by a gaussian noise $0.1*\\epsilon$ where $\\epsilon \\sim \\mathcal{N}(0,1)$\n",
        "> - you know that $f$ is in the form $f(x)=\\sin(kx)$ with $k\\in \\mathbb{R}$\n"
      ],
      "metadata": {
        "id": "4P5vTHieHC2R"
      }
    },
    {
      "cell_type": "code",
      "metadata": {
        "id": "3drUw3Pc8RWr",
        "colab": {
          "base_uri": "https://localhost:8080/",
          "height": 542
        },
        "outputId": "d74a999d-4698-41bf-a540-ae549de849c5",
        "cellView": "form"
      },
      "source": [
        "# @title Scenario plots\n",
        "\n",
        "xA = np.random.rand(20)\n",
        "tA = np.sin(2 * np.pi * xA) + 0.1 * np.random.randn(20)\n",
        "\n",
        "xB = np.random.rand(20)\n",
        "tB = np.sin(2 * np.pi * xB) + 0.5 * np.random.randn(20)\n",
        "\n",
        "xC = np.random.rand(40)\n",
        "tC = np.sin(2 * np.pi * xC) + 0.1 * np.random.randn(40)\n",
        "\n",
        "xD = np.random.rand(100) * 0.3\n",
        "tD = np.sin(2 * np.pi * xD) + 0.1 * np.random.randn(100)\n",
        "\n",
        "xE = np.random.rand(10)\n",
        "tE = np.sin(2 * np.pi * xE) + 0.1 * np.random.randn(10)\n",
        "\n",
        "fig = make_subplots(\n",
        "    rows=1, cols=5,\n",
        "    subplot_titles=(\"Scenario A\", \"Scenario B\", \"Scenario C\", \"Scenario D\", \"Scenario E\"))\n",
        "\n",
        "fig.add_trace(go.Scatter(x=xA, y=tA, mode='markers', marker=dict(color=\"mediumpurple\")),\n",
        "              row=1, col=1)\n",
        "\n",
        "fig.add_trace(go.Scatter(x=xB, y=tB, mode='markers', marker=dict(color=\"mediumpurple\")),\n",
        "              row=1, col=2)\n",
        "\n",
        "fig.add_trace(go.Scatter(x=xC, y=tC, mode='markers', marker=dict(color=\"mediumpurple\")),\n",
        "              row=1, col=3)\n",
        "\n",
        "fig.add_trace(go.Scatter(x=xD, y=tD, mode='markers', marker=dict(color=\"mediumpurple\")),\n",
        "              row=1, col=4)\n",
        "\n",
        "fig.add_trace(go.Scatter(x=xE, y=tE, mode='markers', marker=dict(color=\"crimson\")),\n",
        "              row=1, col=5)\n",
        "\n",
        "fig.update_xaxes(title_text=\"x\", range=[0, 1])\n",
        "fig.update_yaxes(title_text=\"\", range=[-1.7, 1.7])\n",
        "fig.update_layout(showlegend=False)\n",
        "\n",
        "fig.show()"
      ],
      "execution_count": null,
      "outputs": [
        {
          "output_type": "display_data",
          "data": {
            "text/html": [
              "<html>\n",
              "<head><meta charset=\"utf-8\" /></head>\n",
              "<body>\n",
              "    <div>            <script src=\"https://cdnjs.cloudflare.com/ajax/libs/mathjax/2.7.5/MathJax.js?config=TeX-AMS-MML_SVG\"></script><script type=\"text/javascript\">if (window.MathJax && window.MathJax.Hub && window.MathJax.Hub.Config) {window.MathJax.Hub.Config({SVG: {font: \"STIX-Web\"}});}</script>                <script type=\"text/javascript\">window.PlotlyConfig = {MathJaxConfig: 'local'};</script>\n",
              "        <script charset=\"utf-8\" src=\"https://cdn.plot.ly/plotly-2.35.2.min.js\"></script>                <div id=\"7dbf17ba-9aae-43cc-be49-ca9d45d25e78\" class=\"plotly-graph-div\" style=\"height:525px; width:100%;\"></div>            <script type=\"text/javascript\">                                    window.PLOTLYENV=window.PLOTLYENV || {};                                    if (document.getElementById(\"7dbf17ba-9aae-43cc-be49-ca9d45d25e78\")) {                    Plotly.newPlot(                        \"7dbf17ba-9aae-43cc-be49-ca9d45d25e78\",                        [{\"marker\":{\"color\":\"mediumpurple\"},\"mode\":\"markers\",\"x\":[0.29214464853521815,0.3663618432936917,0.45606998421703593,0.7851759613930136,0.19967378215835974,0.5142344384136116,0.5924145688620425,0.046450412719997725,0.6075448519014384,0.17052412368729153,0.06505159298527952,0.9488855372533332,0.9656320330745594,0.8083973481164611,0.3046137691733707,0.09767211400638387,0.6842330265121569,0.4401524937396013,0.12203823484477883,0.4951769101112702],\"y\":[1.0473986646372184,0.6223406569333729,0.2934152421753372,-1.171641999181489,0.8176025258895546,-0.06963230184878447,-0.4747274365242228,0.3048675877466595,-0.6370273950283458,0.8477780508141505,0.2495931776706199,-0.3876534400464828,-0.26032986655933765,-0.8277239867725625,0.9760618621915267,0.3995856670069373,-0.8834217094123248,0.3287252937868287,0.6261341303657666,0.09146735826145963],\"type\":\"scatter\",\"xaxis\":\"x\",\"yaxis\":\"y\"},{\"marker\":{\"color\":\"mediumpurple\"},\"mode\":\"markers\",\"x\":[0.005522117123602399,0.8154614284548342,0.7068573438476171,0.7290071680409873,0.7712703466859457,0.07404465173409036,0.3584657285442726,0.11586905952512971,0.8631034258755935,0.6232981268275579,0.3308980248526492,0.06355835028602363,0.3109823217156622,0.32518332202674705,0.7296061783380641,0.6375574713552131,0.8872127425763265,0.4722149251619493,0.1195942459383017,0.713244787222995],\"y\":[0.2153873268108042,-0.14758105968559254,-0.9813970771358488,-0.20899172756978435,-2.300955272813918,0.8595852224156049,0.820145717991251,0.515894263730882,-0.7120577767262324,-1.6932897329097907,0.7637385267809292,0.5673748359932289,1.6664337078529434,0.6313478968344268,-1.3960483343758894,-1.0115189555624717,-0.19311838126033076,0.3380688845501171,0.4178063284244009,-0.7168179922721039],\"type\":\"scatter\",\"xaxis\":\"x2\",\"yaxis\":\"y2\"},{\"marker\":{\"color\":\"mediumpurple\"},\"mode\":\"markers\",\"x\":[0.8925589984899778,0.5393422419156507,0.8074401551640625,0.8960912999234932,0.3180034749718639,0.11005192452767676,0.22793516254194168,0.4271077886262563,0.8180147659224931,0.8607305832563434,0.006952130531190703,0.5107473025775657,0.417411003148779,0.22210781047073025,0.1198653673336828,0.33761517140362796,0.9429097039125192,0.32320293202075523,0.5187906217433661,0.7030189588951778,0.363629602379294,0.9717820827209607,0.9624472949421112,0.25178229582536416,0.49724850589238545,0.30087830981676966,0.2848404943774676,0.036886947354532795,0.6095643339798968,0.5026790232288615,0.05147875124998935,0.27864646423661144,0.9082658859666537,0.23956189066697242,0.1448948720912231,0.489452760277563,0.9856504541106007,0.2420552715115004,0.6721355474058786,0.7616196153287176],\"y\":[-0.5458501143397135,-0.3356235442910603,-0.7952974458681501,-0.7476598279337927,0.9687826324163429,0.8567208994483376,0.8913515771922633,0.385521101140059,-0.9001023857248115,-0.8179266757765974,-0.11139870864918461,-0.060619687850113776,0.3897139441639967,1.0320419111183123,0.5919877870607935,1.0072552790717517,-0.4293909417964871,0.8638696133639039,-0.03643913666568993,-1.0798331452977148,0.7785233870777207,-0.045656698970320264,-0.3945156802943589,1.0184006833640145,0.04327556560710827,1.0275189940299556,0.8524398245980173,0.09765248553567893,-0.5831182675564751,0.012866462832574338,0.3428893351058709,1.0184901172314904,-0.612996873677882,1.0210754722494138,0.8190572388783036,-0.00521337654043931,0.09653869820973064,1.0461376373754585,-1.0018221402938086,-0.9316807243537488],\"type\":\"scatter\",\"xaxis\":\"x3\",\"yaxis\":\"y3\"},{\"marker\":{\"color\":\"mediumpurple\"},\"mode\":\"markers\",\"x\":[0.21365376640426076,0.07117472624904002,0.09761990944778032,0.22394742153540723,0.1948898697141644,0.2547670231482534,0.197283867690103,0.1704925810006415,0.028102430348427743,0.11031474091783006,0.07956071030451763,0.07319689301372508,0.29190316642573366,0.11792931740002811,0.26761396655313396,0.18934158779917887,0.23844339106249451,0.15079112793155763,0.17307116538790773,0.14775530814565915,0.058572896339413344,0.2167356345784516,0.08423170873225673,0.007294789929436152,0.19364168877215035,0.05313320382211468,0.2821375753058743,0.2861785731007762,0.2744593170661345,0.11104761007663332,0.004636984958660229,0.2784955687763176,0.1284552444951943,0.28999644571310085,0.28908599312677585,0.255902836640208,0.0883346676208757,0.11552931858057758,0.25534100145505706,0.0950766015468833,0.05084782400582775,0.16704037873750505,0.2808464322482343,0.2088089390024919,0.17101835102680948,0.02915294813123056,0.18450216800975092,0.297016155031279,0.04202520457095721,0.155498895709121,0.26321192157838663,0.22223058532626133,0.20910472229858038,0.21074522519613278,0.10784734536592655,0.088077553279348,0.24280834664355408,0.24303401840375422,0.2601216955740311,0.2739721657669414,0.15340271965828134,0.15045488840615986,0.23948855369003252,0.19498917923332953,0.210590063177311,0.2387378008308303,0.2670016025452699,0.10139854705546074,0.1126748857919832,0.028194581952260697,0.1734840422988522,0.010782682139022625,0.13967940543973803,0.16279339041227298,0.08596237563848531,0.17724997817070323,0.009150074981714829,0.011204456624764325,0.24678016819789747,0.10805719242337887,0.038118153795565435,0.1566729780164413,0.23099806592958325,0.06474630824905295,0.18686714274570007,0.0256042394981304,0.01550451635058231,0.1594063894704444,0.16219053648303194,0.19122897044946197,0.21782740011679846,0.29275562383876036,0.1548901044903586,0.09688694188237379,0.23855585843061108,0.08124967537862227,0.13169142621169083,0.023536914402679788,0.007605223024637253,0.2887945244033775],\"y\":[1.0245354052648041,0.5190217012945867,0.4555918529463594,0.953182037930033,0.8931516164622207,0.9342185464347299,1.122190030978894,0.9182916686226423,0.04956828188807677,0.7307326851603748,0.6915487339294399,0.5471136663375872,0.8136031655938346,0.6265817959130471,1.120573237774318,0.8574786835278394,1.041746826755194,0.8893921576797281,0.792746165799121,0.7946942566945034,0.03564605180553432,0.8757988408299362,0.479623611560726,-0.07895984782191007,1.1011967027453649,0.18466474242996847,0.9356776061269534,0.9873486835895604,1.132341409903907,0.4988957002856807,0.14544728927161799,0.9850378904931532,0.6241393262395908,1.0147990621164746,0.9899013454740325,0.9392906083863244,0.533943129117044,0.6252715681020851,1.010788700843733,0.6286944554831024,0.4726805791729871,0.7434155164684184,1.1945801530163491,0.7714861660612208,0.8641927064886631,0.24098249272510502,0.9446070577950813,0.8944125530060174,0.24018216063614214,0.7795383514712947,0.9376199274539417,1.0697770860337474,1.002870463504912,0.9004460419355562,0.7169043923746283,0.5563191936571572,1.0802654761103807,1.0620051939678787,0.9150789237018115,0.9326598981981646,0.8961273039617218,0.871730691530382,0.995729638158491,0.9525904746979749,1.09726500369009,0.9383402410693642,1.0490094549864089,0.5746523017028511,0.6285151001201837,0.2861043359717379,0.9691835267504757,0.1490487369665766,0.8997755629123495,0.8557022868529239,0.5824320965201186,0.8663086771221707,0.08987658612804088,0.05732723473393957,1.009494960847243,0.6874867641912586,0.15539818555909518,1.0421819125760046,0.8922794190632143,0.2742656316464558,1.0381616330865717,0.23934940494528323,0.15967571818857207,0.9051581002808491,0.8503979210031914,0.8428659029939242,0.987218351156479,0.896416188438326,0.9242042353622808,0.5571437776983994,0.9148661818902639,0.45648087773868695,0.7774955244282766,0.09097586884858652,-0.0344551973712225,0.9948077146690533],\"type\":\"scatter\",\"xaxis\":\"x4\",\"yaxis\":\"y4\"},{\"marker\":{\"color\":\"crimson\"},\"mode\":\"markers\",\"x\":[0.08410680611499743,0.70096913145912,0.07276300636419353,0.8218600592903562,0.7062422271564962,0.08134878064189976,0.08483771408519192,0.9866395785011755,0.3742707957561203,0.3706421470668909],\"y\":[0.4323584300469619,-0.9742652642366553,0.4725133315290869,-0.7522536264180602,-0.8766760163182921,0.47316881517583953,0.5062618555254742,-0.18410038163147216,0.7084878034927269,0.697334875506115],\"type\":\"scatter\",\"xaxis\":\"x5\",\"yaxis\":\"y5\"}],                        {\"template\":{\"data\":{\"histogram2dcontour\":[{\"type\":\"histogram2dcontour\",\"colorbar\":{\"outlinewidth\":0,\"ticks\":\"\"},\"colorscale\":[[0.0,\"#0d0887\"],[0.1111111111111111,\"#46039f\"],[0.2222222222222222,\"#7201a8\"],[0.3333333333333333,\"#9c179e\"],[0.4444444444444444,\"#bd3786\"],[0.5555555555555556,\"#d8576b\"],[0.6666666666666666,\"#ed7953\"],[0.7777777777777778,\"#fb9f3a\"],[0.8888888888888888,\"#fdca26\"],[1.0,\"#f0f921\"]]}],\"choropleth\":[{\"type\":\"choropleth\",\"colorbar\":{\"outlinewidth\":0,\"ticks\":\"\"}}],\"histogram2d\":[{\"type\":\"histogram2d\",\"colorbar\":{\"outlinewidth\":0,\"ticks\":\"\"},\"colorscale\":[[0.0,\"#0d0887\"],[0.1111111111111111,\"#46039f\"],[0.2222222222222222,\"#7201a8\"],[0.3333333333333333,\"#9c179e\"],[0.4444444444444444,\"#bd3786\"],[0.5555555555555556,\"#d8576b\"],[0.6666666666666666,\"#ed7953\"],[0.7777777777777778,\"#fb9f3a\"],[0.8888888888888888,\"#fdca26\"],[1.0,\"#f0f921\"]]}],\"heatmap\":[{\"type\":\"heatmap\",\"colorbar\":{\"outlinewidth\":0,\"ticks\":\"\"},\"colorscale\":[[0.0,\"#0d0887\"],[0.1111111111111111,\"#46039f\"],[0.2222222222222222,\"#7201a8\"],[0.3333333333333333,\"#9c179e\"],[0.4444444444444444,\"#bd3786\"],[0.5555555555555556,\"#d8576b\"],[0.6666666666666666,\"#ed7953\"],[0.7777777777777778,\"#fb9f3a\"],[0.8888888888888888,\"#fdca26\"],[1.0,\"#f0f921\"]]}],\"heatmapgl\":[{\"type\":\"heatmapgl\",\"colorbar\":{\"outlinewidth\":0,\"ticks\":\"\"},\"colorscale\":[[0.0,\"#0d0887\"],[0.1111111111111111,\"#46039f\"],[0.2222222222222222,\"#7201a8\"],[0.3333333333333333,\"#9c179e\"],[0.4444444444444444,\"#bd3786\"],[0.5555555555555556,\"#d8576b\"],[0.6666666666666666,\"#ed7953\"],[0.7777777777777778,\"#fb9f3a\"],[0.8888888888888888,\"#fdca26\"],[1.0,\"#f0f921\"]]}],\"contourcarpet\":[{\"type\":\"contourcarpet\",\"colorbar\":{\"outlinewidth\":0,\"ticks\":\"\"}}],\"contour\":[{\"type\":\"contour\",\"colorbar\":{\"outlinewidth\":0,\"ticks\":\"\"},\"colorscale\":[[0.0,\"#0d0887\"],[0.1111111111111111,\"#46039f\"],[0.2222222222222222,\"#7201a8\"],[0.3333333333333333,\"#9c179e\"],[0.4444444444444444,\"#bd3786\"],[0.5555555555555556,\"#d8576b\"],[0.6666666666666666,\"#ed7953\"],[0.7777777777777778,\"#fb9f3a\"],[0.8888888888888888,\"#fdca26\"],[1.0,\"#f0f921\"]]}],\"surface\":[{\"type\":\"surface\",\"colorbar\":{\"outlinewidth\":0,\"ticks\":\"\"},\"colorscale\":[[0.0,\"#0d0887\"],[0.1111111111111111,\"#46039f\"],[0.2222222222222222,\"#7201a8\"],[0.3333333333333333,\"#9c179e\"],[0.4444444444444444,\"#bd3786\"],[0.5555555555555556,\"#d8576b\"],[0.6666666666666666,\"#ed7953\"],[0.7777777777777778,\"#fb9f3a\"],[0.8888888888888888,\"#fdca26\"],[1.0,\"#f0f921\"]]}],\"mesh3d\":[{\"type\":\"mesh3d\",\"colorbar\":{\"outlinewidth\":0,\"ticks\":\"\"}}],\"scatter\":[{\"fillpattern\":{\"fillmode\":\"overlay\",\"size\":10,\"solidity\":0.2},\"type\":\"scatter\"}],\"parcoords\":[{\"type\":\"parcoords\",\"line\":{\"colorbar\":{\"outlinewidth\":0,\"ticks\":\"\"}}}],\"scatterpolargl\":[{\"type\":\"scatterpolargl\",\"marker\":{\"colorbar\":{\"outlinewidth\":0,\"ticks\":\"\"}}}],\"bar\":[{\"error_x\":{\"color\":\"#2a3f5f\"},\"error_y\":{\"color\":\"#2a3f5f\"},\"marker\":{\"line\":{\"color\":\"#E5ECF6\",\"width\":0.5},\"pattern\":{\"fillmode\":\"overlay\",\"size\":10,\"solidity\":0.2}},\"type\":\"bar\"}],\"scattergeo\":[{\"type\":\"scattergeo\",\"marker\":{\"colorbar\":{\"outlinewidth\":0,\"ticks\":\"\"}}}],\"scatterpolar\":[{\"type\":\"scatterpolar\",\"marker\":{\"colorbar\":{\"outlinewidth\":0,\"ticks\":\"\"}}}],\"histogram\":[{\"marker\":{\"pattern\":{\"fillmode\":\"overlay\",\"size\":10,\"solidity\":0.2}},\"type\":\"histogram\"}],\"scattergl\":[{\"type\":\"scattergl\",\"marker\":{\"colorbar\":{\"outlinewidth\":0,\"ticks\":\"\"}}}],\"scatter3d\":[{\"type\":\"scatter3d\",\"line\":{\"colorbar\":{\"outlinewidth\":0,\"ticks\":\"\"}},\"marker\":{\"colorbar\":{\"outlinewidth\":0,\"ticks\":\"\"}}}],\"scattermapbox\":[{\"type\":\"scattermapbox\",\"marker\":{\"colorbar\":{\"outlinewidth\":0,\"ticks\":\"\"}}}],\"scatterternary\":[{\"type\":\"scatterternary\",\"marker\":{\"colorbar\":{\"outlinewidth\":0,\"ticks\":\"\"}}}],\"scattercarpet\":[{\"type\":\"scattercarpet\",\"marker\":{\"colorbar\":{\"outlinewidth\":0,\"ticks\":\"\"}}}],\"carpet\":[{\"aaxis\":{\"endlinecolor\":\"#2a3f5f\",\"gridcolor\":\"white\",\"linecolor\":\"white\",\"minorgridcolor\":\"white\",\"startlinecolor\":\"#2a3f5f\"},\"baxis\":{\"endlinecolor\":\"#2a3f5f\",\"gridcolor\":\"white\",\"linecolor\":\"white\",\"minorgridcolor\":\"white\",\"startlinecolor\":\"#2a3f5f\"},\"type\":\"carpet\"}],\"table\":[{\"cells\":{\"fill\":{\"color\":\"#EBF0F8\"},\"line\":{\"color\":\"white\"}},\"header\":{\"fill\":{\"color\":\"#C8D4E3\"},\"line\":{\"color\":\"white\"}},\"type\":\"table\"}],\"barpolar\":[{\"marker\":{\"line\":{\"color\":\"#E5ECF6\",\"width\":0.5},\"pattern\":{\"fillmode\":\"overlay\",\"size\":10,\"solidity\":0.2}},\"type\":\"barpolar\"}],\"pie\":[{\"automargin\":true,\"type\":\"pie\"}]},\"layout\":{\"autotypenumbers\":\"strict\",\"colorway\":[\"#636efa\",\"#EF553B\",\"#00cc96\",\"#ab63fa\",\"#FFA15A\",\"#19d3f3\",\"#FF6692\",\"#B6E880\",\"#FF97FF\",\"#FECB52\"],\"font\":{\"color\":\"#2a3f5f\"},\"hovermode\":\"closest\",\"hoverlabel\":{\"align\":\"left\"},\"paper_bgcolor\":\"white\",\"plot_bgcolor\":\"#E5ECF6\",\"polar\":{\"bgcolor\":\"#E5ECF6\",\"angularaxis\":{\"gridcolor\":\"white\",\"linecolor\":\"white\",\"ticks\":\"\"},\"radialaxis\":{\"gridcolor\":\"white\",\"linecolor\":\"white\",\"ticks\":\"\"}},\"ternary\":{\"bgcolor\":\"#E5ECF6\",\"aaxis\":{\"gridcolor\":\"white\",\"linecolor\":\"white\",\"ticks\":\"\"},\"baxis\":{\"gridcolor\":\"white\",\"linecolor\":\"white\",\"ticks\":\"\"},\"caxis\":{\"gridcolor\":\"white\",\"linecolor\":\"white\",\"ticks\":\"\"}},\"coloraxis\":{\"colorbar\":{\"outlinewidth\":0,\"ticks\":\"\"}},\"colorscale\":{\"sequential\":[[0.0,\"#0d0887\"],[0.1111111111111111,\"#46039f\"],[0.2222222222222222,\"#7201a8\"],[0.3333333333333333,\"#9c179e\"],[0.4444444444444444,\"#bd3786\"],[0.5555555555555556,\"#d8576b\"],[0.6666666666666666,\"#ed7953\"],[0.7777777777777778,\"#fb9f3a\"],[0.8888888888888888,\"#fdca26\"],[1.0,\"#f0f921\"]],\"sequentialminus\":[[0.0,\"#0d0887\"],[0.1111111111111111,\"#46039f\"],[0.2222222222222222,\"#7201a8\"],[0.3333333333333333,\"#9c179e\"],[0.4444444444444444,\"#bd3786\"],[0.5555555555555556,\"#d8576b\"],[0.6666666666666666,\"#ed7953\"],[0.7777777777777778,\"#fb9f3a\"],[0.8888888888888888,\"#fdca26\"],[1.0,\"#f0f921\"]],\"diverging\":[[0,\"#8e0152\"],[0.1,\"#c51b7d\"],[0.2,\"#de77ae\"],[0.3,\"#f1b6da\"],[0.4,\"#fde0ef\"],[0.5,\"#f7f7f7\"],[0.6,\"#e6f5d0\"],[0.7,\"#b8e186\"],[0.8,\"#7fbc41\"],[0.9,\"#4d9221\"],[1,\"#276419\"]]},\"xaxis\":{\"gridcolor\":\"white\",\"linecolor\":\"white\",\"ticks\":\"\",\"title\":{\"standoff\":15},\"zerolinecolor\":\"white\",\"automargin\":true,\"zerolinewidth\":2},\"yaxis\":{\"gridcolor\":\"white\",\"linecolor\":\"white\",\"ticks\":\"\",\"title\":{\"standoff\":15},\"zerolinecolor\":\"white\",\"automargin\":true,\"zerolinewidth\":2},\"scene\":{\"xaxis\":{\"backgroundcolor\":\"#E5ECF6\",\"gridcolor\":\"white\",\"linecolor\":\"white\",\"showbackground\":true,\"ticks\":\"\",\"zerolinecolor\":\"white\",\"gridwidth\":2},\"yaxis\":{\"backgroundcolor\":\"#E5ECF6\",\"gridcolor\":\"white\",\"linecolor\":\"white\",\"showbackground\":true,\"ticks\":\"\",\"zerolinecolor\":\"white\",\"gridwidth\":2},\"zaxis\":{\"backgroundcolor\":\"#E5ECF6\",\"gridcolor\":\"white\",\"linecolor\":\"white\",\"showbackground\":true,\"ticks\":\"\",\"zerolinecolor\":\"white\",\"gridwidth\":2}},\"shapedefaults\":{\"line\":{\"color\":\"#2a3f5f\"}},\"annotationdefaults\":{\"arrowcolor\":\"#2a3f5f\",\"arrowhead\":0,\"arrowwidth\":1},\"geo\":{\"bgcolor\":\"white\",\"landcolor\":\"#E5ECF6\",\"subunitcolor\":\"white\",\"showland\":true,\"showlakes\":true,\"lakecolor\":\"white\"},\"title\":{\"x\":0.05},\"mapbox\":{\"style\":\"light\"}}},\"xaxis\":{\"anchor\":\"y\",\"domain\":[0.0,0.16799999999999998],\"title\":{\"text\":\"x\"},\"range\":[0,1]},\"yaxis\":{\"anchor\":\"x\",\"domain\":[0.0,1.0],\"title\":{\"text\":\"\"},\"range\":[-1.7,1.7]},\"xaxis2\":{\"anchor\":\"y2\",\"domain\":[0.208,0.376],\"title\":{\"text\":\"x\"},\"range\":[0,1]},\"yaxis2\":{\"anchor\":\"x2\",\"domain\":[0.0,1.0],\"title\":{\"text\":\"\"},\"range\":[-1.7,1.7]},\"xaxis3\":{\"anchor\":\"y3\",\"domain\":[0.416,0.584],\"title\":{\"text\":\"x\"},\"range\":[0,1]},\"yaxis3\":{\"anchor\":\"x3\",\"domain\":[0.0,1.0],\"title\":{\"text\":\"\"},\"range\":[-1.7,1.7]},\"xaxis4\":{\"anchor\":\"y4\",\"domain\":[0.624,0.792],\"title\":{\"text\":\"x\"},\"range\":[0,1]},\"yaxis4\":{\"anchor\":\"x4\",\"domain\":[0.0,1.0],\"title\":{\"text\":\"\"},\"range\":[-1.7,1.7]},\"xaxis5\":{\"anchor\":\"y5\",\"domain\":[0.832,1.0],\"title\":{\"text\":\"x\"},\"range\":[0,1]},\"yaxis5\":{\"anchor\":\"x5\",\"domain\":[0.0,1.0],\"title\":{\"text\":\"\"},\"range\":[-1.7,1.7]},\"annotations\":[{\"font\":{\"size\":16},\"showarrow\":false,\"text\":\"Scenario A\",\"x\":0.08399999999999999,\"xanchor\":\"center\",\"xref\":\"paper\",\"y\":1.0,\"yanchor\":\"bottom\",\"yref\":\"paper\"},{\"font\":{\"size\":16},\"showarrow\":false,\"text\":\"Scenario B\",\"x\":0.292,\"xanchor\":\"center\",\"xref\":\"paper\",\"y\":1.0,\"yanchor\":\"bottom\",\"yref\":\"paper\"},{\"font\":{\"size\":16},\"showarrow\":false,\"text\":\"Scenario C\",\"x\":0.5,\"xanchor\":\"center\",\"xref\":\"paper\",\"y\":1.0,\"yanchor\":\"bottom\",\"yref\":\"paper\"},{\"font\":{\"size\":16},\"showarrow\":false,\"text\":\"Scenario D\",\"x\":0.708,\"xanchor\":\"center\",\"xref\":\"paper\",\"y\":1.0,\"yanchor\":\"bottom\",\"yref\":\"paper\"},{\"font\":{\"size\":16},\"showarrow\":false,\"text\":\"Scenario E\",\"x\":0.9159999999999999,\"xanchor\":\"center\",\"xref\":\"paper\",\"y\":1.0,\"yanchor\":\"bottom\",\"yref\":\"paper\"}],\"showlegend\":false},                        {\"responsive\": true}                    ).then(function(){\n",
              "                            \n",
              "var gd = document.getElementById('7dbf17ba-9aae-43cc-be49-ca9d45d25e78');\n",
              "var x = new MutationObserver(function (mutations, observer) {{\n",
              "        var display = window.getComputedStyle(gd).display;\n",
              "        if (!display || display === 'none') {{\n",
              "            console.log([gd, 'removed!']);\n",
              "            Plotly.purge(gd);\n",
              "            observer.disconnect();\n",
              "        }}\n",
              "}});\n",
              "\n",
              "// Listen for the removal of the full notebook cells\n",
              "var notebookContainer = gd.closest('#notebook-container');\n",
              "if (notebookContainer) {{\n",
              "    x.observe(notebookContainer, {childList: true});\n",
              "}}\n",
              "\n",
              "// Listen for the clearing of the current output cell\n",
              "var outputEl = gd.closest('.output');\n",
              "if (outputEl) {{\n",
              "    x.observe(outputEl, {childList: true});\n",
              "}}\n",
              "\n",
              "                        })                };                            </script>        </div>\n",
              "</body>\n",
              "</html>"
            ]
          },
          "metadata": {}
        }
      ]
    },
    {
      "cell_type": "markdown",
      "metadata": {
        "id": "uQDNfE2ADPUG"
      },
      "source": [
        "If you want to learn more, [here](http://bit.ly/3BLUE1BROWN2TWY9iI) you can find a nice discussion about an analogous exercise:\n",
        "> Three Amazon resellers offer a book at essentially the same price. These are their ratings:\n",
        ">\n",
        "> - 100% positive out of 10 reviews\n",
        "> - 96% positive out of 50 reviews\n",
        "> - 93% positive out of 200 reviews\n",
        ">\n",
        "> Which rating is better?\n",
        "\n",
        "> **EXERCISE (optional)**: You probably realized that in the previous exercise you wanted to be in the scenario with the largest amount of relevant information about the phenomenon $\\mathcal{P}$. Now a tricky question: the dataset of which scenario, A or B, contains more *absolute* information? (i.e. Shannon information)\n",
        ">\n",
        ">Answer [here](http://bit.ly/VeritasiumRandom3b0rPBe), or more directly [here](https://en.wikipedia.org/wiki/Quantities_of_information#Self-information)."
      ]
    },
    {
      "cell_type": "markdown",
      "metadata": {
        "id": "yTDKBC5GL7MI"
      },
      "source": [
        "### Being linear in the parameters does not mean linear in the input\n",
        "\n",
        "In this tutorial we will restrict our search of $f$ among parametrized functions $f_\\theta$ that depend *linearly* on their finite set of parameters $\\theta = \\{a,b,c,...\\}$.\n",
        "\n",
        "Possible choices of $f$ are\n",
        "- $f_1(x) = ax + b$\n",
        "- $f_2(x) = ax^2 + bx + c$\n",
        "- $f_3(x) = a \\sin(2 \\pi x) + bx + c$"
      ]
    },
    {
      "cell_type": "code",
      "metadata": {
        "id": "1C9ECfD-Q65g",
        "colab": {
          "base_uri": "https://localhost:8080/",
          "height": 542
        },
        "outputId": "f36bbc1d-d0bc-4998-ae79-9c03242f8ab8",
        "cellView": "form"
      },
      "source": [
        "# @title Some random plots of these linear models\n",
        "\n",
        "\n",
        "x_funcs = np.arange(0., 1.1, 2./51)\n",
        "theta_funcs = np.random.randn(10, 3)\n",
        "\n",
        "fig = make_subplots(\n",
        "    rows=1, cols=3,\n",
        "    subplot_titles=(\"f1\", \"f2\", \"f3\"))\n",
        "\n",
        "for a, b in theta_funcs[:,:2]:\n",
        "    fig.add_trace(go.Scatter(x=x_funcs, y=a*x_funcs + b, mode='lines'),\n",
        "                row=1, col=1)\n",
        "\n",
        "for a, b, c in theta_funcs:\n",
        "    fig.add_trace(go.Scatter(x=x_funcs, y=a*x_funcs**2 + b*x_funcs + c, mode='lines'),\n",
        "                row=1, col=2)\n",
        "\n",
        "for a, b, c in theta_funcs:\n",
        "    fig.add_trace(go.Scatter(x=x_funcs, y=a*np.sin(2 * np.pi * x_funcs) + b*x_funcs + c, mode='lines'),\n",
        "                row=1, col=3)\n",
        "\n",
        "for i in range(3):\n",
        "    fig.add_trace(go.Scatter(x=x, y=t, mode='markers', marker=dict(color=\"mediumpurple\")),\n",
        "                row=1, col=i + 1)\n",
        "\n",
        "fig.update_xaxes(title_text=\"x\", range = [0,1])\n",
        "fig.update_yaxes(title_text=\"t\", range = [-2,2])\n",
        "fig.update_layout(showlegend=False)\n",
        "\n",
        "fig.show()"
      ],
      "execution_count": null,
      "outputs": [
        {
          "output_type": "display_data",
          "data": {
            "text/html": [
              "<html>\n",
              "<head><meta charset=\"utf-8\" /></head>\n",
              "<body>\n",
              "    <div>            <script src=\"https://cdnjs.cloudflare.com/ajax/libs/mathjax/2.7.5/MathJax.js?config=TeX-AMS-MML_SVG\"></script><script type=\"text/javascript\">if (window.MathJax && window.MathJax.Hub && window.MathJax.Hub.Config) {window.MathJax.Hub.Config({SVG: {font: \"STIX-Web\"}});}</script>                <script type=\"text/javascript\">window.PlotlyConfig = {MathJaxConfig: 'local'};</script>\n",
              "        <script charset=\"utf-8\" src=\"https://cdn.plot.ly/plotly-2.35.2.min.js\"></script>                <div id=\"dcd9b05a-98f5-40ea-a2d0-6f9f969ab942\" class=\"plotly-graph-div\" style=\"height:525px; width:100%;\"></div>            <script type=\"text/javascript\">                                    window.PLOTLYENV=window.PLOTLYENV || {};                                    if (document.getElementById(\"dcd9b05a-98f5-40ea-a2d0-6f9f969ab942\")) {                    Plotly.newPlot(                        \"dcd9b05a-98f5-40ea-a2d0-6f9f969ab942\",                        [{\"mode\":\"lines\",\"x\":[0.0,0.0392156862745098,0.0784313725490196,0.11764705882352941,0.1568627450980392,0.19607843137254902,0.23529411764705882,0.27450980392156865,0.3137254901960784,0.3529411764705882,0.39215686274509803,0.43137254901960786,0.47058823529411764,0.5098039215686274,0.5490196078431373,0.5882352941176471,0.6274509803921569,0.6666666666666666,0.7058823529411764,0.7450980392156863,0.7843137254901961,0.8235294117647058,0.8627450980392157,0.9019607843137255,0.9411764705882353,0.9803921568627451,1.0196078431372548,1.0588235294117647,1.0980392156862746],\"y\":[-1.0592135218889516,-1.0793651657060768,-1.099516809523202,-1.1196684533403274,-1.1398200971574526,-1.1599717409745778,-1.180123384791703,-1.2002750286088282,-1.2204266724259534,-1.2405783162430786,-1.260729960060204,-1.2808816038773292,-1.3010332476944544,-1.3211848915115796,-1.341336535328705,-1.3614881791458302,-1.3816398229629554,-1.4017914667800806,-1.4219431105972058,-1.442094754414331,-1.4622463982314562,-1.4823980420485814,-1.5025496858657068,-1.522701329682832,-1.5428529734999572,-1.5630046173170826,-1.5831562611342078,-1.603307904951333,-1.6234595487684582],\"type\":\"scatter\",\"xaxis\":\"x\",\"yaxis\":\"y\"},{\"mode\":\"lines\",\"x\":[0.0,0.0392156862745098,0.0784313725490196,0.11764705882352941,0.1568627450980392,0.19607843137254902,0.23529411764705882,0.27450980392156865,0.3137254901960784,0.3529411764705882,0.39215686274509803,0.43137254901960786,0.47058823529411764,0.5098039215686274,0.5490196078431373,0.5882352941176471,0.6274509803921569,0.6666666666666666,0.7058823529411764,0.7450980392156863,0.7843137254901961,0.8235294117647058,0.8627450980392157,0.9019607843137255,0.9411764705882353,0.9803921568627451,1.0196078431372548,1.0588235294117647,1.0980392156862746],\"y\":[-0.9857260463355437,-0.9482694847472599,-0.910812923158976,-0.8733563615706922,-0.8358997999824083,-0.7984432383941245,-0.7609866768058406,-0.7235301152175567,-0.6860735536292729,-0.6486169920409891,-0.6111604304527052,-0.5737038688644214,-0.5362473072761376,-0.49879074568785364,-0.4613341840995697,-0.4238776225112859,-0.3864210609230021,-0.3489644993347183,-0.3115079377464345,-0.27405137615815045,-0.23659481456986664,-0.19913825298158283,-0.1616816913932989,-0.1242251298050151,-0.08676856821673129,-0.04931200662844748,-0.01185544504016356,0.02560111654812025,0.06305767813640428],\"type\":\"scatter\",\"xaxis\":\"x\",\"yaxis\":\"y\"},{\"mode\":\"lines\",\"x\":[0.0,0.0392156862745098,0.0784313725490196,0.11764705882352941,0.1568627450980392,0.19607843137254902,0.23529411764705882,0.27450980392156865,0.3137254901960784,0.3529411764705882,0.39215686274509803,0.43137254901960786,0.47058823529411764,0.5098039215686274,0.5490196078431373,0.5882352941176471,0.6274509803921569,0.6666666666666666,0.7058823529411764,0.7450980392156863,0.7843137254901961,0.8235294117647058,0.8627450980392157,0.9019607843137255,0.9411764705882353,0.9803921568627451,1.0196078431372548,1.0588235294117647,1.0980392156862746],\"y\":[-0.7928728322623442,-0.8136672486691066,-0.8344616650758689,-0.8552560814826313,-0.8760504978893937,-0.8968449142961561,-0.9176393307029185,-0.9384337471096809,-0.9592281635164432,-0.9800225799232056,-1.000816996329968,-1.0216114127367304,-1.0424058291434928,-1.0632002455502552,-1.0839946619570175,-1.10478907836378,-1.1255834947705423,-1.1463779111773047,-1.167172327584067,-1.1879667439908295,-1.2087611603975918,-1.2295555768043542,-1.2503499932111166,-1.271144409617879,-1.2919388260246414,-1.3127332424314038,-1.3335276588381662,-1.3543220752449285,-1.375116491651691],\"type\":\"scatter\",\"xaxis\":\"x\",\"yaxis\":\"y\"},{\"mode\":\"lines\",\"x\":[0.0,0.0392156862745098,0.0784313725490196,0.11764705882352941,0.1568627450980392,0.19607843137254902,0.23529411764705882,0.27450980392156865,0.3137254901960784,0.3529411764705882,0.39215686274509803,0.43137254901960786,0.47058823529411764,0.5098039215686274,0.5490196078431373,0.5882352941176471,0.6274509803921569,0.6666666666666666,0.7058823529411764,0.7450980392156863,0.7843137254901961,0.8235294117647058,0.8627450980392157,0.9019607843137255,0.9411764705882353,0.9803921568627451,1.0196078431372548,1.0588235294117647,1.0980392156862746],\"y\":[-0.553649305347182,-0.5942470434812751,-0.6348447816153683,-0.6754425197494613,-0.7160402578835544,-0.7566379960176476,-0.7972357341517406,-0.8378334722858338,-0.8784312104199268,-0.91902894855402,-0.9596266866881131,-1.000224424822206,-1.0408221629562993,-1.0814199010903924,-1.1220176392244854,-1.1626153773585786,-1.2032131154926717,-1.2438108536267647,-1.2844085917608576,-1.325006329894951,-1.365604068029044,-1.4062018061631372,-1.4467995442972303,-1.4873972824313233,-1.5279950205654165,-1.5685927586995094,-1.6091904968336026,-1.6497882349676958,-1.690385973101789],\"type\":\"scatter\",\"xaxis\":\"x\",\"yaxis\":\"y\"},{\"mode\":\"lines\",\"x\":[0.0,0.0392156862745098,0.0784313725490196,0.11764705882352941,0.1568627450980392,0.19607843137254902,0.23529411764705882,0.27450980392156865,0.3137254901960784,0.3529411764705882,0.39215686274509803,0.43137254901960786,0.47058823529411764,0.5098039215686274,0.5490196078431373,0.5882352941176471,0.6274509803921569,0.6666666666666666,0.7058823529411764,0.7450980392156863,0.7843137254901961,0.8235294117647058,0.8627450980392157,0.9019607843137255,0.9411764705882353,0.9803921568627451,1.0196078431372548,1.0588235294117647,1.0980392156862746],\"y\":[0.03526355197172861,0.1123115963998223,0.189359640827916,0.2664076852560097,0.3434557296841034,0.4205037741121971,0.4975518185402908,0.5745998629683845,0.6516479073964782,0.7286959518245718,0.8057439962526656,0.8827920406807593,0.959840085108853,1.0368881295369465,1.1139361739650404,1.190984218393134,1.2680322628212277,1.3450803072493214,1.422128351677415,1.499176396105509,1.5762244405336026,1.6532724849616962,1.73032052938979,1.8073685738178837,1.8844166182459774,1.961464662674071,2.0385127071021647,2.115560751530259,2.1926087959583525],\"type\":\"scatter\",\"xaxis\":\"x\",\"yaxis\":\"y\"},{\"mode\":\"lines\",\"x\":[0.0,0.0392156862745098,0.0784313725490196,0.11764705882352941,0.1568627450980392,0.19607843137254902,0.23529411764705882,0.27450980392156865,0.3137254901960784,0.3529411764705882,0.39215686274509803,0.43137254901960786,0.47058823529411764,0.5098039215686274,0.5490196078431373,0.5882352941176471,0.6274509803921569,0.6666666666666666,0.7058823529411764,0.7450980392156863,0.7843137254901961,0.8235294117647058,0.8627450980392157,0.9019607843137255,0.9411764705882353,0.9803921568627451,1.0196078431372548,1.0588235294117647,1.0980392156862746],\"y\":[-0.11232804969082982,-0.10393668064242896,-0.0955453115940281,-0.08715394254562724,-0.07876257349722637,-0.0703712044488255,-0.06197983540042464,-0.05358846635202377,-0.045197097303622924,-0.03680572825522206,-0.028414359206821185,-0.020022990158420323,-0.01163162111001946,-0.003240252061618612,0.005151116986782278,0.013542486035183127,0.021933855083583975,0.03032522413198485,0.0387165931803857,0.047107962228786576,0.05549933127718745,0.0638907003255883,0.07228206937398918,0.08067343842239003,0.0890648074707909,0.09745617651919175,0.1058475455675926,0.11423891461599348,0.12263028366439438],\"type\":\"scatter\",\"xaxis\":\"x\",\"yaxis\":\"y\"},{\"mode\":\"lines\",\"x\":[0.0,0.0392156862745098,0.0784313725490196,0.11764705882352941,0.1568627450980392,0.19607843137254902,0.23529411764705882,0.27450980392156865,0.3137254901960784,0.3529411764705882,0.39215686274509803,0.43137254901960786,0.47058823529411764,0.5098039215686274,0.5490196078431373,0.5882352941176471,0.6274509803921569,0.6666666666666666,0.7058823529411764,0.7450980392156863,0.7843137254901961,0.8235294117647058,0.8627450980392157,0.9019607843137255,0.9411764705882353,0.9803921568627451,1.0196078431372548,1.0588235294117647,1.0980392156862746],\"y\":[0.7575077100473051,0.781592678676459,0.805677647305613,0.8297626159347669,0.8538475845639208,0.8779325531930747,0.9020175218222287,0.9261024904513826,0.9501874590805366,0.9742724277096905,0.9983573963388443,1.0224423649679983,1.0465273335971523,1.070612302226306,1.09469727085546,1.118782239484614,1.1428672081137679,1.1669521767429218,1.1910371453720758,1.2151221140012298,1.2392070826303838,1.2632920512595376,1.2873770198886916,1.3114619885178453,1.3355469571469993,1.3596319257761533,1.3837168944053073,1.4078018630344613,1.4318868316636153],\"type\":\"scatter\",\"xaxis\":\"x\",\"yaxis\":\"y\"},{\"mode\":\"lines\",\"x\":[0.0,0.0392156862745098,0.0784313725490196,0.11764705882352941,0.1568627450980392,0.19607843137254902,0.23529411764705882,0.27450980392156865,0.3137254901960784,0.3529411764705882,0.39215686274509803,0.43137254901960786,0.47058823529411764,0.5098039215686274,0.5490196078431373,0.5882352941176471,0.6274509803921569,0.6666666666666666,0.7058823529411764,0.7450980392156863,0.7843137254901961,0.8235294117647058,0.8627450980392157,0.9019607843137255,0.9411764705882353,0.9803921568627451,1.0196078431372548,1.0588235294117647,1.0980392156862746],\"y\":[-0.275051697151644,-0.297632804627906,-0.32021391210416794,-0.3427950195804299,-0.36537612705669187,-0.38795723453295383,-0.4105383420092158,-0.43311944948547776,-0.4557005569617397,-0.4782816644380017,-0.5008627719142636,-0.5234438793905256,-0.5460249868667875,-0.5686060943430495,-0.5911872018193115,-0.6137683092955735,-0.6363494167718353,-0.6589305242480974,-0.6815116317243592,-0.7040927392006213,-0.7266738466768832,-0.7492549541531452,-0.7718360616294072,-0.7944171691056692,-0.816998276581931,-0.839579384058193,-0.862160491534455,-0.884741599010717,-0.907322706486979],\"type\":\"scatter\",\"xaxis\":\"x\",\"yaxis\":\"y\"},{\"mode\":\"lines\",\"x\":[0.0,0.0392156862745098,0.0784313725490196,0.11764705882352941,0.1568627450980392,0.19607843137254902,0.23529411764705882,0.27450980392156865,0.3137254901960784,0.3529411764705882,0.39215686274509803,0.43137254901960786,0.47058823529411764,0.5098039215686274,0.5490196078431373,0.5882352941176471,0.6274509803921569,0.6666666666666666,0.7058823529411764,0.7450980392156863,0.7843137254901961,0.8235294117647058,0.8627450980392157,0.9019607843137255,0.9411764705882353,0.9803921568627451,1.0196078431372548,1.0588235294117647,1.0980392156862746],\"y\":[1.3668742674445247,1.307455010103405,1.2480357527622852,1.1886164954211655,1.129197238080046,1.0697779807389263,1.0103587233978066,0.9509394660566868,0.8915202087155671,0.8321009513744475,0.7726816940333278,0.713262436692208,0.6538431793510884,0.5944239220099686,0.5350046646688489,0.47558540732772914,0.4161661499866095,0.35674689264549,0.29732763530437034,0.23790837796325048,0.17848912062213085,0.11906986328101121,0.059650605939891355,0.00023134859877171898,-0.05918790874234792,-0.11860716608346777,-0.1780264234245874,-0.23744568076570727,-0.2968649381068269],\"type\":\"scatter\",\"xaxis\":\"x\",\"yaxis\":\"y\"},{\"mode\":\"lines\",\"x\":[0.0,0.0392156862745098,0.0784313725490196,0.11764705882352941,0.1568627450980392,0.19607843137254902,0.23529411764705882,0.27450980392156865,0.3137254901960784,0.3529411764705882,0.39215686274509803,0.43137254901960786,0.47058823529411764,0.5098039215686274,0.5490196078431373,0.5882352941176471,0.6274509803921569,0.6666666666666666,0.7058823529411764,0.7450980392156863,0.7843137254901961,0.8235294117647058,0.8627450980392157,0.9019607843137255,0.9411764705882353,0.9803921568627451,1.0196078431372548,1.0588235294117647,1.0980392156862746],\"y\":[0.5765569630557664,0.5667908438574771,0.5570247246591877,0.5472586054608984,0.537492486262609,0.5277263670643197,0.5179602478660303,0.5081941286677409,0.49842800946945165,0.4886618902711623,0.47889577107287296,0.4691296518745836,0.45936353267629426,0.44959741347800497,0.43983129427971557,0.4300651750814262,0.4202990558831369,0.4105329366848476,0.4007668174865582,0.3910006982882689,0.3812345790899795,0.3714684598916902,0.3617023406934008,0.3519362214951115,0.3421701022968221,0.3324039830985328,0.32263786390024346,0.31287174470195406,0.3031056255036647],\"type\":\"scatter\",\"xaxis\":\"x\",\"yaxis\":\"y\"},{\"mode\":\"lines\",\"x\":[0.0,0.0392156862745098,0.0784313725490196,0.11764705882352941,0.1568627450980392,0.19607843137254902,0.23529411764705882,0.27450980392156865,0.3137254901960784,0.3529411764705882,0.39215686274509803,0.43137254901960786,0.47058823529411764,0.5098039215686274,0.5490196078431373,0.5882352941176471,0.6274509803921569,0.6666666666666666,0.7058823529411764,0.7450980392156863,0.7843137254901961,0.8235294117647058,0.8627450980392157,0.9019607843137255,0.9411764705882353,0.9803921568627451,1.0196078431372548,1.0588235294117647,1.0980392156862746],\"y\":[-0.06267909727317188,-0.10500714298713568,-0.14891570978479557,-0.19440479766615154,-0.24147440663120362,-0.29012453667995186,-0.3403551878123961,-0.39216636002853655,-0.44555805332837295,-0.5005302677119055,-0.5570830031791342,-0.615216259730059,-0.6749300373646798,-0.7362243360829968,-0.79909915588501,-0.863554496770719,-0.9295903587401242,-0.9972067417932255,-1.066403645930023,-1.1371810711505166,-1.2095390174547063,-1.2834774848425918,-1.358996473314174,-1.4360959828694517,-1.5147760135084258,-1.5950365652310958,-1.6768776380374621,-1.7602992319275246,-1.8453013469012831],\"type\":\"scatter\",\"xaxis\":\"x2\",\"yaxis\":\"y2\"},{\"mode\":\"lines\",\"x\":[0.0,0.0392156862745098,0.0784313725490196,0.11764705882352941,0.1568627450980392,0.19607843137254902,0.23529411764705882,0.27450980392156865,0.3137254901960784,0.3529411764705882,0.39215686274509803,0.43137254901960786,0.47058823529411764,0.5098039215686274,0.5490196078431373,0.5882352941176471,0.6274509803921569,0.6666666666666666,0.7058823529411764,0.7450980392156863,0.7843137254901961,0.8235294117647058,0.8627450980392157,0.9019607843137255,0.9411764705882353,0.9803921568627451,1.0196078431372548,1.0588235294117647,1.0980392156862746],\"y\":[0.5040465155178444,0.4668594769003048,0.4326102078191012,0.4012987082742336,0.3729249782657019,0.34748901779350627,0.32499082685764663,0.30543040545812294,0.28880775359493527,0.27512287126808355,0.2643757584775679,0.2565664152233882,0.25169484150554444,0.24976103732403665,0.250765002678865,0.2547067375700292,0.26158624199752933,0.2714035159613656,0.28415855946153773,0.29985137249804594,0.31848195507089017,0.34005030718007034,0.3645564288255866,0.3920003200074387,0.4223819807256268,0.45570141098015093,0.4919586107710109,0.531153580098207,0.5732863189617394],\"type\":\"scatter\",\"xaxis\":\"x2\",\"yaxis\":\"y2\"},{\"mode\":\"lines\",\"x\":[0.0,0.0392156862745098,0.0784313725490196,0.11764705882352941,0.1568627450980392,0.19607843137254902,0.23529411764705882,0.27450980392156865,0.3137254901960784,0.3529411764705882,0.39215686274509803,0.43137254901960786,0.47058823529411764,0.5098039215686274,0.5490196078431373,0.5882352941176471,0.6274509803921569,0.6666666666666666,0.7058823529411764,0.7450980392156863,0.7843137254901961,0.8235294117647058,0.8627450980392157,0.9019607843137255,0.9411764705882353,0.9803921568627451,1.0196078431372548,1.0588235294117647,1.0980392156862746],\"y\":[-0.10703035995455783,-0.13893887951020906,-0.17247833368599852,-0.20764872248192623,-0.24445004589799213,-0.2828823039341963,-0.32294549659053867,-0.36463962386701926,-0.4079646857636381,-0.45292068228039506,-0.4995076134172904,-0.5477254791743239,-0.5975742795514956,-0.6490540145488055,-0.7021646841662538,-0.7569062884038401,-0.8132788272615648,-0.8712823007394275,-0.9309167088374285,-0.992182051555568,-1.0550783288938457,-1.1196055408522614,-1.1857636874308155,-1.2535527686295076,-1.322972784448338,-1.3940237348873066,-1.4667056199464135,-1.5410184396256588,-1.6169621939250423],\"type\":\"scatter\",\"xaxis\":\"x2\",\"yaxis\":\"y2\"},{\"mode\":\"lines\",\"x\":[0.0,0.0392156862745098,0.0784313725490196,0.11764705882352941,0.1568627450980392,0.19607843137254902,0.23529411764705882,0.27450980392156865,0.3137254901960784,0.3529411764705882,0.39215686274509803,0.43137254901960786,0.47058823529411764,0.5098039215686274,0.5490196078431373,0.5882352941176471,0.6274509803921569,0.6666666666666666,0.7058823529411764,0.7450980392156863,0.7843137254901961,0.8235294117647058,0.8627450980392157,0.9019607843137255,0.9411764705882353,0.9803921568627451,1.0196078431372548,1.0588235294117647,1.0980392156862746],\"y\":[-1.1978778925888485,-1.2211816982155652,-1.2476696401665244,-1.2773417184417264,-1.3101979330411708,-1.346238283964858,-1.3854627712127874,-1.4278713947849597,-1.4734641546813745,-1.5222410509020319,-1.5742020834469321,-1.6293472523160748,-1.6876765575094599,-1.7491899990270876,-1.8138875768689582,-1.8817692910350712,-1.9528351415254268,-2.027085128340025,-2.1045192514788655,-2.1851375109419493,-2.2689399067292753,-2.355926438840844,-2.446097107276655,-2.539451912036709,-2.6359908531210055,-2.7357139305295437,-2.8386211442623255,-2.94471249431935,-3.053987980700617],\"type\":\"scatter\",\"xaxis\":\"x2\",\"yaxis\":\"y2\"},{\"mode\":\"lines\",\"x\":[0.0,0.0392156862745098,0.0784313725490196,0.11764705882352941,0.1568627450980392,0.19607843137254902,0.23529411764705882,0.27450980392156865,0.3137254901960784,0.3529411764705882,0.39215686274509803,0.43137254901960786,0.47058823529411764,0.5098039215686274,0.5490196078431373,0.5882352941176471,0.6274509803921569,0.6666666666666666,0.7058823529411764,0.7450980392156863,0.7843137254901961,0.8235294117647058,0.8627450980392157,0.9019607843137255,0.9411764705882353,0.9803921568627451,1.0196078431372548,1.0588235294117647,1.0980392156862746],\"y\":[-0.6997255079925856,-0.6953211316631808,-0.6848737714570627,-0.6683834273742315,-0.645850099414687,-0.6172737875784293,-0.5826544918654584,-0.5419922122757741,-0.49528694880937674,-0.44253870146626617,-0.3837474702464423,-0.31891325514990504,-0.24803605617665475,-0.17111587332669131,-0.08815270660001417,0.0008534440033757251,0.09590257848347894,0.19699469684029536,0.30412979907382487,0.41730788518406803,0.5365289551710241,0.6617930090346936,0.7931000467750765,0.9304500683921723,1.0738430738859814,1.2232790632565038,1.3787580365037386,1.540279993627688,1.7078449346283509],\"type\":\"scatter\",\"xaxis\":\"x2\",\"yaxis\":\"y2\"},{\"mode\":\"lines\",\"x\":[0.0,0.0392156862745098,0.0784313725490196,0.11764705882352941,0.1568627450980392,0.19607843137254902,0.23529411764705882,0.27450980392156865,0.3137254901960784,0.3529411764705882,0.39215686274509803,0.43137254901960786,0.47058823529411764,0.5098039215686274,0.5490196078431373,0.5882352941176471,0.6274509803921569,0.6666666666666666,0.7058823529411764,0.7450980392156863,0.7843137254901961,0.8235294117647058,0.8627450980392157,0.9019607843137255,0.9411764705882353,0.9803921568627451,1.0196078431372548,1.0588235294117647,1.0980392156862746],\"y\":[-0.22096959953322298,-0.2250455477937104,-0.22846334946216637,-0.2312230045385909,-0.233324513022984,-0.23476787491534562,-0.23555309021567583,-0.23568015892397462,-0.23514908104024193,-0.23395985656447782,-0.23211248549668229,-0.22960696783685527,-0.22644330358499684,-0.22262149274110699,-0.21814153530518565,-0.2130034312772329,-0.20720718065724872,-0.2007527834452331,-0.193640239641186,-0.18586954924510748,-0.17744071225699753,-0.16835372867685616,-0.15860859850468328,-0.148205321740479,-0.13714389838424332,-0.12542432843597617,-0.11304661189567759,-0.1000107487633475,-0.08631673903898601],\"type\":\"scatter\",\"xaxis\":\"x2\",\"yaxis\":\"y2\"},{\"mode\":\"lines\",\"x\":[0.0,0.0392156862745098,0.0784313725490196,0.11764705882352941,0.1568627450980392,0.19607843137254902,0.23529411764705882,0.27450980392156865,0.3137254901960784,0.3529411764705882,0.39215686274509803,0.43137254901960786,0.47058823529411764,0.5098039215686274,0.5490196078431373,0.5882352941176471,0.6274509803921569,0.6666666666666666,0.7058823529411764,0.7450980392156863,0.7843137254901961,0.8235294117647058,0.8627450980392157,0.9019607843137255,0.9411764705882353,0.9803921568627451,1.0196078431372548,1.0588235294117647,1.0980392156862746],\"y\":[-0.5305011476105275,-0.4998504543290977,-0.4673107439002833,-0.4328820163240843,-0.3965642716005007,-0.3583575097295324,-0.3182617307111796,-0.276276934545442,-0.23240312123231993,-0.1866402907718132,-0.13898844316392184,-0.08944757840864581,-0.03801769650598524,0.015301202544059977,0.0705091187414899,0.12760605208630438,0.1865920025785035,0.24746697021808717,0.3102309550050555,0.37488395693940846,0.44142597602114597,0.5098570122502681,0.5801770656267751,0.6523861361506664,0.7264842238219424,0.8024713286406033,0.8803474506066484,0.9601125897200786,1.0417667459808935],\"type\":\"scatter\",\"xaxis\":\"x2\",\"yaxis\":\"y2\"},{\"mode\":\"lines\",\"x\":[0.0,0.0392156862745098,0.0784313725490196,0.11764705882352941,0.1568627450980392,0.19607843137254902,0.23529411764705882,0.27450980392156865,0.3137254901960784,0.3529411764705882,0.39215686274509803,0.43137254901960786,0.47058823529411764,0.5098039215686274,0.5490196078431373,0.5882352941176471,0.6274509803921569,0.6666666666666666,0.7058823529411764,0.7450980392156863,0.7843137254901961,0.8235294117647058,0.8627450980392157,0.9019607843137255,0.9411764705882353,0.9803921568627451,1.0196078431372548,1.0588235294117647,1.0980392156862746],\"y\":[-2.301921164735585,-2.313593039426875,-2.327035981371206,-2.3422499905685767,-2.3592350670189877,-2.3779912107224384,-2.3985184216789297,-2.4208166998884613,-2.4448860453510326,-2.470726458066644,-2.498337938035296,-2.527720485256988,-2.55887409973172,-2.5917987814594925,-2.626494530440305,-2.6629613466741575,-2.70119923016105,-2.741208180900983,-2.782988198893956,-2.8265392841399692,-2.8718614366390227,-2.918954656391116,-2.96781894339625,-3.0184542976544235,-3.070860719165638,-3.125038207929892,-3.180986763947186,-3.238706387217521,-3.2981970777408955],\"type\":\"scatter\",\"xaxis\":\"x2\",\"yaxis\":\"y2\"},{\"mode\":\"lines\",\"x\":[0.0,0.0392156862745098,0.0784313725490196,0.11764705882352941,0.1568627450980392,0.19607843137254902,0.23529411764705882,0.27450980392156865,0.3137254901960784,0.3529411764705882,0.39215686274509803,0.43137254901960786,0.47058823529411764,0.5098039215686274,0.5490196078431373,0.5882352941176471,0.6274509803921569,0.6666666666666666,0.7058823529411764,0.7450980392156863,0.7843137254901961,0.8235294117647058,0.8627450980392157,0.9019607843137255,0.9411764705882353,0.9803921568627451,1.0196078431372548,1.0588235294117647,1.0980392156862746],\"y\":[1.6449677135012837,1.6962404589955349,1.7428528705806787,1.784804948256715,1.8220966920236439,1.8547281018814652,1.8826991778301794,1.906009919869786,1.9246603280002852,1.9386504022216768,1.9479801425339611,1.952649548937138,1.9526586214312076,1.9480073600161698,1.9386957646920242,1.9247238354587715,1.9060915723164111,1.8827989752649437,1.8548460443043684,1.8222327794346858,1.784959180655896,1.7430252479679986,1.696430981370994,1.6451763808648816,1.589261446449662,1.528686178125335,1.4634505758919008,1.3935546397493586,1.3189983696977088],\"type\":\"scatter\",\"xaxis\":\"x2\",\"yaxis\":\"y2\"},{\"mode\":\"lines\",\"x\":[0.0,0.0392156862745098,0.0784313725490196,0.11764705882352941,0.1568627450980392,0.19607843137254902,0.23529411764705882,0.27450980392156865,0.3137254901960784,0.3529411764705882,0.39215686274509803,0.43137254901960786,0.47058823529411764,0.5098039215686274,0.5490196078431373,0.5882352941176471,0.6274509803921569,0.6666666666666666,0.7058823529411764,0.7450980392156863,0.7843137254901961,0.8235294117647058,0.8627450980392157,0.9019607843137255,0.9411764705882353,0.9803921568627451,1.0196078431372548,1.0588235294117647,1.0980392156862746],\"y\":[0.3112501545435361,0.3334772464595156,0.3549383682422959,0.3756335198918771,0.3955627014082591,0.41472591279144194,0.4331231540414256,0.45075442515821007,0.4676197261417954,0.48371905699218165,0.49905241770936865,0.5136198082933565,0.5274212287441452,0.5404566790617347,0.552726159246125,0.5642296692973162,0.5749672092153082,0.5849387790001012,0.5941443786516949,0.6025840081700894,0.6102576675552848,0.6171653568072809,0.623307075926078,0.6286828249116758,0.6332926037640746,0.6371364124832741,0.6402142510692745,0.6425261195220757,0.6440720178416777],\"type\":\"scatter\",\"xaxis\":\"x2\",\"yaxis\":\"y2\"},{\"mode\":\"lines\",\"x\":[0.0,0.0392156862745098,0.0784313725490196,0.11764705882352941,0.1568627450980392,0.19607843137254902,0.23529411764705882,0.27450980392156865,0.3137254901960784,0.3529411764705882,0.39215686274509803,0.43137254901960786,0.47058823529411764,0.5098039215686274,0.5490196078431373,0.5882352941176471,0.6274509803921569,0.6666666666666666,0.7058823529411764,0.7450980392156863,0.7843137254901961,0.8235294117647058,0.8627450980392157,0.9019607843137255,0.9411764705882353,0.9803921568627451,1.0196078431372548,1.0588235294117647,1.0980392156862746],\"y\":[-0.06267909727317188,-0.22955607389350446,-0.3888617952805757,-0.5334823564133351,-0.6571909259397264,-0.7550238849479385,-0.8235806599653874,-0.8612291384349374,-0.8682042583148224,-0.8465938163862858,-0.8002123525341215,-0.7343707281623977,-0.6555553176210657,-0.571036191447174,-0.48842795955394736,-0.41522980213023314,-0.35837247320264165,-0.3237996406211649,-0.31610885209865613,-0.3382738151555238,-0.39146476696282595,-0.4749777848460081,-0.5862773075280354,-0.7211492985682655,-0.8739557999867866,-1.037975499475413,-1.2058097388488331,-1.36982943833746,-1.5226359397559817],\"type\":\"scatter\",\"xaxis\":\"x3\",\"yaxis\":\"y3\"},{\"mode\":\"lines\",\"x\":[0.0,0.0392156862745098,0.0784313725490196,0.11764705882352941,0.1568627450980392,0.19607843137254902,0.23529411764705882,0.27450980392156865,0.3137254901960784,0.3529411764705882,0.39215686274509803,0.43137254901960786,0.47058823529411764,0.5098039215686274,0.5490196078431373,0.5882352941176471,0.6274509803921569,0.6666666666666666,0.7058823529411764,0.7450980392156863,0.7843137254901961,0.8235294117647058,0.8627450980392157,0.9019607843137255,0.9411764705882353,0.9803921568627451,1.0196078431372548,1.0588235294117647,1.0980392156862746],\"y\":[0.5040465155178444,0.6983629087585417,0.8786063464369603,1.0315539657448696,1.145631738570481,1.2116136137212354,1.223178826952427,1.1772937138607869,1.0743949618045214,0.9183632313108882,0.7162887403999332,0.47804297196772083,0.21568237572765592,-0.057279915233287126,-0.3266903605005502,-0.578609972904933,-0.8001563187647545,-0.980281695822875,-1.1104404821625746,-1.1851053441382946,-1.2021011211989434,-1.1627362189144155,-1.0717235732613488,-0.9368959604095985,-0.7687328490428689,-0.5797273762327719,-0.3836316854026278,-0.1946262125925302,-0.026463101225799646],\"type\":\"scatter\",\"xaxis\":\"x3\",\"yaxis\":\"y3\"},{\"mode\":\"lines\",\"x\":[0.0,0.0392156862745098,0.0784313725490196,0.11764705882352941,0.1568627450980392,0.19607843137254902,0.23529411764705882,0.27450980392156865,0.3137254901960784,0.3529411764705882,0.39215686274509803,0.43137254901960786,0.47058823529411764,0.5098039215686274,0.5490196078431373,0.5882352941176471,0.6274509803921569,0.6666666666666666,0.7058823529411764,0.7450980392156863,0.7843137254901961,0.8235294117647058,0.8627450980392157,0.9019607843137255,0.9411764705882353,0.9803921568627451,1.0196078431372548,1.0588235294117647,1.0980392156862746],\"y\":[-0.10703035995455783,-0.26746052051317015,-0.42007792716093173,-0.5575417641992162,-0.673426584393823,-0.7626104453626142,-0.8215843062822996,-0.84866399545732,-0.844091944610745,-0.8100225445225955,-0.7503920066247743,-0.6706805917097508,-0.5775815685960423,-0.4785968996756917,-0.3815840764142883,-0.2942814787162902,-0.223840929358542,-0.17639568006868622,-0.15668992553667588,-0.167792224983409,-0.21091014237986921,-0.28531730218341167,-0.38839726687171783,-0.5158015858024873,-0.6617124682792367,-0.8191942137603789,-0.9806121706734242,-1.1380939161545671,-1.2840047986313172],\"type\":\"scatter\",\"xaxis\":\"x3\",\"yaxis\":\"y3\"},{\"mode\":\"lines\",\"x\":[0.0,0.0392156862745098,0.0784313725490196,0.11764705882352941,0.1568627450980392,0.19607843137254902,0.23529411764705882,0.27450980392156865,0.3137254901960784,0.3529411764705882,0.39215686274509803,0.43137254901960786,0.47058823529411764,0.5098039215686274,0.5490196078431373,0.5882352941176471,0.6274509803921569,0.6666666666666666,0.7058823529411764,0.7450980392156863,0.7843137254901961,0.8235294117647058,0.8627450980392157,0.9019607843137255,0.9411764705882353,0.9803921568627451,1.0196078431372548,1.0588235294117647,1.0980392156862746],\"y\":[-1.1978778925888485,-1.4720994361283894,-1.7310678400185924,-1.9604513477151115,-2.1477053116978713,-2.2828299670540018,-2.358974478556435,-2.372850773093056,-2.324932159431762,-2.2194247374704714,-2.06401332402861,-1.8693972428191936,-1.6486440197318595,-1.4164000241922445,-1.1880057386967526,-0.978569099664371,-0.8020528854965827,-0.6704312791989917,-0.5929665543508278,-0.5756495770221993,-0.6208379207518482,-0.7271134546583655,-0.8893680072356368,-1.099111931214324,-1.3449869302809048,-1.6134521697778463,-1.8896022260942131,-2.158067465591156,-2.403942464657737],\"type\":\"scatter\",\"xaxis\":\"x3\",\"yaxis\":\"y3\"},{\"mode\":\"lines\",\"x\":[0.0,0.0392156862745098,0.0784313725490196,0.11764705882352941,0.1568627450980392,0.19607843137254902,0.23529411764705882,0.27450980392156865,0.3137254901960784,0.3529411764705882,0.39215686274509803,0.43137254901960786,0.47058823529411764,0.5098039215686274,0.5490196078431373,0.5882352941176471,0.6274509803921569,0.6666666666666666,0.7058823529411764,0.7450980392156863,0.7843137254901961,0.8235294117647058,0.8627450980392157,0.9019607843137255,0.9411764705882353,0.9803921568627451,1.0196078431372548,1.0588235294117647,1.0980392156862746],\"y\":[-0.6997255079925856,-0.21911920744147517,0.23253906212602793,0.6280499081892333,0.9436055866745899,1.160228135589918,1.2649157602243566,1.2514282212229904,1.1206637832836353,0.8806049544645854,0.5458362937816433,0.13666341447040942,-0.3221135994845238,-0.8026982703954229,-1.2759768044586197,-1.7132767433075382,-2.0880989562008607,-2.377718349904117,-2.564556603578827,-2.637244007079863,-2.5913062611210047,-2.4294347523700215,-2.161323977201304,-1.8030859347076658,-1.3762768632219213,-0.906595111426481,-0.4223288006152357,0.04735295118020655,0.4741620226659523],\"type\":\"scatter\",\"xaxis\":\"x3\",\"yaxis\":\"y3\"},{\"mode\":\"lines\",\"x\":[0.0,0.0392156862745098,0.0784313725490196,0.11764705882352941,0.1568627450980392,0.19607843137254902,0.23529411764705882,0.27450980392156865,0.3137254901960784,0.3529411764705882,0.39215686274509803,0.43137254901960786,0.47058823529411764,0.5098039215686274,0.5490196078431373,0.5882352941176471,0.6274509803921569,0.6666666666666666,0.7058823529411764,0.7450980392156863,0.7843137254901961,0.8235294117647058,0.8627450980392157,0.9019607843137255,0.9411764705882353,0.9803921568627451,1.0196078431372548,1.0588235294117647,1.0980392156862746],\"y\":[-0.22096959953322298,-0.17318198503408355,-0.12854712558552422,-0.09002733051320783,-0.060215521781785825,-0.041178605618989034,-0.0343326187136162,-0.04035719092215667,-0.05915449146073434,-0.08985513848395413,-0.13087071507587467,-0.1799897193654389,-0.2345111527914145,-0.2914076769670225,-0.34750848346981666,-0.39969083010088996,-0.445068673649636,-0.4811670045891389,-0.5060713528182847,-0.5185434333876076,-0.5180959464983599,-0.5050220133964973,-0.48037747005319537,-0.445917088202102,-0.4039885763735067,-0.35739076391251806,-0.3092045345355878,-0.26260672207459895,-0.2206782102460035],\"type\":\"scatter\",\"xaxis\":\"x3\",\"yaxis\":\"y3\"},{\"mode\":\"lines\",\"x\":[0.0,0.0392156862745098,0.0784313725490196,0.11764705882352941,0.1568627450980392,0.19607843137254902,0.23529411764705882,0.27450980392156865,0.3137254901960784,0.3529411764705882,0.39215686274509803,0.43137254901960786,0.47058823529411764,0.5098039215686274,0.5490196078431373,0.5882352941176471,0.6274509803921569,0.6666666666666666,0.7058823529411764,0.7450980392156863,0.7843137254901961,0.8235294117647058,0.8627450980392157,0.9019607843137255,0.9411764705882353,0.9803921568627451,1.0196078431372548,1.0588235294117647,1.0980392156862746],\"y\":[-0.5305011476105275,-0.3509912783285124,-0.1805304695812736,-0.027621163195277743,0.10029441730000532,0.19728382257870714,0.2592827338114767,0.28434047242863514,0.2727378330594057,0.22697012181561838,0.15159642451149535,0.052964209942712115,-0.06117409612570446,-0.1821294049819071,-0.3008008391715511,-0.4082254812655742,-0.49611978899704573,-0.5573799719750541,-0.5865111041558486,-0.5799590510484033,-0.5363251612171636,-0.45645075339959085,-0.34336629569887706,-0.2021083467400181,-0.039415316665180944,0.13667957413138365,0.3173335507421706,0.493428441538736,0.6561214716135735],\"type\":\"scatter\",\"xaxis\":\"x3\",\"yaxis\":\"y3\"},{\"mode\":\"lines\",\"x\":[0.0,0.0392156862745098,0.0784313725490196,0.11764705882352941,0.1568627450980392,0.19607843137254902,0.23529411764705882,0.27450980392156865,0.3137254901960784,0.3529411764705882,0.39215686274509803,0.43137254901960786,0.47058823529411764,0.5098039215686274,0.5490196078431373,0.5882352941176471,0.6274509803921569,0.6666666666666666,0.7058823529411764,0.7450980392156863,0.7843137254901961,0.8235294117647058,0.8627450980392157,0.9019607843137255,0.9411764705882353,0.9803921568627451,1.0196078431372548,1.0588235294117647,1.0980392156862746],\"y\":[-2.301921164735585,-2.45315747498226,-2.595909746422771,-2.7222064281844416,-2.8250699878499,-2.8989383971729157,-2.9400011126681935,-2.946429255788628,-2.9184860883967887,-2.8585111101351712,-2.7707787383114995,-2.66124010690001,-2.5371635815812748,-2.40669570591506,-2.278369100187867,-2.1605870388603274,-2.0611158412951047,-1.9866157384759269,-1.9422385542427407,-1.9313165035617637,-1.9551609063219435,-2.012982975577989,-2.1019414651154995,-2.217314298133268,-2.352783809618634,-2.5008183720284554,-2.6531273517460012,-2.8011619141558235,-2.93663142564119],\"type\":\"scatter\",\"xaxis\":\"x3\",\"yaxis\":\"y3\"},{\"mode\":\"lines\",\"x\":[0.0,0.0392156862745098,0.0784313725490196,0.11764705882352941,0.1568627450980392,0.19607843137254902,0.23529411764705882,0.27450980392156865,0.3137254901960784,0.3529411764705882,0.39215686274509803,0.43137254901960786,0.47058823529411764,0.5098039215686274,0.5490196078431373,0.5882352941176471,0.6274509803921569,0.6666666666666666,0.7058823529411764,0.7450980392156863,0.7843137254901961,0.8235294117647058,0.8627450980392157,0.9019607843137255,0.9411764705882353,0.9803921568627451,1.0196078431372548,1.0588235294117647,1.0980392156862746],\"y\":[1.6449677135012837,1.3289947372942763,1.0353464094972482,0.7849988329523341,0.5963124797820685,0.4839231063614984,0.4578576639462393,0.5229286093721806,0.6784432031722005,0.9182453552850378,1.2310874906190823,1.6013099715122592,2.0097870358079812,2.435082110090741,2.8547427100822267,3.2466567082789792,3.590388041955179,3.86841117658204,4.067169755508601,4.177895486975844,4.19713780267042,4.126972293195616,3.97487532967984,3.7532724451457917,3.478787756173088,3.1712397643854393,2.8524441975061787,2.5448962057185294,2.2704115167458245],\"type\":\"scatter\",\"xaxis\":\"x3\",\"yaxis\":\"y3\"},{\"mode\":\"lines\",\"x\":[0.0,0.0392156862745098,0.0784313725490196,0.11764705882352941,0.1568627450980392,0.19607843137254902,0.23529411764705882,0.27450980392156865,0.3137254901960784,0.3529411764705882,0.39215686274509803,0.43137254901960786,0.47058823529411764,0.5098039215686274,0.5490196078431373,0.5882352941176471,0.6274509803921569,0.6666666666666666,0.7058823529411764,0.7450980392156863,0.7843137254901961,0.8235294117647058,0.8627450980392157,0.9019607843137255,0.9411764705882353,0.9803921568627451,1.0196078431372548,1.0588235294117647,1.0980392156862746],\"y\":[0.3112501545435361,0.273116924676862,0.23865296277461395,0.21130589053114956,0.1940934258936344,0.18942109440566882,0.19893692072356256,0.22343187782811388,0.2627921074095422,0.31600579760711467,0.38122430264584695,0.4558738123696835,0.5368108261470521,0.620512039572163,0.703287173641681,0.7815018902202973,0.8517973283350732,0.9112929999610703,0.9577607891494846,0.9897595438846939,1.006722130497279,1.0089896920130137,0.9977910410236056,0.9751684318760804,0.9438541959954297,0.9071056923230065,0.8685085428755988,0.8317600392031754,0.8004458033225246],\"type\":\"scatter\",\"xaxis\":\"x3\",\"yaxis\":\"y3\"},{\"marker\":{\"color\":\"mediumpurple\"},\"mode\":\"markers\",\"x\":[0.3745401188473625,0.9507143064099162,0.7319939418114051,0.5986584841970366,0.15601864044243652,0.15599452033620265,0.05808361216819946,0.8661761457749352,0.6011150117432088,0.7080725777960455],\"y\":[0.6621995859491285,-0.2504894367193866,-1.0399487832345553,-0.6275182299806012,0.854857342681687,0.6392487011533475,0.18441089666331875,-0.8014323286500792,-0.6947217251134631,-0.9340757540684701],\"type\":\"scatter\",\"xaxis\":\"x\",\"yaxis\":\"y\"},{\"marker\":{\"color\":\"mediumpurple\"},\"mode\":\"markers\",\"x\":[0.3745401188473625,0.9507143064099162,0.7319939418114051,0.5986584841970366,0.15601864044243652,0.15599452033620265,0.05808361216819946,0.8661761457749352,0.6011150117432088,0.7080725777960455],\"y\":[0.6621995859491285,-0.2504894367193866,-1.0399487832345553,-0.6275182299806012,0.854857342681687,0.6392487011533475,0.18441089666331875,-0.8014323286500792,-0.6947217251134631,-0.9340757540684701],\"type\":\"scatter\",\"xaxis\":\"x2\",\"yaxis\":\"y2\"},{\"marker\":{\"color\":\"mediumpurple\"},\"mode\":\"markers\",\"x\":[0.3745401188473625,0.9507143064099162,0.7319939418114051,0.5986584841970366,0.15601864044243652,0.15599452033620265,0.05808361216819946,0.8661761457749352,0.6011150117432088,0.7080725777960455],\"y\":[0.6621995859491285,-0.2504894367193866,-1.0399487832345553,-0.6275182299806012,0.854857342681687,0.6392487011533475,0.18441089666331875,-0.8014323286500792,-0.6947217251134631,-0.9340757540684701],\"type\":\"scatter\",\"xaxis\":\"x3\",\"yaxis\":\"y3\"}],                        {\"template\":{\"data\":{\"histogram2dcontour\":[{\"type\":\"histogram2dcontour\",\"colorbar\":{\"outlinewidth\":0,\"ticks\":\"\"},\"colorscale\":[[0.0,\"#0d0887\"],[0.1111111111111111,\"#46039f\"],[0.2222222222222222,\"#7201a8\"],[0.3333333333333333,\"#9c179e\"],[0.4444444444444444,\"#bd3786\"],[0.5555555555555556,\"#d8576b\"],[0.6666666666666666,\"#ed7953\"],[0.7777777777777778,\"#fb9f3a\"],[0.8888888888888888,\"#fdca26\"],[1.0,\"#f0f921\"]]}],\"choropleth\":[{\"type\":\"choropleth\",\"colorbar\":{\"outlinewidth\":0,\"ticks\":\"\"}}],\"histogram2d\":[{\"type\":\"histogram2d\",\"colorbar\":{\"outlinewidth\":0,\"ticks\":\"\"},\"colorscale\":[[0.0,\"#0d0887\"],[0.1111111111111111,\"#46039f\"],[0.2222222222222222,\"#7201a8\"],[0.3333333333333333,\"#9c179e\"],[0.4444444444444444,\"#bd3786\"],[0.5555555555555556,\"#d8576b\"],[0.6666666666666666,\"#ed7953\"],[0.7777777777777778,\"#fb9f3a\"],[0.8888888888888888,\"#fdca26\"],[1.0,\"#f0f921\"]]}],\"heatmap\":[{\"type\":\"heatmap\",\"colorbar\":{\"outlinewidth\":0,\"ticks\":\"\"},\"colorscale\":[[0.0,\"#0d0887\"],[0.1111111111111111,\"#46039f\"],[0.2222222222222222,\"#7201a8\"],[0.3333333333333333,\"#9c179e\"],[0.4444444444444444,\"#bd3786\"],[0.5555555555555556,\"#d8576b\"],[0.6666666666666666,\"#ed7953\"],[0.7777777777777778,\"#fb9f3a\"],[0.8888888888888888,\"#fdca26\"],[1.0,\"#f0f921\"]]}],\"heatmapgl\":[{\"type\":\"heatmapgl\",\"colorbar\":{\"outlinewidth\":0,\"ticks\":\"\"},\"colorscale\":[[0.0,\"#0d0887\"],[0.1111111111111111,\"#46039f\"],[0.2222222222222222,\"#7201a8\"],[0.3333333333333333,\"#9c179e\"],[0.4444444444444444,\"#bd3786\"],[0.5555555555555556,\"#d8576b\"],[0.6666666666666666,\"#ed7953\"],[0.7777777777777778,\"#fb9f3a\"],[0.8888888888888888,\"#fdca26\"],[1.0,\"#f0f921\"]]}],\"contourcarpet\":[{\"type\":\"contourcarpet\",\"colorbar\":{\"outlinewidth\":0,\"ticks\":\"\"}}],\"contour\":[{\"type\":\"contour\",\"colorbar\":{\"outlinewidth\":0,\"ticks\":\"\"},\"colorscale\":[[0.0,\"#0d0887\"],[0.1111111111111111,\"#46039f\"],[0.2222222222222222,\"#7201a8\"],[0.3333333333333333,\"#9c179e\"],[0.4444444444444444,\"#bd3786\"],[0.5555555555555556,\"#d8576b\"],[0.6666666666666666,\"#ed7953\"],[0.7777777777777778,\"#fb9f3a\"],[0.8888888888888888,\"#fdca26\"],[1.0,\"#f0f921\"]]}],\"surface\":[{\"type\":\"surface\",\"colorbar\":{\"outlinewidth\":0,\"ticks\":\"\"},\"colorscale\":[[0.0,\"#0d0887\"],[0.1111111111111111,\"#46039f\"],[0.2222222222222222,\"#7201a8\"],[0.3333333333333333,\"#9c179e\"],[0.4444444444444444,\"#bd3786\"],[0.5555555555555556,\"#d8576b\"],[0.6666666666666666,\"#ed7953\"],[0.7777777777777778,\"#fb9f3a\"],[0.8888888888888888,\"#fdca26\"],[1.0,\"#f0f921\"]]}],\"mesh3d\":[{\"type\":\"mesh3d\",\"colorbar\":{\"outlinewidth\":0,\"ticks\":\"\"}}],\"scatter\":[{\"fillpattern\":{\"fillmode\":\"overlay\",\"size\":10,\"solidity\":0.2},\"type\":\"scatter\"}],\"parcoords\":[{\"type\":\"parcoords\",\"line\":{\"colorbar\":{\"outlinewidth\":0,\"ticks\":\"\"}}}],\"scatterpolargl\":[{\"type\":\"scatterpolargl\",\"marker\":{\"colorbar\":{\"outlinewidth\":0,\"ticks\":\"\"}}}],\"bar\":[{\"error_x\":{\"color\":\"#2a3f5f\"},\"error_y\":{\"color\":\"#2a3f5f\"},\"marker\":{\"line\":{\"color\":\"#E5ECF6\",\"width\":0.5},\"pattern\":{\"fillmode\":\"overlay\",\"size\":10,\"solidity\":0.2}},\"type\":\"bar\"}],\"scattergeo\":[{\"type\":\"scattergeo\",\"marker\":{\"colorbar\":{\"outlinewidth\":0,\"ticks\":\"\"}}}],\"scatterpolar\":[{\"type\":\"scatterpolar\",\"marker\":{\"colorbar\":{\"outlinewidth\":0,\"ticks\":\"\"}}}],\"histogram\":[{\"marker\":{\"pattern\":{\"fillmode\":\"overlay\",\"size\":10,\"solidity\":0.2}},\"type\":\"histogram\"}],\"scattergl\":[{\"type\":\"scattergl\",\"marker\":{\"colorbar\":{\"outlinewidth\":0,\"ticks\":\"\"}}}],\"scatter3d\":[{\"type\":\"scatter3d\",\"line\":{\"colorbar\":{\"outlinewidth\":0,\"ticks\":\"\"}},\"marker\":{\"colorbar\":{\"outlinewidth\":0,\"ticks\":\"\"}}}],\"scattermapbox\":[{\"type\":\"scattermapbox\",\"marker\":{\"colorbar\":{\"outlinewidth\":0,\"ticks\":\"\"}}}],\"scatterternary\":[{\"type\":\"scatterternary\",\"marker\":{\"colorbar\":{\"outlinewidth\":0,\"ticks\":\"\"}}}],\"scattercarpet\":[{\"type\":\"scattercarpet\",\"marker\":{\"colorbar\":{\"outlinewidth\":0,\"ticks\":\"\"}}}],\"carpet\":[{\"aaxis\":{\"endlinecolor\":\"#2a3f5f\",\"gridcolor\":\"white\",\"linecolor\":\"white\",\"minorgridcolor\":\"white\",\"startlinecolor\":\"#2a3f5f\"},\"baxis\":{\"endlinecolor\":\"#2a3f5f\",\"gridcolor\":\"white\",\"linecolor\":\"white\",\"minorgridcolor\":\"white\",\"startlinecolor\":\"#2a3f5f\"},\"type\":\"carpet\"}],\"table\":[{\"cells\":{\"fill\":{\"color\":\"#EBF0F8\"},\"line\":{\"color\":\"white\"}},\"header\":{\"fill\":{\"color\":\"#C8D4E3\"},\"line\":{\"color\":\"white\"}},\"type\":\"table\"}],\"barpolar\":[{\"marker\":{\"line\":{\"color\":\"#E5ECF6\",\"width\":0.5},\"pattern\":{\"fillmode\":\"overlay\",\"size\":10,\"solidity\":0.2}},\"type\":\"barpolar\"}],\"pie\":[{\"automargin\":true,\"type\":\"pie\"}]},\"layout\":{\"autotypenumbers\":\"strict\",\"colorway\":[\"#636efa\",\"#EF553B\",\"#00cc96\",\"#ab63fa\",\"#FFA15A\",\"#19d3f3\",\"#FF6692\",\"#B6E880\",\"#FF97FF\",\"#FECB52\"],\"font\":{\"color\":\"#2a3f5f\"},\"hovermode\":\"closest\",\"hoverlabel\":{\"align\":\"left\"},\"paper_bgcolor\":\"white\",\"plot_bgcolor\":\"#E5ECF6\",\"polar\":{\"bgcolor\":\"#E5ECF6\",\"angularaxis\":{\"gridcolor\":\"white\",\"linecolor\":\"white\",\"ticks\":\"\"},\"radialaxis\":{\"gridcolor\":\"white\",\"linecolor\":\"white\",\"ticks\":\"\"}},\"ternary\":{\"bgcolor\":\"#E5ECF6\",\"aaxis\":{\"gridcolor\":\"white\",\"linecolor\":\"white\",\"ticks\":\"\"},\"baxis\":{\"gridcolor\":\"white\",\"linecolor\":\"white\",\"ticks\":\"\"},\"caxis\":{\"gridcolor\":\"white\",\"linecolor\":\"white\",\"ticks\":\"\"}},\"coloraxis\":{\"colorbar\":{\"outlinewidth\":0,\"ticks\":\"\"}},\"colorscale\":{\"sequential\":[[0.0,\"#0d0887\"],[0.1111111111111111,\"#46039f\"],[0.2222222222222222,\"#7201a8\"],[0.3333333333333333,\"#9c179e\"],[0.4444444444444444,\"#bd3786\"],[0.5555555555555556,\"#d8576b\"],[0.6666666666666666,\"#ed7953\"],[0.7777777777777778,\"#fb9f3a\"],[0.8888888888888888,\"#fdca26\"],[1.0,\"#f0f921\"]],\"sequentialminus\":[[0.0,\"#0d0887\"],[0.1111111111111111,\"#46039f\"],[0.2222222222222222,\"#7201a8\"],[0.3333333333333333,\"#9c179e\"],[0.4444444444444444,\"#bd3786\"],[0.5555555555555556,\"#d8576b\"],[0.6666666666666666,\"#ed7953\"],[0.7777777777777778,\"#fb9f3a\"],[0.8888888888888888,\"#fdca26\"],[1.0,\"#f0f921\"]],\"diverging\":[[0,\"#8e0152\"],[0.1,\"#c51b7d\"],[0.2,\"#de77ae\"],[0.3,\"#f1b6da\"],[0.4,\"#fde0ef\"],[0.5,\"#f7f7f7\"],[0.6,\"#e6f5d0\"],[0.7,\"#b8e186\"],[0.8,\"#7fbc41\"],[0.9,\"#4d9221\"],[1,\"#276419\"]]},\"xaxis\":{\"gridcolor\":\"white\",\"linecolor\":\"white\",\"ticks\":\"\",\"title\":{\"standoff\":15},\"zerolinecolor\":\"white\",\"automargin\":true,\"zerolinewidth\":2},\"yaxis\":{\"gridcolor\":\"white\",\"linecolor\":\"white\",\"ticks\":\"\",\"title\":{\"standoff\":15},\"zerolinecolor\":\"white\",\"automargin\":true,\"zerolinewidth\":2},\"scene\":{\"xaxis\":{\"backgroundcolor\":\"#E5ECF6\",\"gridcolor\":\"white\",\"linecolor\":\"white\",\"showbackground\":true,\"ticks\":\"\",\"zerolinecolor\":\"white\",\"gridwidth\":2},\"yaxis\":{\"backgroundcolor\":\"#E5ECF6\",\"gridcolor\":\"white\",\"linecolor\":\"white\",\"showbackground\":true,\"ticks\":\"\",\"zerolinecolor\":\"white\",\"gridwidth\":2},\"zaxis\":{\"backgroundcolor\":\"#E5ECF6\",\"gridcolor\":\"white\",\"linecolor\":\"white\",\"showbackground\":true,\"ticks\":\"\",\"zerolinecolor\":\"white\",\"gridwidth\":2}},\"shapedefaults\":{\"line\":{\"color\":\"#2a3f5f\"}},\"annotationdefaults\":{\"arrowcolor\":\"#2a3f5f\",\"arrowhead\":0,\"arrowwidth\":1},\"geo\":{\"bgcolor\":\"white\",\"landcolor\":\"#E5ECF6\",\"subunitcolor\":\"white\",\"showland\":true,\"showlakes\":true,\"lakecolor\":\"white\"},\"title\":{\"x\":0.05},\"mapbox\":{\"style\":\"light\"}}},\"xaxis\":{\"anchor\":\"y\",\"domain\":[0.0,0.2888888888888889],\"title\":{\"text\":\"x\"},\"range\":[0,1]},\"yaxis\":{\"anchor\":\"x\",\"domain\":[0.0,1.0],\"title\":{\"text\":\"t\"},\"range\":[-2,2]},\"xaxis2\":{\"anchor\":\"y2\",\"domain\":[0.35555555555555557,0.6444444444444445],\"title\":{\"text\":\"x\"},\"range\":[0,1]},\"yaxis2\":{\"anchor\":\"x2\",\"domain\":[0.0,1.0],\"title\":{\"text\":\"t\"},\"range\":[-2,2]},\"xaxis3\":{\"anchor\":\"y3\",\"domain\":[0.7111111111111111,1.0],\"title\":{\"text\":\"x\"},\"range\":[0,1]},\"yaxis3\":{\"anchor\":\"x3\",\"domain\":[0.0,1.0],\"title\":{\"text\":\"t\"},\"range\":[-2,2]},\"annotations\":[{\"font\":{\"size\":16},\"showarrow\":false,\"text\":\"f1\",\"x\":0.14444444444444446,\"xanchor\":\"center\",\"xref\":\"paper\",\"y\":1.0,\"yanchor\":\"bottom\",\"yref\":\"paper\"},{\"font\":{\"size\":16},\"showarrow\":false,\"text\":\"f2\",\"x\":0.5,\"xanchor\":\"center\",\"xref\":\"paper\",\"y\":1.0,\"yanchor\":\"bottom\",\"yref\":\"paper\"},{\"font\":{\"size\":16},\"showarrow\":false,\"text\":\"f3\",\"x\":0.8555555555555556,\"xanchor\":\"center\",\"xref\":\"paper\",\"y\":1.0,\"yanchor\":\"bottom\",\"yref\":\"paper\"}],\"showlegend\":false},                        {\"responsive\": true}                    ).then(function(){\n",
              "                            \n",
              "var gd = document.getElementById('dcd9b05a-98f5-40ea-a2d0-6f9f969ab942');\n",
              "var x = new MutationObserver(function (mutations, observer) {{\n",
              "        var display = window.getComputedStyle(gd).display;\n",
              "        if (!display || display === 'none') {{\n",
              "            console.log([gd, 'removed!']);\n",
              "            Plotly.purge(gd);\n",
              "            observer.disconnect();\n",
              "        }}\n",
              "}});\n",
              "\n",
              "// Listen for the removal of the full notebook cells\n",
              "var notebookContainer = gd.closest('#notebook-container');\n",
              "if (notebookContainer) {{\n",
              "    x.observe(notebookContainer, {childList: true});\n",
              "}}\n",
              "\n",
              "// Listen for the clearing of the current output cell\n",
              "var outputEl = gd.closest('.output');\n",
              "if (outputEl) {{\n",
              "    x.observe(outputEl, {childList: true});\n",
              "}}\n",
              "\n",
              "                        })                };                            </script>        </div>\n",
              "</body>\n",
              "</html>"
            ]
          },
          "metadata": {}
        }
      ]
    },
    {
      "cell_type": "markdown",
      "metadata": {
        "id": "CENyGHlSp_FX"
      },
      "source": [
        "###Loss landscapes\n",
        "\n",
        "Let's focus now on the simple $f(x) = ax + b$.\n",
        "Given our dataset $(\\mathbf{x}, \\mathbf{t})$ we will choose the parameters $a$ and $b$ that minimize a global error $E$, also known as *loss*.\n",
        "\n",
        "The standard choice for $E$ in a regression problem is the Mean Squared Error, defined as:\n",
        "\n",
        "$$E(\\theta) = \\frac{1}{N} \\sum_{i=1}^N(f_\\theta(x_i) - t_i)^2$$\n",
        "\n",
        "Notice that apart from normalization factors, the MSE corresponds to the squared $L_2$ norm of the residual vector, namely $E=\\|f_\\theta(\\mathbf{x}) - \\mathbf{t}\\|_2^2$ (here $f_\\theta$ operates element-wise).\n",
        "\n",
        "Let's now compute the MSE **loss landscape** for our dataset, so that we can visualize it. The landscape is simply defined as the value of the loss function computed over a subset of the parameter domain.\n",
        "\n",
        "\n",
        "\n"
      ]
    },
    {
      "cell_type": "code",
      "metadata": {
        "id": "OXuXlT5Sx-UE"
      },
      "source": [
        "resolution = 51\n",
        "\n",
        "mse_losses = np.empty((resolution, resolution))\n",
        "a_range = np.linspace(-5, 5, resolution)\n",
        "b_range = np.linspace(-5, 5, resolution)\n",
        "\n",
        "for i, a in enumerate(a_range):\n",
        "    for j, b in enumerate(b_range):\n",
        "        y_pred = a * x + b\n",
        "        residuals = t - y_pred\n",
        "        loss = np.einsum('i,i->', residuals, residuals)\n",
        "        mse_losses[i][j] = loss\n",
        "\n",
        "# let's ignore the division by N for this exercise"
      ],
      "execution_count": 5,
      "outputs": []
    },
    {
      "cell_type": "markdown",
      "metadata": {
        "id": "VDZ63eJt6Uj5"
      },
      "source": [
        ">**EXERCISE** Vectorize the piece of code above. i.e. the two `for` cycles should disappear."
      ]
    },
    {
      "cell_type": "code",
      "metadata": {
        "id": "uAiwop63Qc1Q",
        "cellView": "both",
        "outputId": "cc817981-4ccf-48eb-e128-f8fa66f7d5c1",
        "colab": {
          "base_uri": "https://localhost:8080/"
        }
      },
      "source": [
        "# ✏️ your code here\n",
        "\n",
        "a_times_x = np.einsum('i,j -> ij', a_range,x) #crea matrice mxn con A[i,j] = a[i]*x[j]\n",
        "Y_pred = a_times_x[:, :, None] + b_range[None,None, :]\n",
        "residuals = t[None,:,None] - Y_pred\n",
        "L = np.einsum('ijk -> ik', residuals**2)\n",
        "np.allclose(L, mse_losses)"
      ],
      "execution_count": 12,
      "outputs": [
        {
          "output_type": "execute_result",
          "data": {
            "text/plain": [
              "(True,\n",
              " array([[[ 0.66219959],\n",
              "         [-0.25048944],\n",
              "         [-1.03994878],\n",
              "         [-0.62751823],\n",
              "         [ 0.85485734],\n",
              "         [ 0.6392487 ],\n",
              "         [ 0.1844109 ],\n",
              "         [-0.80143233],\n",
              "         [-0.69472173],\n",
              "         [-0.93407575]]]))"
            ]
          },
          "metadata": {},
          "execution_count": 12
        }
      ]
    },
    {
      "cell_type": "code",
      "source": [
        "# @title 👀 Solution (without einsum)\n",
        "\n",
        "Y_pred = x[None, None, :] * a_range[:, None, None] + b_range[None, :, None] # let broadcasting do the job!\n",
        "R = t[None, None, :] - Y_pred\n",
        "L = np.sum(R**2, axis=2)\n",
        "np.allclose(L, mse_losses)"
      ],
      "metadata": {
        "id": "J14M4HzfaTrb",
        "outputId": "72ebb612-e27f-4297-b4d9-f2a031f0826b",
        "colab": {
          "base_uri": "https://localhost:8080/"
        }
      },
      "execution_count": 7,
      "outputs": [
        {
          "output_type": "execute_result",
          "data": {
            "text/plain": [
              "True"
            ]
          },
          "metadata": {},
          "execution_count": 7
        }
      ]
    },
    {
      "cell_type": "code",
      "metadata": {
        "id": "AutBpNSt0nAI",
        "outputId": "81efdf4a-7729-46e2-b131-d55c8c99bca7",
        "colab": {
          "base_uri": "https://localhost:8080/"
        }
      },
      "source": [
        "# @title 👀 Solution (with einsum)\n",
        "\n",
        "a_times_x = np.einsum('i,j->ij', a_range, x)\n",
        "Y_pred = a_times_x[:, :, None] + b_range[None, None, :]\n",
        "residuals = t[None, :, None] - Y_pred\n",
        "L = np.einsum('ijk->ik', residuals ** 2)\n",
        "np.allclose(L, mse_losses)"
      ],
      "execution_count": 8,
      "outputs": [
        {
          "output_type": "execute_result",
          "data": {
            "text/plain": [
              "True"
            ]
          },
          "metadata": {},
          "execution_count": 8
        }
      ]
    },
    {
      "cell_type": "code",
      "metadata": {
        "id": "6B6SVoGH3kvN",
        "colab": {
          "base_uri": "https://localhost:8080/",
          "height": 542
        },
        "outputId": "78161560-fb0d-459a-a0cb-8f5993f0665e"
      },
      "source": [
        "# @title MSE loss landscape plot\n",
        "fig = go.Figure(data=[go.Surface(z=mse_losses, x=a_range, y=b_range)])\n",
        "fig.update_traces(contours_z=dict(show=True, usecolormap=True,\n",
        "                                  highlightcolor=\"limegreen\", project_z=True))\n",
        "fig.update_layout(\n",
        "    title=\"MSE loss landscape\",\n",
        "    scene = dict(\n",
        "                xaxis_title='a',\n",
        "                yaxis_title='b',\n",
        "                zaxis_title='loss')\n",
        ")\n",
        "\n",
        "\n",
        "fig.show()"
      ],
      "execution_count": null,
      "outputs": [
        {
          "output_type": "display_data",
          "data": {
            "text/html": [
              "<html>\n",
              "<head><meta charset=\"utf-8\" /></head>\n",
              "<body>\n",
              "    <div>            <script src=\"https://cdnjs.cloudflare.com/ajax/libs/mathjax/2.7.5/MathJax.js?config=TeX-AMS-MML_SVG\"></script><script type=\"text/javascript\">if (window.MathJax && window.MathJax.Hub && window.MathJax.Hub.Config) {window.MathJax.Hub.Config({SVG: {font: \"STIX-Web\"}});}</script>                <script type=\"text/javascript\">window.PlotlyConfig = {MathJaxConfig: 'local'};</script>\n",
              "        <script charset=\"utf-8\" src=\"https://cdn.plot.ly/plotly-2.35.2.min.js\"></script>                <div id=\"8fd152c0-b138-4722-be52-05354babdf5d\" class=\"plotly-graph-div\" style=\"height:525px; width:100%;\"></div>            <script type=\"text/javascript\">                                    window.PLOTLYENV=window.PLOTLYENV || {};                                    if (document.getElementById(\"8fd152c0-b138-4722-be52-05354babdf5d\")) {                    Plotly.newPlot(                        \"8fd152c0-b138-4722-be52-05354babdf5d\",                        [{\"x\":[-5.0,-4.8,-4.6,-4.4,-4.2,-4.0,-3.8,-3.5999999999999996,-3.4,-3.2,-3.0,-2.8,-2.5999999999999996,-2.4,-2.1999999999999997,-2.0,-1.7999999999999998,-1.5999999999999996,-1.4,-1.1999999999999997,-1.0,-0.7999999999999998,-0.5999999999999996,-0.39999999999999947,-0.1999999999999993,0.0,0.20000000000000018,0.40000000000000036,0.6000000000000005,0.8000000000000007,1.0,1.2000000000000002,1.4000000000000004,1.6000000000000005,1.8000000000000007,2.0,2.2,2.4000000000000004,2.6000000000000005,2.8000000000000007,3.0,3.200000000000001,3.4000000000000004,3.5999999999999996,3.8000000000000007,4.0,4.200000000000001,4.4,4.600000000000001,4.800000000000001,5.0],\"y\":[-5.0,-4.8,-4.6,-4.4,-4.2,-4.0,-3.8,-3.5999999999999996,-3.4,-3.2,-3.0,-2.8,-2.5999999999999996,-2.4,-2.1999999999999997,-2.0,-1.7999999999999998,-1.5999999999999996,-1.4,-1.1999999999999997,-1.0,-0.7999999999999998,-0.5999999999999996,-0.39999999999999947,-0.1999999999999993,0.0,0.20000000000000018,0.40000000000000036,0.6000000000000005,0.8000000000000007,1.0,1.2000000000000002,1.4000000000000004,1.6000000000000005,1.8000000000000007,2.0,2.2,2.4000000000000004,2.6000000000000005,2.8000000000000007,3.0,3.200000000000001,3.4000000000000004,3.5999999999999996,3.8000000000000007,4.0,4.200000000000001,4.4,4.600000000000001,4.800000000000001,5.0],\"z\":[[558.6610318169367,529.4612849904108,501.06153816388496,473.46179133735916,446.66204451083325,420.66229768430736,395.4625508577815,371.0628040312556,347.4630572047297,324.66331037820396,302.66356355167807,281.4638167251521,261.06406989862626,241.4643230721004,222.66457624557455,204.6648294190487,187.46508259252283,171.06533576599693,155.4655889394711,140.6658421129452,126.66609528641935,113.4663484598935,101.0666016333676,89.46685480684172,78.66710798031585,68.66736115379001,59.467614327264144,51.067867500738274,43.46812067421239,36.668373847686524,30.668627021160678,25.468880194634806,21.069133368108936,17.46938654158307,14.669639715057205,12.669892888531347,11.47014606200548,11.070399235479615,11.470652408953748,12.670905582427885,14.671158755902013,17.47141192937616,21.071665102850282,25.471918276324402,30.67217144979856,36.672424623272676,43.47267779674685,51.07293097022095,59.473184143695136,68.67343731716925,78.67369049064334],[542.2582703799137,513.47463294215,485.4909955043863,458.3073580666226,431.92372062885886,406.3400831910951,381.55644575333133,357.5728083155676,334.3891708778039,312.0055334400402,290.42189600227647,269.63825856451274,249.65462112674896,230.47098368898526,212.0873462512215,194.50370881345785,177.72007137569406,161.73643393793034,146.55279650016666,132.1691590624029,118.58552162463918,105.80188418687545,93.81824674911172,82.63460931134797,72.25097187358425,62.66733443582055,53.88369699805682,45.90005956029309,38.71642212252935,32.33278468476563,26.749147247001922,21.96550980923819,17.98187237147446,14.798234933710733,12.414597495947007,10.830960058183287,10.047322620419559,10.063685182655835,10.88004774489211,12.496410307128382,14.91277286936465,18.129135431600943,22.145497993837203,26.96186055607346,32.578223118309765,38.99458568054602,46.21094824278233,54.227310805018575,63.0436733672549,72.66003592949114,83.07639849172737],[526.1437779081236,497.776249859122,470.20872181012044,443.44119376111894,417.47366571211734,392.3061376631157,367.93860961411406,344.3710815651125,321.6035535161109,299.6360254671094,278.46849741810775,258.1009693691061,238.53344132010454,219.765913271103,201.79838522210136,184.63085717309983,168.26332912409822,152.6958010750966,137.92827302609507,123.96074497709344,110.79321692809188,98.42568887909027,86.85816083008868,76.09063278108708,66.1231047320855,56.95557668308394,48.58804863408235,41.02052058508075,34.25299253607916,28.285464487077576,23.117936438076004,18.750408389074416,15.182880340072828,12.415352291071239,10.447824242069656,9.280296193068075,8.912768144066488,9.345240095064902,10.577712046063317,12.610183997061732,15.442655948060136,19.07512789905857,23.50759985005697,28.740071801055365,34.772543752053814,41.605015703052196,49.23748765405065,57.669959605049044,66.90243155604752,76.9349035070459,87.76737545804427],[510.31755440156644,482.366135741327,455.21471708108754,428.8632984208482,403.31187976060863,378.56046110036914,354.60904244012966,331.45762377989024,309.1062051196508,287.5547864594114,266.80336779917195,246.8519491389324,227.700530478693,209.3491118184536,191.7976931582141,175.0462744979747,159.09485583773522,143.94343717749575,129.59201851725632,116.04059985701687,103.28918119677745,91.33776253653798,80.18634387629854,69.83492521605906,60.28350655581961,51.532087895580204,43.58066923534074,36.42925057510129,30.07783191486184,24.526413254622387,19.77499459438296,15.823575934143506,12.672157273904055,10.320738613664606,8.76931995342516,8.017901293185716,8.066482632946268,8.915063972706822,10.563645312467376,13.012226652227932,16.26080799198847,20.309389331749045,25.157970671509585,30.806552011270114,37.2551333510307,44.50371469079123,52.55229603055182,61.400877370312344,71.04945871007297,81.49804004983349,92.746621389594],[494.779599860242,467.24429058876467,440.5089813172873,414.5736720458101,389.43836277433275,365.10305350285546,341.56774423137813,318.8324349599008,296.8971256884235,275.7618164169462,255.42650714546892,235.8911978739916,217.15588860251427,199.220579331037,182.08527005955966,165.74996078808238,150.21465151660504,135.47934224512773,121.54403297365045,108.40872370217312,96.07341443069582,84.5381051592185,73.80279588774118,63.867486616263875,54.732177344786564,46.396868073309285,38.86155880183196,32.126249530354656,26.19094025887734,21.055630987400033,16.72032171592274,13.185012444445428,10.449703172968118,8.514393901490811,7.379084630013506,7.043775358536201,7.508466087058893,8.773156815581586,10.83784754410428,13.702538272626978,17.367229001149656,21.831919729672375,27.09661045819505,33.16130118671772,40.02599191524045,47.69068264376311,56.15537337228586,65.42006410080852,75.48475482933128,86.34944555785393,98.01413628637658],[479.5299142841503,452.41071440143526,426.09151451872003,400.572314636005,375.8531147532898,351.93391487057454,328.81471498785936,306.4955151051442,284.97631522242904,264.25711533971395,244.3379154569987,225.21871557428358,206.89951569156835,189.3803158088532,172.66111592613805,156.7419160434229,141.62271616070774,127.30351627799253,113.78431639527739,101.0651165125622,89.14591662984705,78.02671674713187,67.7075168644167,58.18831698170153,49.46911709898635,41.54991721627121,34.43071733355604,28.111517450840864,22.592317568125694,17.873117685410527,13.95391780269537,10.834717919980204,8.515518037265032,6.996318154549866,6.2771182718347,6.357918389119533,7.238718506404368,8.919518623689202,11.400318740974036,14.681118858258873,18.76191897554369,23.64271909282855,29.323519210113368,35.804319327398176,43.085119444683045,51.16591956196784,60.04671967925273,69.72751979653752,80.20831991382242,91.4891200311072,103.56992014839201],[464.5684976732917,437.8654071793386,411.9623166853856,386.85922619143264,362.5561356974796,339.0530452035265,316.3499547095735,294.44686421562045,273.3437737216675,253.04068322771448,233.53759273376141,214.8345022398084,196.9314117458553,179.8283212519023,163.52523075794926,148.02214026399628,133.31904977004325,119.4159592760902,106.31286878213717,94.00977828818415,82.50668779423113,71.8035973002781,61.90050680632506,52.79741631237203,44.49432581841899,36.99123532446599,30.288144830512955,24.38505433655993,19.2819638426069,14.978873348653867,11.475782854700855,8.772692360747824,6.869601866794797,5.76651137284177,5.463420878888744,5.960330384935716,7.257239890982689,9.354149397029666,12.25105890307664,15.94796840912362,20.444877915170576,25.74178742121758,31.83869692726453,38.735606433311474,46.432515939358495,54.92942544540543,64.22633495145246,74.32324445749938,85.22015396354644,96.91706346959336,109.4139729756403],[449.8953500276658,423.60836892247494,398.121387817284,373.43440671209316,349.54742560690227,326.4604445017114,304.17346339652045,282.6864822913296,261.99950118613873,242.11252008094786,223.02553897575694,204.73855787056604,187.25157676537515,170.5645956601843,154.67761455499334,139.5906334498025,125.3036523446116,111.8166712394207,99.12969013422983,87.24270902903893,76.15572792384806,65.86874681865717,56.381765713466265,47.69478460827538,39.80780350308448,32.72082239789362,26.43384129270273,20.946860187511838,16.259879082320946,12.372897977130059,9.285916871939184,6.998935766748295,5.511954661557407,4.824973556366521,4.937992451175637,5.851011345984746,7.56403024079386,10.077049135602977,13.390068030412092,17.50308692522121,22.416105820030307,28.12912471483945,34.64214360964854,41.95516250445763,50.06818139926679,58.98120029407587,68.69421918888503,79.20723808369411,90.5202569785033,102.63327587331236,115.54629476812143],[435.51047134727276,409.63959963084403,384.56872791441526,360.2978561979867,336.8269844815578,314.156112765129,292.2852410487003,271.21436933227153,250.94349761584283,231.47262589941408,212.80175418298535,194.93088246655657,177.8600107501278,161.5891390336991,146.11826731727035,131.44739560084162,117.57652388441284,104.50565216798407,92.23478045155534,80.76390873512659,70.09303701869784,60.22216530226909,51.151293585840335,42.88042186941158,35.40955015298283,28.73867843655411,22.867806720125355,17.796935003696603,13.526063287267853,10.055191570839103,7.384319854410366,5.513448137981617,4.442576421552869,4.171704705124122,4.700832988695376,6.029961272266625,8.15908955583788,11.088217839409133,14.81734612298039,19.34647440655165,24.675602690122886,30.80473097369417,37.7338592572654,45.46298754083662,53.99211582440792,63.32124410797914,73.45037239155045,84.37950067512168,96.10862895869298,108.6377572422642,121.96688552583541],[421.4138616321127,395.959099304446,371.3043369767794,347.44957464911283,324.39481232144624,302.1400499937796,280.685287666113,260.0305253384464,240.1757630107798,221.1210006831132,202.86623835544657,185.41147602777994,168.75671370011332,152.90195137244677,137.84718904478012,123.59242671711353,110.13766438944691,97.48290206178027,85.62813973411369,74.57337740644707,64.31861507878048,54.86385275111387,46.20909042344725,38.354328095780645,31.29956576811402,25.04480344044744,19.590041112780828,14.935278785114217,11.080516457447606,8.025754129780996,5.770991802114397,4.316229474447787,3.6614671467811792,3.8067048191145725,4.751942491447966,6.497180163781354,9.042417836114748,12.387655508448145,16.532893180781542,21.478130853114937,27.22336852544831,33.768606197781736,41.113843870115105,49.25908154244846,58.20431921478191,67.94955688711526,78.4947945594487,89.84003223178206,101.98526990411554,114.93050757644887,128.67574524878222],[407.6055208821853,382.56686794328084,358.3282150043764,334.889562065472,312.25090912656754,290.41225618766305,269.3736032487585,249.13495030985402,229.6962973709496,211.05764443204515,193.21899149314066,176.18033855423616,159.94168561533166,144.50303267642724,129.86437973752277,116.02572679861831,102.9870738597138,90.74842092080935,79.3097679819049,68.67111504300043,58.83246210409597,49.79380916519148,41.55515622628701,34.116503287382535,27.477850348478064,21.63919740957362,16.600544470669146,12.361891531764673,8.923238592860205,6.284585653955734,4.445932715051274,3.4072797761468046,3.1686268372423365,3.7299738983378696,5.091320959433405,7.2526680205289304,10.214015081624463,13.975362142719998,18.536709203815533,23.898056264911077,30.05940332600658,37.020750387102154,44.78209744819766,53.343444509293164,62.70479157038875,72.86613863148423,83.82748569257984,95.58883275367532,108.15017981477095,121.51152687586642,135.67287393696188],[394.0854490974908,369.4629055473485,345.6403619972061,322.6178184470639,300.3952748969216,278.9727313467792,258.3501877966369,238.5276442464945,219.5051006963522,201.28255714620994,183.86001359606757,167.23747004592525,151.41492649578288,136.39238294564058,122.16983939549824,108.74729584535592,96.1247522952136,84.30220874507125,73.27966519492894,63.05712164478659,53.63457809464428,45.01203454450195,37.189490994359616,30.166947444217286,23.944403894074952,18.52186034393264,13.899316793790307,10.076773243647978,7.054229693505648,4.831686143363321,3.409142593220998,2.78659904307867,2.9640554929363425,3.9415119427940164,5.718968392651693,8.296424842509357,11.673881292367032,15.851337742224707,20.828794192082384,26.606250641940065,33.183707091797714,40.56116354165542,48.73861999151307,57.71607644137071,67.49353289122843,78.07098934108606,89.44844579094381,101.62590224080144,114.60335869065918,128.3808151405168,142.9582715903744],[380.85364627802926,356.64721211664903,333.2407779552688,310.6343437938887,288.82790963250847,267.8214754711283,247.61504130974805,228.2086071483679,209.6021729869877,191.79573882560754,174.78930466422736,158.58287050284713,143.17643634146697,128.57000218008676,114.76356801870656,101.75713385732641,89.55069969594621,78.14426553456602,67.53783137318582,57.731397211805636,48.72496305042546,40.518528889045264,33.112094727665074,26.505660566284877,20.699226404904685,15.692792243524515,11.486358082144323,8.07992392076413,5.473489759383943,3.667055598003756,2.6606214366235728,2.4541872752433846,3.047753113863198,4.441318952483013,6.63488479110283,9.62845062972263,13.422016468342445,18.01558230696226,23.40914814558208,29.602713984201905,36.596279822821685,44.38984566144154,52.98341150006132,62.3769773386811,72.57054317730096,83.56410901592074,95.35767485454062,107.95124069316039,121.34480653178026,135.53837237040005,150.5319382090198],[367.91011242380046,344.1197876511824,321.12946287856437,298.93913810594637,277.5488133333283,256.95848856071024,237.16816378809216,218.1778390154741,199.9875142428561,182.59718947023805,166.00686469762,150.2165399250019,135.22621515238384,121.03589037976582,107.64556560714776,95.05524083452973,83.26491606191168,72.27459128929362,62.08426651667558,52.69394174405751,44.10361697143948,36.31329219882143,29.322967426203377,23.13264265358532,17.74231788096727,13.151993108349242,9.361668335731187,6.371343563113137,4.181018790495088,2.790694017877041,2.2003692452589956,2.4100444726409473,3.4197197000229007,5.229394927404856,7.839070154786811,11.248745382168753,15.458420609550707,20.46809583693266,26.27777106431462,32.88744629169658,40.2971215190785,48.506796746460495,57.51647197384243,67.32614720122434,77.93582242860634,89.34549765598825,101.55517288337026,114.56484811075218,128.37452333813422,142.98419856551612,158.39387379289803],[355.2548475348046,331.8806321509486,309.30641676709274,287.5322013832369,266.5579859993809,246.38377061552504,227.00955523166905,208.43533984781317,190.66112446395724,173.68690908010137,157.51269369624546,142.1384783123895,127.56426292853361,113.79004754467772,100.8158321608218,88.64161677696589,77.26740139310999,66.69318600925405,56.91897062539817,47.94475524154225,39.77053985768635,32.39632447383044,25.822109089974525,20.047893706118614,15.073678322262701,10.89946293840681,7.5252475545509,4.951032170694989,3.1768167868390806,2.202601402983174,2.0283860191272676,2.6541706352713597,4.079955251415454,6.305739867559549,9.331524483703644,13.157309099847726,17.78309371599182,23.208878332135917,29.434662948280018,36.460447564424115,44.28623218056818,52.91201679671232,62.33780141285638,72.56358602900043,83.58937064514458,95.41515526128865,108.04093987743279,121.46672449357683,135.69250910972102,150.71829372586504,166.54407834200907],[342.88785161104147,319.9297456159477,297.7716396208539,276.41353362576024,255.85542763066638,236.0973216355726,217.13921564047882,198.98110964538506,181.6230036502913,165.06489765519757,149.30679166010378,134.34868566500998,120.19057966991622,106.83247367482247,94.2743676797287,82.51626168463491,71.55815568954114,61.40004969444737,52.04194369935362,43.48383770425984,35.72573170916607,28.767625714072302,22.609519718978525,17.25141372388476,12.693307728790987,8.935201733697234,5.977095738603463,3.818989743509693,2.460883748415924,1.9027777533221566,2.1446717582283883,3.1865657631346203,5.028459768040854,7.670353772947088,11.112247777853327,15.354141782759541,20.396035787665777,26.23792979257201,32.87982379747825,40.32171780238449,48.56361180729069,57.605505812196974,67.44739981710318,78.08929382200937,89.53118782691567,101.77308183182186,114.81497583672815,128.65686984163435,143.29876384654062,158.74065785144683,174.982551856353],[330.80912465251123,308.2671280461796,286.525131439848,265.5831348335164,245.44113822718475,226.0991416208531,207.55714501452147,189.8151484081898,172.87315180185817,156.73115519552658,141.38915858919495,126.8471619828633,113.10516537653166,100.16316877020006,88.02117216386841,76.6791755575368,66.13717895120516,56.39518234487352,47.453185738541904,39.31118913221027,31.969192525878643,25.42719591954701,19.685199313215378,14.743202706883746,10.601206100552119,7.259209494220503,4.717212887888872,2.975216281557242,2.0332196752256135,1.8912230688939868,2.5492264625623573,4.00722985623073,6.265233249899104,9.32323664356748,13.181240037235856,17.83924343090421,23.29724682457259,29.555250218240964,36.61325361190934,44.47125700557772,53.129260399246064,62.58726379291449,72.84526718658282,83.90327058025116,95.7612739739196,108.41927736758792,121.87728076125636,136.1352841549247,151.19328754859316,167.05129094226146,183.70929433592977],[319.01866665921386,296.8927794416443,275.5668922240748,255.04100500650543,235.3151177889359,216.3892305713664,198.26334335379687,180.9374561362274,164.4115689186579,148.68568170108847,133.75979448351896,119.63390726594946,106.30802004837996,93.78213283081047,82.05624561324097,71.13035839567151,61.004471178102015,51.67858396053252,43.15269674296303,35.42680952539354,28.500922307824062,22.37503509025457,17.049147872685076,12.523260655115585,8.797373437546096,5.871486219976619,3.7455990024071286,2.4197117848376397,1.8938245672681524,2.1679373496986667,3.242050132129176,5.116162914559689,7.790275696990204,11.26438847942072,15.538501261851238,20.612614044281727,26.48672682671225,33.16083960914276,40.63495239157329,48.90906517400381,57.983177956434275,67.85729073886486,78.53140352129533,90.0055163037258,102.27962908615638,115.35374186858684,129.22785465101742,143.9019674334479,159.3760802158785,175.65019299830894,192.7243057807394],[307.5164776311493,285.80669980234194,264.8969219735345,244.78714414472728,225.47736631591994,206.96758848711258,189.25781065830523,172.34803282949787,156.23825500069051,140.9284771718832,126.41869934307584,112.70892151426847,99.7991436854611,87.68936585665378,76.37958802784642,65.86981019903908,56.16003237023173,47.25025454142437,39.14047671261703,31.830698883809674,25.32092105500233,19.611143226194976,14.70136539738763,10.591587568580277,7.281809739772927,4.7720319109655875,3.062254082158237,2.152476253350888,2.04269842454354,2.7329205957361937,4.223142766928841,6.513364938121493,9.603587109314148,13.493809280506804,18.18403145169946,23.674253622892092,29.96447579408475,37.0546979652774,44.94492013647007,53.63514230766272,63.125364478855346,73.41558665004804,84.50580882124066,96.39603099243328,109.08625316362598,122.57647533481858,136.86669750601135,151.95691967720393,167.84714184839666,184.53736401958926,202.02758619078185],[296.30255756831764,275.0088891282724,254.51522068822717,234.82155224818203,215.9278838081368,197.83421536809158,180.54054692804635,164.04687848800114,148.35321004795594,133.45954160791075,119.36587316786554,106.07220472782032,93.57853628777511,81.88486784772991,70.99119940768469,60.8975309676395,51.60386252759427,43.11019408754906,35.41652564750386,28.52285720745865,22.42918876741345,17.135520327368233,12.641851887323023,8.948183447277811,6.054515007232602,3.960846567187402,2.667178127142192,2.173509687096983,2.4798412470517763,3.5861728070065704,5.492504366961356,8.19883592691615,11.705167486870945,16.011499046825744,21.11783060678054,27.02416216673531,33.730493726690106,41.2368252866449,49.5431568465997,58.649488406554504,68.55581996650926,79.2621515264641,90.76848308641885,103.0748146463736,116.18114620632846,130.0874777662832,144.7938093262381,160.30014088619282,176.6064724461477,193.71280400610243,211.6191355660572],[285.37690647071884,264.49934741943576,244.42178836815262,225.14422931686966,206.66667026558656,188.98911121430348,172.1115521630204,156.0339931117373,140.75643406045424,126.2788750091712,112.60131595788812,99.72375690660505,87.64619785532196,76.36863880403891,65.89107975275581,56.21352070147277,47.33596165018969,39.25840259890661,31.980843547623554,25.503284496340477,19.825725445057415,14.948166393774342,10.870607342491269,7.593048291208198,5.115489239925129,3.437930188642066,2.560371137358996,2.4828120860759277,3.20525303479286,4.727693983509794,7.050134932226717,10.17257588094365,14.095016829660587,18.817457778377523,24.339898727094457,30.662339675811367,37.78478062452831,45.70722157324524,54.429662521962186,63.952103470679134,74.27454441939602,85.39698536811301,97.31942631682989,110.04186726554678,123.56430821426379,137.88674916298066,153.00919011169765,168.9316310604146,185.6540720091316,203.17651295784847,221.4989539065653],[274.7395243383528,254.27807467583187,234.6166250133109,215.75517535079007,197.69372568826913,180.43227602574814,163.97082636322722,148.30937670070628,133.44792703818538,119.38647737566447,106.12502771314352,93.66357805062259,82.00212838810165,71.14067872558073,61.0792290630598,51.81777940053888,43.35632973801793,35.694880075497,28.833430412976085,22.77198075045515,17.510531087934226,13.049081425413295,9.387631762892362,6.526182100371431,4.464732437850503,3.203282775329579,2.7418331128086493,3.080383450287721,4.218933787766794,6.157484125245869,8.89603446272493,12.434584800204005,16.77313513768308,21.91168547516216,27.85023581264123,34.588786150120285,42.12733648759936,50.465886825078435,59.60443716255752,69.54298750003659,80.28153783751563,91.82008817499477,104.1586385124738,117.29718884995282,131.23573918743196,145.97428952491097,161.51283986239014,177.85139019986914,194.98994053734833,212.92849087482733,231.66704121230634],[264.3904111712196,244.34507089746086,225.09973062370204,206.65439034994336,189.0090500761845,172.16370980242573,156.1183695286669,140.87302925490812,126.42768898114936,112.78234870739058,99.93700843363179,87.89166815987299,76.6463278861142,66.20098761235542,56.555647338596614,47.710307064837835,39.66496679107904,32.41962651732024,25.974286243561465,20.32894596980267,15.483605696043888,11.438265422285093,8.192925148526303,5.747584874767513,4.102244601008726,3.2569043272499396,3.2115640534911507,3.9662237797323634,5.520883505973577,7.875543232214792,11.030202958455993,14.984862684697205,19.739522410938424,25.29418213717964,31.64884186342086,38.80350158966205,46.758161315903266,55.51282104214447,65.0674807683857,75.42214049462692,86.5768002208681,98.53145994710937,111.28611967335053,124.84077939959168,139.19543912583296,154.35009885207415,170.30475857831541,187.05941830455657,204.6140780307979,222.96873775703907,242.1233974832802],[254.3295669693194,234.70033608432271,215.87110519932605,197.84187431432946,180.61264342933282,164.18341254433614,148.55418165933946,133.7249507743428,119.6957198893462,106.46648900434954,94.03725811935288,82.40802723435623,71.57879634935956,61.549565464362935,52.32033457936628,43.89110369436965,36.26187280937299,29.43264192437633,23.40341103937969,18.174180154383038,13.744949269386396,10.115718384389744,7.286487499393093,5.257256614396445,4.028025729399796,3.59879484440315,3.9695639594065018,5.140333074409855,7.111102189413211,9.881871304416565,13.452640419419906,17.823409534423263,22.99417864942662,28.964947764429972,35.73571687943333,43.306485994436656,51.67725510944001,60.84802422444338,70.81879333944674,81.58956245445012,93.16033156945342,105.53110068445682,118.70186979946013,132.67263891446345,147.44340802946687,163.01417714447018,179.38494625947362,196.5557153744769,214.52648448948037,233.29725360448361,252.8680227194869],[244.5569917326519,225.34387023641742,206.93074874018288,189.31762724394844,172.5045057477139,156.49138425147936,141.27826275524487,126.86514125901034,113.25201976277586,100.43889826654136,88.42577677030684,77.21265527407232,66.79953377783781,57.186412281603324,48.373290785368795,40.360169289134305,33.14704779289979,26.733926296665274,21.12080480043077,16.307683304196257,12.294561807961752,9.081440311727244,6.668318815492734,5.055197319258225,4.242075823023717,4.22895432678921,5.015832830554702,6.602711334320196,8.98958983808569,12.176468341851187,16.163346845616665,20.950225349382166,26.537103853147663,32.92398235691316,40.110860860678656,48.097739364444124,56.88461786820962,66.47149637197512,76.85837487574062,88.04525337950614,100.03213188327157,112.81901038703714,126.4058888908026,140.79276739456805,155.9796458983336,171.96652440209903,188.75340290586462,206.34028140963005,224.72715991339564,243.91403841716107,263.9009169209265],[235.07268546121736,216.275673353745,198.27866124627258,181.0816491388003,164.6846370313279,149.08762492385551,134.29061281638315,120.29360070891076,107.09658860143841,94.69957649396606,83.10256438649367,72.3055522790213,62.30854017154891,53.11152806407656,44.71451595660418,37.11750384913182,30.320491741659445,24.323479634187066,19.126467526714706,14.729455419242331,11.132443311769967,8.335431204297594,6.3384190968252225,5.141406989352853,4.744394881880485,5.147382774408114,6.350370666935746,8.353358559463377,11.156346451991011,14.759334344518646,19.16232223704626,24.365310129573892,30.36829802210153,37.171285914629166,44.7742738071568,53.17726169968441,62.38024959221204,72.38323748473968,83.18622537726733,94.78921326979497,107.19220116232253,120.39518905485026,134.39817694737783,149.2011648399054,164.80415273243312,181.2071406249607,198.41012851748843,216.41311641001602,235.21610430254373,254.81909219507128,275.22208008759884],[225.87664815501563,207.49574543630538,189.91484271759515,173.13393999888496,157.15303728017471,141.97213456146446,127.59123184275423,114.01032912404399,101.22942640533378,89.24852368662357,78.06762096791333,67.6867182492031,58.105815530492855,49.324912811782625,41.3440100930724,34.16310737436217,27.782204655651938,22.201301936941704,17.42039921823148,13.439496499521248,10.25859378081102,7.877691062100789,6.296788343390558,5.51588562468033,5.534982905970102,6.3540801872598704,7.9731774685496415,10.392274749839414,13.61137203112919,17.630469312418967,22.449566593708717,28.068663874998492,34.48776115628827,41.70685843757805,49.72595571886782,58.54505300015757,68.16415028144735,78.58324756273713,89.80234484402692,101.8214421253167,114.64053940660642,128.25963668789626,142.678733969186,157.8978312504757,173.91692853176556,190.73602581305525,208.35512309434512,226.77422037563483,245.99331765692472,266.0124149382144,286.83151221950413],[216.96887981404672,199.0040864840986,181.83929315415054,165.4744998242025,149.90970649425438,135.14491316430627,121.18011983435818,108.01532650441007,95.650533174462,84.08573984451394,73.32094651456582,63.356153184617725,54.19135985466964,45.82656652472156,38.26177319477346,31.496979864825374,25.53218653487728,20.367393204929186,16.0025998749811,12.43780654503301,9.673013215084925,7.708219885136834,6.543426555188745,6.178633225240656,6.613839895292568,7.849046565344476,9.884253235396388,12.719459905448302,16.354666575500218,20.789873245552133,26.025079915604028,32.060286585655945,38.89549325570786,46.53069992575978,54.965906595811695,64.20111326586357,74.23631993591549,85.0715266059674,96.70673327601934,109.14193994607126,122.37714661612311,136.41235328617512,151.24755995622698,166.88276662627885,183.31797329633082,200.5531799663827,218.58838663643468,237.42359330648654,257.0587999765385,277.4940066465904,298.72921331664224],[208.34938043831067,190.80069649712473,174.05201255593875,158.10332861475285,142.9546446735669,128.60596073238094,115.05727679119494,102.30859285000902,90.35990890882307,79.21122496763714,68.86254102645117,59.31385708526522,50.56517314407926,42.61648920289333,35.46780526170737,29.119121320521423,23.570437379335473,18.821753438149518,14.873069496963577,11.724385555777623,9.375701614591678,7.827017673405728,7.078333732219779,7.12964979103383,7.980965849847884,9.63228190866193,12.083597967475981,15.334914026290038,19.386230085104092,24.237546143918152,29.888862202732177,36.340178261546235,43.5914943203603,51.642810379174364,60.49412643798841,70.14544249680243,80.59675855561649,91.84807461443054,103.89939067324462,116.75070673205869,130.40202279087268,144.8533388496868,160.1046549085008,176.1559709673148,193.00728702612895,210.6586030849429,229.10991914375705,248.36123520257107,268.4125512613852,289.2638673201992,310.91518337901323],[200.01815002780748,182.88557547538366,166.55300092295982,151.02042637053606,136.28785181811224,122.35527726568841,109.2227027132646,96.89012816084079,85.35755360841699,74.6249790559932,64.69240450356938,55.55982995114555,47.22725539872174,39.69468084629794,32.96210629387413,27.029531741450327,21.896957189026516,17.564382636602705,14.031808084178898,11.299233531755087,9.366658979331284,8.23408442690747,7.901509874483662,8.368935322059855,9.636360769636049,11.703786217212233,14.571211664788427,18.23863711236462,22.70606255994082,27.973488007517016,34.04091345509318,40.908338902669385,48.575764350245585,57.04318979782179,66.31061524539798,76.37804069297414,87.24546614055033,98.91289158812654,111.38031703570275,124.64774248327895,138.7151679308551,153.5825933784314,169.25001882600748,185.71744427358362,202.9848697211599,221.05229516873607,239.9197206163123,259.58714606388844,280.05457151146476,301.32199695904086,323.389422406617],[191.97518858253713,175.2587234188755,159.34225825521378,144.22579309155216,129.9093279278905,116.3928627642288,103.67639760056713,91.75993243690544,80.64346727324377,70.32700210958211,60.81053694592045,52.094071782258766,44.17760661859708,37.06114145493543,30.74467629127375,25.228211127612084,20.51174596395041,16.595280800288737,13.478815636627072,11.1623504729654,9.645885309303731,8.92942014564206,9.01295498198039,9.89648981831872,11.580024654657054,14.063559490995376,17.347094327333707,21.430629163672037,26.314164000010376,31.997698836348707,38.48123367268701,45.76476850902535,53.84830334536368,62.73183818170202,72.41537301804037,82.89890785437865,94.182442690717,106.26597752705533,119.14951236339367,132.83304719973202,147.31658203607032,162.6001168724087,178.683651708747,195.56718654508524,213.25072138142366,231.73425621776195,251.01779105410037,271.1013258904386,291.9848607267771,313.66839556311527,336.1519303994536],[184.22049610249965,167.9201403276001,152.41978455270058,137.71942877780108,123.81907300290153,110.71871722800199,98.41836145310245,86.91800567820292,76.21764990330341,66.31729412840389,57.21693835350435,48.91658257860481,41.41622680370527,34.71587102880575,28.815515253906213,23.715159479006687,19.41480370410715,15.914447929207617,13.21409215430809,11.31373637940856,10.21338060450903,9.9130248296095,10.41266905470997,11.712313279810441,13.811957504910914,16.711601730011374,20.41124595511185,24.91089018021232,30.210534405312796,36.310178630413276,43.20982285551372,50.90946708061419,59.409111305714674,68.70875553081515,78.80839975591563,89.70804398101606,101.40768820611653,113.90733243121701,127.2069766563175,141.30662088141798,156.2062651065184,171.90590933161894,188.40555355671938,205.70519778181978,223.80484200692035,242.70448623202077,262.4041304571213,282.90377468222175,304.2034189073223,326.3030631324227,349.2027073575231],[176.75407258769502,160.86982620155757,145.7855798154202,131.50133342928285,118.01708704314544,105.33284065700806,93.44859427087063,82.36434788473323,72.08010149859587,62.595855112458494,53.91160872632109,46.02736234018369,38.9431159540463,32.65886956790891,27.174623181771516,22.490376795634134,18.60613040949674,15.521884023359348,13.23763763722196,11.753391251084569,11.069144864947178,11.184898478809789,12.100652092672401,13.816405706535013,16.332159320397626,19.647912934260226,23.763666548122842,28.679420161985455,34.39517377584808,40.91092738971069,48.226681003573276,56.34243461743589,65.2581882312985,74.97394184516112,85.48969545902375,96.80544907288632,108.92120268674893,121.83695630061156,135.55270991447418,150.0684635283368,165.38421714219936,181.49997075606205,198.4157243699246,216.13147798378714,234.64723159764986,253.96298521151238,274.0787388253751,294.99449243923766,316.7102460531004,339.22599966696293,362.54175328082545],[169.57591803812318,154.1077810407479,139.43964404337265,125.57150704599744,112.5033700486222,100.23523305124692,88.76709605387168,78.09895905649643,68.23082205912118,59.16268506174593,50.89454806437068,43.42641106699543,36.75827406962017,30.890137072244926,25.822000074869674,21.553863077494427,18.085726080119173,15.417589082743923,13.549452085368674,12.481315087993426,12.213178090618175,12.745041093242925,14.076904095867679,16.20876709849243,19.14063010111719,22.872493103741924,27.404356106366677,32.736219108991435,38.86808211161619,45.799945114240955,53.531808116865676,62.06367111949044,71.3955341221152,81.52739712473995,92.45926012736471,104.19112312998942,116.72298613261418,130.05484913523895,144.1867121378637,159.11857514048847,174.85043814311317,191.382301145738,208.71416414836267,226.84602715098737,245.77789015361225,265.5097531562369,286.04161615886176,307.37347916148644,329.5053421641113,352.437205166736,376.1690681693607],[162.6860324537842,147.6340048451711,133.38197723655796,119.92994962794491,107.2779220193318,95.42589441071867,84.37386680210555,74.12183919349243,64.66981158487934,56.017783976266244,48.16575636765312,41.11372875904001,34.861701150426896,29.409673541813795,24.75764593320068,20.905618324587575,17.853590715974462,15.60156310736135,14.149535498748243,13.497507890135132,13.645480281522023,14.593452672908914,16.341425064295805,18.8893974556827,22.237369847069594,26.385342238456474,31.33331462984337,37.08128702123027,43.629259412617166,50.97723180400406,59.12520419539093,68.07317658677782,77.82114897816473,88.36912136955162,99.71709376093852,111.86506615232538,124.81303854371227,138.5610109350992,153.10898332648605,168.456955717873,184.60492810925982,201.55290050064679,219.30087289203362,237.84884528342047,257.19681767480745,277.34479006619426,298.29276245758126,320.0407348489681,342.5887072403551,365.9366796317419,390.0846520231287],[156.08441583467814,141.44849761482715,127.61257939497617,114.57666117512524,102.34074295527428,90.90482473542328,80.26890651557231,70.43298829572133,61.39707007587037,53.1611518560194,45.725233636168426,39.08931541631745,33.25339719646647,28.21747897661551,23.981560756764537,20.54564253691357,17.909724317062597,16.073806097211623,15.037887877360653,14.80196965750968,15.366051437658708,16.73013321780774,18.894214997956773,21.858296778105803,25.622378558254837,30.186460338403855,35.55054211855289,41.71462389870192,48.67870567885095,56.44278745899999,65.00686923914898,74.37095101929803,84.53503279944707,95.49911457959611,107.26319635974514,119.82727813989412,133.19135992004317,147.35544170019222,162.31952348034125,178.0836052604903,194.64768704063925,212.0117688207884,230.17585060093734,249.13993238108628,268.9040141612354,289.4680959413844,310.8321777215336,332.9962595016825,355.9603412818317,379.7244230619806,404.28850484212956],[149.77106818080486,135.55125934971602,122.13145051862719,109.5116416875384,97.69183285644957,86.67202402536073,76.45221519427189,67.03240636318306,58.41259753209424,50.592788701005404,43.57297986991657,37.35317103882773,31.933362207738902,27.313553376650077,23.493744545561242,20.473935714472415,18.254126883383577,16.834318052294748,16.21450922120592,16.394700390117087,17.374891559028253,19.155082727939426,21.735273896850597,25.115465065761768,29.295656234672947,34.2758474035841,40.05603857249527,46.636229741406446,54.01642091031762,62.1966120792288,71.17680324813995,80.95699441705112,91.5371855859623,102.91737675487347,115.09756792378465,128.07775909269577,141.85795026160696,156.43814143051813,171.8183325994293,187.99852376834053,204.97871493725162,222.7589061061629,241.339097275074,260.7192884439851,280.89947961289636,301.8796707818075,323.6598619507188,346.24005311962986,369.62024428854113,393.80043545745224,418.7806266263633],[143.74598949216448,129.94229004983777,116.93859060751109,104.73489116518442,93.33119172285771,82.72749228053102,72.9237928382043,63.92009339587763,55.71639395355095,48.31269451122425,41.708995068897565,35.90529562657087,30.90159618424417,26.697896741917482,23.29419729959079,20.6904978572641,18.88679841493741,17.883098972610718,17.67939953028403,18.27570008795734,19.672000645630646,21.868301203303957,24.864601760977273,28.660902318650585,33.2572028763239,38.653503433997194,44.849803991670505,51.84610454934383,59.64240510701714,68.23870566469046,77.63500622236373,87.83130678003705,98.82760733771036,110.62390789538368,123.22020845305703,136.61650901073025,150.8128095684036,165.8091101260769,181.60541068375025,198.20171124142354,215.5980117990968,233.7943123567702,252.79061291444344,272.5869134721167,293.18321402979007,314.57951458746334,336.7758151451368,359.77211570281,383.56841626048345,408.16471681815665,433.5610173758299],[138.0091797687569,124.62158971519236,112.03399966162777,100.24640960806329,89.25881955449871,79.07122950093415,69.6836394473696,61.096049393805046,53.3084593402405,46.32086928667596,40.1332792331114,34.745689179546844,30.158099125982297,26.370509072417754,23.382919018853194,21.195328965288645,19.807738911724094,19.220148858159547,19.43255880459499,20.444968751030444,22.25737869746589,24.86978864390134,28.282198590336794,32.49460853677225,37.50701848320771,43.31942842964314,49.93183837607859,57.34424832251405,65.5566582689495,74.56906821538496,84.38147816182038,94.99388810825585,106.40629805469129,118.61870800112675,131.63111794756222,145.4435278939976,160.05593784043307,175.46834778686855,191.680757733304,208.69316767973947,226.50557762617484,245.1179875726104,264.5303975190458,284.7428074654812,305.75521741191676,327.56762735835207,350.1800373047877,373.592447251223,397.80485719765863,422.817267144094,448.6296770905293],[132.56063901058218,119.58915834577977,107.41767768097733,96.04619701617497,85.47471635137256,75.70323568657014,66.73175502176773,58.5602743569653,51.18879369216291,44.61731302736051,38.84583236255809,33.87435169775567,29.70287103295326,26.331390368150856,23.75990970334844,21.98842903854603,21.01694837374362,20.845467708941207,21.4739870441388,22.90250637933639,25.131025714533976,28.15954504973157,31.988064384929167,36.61658372012676,42.04510305532436,48.27362239052193,55.30214172571952,63.13066106091712,71.75918039611471,81.18769973131232,91.41621906650988,102.44473840170747,114.27325773690508,126.90177707210267,140.33029640730027,154.5588157424978,169.5873350776954,185.415854412893,202.0443737480906,219.47289308328823,237.70141241848577,256.72993175368345,276.55845108888093,297.1869704240785,318.61548975927616,340.8440090944737,363.87252842967143,387.7010477648689,412.32956710006664,437.7580864352642,463.98660577046167],[127.40036721764034,114.84499594160006,103.0896246655598,92.13425338951954,81.97888211347927,72.623510837439,64.06813956139871,56.312768285358445,49.35739700931818,43.20202573327791,37.84665445723763,33.29128318119736,29.53591190515708,26.58054062911681,24.42516935307654,23.06979807703627,22.514426800996,22.759055524955727,23.803684248915452,25.648312972875182,28.292941696834905,31.737570420794633,35.982199144754375,41.0268278687141,46.87145659267384,53.51608531663354,60.960714040593274,69.20534276455302,78.24997148851276,88.09460021247249,98.73922893643218,110.18385766039191,122.42848638435166,135.4731151083114,149.31774383227113,163.96237255623083,179.40700128019057,195.65163000415032,212.69625872811002,230.5408874520698,249.18551617602944,268.63014489998926,288.87477362394895,309.9194023479086,331.7640310718685,354.4086597958281,377.85328851978795,402.0979172437476,427.14254596770746,452.9871746916671,479.6318034156268],[122.52836438993131,110.38910250265317,99.04984061537503,88.51057872809695,78.7713168408188,69.83205495354066,61.692793066262524,54.3535311789844,47.81426929170627,42.07500740442815,37.135745517150006,32.996483629871875,29.65722174259374,27.11795985531562,25.378697968037493,24.43943608075936,24.30017419348123,24.960912306203102,26.421650418924976,28.682388531646843,31.743126644368708,35.603864757090584,40.26460286981246,45.725340982534334,51.986079095256216,59.04681720797805,66.90755532069993,75.56829343342181,85.02903154614368,95.28976965886557,106.35050777158742,118.21124588430929,130.87198399703118,144.33272210975306,158.59346022247493,173.65419833519675,189.51493644791864,206.17567456064054,223.6364126733624,241.8971507860843,260.9578888988061,280.81862701152806,301.47936512424985,322.94010323697165,345.20084134969363,368.2615794624154,392.12231757513746,416.78305568785925,442.2437938005812,468.504531913303,495.5652700260248],[117.94463052745517,106.22147802893916,95.29832553042317,85.1751730319072,75.8520205333912,67.32886803487521,59.6057155363592,52.682563037843224,46.55941053932723,41.23625804081125,36.71310554229525,32.98995304377925,30.066800545263263,27.943648046747278,26.620495548231283,26.097343049715285,26.3741905511993,27.45103805268331,29.327885554167313,32.00473305565132,35.48158055713533,39.75842805861934,44.835275560103355,50.71212306158736,57.38897056307138,64.86581806455537,73.14266556603938,82.2195130675234,92.09636056900743,102.77320807049145,114.25005557197542,126.52690307345942,139.60375057494346,153.48059807642747,168.15744557791152,183.63429307939543,199.91114058087948,216.9879880823635,234.8648355838475,253.54168308533156,273.0185305868155,293.2953780882996,314.37222558978357,336.24907309126746,358.9259205927516,382.4027680942355,406.67961559571967,431.7564630972036,457.6333105986878,484.3101581001717,511.7870056016556],[113.64916563021185,102.34212252045802,91.83507941070413,82.12803630095033,73.22099319119646,65.1139500814426,57.80690697168875,51.29986386193489,45.592820752181034,40.68577764242719,36.57873453267334,33.27169142291948,30.764648313165623,29.05760520341177,28.150562093657925,28.043518983904065,28.736475874150212,30.229432764396368,32.52238965464251,35.61534654488866,39.5083034351348,44.20126032538094,49.694217215627106,55.98717410587325,63.08013099611941,70.97308788636553,79.66604477661168,89.15900166685785,99.45195855710399,110.54491544735015,122.43787233759627,135.1308292278424,148.62378611808856,162.91674300833475,178.0096998985809,193.90265678882702,210.59561367907315,228.0885705693193,246.38152745956546,265.47448434981163,285.3674412400577,306.060398130304,327.5533550205501,349.8463119107961,372.93926880104243,396.83222569128844,421.52518258153475,447.0181394717808,473.3110963620271,500.4040532522732,528.2970101425192],[109.64196969820136,98.75103597720968,88.66010225621793,79.36916853522627,70.87823481423455,63.18730109324282,56.29636737225111,50.20543365125939,44.91449993026768,40.42356620927598,36.73263248828427,33.84169876729255,31.75076504630084,30.459831325309132,29.96889760431742,30.277963883325704,31.387030162334,33.29609644134229,36.005162720350576,39.51422899935886,43.823295278367155,48.932361557375444,54.841427836383744,61.55049411539204,69.05956039440034,77.36862667340858,86.4776929524169,96.38675923142519,107.0958255104335,118.60489178944178,130.91395806845003,144.02302434745835,157.93209062646665,172.64115690547496,188.1502231844832,204.45928946349144,221.56835574249976,239.47742202150806,258.1864883005164,277.6955545795247,298.0046208585329,319.1136871375413,341.0227534165495,363.7318196955577,387.24088597456614,411.54995225357436,436.65901853258276,462.56808481159095,489.2771510905994,516.7862173696076,545.0952836486158],[105.92304273142375,95.4482183991942,85.77339406696461,76.89856973473505,68.8237454025055,61.5489210702759,55.074096738046336,49.39927240581675,44.524448073587195,40.44962374135763,37.17479940912804,34.699975076898475,33.0251507446689,32.15032641243933,32.07550208020976,32.80067774798019,34.32585341575061,36.65102908352104,39.77620475129146,43.70138041906189,48.42655608683231,53.95173175460275,60.27690742237318,67.40208309014362,75.32725875791405,84.05243442568444,93.5776100934549,103.90278576122532,115.02796142899578,126.9531370967662,139.67831276453657,153.20348843230704,167.52866410007746,182.6538397678479,198.57901543561835,215.3041911033887,232.8293667711592,251.15454243892958,270.27971810670005,290.2048937744705,310.93006944224084,332.45524511001133,354.7804207777817,377.9055964455521,401.8307721133226,426.555947781093,452.08112344886354,478.40629911663393,505.53147478440445,533.4566504521747,562.1818261199451],[102.49238472987898,92.43366978641154,83.17495484294412,74.7162398994767,67.05752495600927,60.198810012541834,54.14009506907439,48.88138012560696,44.42266518213954,40.763950238672116,37.905235295204676,35.84652035173724,34.587805408269816,34.12909046480238,34.47037552133495,35.611660577867525,37.55294563440009,40.29423069093267,43.83551574746522,48.17680080399779,53.318085860530374,59.25937091706294,66.00065597359551,73.5419410301281,81.88322608666067,91.02451114319321,100.96579619972579,111.70708125625836,123.24836631279096,135.58965136932352,148.73093642585604,162.67222148238864,177.4135065389212,192.9547915954538,209.29607665198634,226.4373617085189,244.37864676505149,263.11993182158403,282.66121687811665,303.0025019346492,324.14378699118174,346.08507204771445,368.8263571042469,392.3676421607794,416.7089272173121,441.8502122738446,467.7914973303773,494.53278238690973,522.0740674434425,550.4153524999749,579.5566375565074],[99.34999569356708,89.70739013886177,80.86478458415647,72.8221790294512,65.5795734747459,59.13696792004062,53.49436236533532,48.65175681063002,44.609151255924736,41.366545701219444,38.923940146514155,37.28133459180886,36.43872903710357,36.39612348239827,37.15351792769298,38.710912372987686,41.068306818282394,44.22570126357711,48.18309570887182,52.940490154166525,58.49788459946122,64.85527904475595,72.01267349005064,79.97006793534537,88.72746238064008,98.28485682593475,108.64225127122947,119.7996457165242,131.7570401618189,144.51443460711363,158.0718290524083,172.42922349770302,187.58661794299775,203.54401238829246,220.30140683358718,237.85880127888183,256.21619572417654,275.3735901694713,295.33098461476595,316.08837906006073,337.64577350535535,360.0031679506502,383.16056239594485,407.11795684123945,431.8753512865343,457.4327457318289,483.7901401771238,510.9475346224184,538.9049290677133,567.662323513008,597.2197179583025],[96.495875622488,87.26937945654483,78.84288329060166,71.21638712465855,64.3898909587154,58.36339479277224,53.13689862682909,48.71040246088593,45.08390629494279,42.25741012899964,40.23091396305649,39.00441779711334,38.57792163117019,38.95142546522703,40.12492929928389,42.098433133340734,44.87193696739759,48.445440801454446,52.81894463551128,57.99244846956814,63.96595230362499,70.73945613768184,78.3129599717387,86.68646380579554,95.85996763985241,105.83347147390924,116.6069753079661,128.18047914202296,140.55398297607982,153.72748681013667,167.70099064419347,182.47449447825034,198.0479983123072,214.42150214636408,231.59500598042092,249.56850981447772,268.3420136485346,287.91551748259144,308.2890213166483,329.4625251507052,351.43602898476195,374.2095328188189,397.7830366528757,422.15654048693244,447.3300443209895,473.3035481550462,500.0770519891032,527.65055582316,556.0240596572171,585.1975634912737,615.1710673253306],[93.93002451664177,85.11963773946076,77.10925096227973,69.89886418509874,63.488477407917735,57.87809063073671,53.067703853555706,49.057317076374694,45.84693029919369,43.43654352201267,41.82615674483166,41.01576996765065,41.00538319046964,41.794996413288615,43.38460963610761,45.77422285892659,48.96383608174558,52.95344930456458,57.74306252738356,63.332675750202554,69.72228897302153,76.91190219584053,84.90151541865953,93.69112864147853,103.28074186429753,113.67035508711646,124.85996830993548,136.84958153275448,149.6391947555735,163.22880797839247,177.61842120121142,192.80803442403044,208.79764764684944,225.58726086966846,243.17687409248742,261.56648731530635,280.75610053812534,300.74571376094434,321.53532698376335,343.1249402065823,365.5145534294013,388.70416665222035,412.69377987503924,437.4833930978582,463.0730063206773,489.4626195434962,516.6522327663154,544.6418459891343,573.4314592119533,603.0210724347723,633.4106856575911],[91.6524423760284,83.25816498760952,75.66388759919064,68.8696102107718,62.87533282235292,57.68105543393404,53.28677804551516,49.69250065709629,46.89822326867743,44.90394588025855,43.70966849183968,43.315391103420794,43.72111371500192,44.92683632658305,46.93255893816418,49.7382815497453,53.344004161326424,57.749726772907565,62.95544938448869,68.96117199606982,75.76689460765093,83.37261721923207,91.7783398308132,100.98406244239433,110.98978505397545,121.79550766555656,133.4012302771377,145.80695288871883,159.01267550029996,173.0183981118811,187.8241207234622,203.42984333504333,219.83556594662446,237.04128855820562,255.04701116978674,273.85273378136776,293.45845639294896,313.8641790045301,335.0699016161112,357.0756242276924,379.8813468392734,403.4870694508546,427.8927920624357,453.09851467401677,479.104237285598,505.9099598971791,533.5156825087604,561.9214051203414,591.1271277319227,621.1328503435037,651.9385729550847]],\"type\":\"surface\",\"contours\":{\"z\":{\"project\":{\"z\":true},\"highlightcolor\":\"limegreen\",\"show\":true,\"usecolormap\":true}}}],                        {\"template\":{\"data\":{\"histogram2dcontour\":[{\"type\":\"histogram2dcontour\",\"colorbar\":{\"outlinewidth\":0,\"ticks\":\"\"},\"colorscale\":[[0.0,\"#0d0887\"],[0.1111111111111111,\"#46039f\"],[0.2222222222222222,\"#7201a8\"],[0.3333333333333333,\"#9c179e\"],[0.4444444444444444,\"#bd3786\"],[0.5555555555555556,\"#d8576b\"],[0.6666666666666666,\"#ed7953\"],[0.7777777777777778,\"#fb9f3a\"],[0.8888888888888888,\"#fdca26\"],[1.0,\"#f0f921\"]]}],\"choropleth\":[{\"type\":\"choropleth\",\"colorbar\":{\"outlinewidth\":0,\"ticks\":\"\"}}],\"histogram2d\":[{\"type\":\"histogram2d\",\"colorbar\":{\"outlinewidth\":0,\"ticks\":\"\"},\"colorscale\":[[0.0,\"#0d0887\"],[0.1111111111111111,\"#46039f\"],[0.2222222222222222,\"#7201a8\"],[0.3333333333333333,\"#9c179e\"],[0.4444444444444444,\"#bd3786\"],[0.5555555555555556,\"#d8576b\"],[0.6666666666666666,\"#ed7953\"],[0.7777777777777778,\"#fb9f3a\"],[0.8888888888888888,\"#fdca26\"],[1.0,\"#f0f921\"]]}],\"heatmap\":[{\"type\":\"heatmap\",\"colorbar\":{\"outlinewidth\":0,\"ticks\":\"\"},\"colorscale\":[[0.0,\"#0d0887\"],[0.1111111111111111,\"#46039f\"],[0.2222222222222222,\"#7201a8\"],[0.3333333333333333,\"#9c179e\"],[0.4444444444444444,\"#bd3786\"],[0.5555555555555556,\"#d8576b\"],[0.6666666666666666,\"#ed7953\"],[0.7777777777777778,\"#fb9f3a\"],[0.8888888888888888,\"#fdca26\"],[1.0,\"#f0f921\"]]}],\"heatmapgl\":[{\"type\":\"heatmapgl\",\"colorbar\":{\"outlinewidth\":0,\"ticks\":\"\"},\"colorscale\":[[0.0,\"#0d0887\"],[0.1111111111111111,\"#46039f\"],[0.2222222222222222,\"#7201a8\"],[0.3333333333333333,\"#9c179e\"],[0.4444444444444444,\"#bd3786\"],[0.5555555555555556,\"#d8576b\"],[0.6666666666666666,\"#ed7953\"],[0.7777777777777778,\"#fb9f3a\"],[0.8888888888888888,\"#fdca26\"],[1.0,\"#f0f921\"]]}],\"contourcarpet\":[{\"type\":\"contourcarpet\",\"colorbar\":{\"outlinewidth\":0,\"ticks\":\"\"}}],\"contour\":[{\"type\":\"contour\",\"colorbar\":{\"outlinewidth\":0,\"ticks\":\"\"},\"colorscale\":[[0.0,\"#0d0887\"],[0.1111111111111111,\"#46039f\"],[0.2222222222222222,\"#7201a8\"],[0.3333333333333333,\"#9c179e\"],[0.4444444444444444,\"#bd3786\"],[0.5555555555555556,\"#d8576b\"],[0.6666666666666666,\"#ed7953\"],[0.7777777777777778,\"#fb9f3a\"],[0.8888888888888888,\"#fdca26\"],[1.0,\"#f0f921\"]]}],\"surface\":[{\"type\":\"surface\",\"colorbar\":{\"outlinewidth\":0,\"ticks\":\"\"},\"colorscale\":[[0.0,\"#0d0887\"],[0.1111111111111111,\"#46039f\"],[0.2222222222222222,\"#7201a8\"],[0.3333333333333333,\"#9c179e\"],[0.4444444444444444,\"#bd3786\"],[0.5555555555555556,\"#d8576b\"],[0.6666666666666666,\"#ed7953\"],[0.7777777777777778,\"#fb9f3a\"],[0.8888888888888888,\"#fdca26\"],[1.0,\"#f0f921\"]]}],\"mesh3d\":[{\"type\":\"mesh3d\",\"colorbar\":{\"outlinewidth\":0,\"ticks\":\"\"}}],\"scatter\":[{\"fillpattern\":{\"fillmode\":\"overlay\",\"size\":10,\"solidity\":0.2},\"type\":\"scatter\"}],\"parcoords\":[{\"type\":\"parcoords\",\"line\":{\"colorbar\":{\"outlinewidth\":0,\"ticks\":\"\"}}}],\"scatterpolargl\":[{\"type\":\"scatterpolargl\",\"marker\":{\"colorbar\":{\"outlinewidth\":0,\"ticks\":\"\"}}}],\"bar\":[{\"error_x\":{\"color\":\"#2a3f5f\"},\"error_y\":{\"color\":\"#2a3f5f\"},\"marker\":{\"line\":{\"color\":\"#E5ECF6\",\"width\":0.5},\"pattern\":{\"fillmode\":\"overlay\",\"size\":10,\"solidity\":0.2}},\"type\":\"bar\"}],\"scattergeo\":[{\"type\":\"scattergeo\",\"marker\":{\"colorbar\":{\"outlinewidth\":0,\"ticks\":\"\"}}}],\"scatterpolar\":[{\"type\":\"scatterpolar\",\"marker\":{\"colorbar\":{\"outlinewidth\":0,\"ticks\":\"\"}}}],\"histogram\":[{\"marker\":{\"pattern\":{\"fillmode\":\"overlay\",\"size\":10,\"solidity\":0.2}},\"type\":\"histogram\"}],\"scattergl\":[{\"type\":\"scattergl\",\"marker\":{\"colorbar\":{\"outlinewidth\":0,\"ticks\":\"\"}}}],\"scatter3d\":[{\"type\":\"scatter3d\",\"line\":{\"colorbar\":{\"outlinewidth\":0,\"ticks\":\"\"}},\"marker\":{\"colorbar\":{\"outlinewidth\":0,\"ticks\":\"\"}}}],\"scattermapbox\":[{\"type\":\"scattermapbox\",\"marker\":{\"colorbar\":{\"outlinewidth\":0,\"ticks\":\"\"}}}],\"scatterternary\":[{\"type\":\"scatterternary\",\"marker\":{\"colorbar\":{\"outlinewidth\":0,\"ticks\":\"\"}}}],\"scattercarpet\":[{\"type\":\"scattercarpet\",\"marker\":{\"colorbar\":{\"outlinewidth\":0,\"ticks\":\"\"}}}],\"carpet\":[{\"aaxis\":{\"endlinecolor\":\"#2a3f5f\",\"gridcolor\":\"white\",\"linecolor\":\"white\",\"minorgridcolor\":\"white\",\"startlinecolor\":\"#2a3f5f\"},\"baxis\":{\"endlinecolor\":\"#2a3f5f\",\"gridcolor\":\"white\",\"linecolor\":\"white\",\"minorgridcolor\":\"white\",\"startlinecolor\":\"#2a3f5f\"},\"type\":\"carpet\"}],\"table\":[{\"cells\":{\"fill\":{\"color\":\"#EBF0F8\"},\"line\":{\"color\":\"white\"}},\"header\":{\"fill\":{\"color\":\"#C8D4E3\"},\"line\":{\"color\":\"white\"}},\"type\":\"table\"}],\"barpolar\":[{\"marker\":{\"line\":{\"color\":\"#E5ECF6\",\"width\":0.5},\"pattern\":{\"fillmode\":\"overlay\",\"size\":10,\"solidity\":0.2}},\"type\":\"barpolar\"}],\"pie\":[{\"automargin\":true,\"type\":\"pie\"}]},\"layout\":{\"autotypenumbers\":\"strict\",\"colorway\":[\"#636efa\",\"#EF553B\",\"#00cc96\",\"#ab63fa\",\"#FFA15A\",\"#19d3f3\",\"#FF6692\",\"#B6E880\",\"#FF97FF\",\"#FECB52\"],\"font\":{\"color\":\"#2a3f5f\"},\"hovermode\":\"closest\",\"hoverlabel\":{\"align\":\"left\"},\"paper_bgcolor\":\"white\",\"plot_bgcolor\":\"#E5ECF6\",\"polar\":{\"bgcolor\":\"#E5ECF6\",\"angularaxis\":{\"gridcolor\":\"white\",\"linecolor\":\"white\",\"ticks\":\"\"},\"radialaxis\":{\"gridcolor\":\"white\",\"linecolor\":\"white\",\"ticks\":\"\"}},\"ternary\":{\"bgcolor\":\"#E5ECF6\",\"aaxis\":{\"gridcolor\":\"white\",\"linecolor\":\"white\",\"ticks\":\"\"},\"baxis\":{\"gridcolor\":\"white\",\"linecolor\":\"white\",\"ticks\":\"\"},\"caxis\":{\"gridcolor\":\"white\",\"linecolor\":\"white\",\"ticks\":\"\"}},\"coloraxis\":{\"colorbar\":{\"outlinewidth\":0,\"ticks\":\"\"}},\"colorscale\":{\"sequential\":[[0.0,\"#0d0887\"],[0.1111111111111111,\"#46039f\"],[0.2222222222222222,\"#7201a8\"],[0.3333333333333333,\"#9c179e\"],[0.4444444444444444,\"#bd3786\"],[0.5555555555555556,\"#d8576b\"],[0.6666666666666666,\"#ed7953\"],[0.7777777777777778,\"#fb9f3a\"],[0.8888888888888888,\"#fdca26\"],[1.0,\"#f0f921\"]],\"sequentialminus\":[[0.0,\"#0d0887\"],[0.1111111111111111,\"#46039f\"],[0.2222222222222222,\"#7201a8\"],[0.3333333333333333,\"#9c179e\"],[0.4444444444444444,\"#bd3786\"],[0.5555555555555556,\"#d8576b\"],[0.6666666666666666,\"#ed7953\"],[0.7777777777777778,\"#fb9f3a\"],[0.8888888888888888,\"#fdca26\"],[1.0,\"#f0f921\"]],\"diverging\":[[0,\"#8e0152\"],[0.1,\"#c51b7d\"],[0.2,\"#de77ae\"],[0.3,\"#f1b6da\"],[0.4,\"#fde0ef\"],[0.5,\"#f7f7f7\"],[0.6,\"#e6f5d0\"],[0.7,\"#b8e186\"],[0.8,\"#7fbc41\"],[0.9,\"#4d9221\"],[1,\"#276419\"]]},\"xaxis\":{\"gridcolor\":\"white\",\"linecolor\":\"white\",\"ticks\":\"\",\"title\":{\"standoff\":15},\"zerolinecolor\":\"white\",\"automargin\":true,\"zerolinewidth\":2},\"yaxis\":{\"gridcolor\":\"white\",\"linecolor\":\"white\",\"ticks\":\"\",\"title\":{\"standoff\":15},\"zerolinecolor\":\"white\",\"automargin\":true,\"zerolinewidth\":2},\"scene\":{\"xaxis\":{\"backgroundcolor\":\"#E5ECF6\",\"gridcolor\":\"white\",\"linecolor\":\"white\",\"showbackground\":true,\"ticks\":\"\",\"zerolinecolor\":\"white\",\"gridwidth\":2},\"yaxis\":{\"backgroundcolor\":\"#E5ECF6\",\"gridcolor\":\"white\",\"linecolor\":\"white\",\"showbackground\":true,\"ticks\":\"\",\"zerolinecolor\":\"white\",\"gridwidth\":2},\"zaxis\":{\"backgroundcolor\":\"#E5ECF6\",\"gridcolor\":\"white\",\"linecolor\":\"white\",\"showbackground\":true,\"ticks\":\"\",\"zerolinecolor\":\"white\",\"gridwidth\":2}},\"shapedefaults\":{\"line\":{\"color\":\"#2a3f5f\"}},\"annotationdefaults\":{\"arrowcolor\":\"#2a3f5f\",\"arrowhead\":0,\"arrowwidth\":1},\"geo\":{\"bgcolor\":\"white\",\"landcolor\":\"#E5ECF6\",\"subunitcolor\":\"white\",\"showland\":true,\"showlakes\":true,\"lakecolor\":\"white\"},\"title\":{\"x\":0.05},\"mapbox\":{\"style\":\"light\"}}},\"title\":{\"text\":\"MSE loss landscape\"},\"scene\":{\"xaxis\":{\"title\":{\"text\":\"a\"}},\"yaxis\":{\"title\":{\"text\":\"b\"}},\"zaxis\":{\"title\":{\"text\":\"loss\"}}}},                        {\"responsive\": true}                    ).then(function(){\n",
              "                            \n",
              "var gd = document.getElementById('8fd152c0-b138-4722-be52-05354babdf5d');\n",
              "var x = new MutationObserver(function (mutations, observer) {{\n",
              "        var display = window.getComputedStyle(gd).display;\n",
              "        if (!display || display === 'none') {{\n",
              "            console.log([gd, 'removed!']);\n",
              "            Plotly.purge(gd);\n",
              "            observer.disconnect();\n",
              "        }}\n",
              "}});\n",
              "\n",
              "// Listen for the removal of the full notebook cells\n",
              "var notebookContainer = gd.closest('#notebook-container');\n",
              "if (notebookContainer) {{\n",
              "    x.observe(notebookContainer, {childList: true});\n",
              "}}\n",
              "\n",
              "// Listen for the clearing of the current output cell\n",
              "var outputEl = gd.closest('.output');\n",
              "if (outputEl) {{\n",
              "    x.observe(outputEl, {childList: true});\n",
              "}}\n",
              "\n",
              "                        })                };                            </script>        </div>\n",
              "</body>\n",
              "</html>"
            ]
          },
          "metadata": {}
        }
      ]
    },
    {
      "cell_type": "markdown",
      "metadata": {
        "id": "jZy5qkSz6_2S"
      },
      "source": [
        "Look at the [convexity](https://en.wikipedia.org/wiki/Convex_function) of the MSE loss. Can you do the linear regression by sight hovering the mouse over it?\n",
        "\n",
        ">**EXERCISE** Visualize the **loss landscape** of other loss choices, such as the $L_1$ norm of the residual vector ($\\|f_\\theta(\\mathbf{x}) - \\mathbf{x}\\|_1)$ (absolute error) or the $L_{50}$ norm. Are these still convex?  "
      ]
    },
    {
      "cell_type": "code",
      "metadata": {
        "id": "DhhE2MtUi3g_"
      },
      "source": [
        "# ✏️ your code here"
      ],
      "execution_count": null,
      "outputs": []
    },
    {
      "cell_type": "code",
      "metadata": {
        "cellView": "form",
        "id": "IrlLWxcm0tb9",
        "outputId": "c599d8a7-8856-430b-88fc-48103f39caa8",
        "colab": {
          "base_uri": "https://localhost:8080/",
          "height": 542
        }
      },
      "source": [
        "# @title 👀 Solution (see how we did the slider!) { run: \"auto\" }\n",
        "\n",
        "p = 27  #@param {type:\"slider\", min:1, max:50, step:1}\n",
        "\n",
        "predictions = a_range[:, None, None] * x[None, None, :]  + b_range[None, :, None]\n",
        "residuals = np.abs(t[None, None, :] - predictions) ** p\n",
        "losses = (residuals.sum(-1) ** (1/p)) / predictions.shape[-1]\n",
        "\n",
        "\n",
        "fig = go.Figure(data=[go.Surface(z=losses, x=a_range, y=b_range)])\n",
        "fig.update_traces(contours_z=dict(show=True, usecolormap=True,\n",
        "                                  highlightcolor=\"limegreen\", project_z=True))\n",
        "fig.update_layout(\n",
        "    title=f\"L{p} landscape\",\n",
        "    scene = dict(\n",
        "                xaxis_title='a',\n",
        "                yaxis_title='b',\n",
        "                zaxis_title='loss')\n",
        ")\n",
        "fig.show()"
      ],
      "execution_count": 20,
      "outputs": [
        {
          "output_type": "display_data",
          "data": {
            "text/html": [
              "<html>\n",
              "<head><meta charset=\"utf-8\" /></head>\n",
              "<body>\n",
              "    <div>            <script src=\"https://cdnjs.cloudflare.com/ajax/libs/mathjax/2.7.5/MathJax.js?config=TeX-AMS-MML_SVG\"></script><script type=\"text/javascript\">if (window.MathJax && window.MathJax.Hub && window.MathJax.Hub.Config) {window.MathJax.Hub.Config({SVG: {font: \"STIX-Web\"}});}</script>                <script type=\"text/javascript\">window.PlotlyConfig = {MathJaxConfig: 'local'};</script>\n",
              "        <script charset=\"utf-8\" src=\"https://cdn.plot.ly/plotly-2.35.2.min.js\"></script>                <div id=\"99c18c3c-08e0-417e-81ae-57d12700ed33\" class=\"plotly-graph-div\" style=\"height:525px; width:100%;\"></div>            <script type=\"text/javascript\">                                    window.PLOTLYENV=window.PLOTLYENV || {};                                    if (document.getElementById(\"99c18c3c-08e0-417e-81ae-57d12700ed33\")) {                    Plotly.newPlot(                        \"99c18c3c-08e0-417e-81ae-57d12700ed33\",                        [{\"x\":[-5.0,-4.8,-4.6,-4.4,-4.2,-4.0,-3.8,-3.5999999999999996,-3.4,-3.2,-3.0,-2.8,-2.5999999999999996,-2.4,-2.1999999999999997,-2.0,-1.7999999999999998,-1.5999999999999996,-1.4,-1.1999999999999997,-1.0,-0.7999999999999998,-0.5999999999999996,-0.39999999999999947,-0.1999999999999993,0.0,0.20000000000000018,0.40000000000000036,0.6000000000000005,0.8000000000000007,1.0,1.2000000000000002,1.4000000000000004,1.6000000000000005,1.8000000000000007,2.0,2.2,2.4000000000000004,2.6000000000000005,2.8000000000000007,3.0,3.200000000000001,3.4000000000000004,3.5999999999999996,3.8000000000000007,4.0,4.200000000000001,4.4,4.600000000000001,4.800000000000001,5.0],\"y\":[-5.0,-4.8,-4.6,-4.4,-4.2,-4.0,-3.8,-3.5999999999999996,-3.4,-3.2,-3.0,-2.8,-2.5999999999999996,-2.4,-2.1999999999999997,-2.0,-1.7999999999999998,-1.5999999999999996,-1.4,-1.1999999999999997,-1.0,-0.7999999999999998,-0.5999999999999996,-0.39999999999999947,-0.1999999999999993,0.0,0.20000000000000018,0.40000000000000036,0.6000000000000005,0.8000000000000007,1.0,1.2000000000000002,1.4000000000000004,1.6000000000000005,1.8000000000000007,2.0,2.2,2.4000000000000004,2.6000000000000005,2.8000000000000007,3.0,3.200000000000001,3.4000000000000004,3.5999999999999996,3.8000000000000007,4.0,4.200000000000001,4.4,4.600000000000001,4.800000000000001,5.0],\"z\":[[0.9524575790710982,0.9322584770948323,0.9120719673637605,0.8918976825840689,0.8717352448034269,0.8515842666486453,0.8314443525710992,0.8113151000707927,0.7911961008669751,0.7710869419810858,0.7509872066969187,0.7308964753637635,0.7108143260115284,0.6907403347531488,0.6706740759597085,0.6506151222083743,0.6305630440230884,0.6105174094533988,0.5904777835676658,0.5704437279723695,0.5504148005073335,0.5303905553039028,0.5103705434241613,0.49035431431667337,0.4703414183186396,0.45033141039493774,0.43032385522058086,0.4103183335763639,0.39031444983564767,0.3703118400817547,0.3503101801345819,0.33030919252679775,0.3103086513229377,0.2903083837082457,0.27030826762658294,0.2503082394311532,0.23031170380062424,0.21099450707009618,0.21290735778948391,0.23251903462180637,0.2525171426441746,0.2725172109211365,0.29251740774752577,0.31251784512871594,0.33251870770520575,0.35252025546640586,0.37252282897945455,0.39252684939623106,0.41253281382988494,0.4325412871771789,0.45255289162869594],[0.9334182593102878,0.9132156367244846,0.8930262915096835,0.8728498192164784,0.8526858024971913,0.8325338126074779,0.8123934109428896,0.7922641505774145,0.7721455777671198,0.7520372333790053,0.7319386542035187,0.7118493741095148,0.6917689250034662,0.6716968375613145,0.6516326417123919,0.6315758668712644,0.6115260419359736,0.5914826951004533,0.5714453535648178,0.5514135432686678,0.5313867888170601,0.5113646138118548,0.4913465418358073,0.47133209835330436,0.4513208137776833,0.4313122278966575,0.4113058957311762,0.3913013947202026,0.37129833287561714,0.3512963572560276,0.33129516180825674,0.3112944933927798,0.29129415474529774,0.2712940033480177,0.2512939461496283,0.23129406581827747,0.2113331603240344,0.1975899388975083,0.21369897770510224,0.23367885646455103,0.25367882289029386,0.273678929402974,0.2936791949241918,0.31367976610967835,0.33368086310199996,0.35368278852739354,0.37368593098690905,0.3936907631077232,0.413697835132369,0.4337077653729199,0.4537212288897024],[0.9143868535631642,0.8941796653534182,0.8739865490012994,0.8538070591111893,0.8336407344384839,0.8134870996960973,0.7933456674344147,0.7732159399576265,0.7530974112343141,0.7329895687560073,0.71289189529479,0.692803870510601,0.6727249723615268,0.6526546782771119,0.6325924660666179,0.61253781455238,0.5924902039438908,0.5724491160016674,0.5524140340811611,0.5323844431947048,0.5123598302805645,0.4923396849168856,0.472323500755766,0.45231077796625174,0.4323010269488508,0.4122937735004551,0.39228856545132007,0.3722849805565365,0.35228263511100555,0.3322811924035761,0.3122803698030333,0.29227994308629773,0.27227974671786154,0.25227966930939916,0.23227964803735043,0.21228120821752153,0.19280703576474661,0.19509622886557287,0.2148411845208734,0.2348404675573708,0.2548405177213904,0.2748406663375163,0.29484102214906593,0.3148417640511289,0.33484315291813915,0.35484553932417545,0.3748493651842719,0.394855160024442,0.4148635331976097,0.43487516353585776,0.4548907877970055],[0.8953663075677788,0.8751531616782167,0.8549550163351254,0.8347713817257058,0.8146017482808816,0.7944455888250591,0.7743023608532213,0.754171508894136,0.7340524669118913,0.7139446606924011,0.6938475101575996,0.6737604315486209,0.6536828394213492,0.6336141484044973,0.613553774683125,0.5935011371905572,0.5734556585201234,0.5534167656057629,0.5333838902670569,0.513356469768021,0.4933339475959886,0.4733157747199316,0.45330141162533166,0.4332903314293806,0.41328202433597055,0.3932760035730253,0.37327181274706506,0.35326903424570527,0.3332672979372502,0.31326628901650844,0.2932657535373732,0.2732655001153411,0.25326539665666803,0.23326536195149447,0.21326539484619222,0.193287355891428,0.17931697839854294,0.19601159644456081,0.21600214359320039,0.23600214799502864,0.25600222300054926,0.2760024284167166,0.29600290223043996,0.3160038609858654,0.33600561233972026,0.3560085612998988,0.3760132103266526,0.3960201544383977,0.4160300728408085,0.4360437185487248,0.4560619071835035],[0.876360880017851,0.8561399069389177,0.835935027519052,0.8157457050140596,0.7955713777368767,0.7754114615775929,0.7552653527255975,0.7351324305487174,0.71501206057572,0.6949035975211412,0.6748063882858193,0.6547197748638174,0.6346430970877557,0.6145756951513637,0.5945169118617463,0.5744660945959346,0.5544225969679646,0.5343857802545922,0.5143550146793163,0.4943296807131863,0.4743091706116953,0.45429289046077664,0.4342802630374926,0.4142707317831832,0.3942637661149894,0.37425886814135645,0.3542555805805039,0.3342534953093451,0.31425226153206964,0.2942515921466884,0.27425126666573285,0.25425112922839127,0.23425108102463063,0.21425106852820006,0.1942516632411783,0.1746374519508564,0.1773180078460041,0.197164021887314,0.21716380221181839,0.237163835099161,0.25716394279138166,0.27716422462075535,0.29716485196804066,0.3171660857844785,0.337168288456137,0.3571719291571003,0.3771775833928193,0.3971859280732477,0.4171977335411327,0.4372138537504697,0.45723521545191403],[0.8573768081906481,0.837145478279324,0.8169315352513662,0.796734394968952,0.7765534414753571,0.756388029884427,0.7362374895750443,0.7161011276424478,0.6959782325472372,0.6758680778929892,0.6557699262556629,0.635683032983562,0.6156066498870428,0.5955400287439931,0.5754824245620802,0.5554330985634338,0.5353913208929024,0.5153563730975492,0.49532755048120763,0.475304164499906,0.455285545424431,0.43527104554331775,0.4152600431958973,0.39525194788820095,0.37524620662890545,0.3552423114046306,0.33523980738283743,0.31523830100428046,0.2952374666738567,0.27523705041870106,0.2552368688720228,0.23523680251222934,0.2152367833973517,0.1952367891416737,0.17524770301327375,0.16105873635174756,0.1783292372858095,0.19832547082205504,0.21832547989653403,0.23832552973115068,0.2583256829688779,0.2783260672273711,0.29832689469427465,0.318328480560062,0.33833125536450287,0.35833577111256465,0.3783427019305857,0.39835284031449747,0.4183670899436624,0.4383864558354224,0.45841203243258244],[0.8384233464380941,0.8181782149481082,0.7979520035308021,0.7777440840585782,0.7575537875303263,0.7373804072722028,0.7172232025830626,0.6970814027756818,0.6769542115503789,0.6568408116243227,0.6367403695289799,0.6166520404813851,0.5965749732340482,0.5765083148153616,0.5564512150893136,0.5364028310918041,0.5163623311417214,0.49632889877744163,0.47630173663041386,0.45628007041031654,0.4362631532296792,0.416250270523292,0.3962407457974679,0.37623394735129057,0.3562292959229515,0.3362262729161454,0.316224428465613,0.296223388161272,0.2762228568830185,0.2562226180928095,0.2362225273328699,0.2162224998024874,0.19622249377183673,0.17622267425671712,0.15648801461452946,0.15957022663436832,0.1794871913769289,0.19948714165074008,0.21948716117560013,0.23948723540260403,0.2594874521468641,0.27948797521580193,0.2994890701430903,0.3194911257059941,0.3394946696213767,0.3595003779047991,0.3795090779220812,0.3995217454394736,0.4195394961741904,0.4395635725257496,0.4595953263234097],[0.8195144006347286,0.7992507557605153,0.7790078437628557,0.7587850026805132,0.738581517936499,0.7183966256846015,0.69822951678584,0.6780793413701913,0.6579452139195956,0.637826218790009,0.617721416074886,0.5976298477020439,0.577550543652926,0.5574825282004859,0.5374248260818383,0.5173764685563398,0.4973364993492231,0.47730398054302975,0.45727799854744655,0.4372576703407855,0.41724215021454664,0.39723063724092833,0.37722238359230076,0.3572167036441449,0.3372129834751682,0.31721068995702,0.29720937816775994,0.27720869549861216,0.25720838074541097,0.23720825690743214,0.21720821753111896,0.19720820820629517,0.17720820828569595,0.15721279057159124,0.1428203610938353,0.16065000575568675,0.18064881107720482,0.20064881683460217,0.22064884774369276,0.24064895806886497,0.26064926681455475,0.2806499910140534,0.3006514793616452,0.3206542418954924,0.3406589725911696,0.3606665626518592,0.38067810338184627,0.4006948786731749,0.42071834811819436,0.44075012244438155,0.46079193331939716],[0.8006711154894877,0.7803825040801433,0.7601167468009733,0.7398731691059313,0.719651029050666,0.6994495204336053,0.6792677768018708,0.65910487629145,0.6389598472452381,0.6188316745273053,0.5987193064294056,0.578621662049316,0.5585376390136492,0.5384661214242781,0.5184059879311543,0.49835611987783024,0.47831540952956403,0.458282768473176,0.4382571363614547,0.41823749024186646,0.3982228547272734,0.3782123131928705,0.3582050199727177,0.3382002131474876,0.31819722696766706,0.29819550232295705,0.2781945931338151,0.2581941663952588,0.23819399417369125,0.2181939373472582,0.19819392313327328,0.17819392074397924,0.15819396033533134,0.13836086581031642,0.14184874389710161,0.1618104906187197,0.18181048368692512,0.20181049425802605,0.22181054409265072,0.24181071496646672,0.2618111828443297,0.2818122682872612,0.30181448692546164,0.32181859165580406,0.3418255999399252,0.36183680265666956,0.3818537542039513,0.4018782460755902,0.42191226763034334,0.4419579583079131,0.4620175554007462],[0.7819259724297741,0.7616035912586098,0.7413064895299628,0.7210340183758073,0.7007854439271105,0.6805599496088204,0.6603566395710491,0.6401745432577914,0.620012621080902,0.5998697711324087,0.5797448368356849,0.5596366154096877,0.5395438670056383,0.5194653243782069,0.49939970297958414,0.47934571141969434,0.45930206232057313,0.43926748370193547,0.41924073115091803,0.3992206011178254,0.3792059456868603,0.3591956890223783,0.33918884530654614,0.3191845373075135,0.2991820137736691,0.2791806628221085,0.25918001778288285,0.23917975218102003,0.21917966227941812,0.19917963897240867,0.17917963482256027,0.15917963453283876,0.13918114460415978,0.12460948647291939,0.14297242702548213,0.16297215467539344,0.18297215758813062,0.20297217853755525,0.22297227486856236,0.24297260099016443,0.2629734845315084,0.28297550850595343,0.30297958085419213,0.32298697701986734,0.3429993491067894,0.36301870262677083,0.38304734679477315,0.4030878265240448,0.4231428444061581,0.44321517990185183,0.46330761141501053],[0.7633292238459608,0.7429612146753724,0.7226211340019002,0.7023084204336041,0.682022408782544,0.6617623304991356,0.641527315494778,0.6213163954134322,0.6011285083722685,0.5809625051466064,0.5608171567287431,0.5406911631493607,0.5205831634212964,0.5004917464576307,0.48041546283948156,0.46035283737305843,0.44030238248612397,0.4202626126673656,0.40023206032748976,0.3802092936102987,0.36019293672141683,0.34018169314885266,0.32017437157740297,0.3001699132304131,0.28016741782061755,0.26016616355284017,0.24016561542252673,0.22016541654547103,0.20016536058449724,0.18016534958926353,0.16016534831662838,0.14016535362447485,0.12025760842620119,0.12414782991009324,0.14413382741862943,0.16413382773799973,0.18413384013145062,0.2041339187836441,0.22413424422688322,0.2441352445249918,0.26413772554285425,0.28414297137739297,0.3041527903508957,0.32416950094038893,0.34419586630591265,0.36423499300468803,0.384290210550546,0.4043649462358195,0.42446260611647313,0.44458646948415287,0.4647396010683004],[0.744958743824358,0.7245295663979938,0.7041309620338739,0.6837625451548064,0.6634238107761822,0.64311413178839,0.6228327577268766,0.6025788151788156,0.5823513099344598,0.5621491309406952,0.5419710560575297,0.5218157595611264,0.5016818212885144,0.4815677372916043,0.4614719318768786,0.4413927709689225,0.4213285768652691,0.4012776446521699,0.38123826081044715,0.3612087248053672,0.3411873746170166,0.32117261705198585,0.3011629630479699,0.2811570668043402,0.2611537653495624,0.24115211237791345,0.2211513978076943,0.20115114428343372,0.18115107587660964,0.16115106342407887,0.14115106217641418,0.12115140656619464,0.10643768761982539,0.1252955363871922,0.14529550035154432,0.16529552065314046,0.18529566053001115,0.2052962570367697,0.22529809522508457,0.24530259940878843,0.26531193590478963,0.28532900361343505,0.30535732738753085,0.32540088740698747,0.3454639196155858,0.3655507157673363,0.38566544273827963,0.40581199253577716,0.4259938679673635,0.44621410431962316,0.46647522437703526],[0.7269342796974789,0.7064246394325884,0.6859477385607587,0.665503470950821,0.6450916069671442,0.6247117866819404,0.6043635143158136,0.5840461541405666,0.5637589280505758,0.5435009149667496,0.5232710521818553,0.5030681386924992,0.4828908404998297,0.4627376978115634,0.4426071340609976,0.42249746669773236,0.4024069198252055,0.38233363898236106,0.3622757086943435,0.34223117381751345,0.3221980660838123,0.3021744374302647,0.28215840141080356,0.26214818290244385,0.2421421741564286,0.2221389919560552,0.20213752663857076,0.18213697018047922,0.1621368097690676,0.14213677914522355,0.12213677642615006,0.10217857977201464,0.1064607556262045,0.126457175757774,0.1464572424820493,0.166457679581003,0.18645940993050086,0.2064643375127055,0.2264755276937429,0.2464971420407549,0.2665341820260455,0.2865921355032643,0.30667660892091664,0.3267930003596949,0.34694624185084255,0.36714061984017593,0.3873796702200315,0.4076661374918399,0.4280019846713345,0.4483884401491965,0.46882606885957545],[0.7094356810472323,0.68882402641962,0.6682460129022351,0.6477018883578801,0.6271917950295213,0.6067157597167852,0.5862736844882653,0.5658653381578713,0.5454903487451126,0.525148197116304,0.5048382119659045,0.4845595662466639,0.46431127509980386,0.4440921952827043,0.423901026057814,0.4037363115148092,0.38359644437447343,0.3634796714933014,0.3433841015705847,0.32330771595502844,0.30324838392993114,0.28320388437542265,0.2631719362155925,0.24315024055072637,0.22313653785705126,0.20312868381009155,0.18312474564208606,0.16312311355419987,0.14312260335891155,0.123122500307137,0.10312253312615496,0.08832270273889416,0.1076188725603858,0.12761921919040803,0.1476211955011898,0.16762798805736048,0.18764498145507824,0.20767933695671706,0.2277391532823288,0.247832572717383,0.2679670554559549,0.28814890223684125,0.3083830169411952,0.32867286035514237,0.3490205358613174,0.369426952994913,0.3898920263560703,0.4104148800498305,0.43099403899764066,0.4516275971329242,0.472313358586406],[0.6927199614095904,0.6719871505420494,0.6512866600957815,0.6306190493871359,0.6099848140699974,0.5893843777487727,0.5688180835540391,0.5482861857706398,0.5277888415884127,0.5073261030128531,0.48689790892672996,0.4665040772362973,0.44614429697275215,0.4258181201599977,0.405524953215472,0.38526404763358035,0.36503448971703295,0.34483518916080713,0.32466486632269786,0.30452203797590116,0.28440500118767265,0.2643118147877407,0.24424027814616306,0.2241879089081135,0.20415192722210485,0.1841292665433024,0.16411665012235258,0.14411078701725688,0.1241087201630486,0.1041082536301174,0.08412180348515583,0.08878137470128358,0.10878406262438589,0.12879733974973095,0.1488328936220607,0.16890537129966943,0.18902880793670762,0.20921444225201763,0.22946978198279214,0.24979865603646095,0.27020182311689284,0.29067777395102357,0.31122350047813563,0.33183512660918,0.3525083749452794,0.37323888514557507,0.39402241491528167,0.4148549556990937,0.4357327902131211,0.4566525124479612,0.4776110248009341],[0.6771219200281922,0.6562602256687586,0.6354268091475954,0.6146223079945787,0.5938473389903015,0.5731024962353338,0.5523883497194693,0.5317054444423917,0.511054300085086,0.4904354111562877,0.4698492474395426,0.44929625444707605,0.4287768534550994,0.4082914405662593,0.38784038413817734,0.3674240198491822,0.34704264263913515,0.32669649470469303,0.30638574847480066,0.28611048270226974,0.2658706479430155,0.2456660141443066,0.2254960876110672,0.20535997850084184,0.18525619764414641,0.16518237262986118,0.145134914584196,0.12510876325487144,0.10509750733932759,0.08509433599807478,0.07030385528274007,0.09001394753342878,0.11014829281794618,0.13038351633726203,0.15072952441052356,0.17118493998548429,0.1917415051022859,0.21238794353786344,0.2331125105780869,0.25390435215848206,0.27475405735495717,0.2956537540140836,0.31659698526512947,0.33757850463047745,0.3585940601031096,0.3796401982911545,0.4007140990595338,0.4218134412617151,0.44293629610638197,0.46408104352013346,0.4852463069731221],[0.66301157562556,0.6420355964233917,0.6210821092180903,0.6001515138430349,0.5792441970924159,0.5583605353728374,0.5375008988299494,0.5166656571604344,0.49585518728102895,0.4750698829600344,0.454310166420286,0.43357650179851454,0.41286941020718027,0.3921894860199906,0.37153741394312734,0.350913986519853,0.3303201220491848,0.3097568835818309,0.28922550073046976,0.26872739736881746,0.24826422944183352,0.2278379371329597,0.20745081301064422,0.18710558014646883,0.16680545675055564,0.14655414283515858,0.12635556073153778,0.10621293521353573,0.08612638988721358,0.06609514360663797,0.07375022668699935,0.09445843980926953,0.11524976720644449,0.1361111737897684,0.1570304020901201,0.17799697189875868,0.19900242543962082,0.22004017441468485,0.24110519293726154,0.26219368930626563,0.2833028151370362,0.3044304294885777,0.32557491662180893,0.3467350489542135,0.36790988543104997,0.3890986965519129,0.41030090902332617,0.4315160647230697,0.4527437900932897,0.4739837731763846,0.4952357463077468],[0.650690338012866,0.629640827511097,0.6086088440729467,0.5875944687109953,0.5665977543232784,0.5456187287337446,0.5246573994703724,0.503713760533245,0.4827878013586423,0.4618795180980686,0.44098892719084776,0.42011608100373204,0.3992610850329301,0.3784241158140078,0.3576054382804331,0.33680542089360505,0.3160245465064341,0.2952634167096063,0.27452274741618016,0.25380335362495987,0.23310612134398606,0.2124319637098738,0.1917817547650088,0.1711562254297781,0.1505557881945598,0.12998022925886546,0.10942819778467854,0.08889658376038653,0.06838073764666666,0.06702021132696497,0.08727058640149506,0.1076643658804198,0.1281936258705375,0.14884120464677475,0.16958757203054797,0.1904147965515789,0.2113079484004105,0.23225515997388144,0.2532471837929925,0.2742768558808926,0.2953386180738165,0.31642813674751913,0.3375420120311571,0.3586775596862165,0.37983264771697484,0.40100557314003915,0.4221949680455114,0.4433997271543979,0.46461895136068676,0.4858519033568519,0.5070979725486022],[0.6402624319671915,0.6191938895023021,0.5981407797383645,0.5771030994432389,0.5560808298724809,0.5350739445528028,0.5140824199658656,0.4931062496830044,0.4721454625450831,0.45120014551427323,0.4302704718441361,0.4093567352233964,0.38845939055971296,0.36757910211465683,0.34671679984766024,0.32587374520305373,0.30505160840534074,0.2842525609820904,0.26347939026938966,0.24273564781775286,0.22202585163233612,0.2013557728281623,0.18073284616216073,0.16016673237901488,0.13966996722531483,0.11925828771189795,0.09894926676175272,0.07875601770094338,0.06213919714685906,0.08175933494964407,0.10202987151336085,0.12239987083779405,0.14286329307026208,0.16341339134829314,0.18404287983759454,0.20474426901483228,0.22551022375728288,0.24633382820263033,0.2672087418195412,0.2881292698037543,0.309090375462369,0.33008765653897565,0.3511173007718533,0.3721760308030458,0.3932610449968644,0.4143699583636307,0.43550074620801693,0.45665169204835276,0.4778213406118931,0.4990084561994753,0.5202119863678739],[0.631578414825341,0.610536414316081,0.5895100792168788,0.5684995067343769,0.5475048068453234,0.5265261148048964,0.5055636069633652,0.4846175203541617,0.4636881764840538,0.44277600967067154,0.4218816001086544,0.40100571156875564,0.38014933319908806,0.3593137242470602,0.33850045958658986,0.31771147264767036,0.2969490906560418,0.27621605503390967,0.25551551764401964,0.23485100205656165,0.21422632010383819,0.19364544196677186,0.17311234189166078,0.15263089840763985,0.13220504293978658,0.11183952886228507,0.09154175692662901,0.07132831376540995,0.07631048437393242,0.0965200796664778,0.11681857728631051,0.13719960541636397,0.157657329457687,0.1781864279338646,0.19878191727719313,0.21943903057749453,0.24015315676754168,0.2609198325660806,0.28173477040300593,0.302593902283074,0.32349342333557185,0.34442982520534177,0.365399915220506,0.38640082125686626,0.4074299844290635,0.4284851426245253,0.4495643079514308,0.47066574078906254,0.4917879225733711,0.5129295288796589,0.5340894038581527],[0.6243073600893086,0.6033144187256789,0.5823376804307234,0.5613772839203144,0.5404333850184668,0.5195061664068987,0.4985958490234105,0.4777027049960257,0.45682707181715615,0.4359693672014222,0.41513010371047054,0.3943099017442808,0.3735094988677745,0.35272975264750545,0.33197163321871176,0.31123620073569,0.2905245618201284,0.2698377984427561,0.24917686304324516,0.22854243645442876,0.2079347527996656,0.18735341214234733,0.1667972338059298,0.1462642602681389,0.1257521158359392,0.10525907500915783,0.08478646071723384,0.07107420837339185,0.0910499964795084,0.11129450527952052,0.13161584886757274,0.15200883128982975,0.1724695094725069,0.1929943724762592,0.213579867332191,0.2342222751545228,0.25491776052962634,0.2756624748532484,0.2964526582208309,0.317284720270962,0.33815529627478225,0.3590612807915108,0.37999984303652307,0.4009684282878239,0.42196474923070976,0.442986770520238,0.4640326891934869,0.48510091296014124,0.5061900378720436,0.5272988264312672,0.5484261868418198],[0.6180744903564525,0.5971325177391196,0.5762064223469019,0.5552962774439608,0.534402162639541,0.5135241692909132,0.49266240637044695,0.4718170065821078,0.45098813242687485,0.43017598182632033,0.4093807928277814,0.3886028468449989,0.3678424698469802,0.34710003090131497,0.3263759374939421,0.3056706270344138,0.28498455379704324,0.2643181700350106,0.24367189883458748,0.22304609413271761,0.20244098014387396,0.18185655920700378,0.16129247803502447,0.14074786171528778,0.12022120334230484,0.09971062756154372,0.07923252464195969,0.08560714815738997,0.10580651104534285,0.12607965740349916,0.1464209382490843,0.16682703033331986,0.18729573284850726,0.20782486206773537,0.22841175129218366,0.2490532055360674,0.26974566581130555,0.2904854207025519,0.31126878895035526,0.3320922497683424,0.35295252279749745,0.3738466084317212,0.39477180027813286,0.4157256795945046,0.43670609899497786,0.45771116045096844,0.47873919088265604,0.49978871741075326,0.5208584435093953,0.5419472267566429,0.5630540585290096],[0.6125635304690478,0.5916643162428303,0.5707799604858559,0.5499104799042155,0.5290558985724763,0.5082162533080344,0.4873915998846849,0.4665820202563495,0.4457876310746881,0.4250085939570746,0.404245128208686,0.38349752703118767,0.3627661786481525,0.3420515941926538,0.3213544445180309,0.30067560809430416,0.2800162315113557,0.25937780242311204,0.23876223175037872,0.21817193796626627,0.1976099234250211,0.17707983691027918,0.1565860410838394,0.13613377338133287,0.11572964178989317,0.09538295279014383,0.08065544819091466,0.10034483507811114,0.12057678897905193,0.14087542286993873,0.1612371799059326,0.1816603177669873,0.20214354144506036,0.22268511274173317,0.24328256470938275,0.26393278672634224,0.2846322574940071,0.3053772916466839,0.3261642397719751,0.34698962627680613,0.36785023093777935,0.38874312732727273,0.4096656916318911,0.43061559294636764,0.45159077312780205,0.47258942166044166,0.4936099489762366,0.5146509602741375,0.5357112309562404,0.5567896842166951,0.5778853709682379],[0.607550039135831,0.5866839564886188,0.5658317037591317,0.5449933446598183,0.5241689711349222,0.5033587124164904,0.48256274598983034,0.46178131105655396,0.44101472531961833,0.42026340622226216,0.3995278981510419,0.3788089075423313,0.3581073482560238,0.33742439988517725,0.3167615816522589,0.29612084387489823,0.27550467718811855,0.25491623614371073,0.23435946767665067,0.21383922528971336,0.19336133542896838,0.17293256134329377,0.15256037774270537,0.13225241990440212,0.11201539391559986,0.09186628219291697,0.0949062741026082,0.11509925644266125,0.13536124868151547,0.15568662135982597,0.17607338873004055,0.1965203474696261,0.21702608721749644,0.2375885344734713,0.2582049178055925,0.2788719455491468,0.29958604369132036,0.3203435724554462,0.34114099012570354,0.3619749605503656,0.3828424131671174,0.40374056788247026,0.42466693632830665,0.4456193086393192,0.46659573232934815,0.48759448766664537,0.5086140623066723,0.5296531267947834,0.5507105117952177,0.5717851874282952,0.5928762448142346],[0.6028901738507689,0.582050176687213,0.5612234888471586,0.5404103365256769,0.519611006347955,0.49882585860986384,0.4780553431917497,0.45730001891122907,0.4365605773230663,0.41583787225813545,0.395132956695922,0.3744471288316179,0.3537819893214572,0.33313951147035153,0.312522125217922,0.29193281359552403,0.2713752158928723,0.2508537235094709,0.23037353993324614,0.20994065209596569,0.1895616229678673,0.16924306462377672,0.14899060113863624,0.12880713408482863,0.1086904381397065,0.09139938827823163,0.1096427648109753,0.1298720152713306,0.15016700703461477,0.1705252934834666,0.19094505222490654,0.21142443273459705,0.23196114665452855,0.2525523748167159,0.2731948711056393,0.2938851415477372,0.31461962296618606,0.3353948266703377,0.35620743835567026,0.37705437818846727,0.3979328297439494,0.4188402469113228,0.43977434650532016,0.4607330924527959,0.48171467567209036,0.5027174923559072,0.5237401223341529,0.5447813084792593,0.5658399376483704,0.5869150233640281,0.6080056902610558],[0.5984959414536294,0.577678171981358,0.5568738699541442,0.5360834973783543,0.5153076079622051,0.4945468625818328,0.4738020474330935,0.4530740955387483,0.43236411244125533,0.4116734070630276,0.39100352880903944,0.3703563119253973,0.3497339277370173,0.3291389443586964,0.30857439127558733,0.28804382194015204,0.2675513598469702,0.24710170044772287,0.22670002048273002,0.20635171671261374,0.18606186183450052,0.1658342453061501,0.14566991018090916,0.1255653027139304,0.10551914853777675,0.10422326847795205,0.1244044646598385,0.14467394264533748,0.16501070640206444,0.18541180872297952,0.20587420101911916,0.22639467733820254,0.24696984771968444,0.267596187158175,0.28827012724307566,0.3089881533030536,0.32974688526357665,0.35054313459739095,0.3713739381288817,0.39223657304802895,0.4131285582629579,0.43404764667338086,0.45499181195852784,0.4759592324735073,0.4969482740095005,0.5179574725365261,0.5389855175954541,0.5600312367014827,0.5810935809257768,0.6021716117022814,0.6232644888375087],[0.5943131492773933,0.5735160644663465,0.5527331921249218,0.5319652478026365,0.5112130605109597,0.49047758761020727,0.4697599316858123,0.44906135979870543,0.4283833255302175,0.40772749421349824,0.38709577157755215,0.3664903355970198,0.3459136704190297,0.32536859946057334,0.30485831155385196,0.28438636850191534,0.2639566734692655,0.24357336618387113,0.2232405929358634,0.2029620803935613,0.18274043462195852,0.16257611944971345,0.1424661945851551,0.12240321228229585,0.10360722321936547,0.11895765828992191,0.1392062790658674,0.15952834035183855,0.17991919918354396,0.20037392429646556,0.2208877105323582,0.24145606409004455,0.26207482798739734,0.2827401654822374,0.3034485385271509,0.3241966887458164,0.34498162053844367,0.3658005850619986,0.3866510644465785,0.4075307561486361,0.42843755758854496,0.44936955127135325,0.4703249905529848,0.49130228615348115,0.5122999934632427,0.5333168006473309,0.5543515175272751,0.5754030652064994,0.5964704664006211,0.6175528364340435,0.6386493748668923],[0.5903063476713502,0.5695295709725517,0.548768123722575,0.5280229481748705,0.5072951091183989,0.4865858057713915,0.4658963845267817,0.4452283525675636,0.4245833922793663,0.40396337619287903,0.38337038181079314,0.36280670498361617,0.3422748692933198,0.321777626879103,0.30131794287060465,0.2808989505604048,0.26052385719179844,0.2401957708405651,0.2199174090881008,0.1996906457373771,0.17951586609671322,0.15939115918554397,0.1393115107071786,0.11927435442282723,0.11364160738049922,0.13376592165932674,0.15408105266792757,0.1744706000573135,0.1949271479429095,0.21544373034120795,0.23601432649908854,0.2566338754612102,0.2772981270819641,0.2980034688379412,0.31874677703303655,0.3395253026755035,0.3603365886370157,0.38117841122044605,0.40204873948288256,0.4229457069434949,0.4438675916766409,0.4648128019439136,0.4857798654012351,0.5067674205594065,0.5277742096298473,0.5487990722003201,0.5698409393978572,0.5908988283378322,0.6119718367508692,0.6330591377384154,0.6541599746440835],[0.5864499571214986,0.5656933731749462,0.5449533763032963,0.5242310832677861,0.5035277307817625,0.4828446829440661,0.4621834382377884,0.4415456357582297,0.4209330601539267,0.4003476444774704,0.37979146968964705,0.3592667588551966,0.33877586298990103,0.3183212339054009,0.2979053770573851,0.27753077415877386,0.2571997611595091,0.2369143426345394,0.216675920497785,0.19648491788070727,0.17634029736982448,0.15623902181753963,0.13617564009446198,0.11672640865388466,0.1283604017025767,0.14867666782148878,0.16907506627338909,0.18954329430296651,0.21007191605856695,0.23065321288107965,0.25128114587968164,0.27195104042744656,0.2926592371416721,0.31340279732164467,0.3341792813978471,0.3549865928871475,0.37582287333197495,0.3966864340797516,0.4175757134314342,0.438489250618015,0.4594256705573807,0.4803836752563827,0.5013620391096831,0.5223596063174905,0.5433752893066431,0.5644080674824397,0.5854569859292604,0.6065211538648978,0.6275997427706368,0.6486919841898822,0.6697971672284886],[0.5827235930489372,0.5619868043848752,0.5412678114259101,0.5205678455132793,0.4998882469448066,0.4792304674767345,0.4585960711950029,0.43798673315277165,0.4174042349687784,0.39685045631031324,0.3763273608257997,0.3558369746219109,0.3353813547703827,0.3149625445435407,0.2945825110665962,0.27424305978221175,0.25394571852034603,0.23369158218924654,0.21348110780933488,0.1933138507499688,0.1731881411710018,0.15310072400222813,0.13305104243109642,0.12343794155781498,0.14332997336866488,0.16374899158506645,0.18423897296651648,0.20478813230195514,0.22538730964116377,0.2460297295179675,0.26671048640830314,0.2874260195849011,0.308173682907866,0.32895142705655955,0.3497575794365357,0.37059069905679076,0.3914494851142882,0.41233272227621354,0.43323925008183073,0.45416794760351387,0.47511772734063856,0.4960875343662492,0.5170763481718494,0.5380831856226856,0.5591071040776728,0.5801472041454288,0.6012026318133714,0.622272579851315,0.6433562884892416,0.6644530454242877,0.6855621852400902],[0.5791098574814114,0.5583919493236132,0.5376928683243499,0.5170139049235702,0.4963564429482246,0.4757219575261846,0.45511201043661054,0.4345282421614708,0.4139723597490665,0.3934461194431652,0.3729513028903831,0.3524896856411116,0.33206299663432987,0.3116728674156636,0.29132076993697764,0.27100794175876003,0.250735296944507,0.23050331922607903,0.21031193022821948,0.19016031913978504,0.17004671312757214,0.14996811831494927,0.13024308328994352,0.13807681399519334,0.15851868651319623,0.17903969065579534,0.19961598296143918,0.22023781631814748,0.24089830861476091,0.26159274361390905,0.2823179209602229,0.30307164106778633,0.3238523307197589,0.344658786624957,0.36549000836234685,0.38634509504472847,0.40722318540823155,0.42812342635594475,0.44904495940018474,0.4699869178151445,0.49094842975174197,0.5119286242731496,0.5329266384304783,0.553941624269045,0.5749727551557778,0.5960192311347364,0.6170802832119311,0.638155176585015,0.6592432128966248,0.6803437316211485,0.701456110705959],[0.5755934226815209,0.5548929344286203,0.5342120581494068,0.5135520988873699,0.49291443842362215,0.472300529525792,0.451711887064985,0.431150075274571,0.410616690365314,0.39011333771424705,0.3696416029529944,0.34920301654386576,0.3287990118862008,0.3084308776273099,0.2880997055211979,0.26780633548612703,0.2475512986111484,0.22733475524717434,0.20715641685046537,0.1870154251740006,0.16691014394480247,0.1468419022170396,0.1341445171852719,0.15342386483086523,0.17398149065703197,0.19458747904481552,0.21523265096988392,0.23591096671680245,0.256618463369225,0.2773526077026943,0.2981117925730731,0.31889497206846207,0.3397014116174875,0.3605305255903334,0.38138177780338517,0.40225462526185024,0.42314849041687397,0.4440627514054092,0.46499674300790045,0.4859497634746771,0.5069210840924816,0.5279099595511818,0.5489156379696813,0.5699373699627834,0.590974416462799,0.6120260552132397,0.633091585970836,0.6541703345165473,0.6752616556065287,0.6963649350035562,0.7174795907269021],[0.572160710497958,0.5514757209566016,0.5308108582463164,0.5101674107733236,0.48954672870985194,0.46895021585152924,0.4483793181632799,0.4278355084024219,0.4073202662504425,0.38683505353393294,0.36638128441793383,0.34596029095410535,0.32557328507102345,0.3052213189234037,0.28490524619505,0.26462568683379495,0.24438299553690204,0.22417722804072548,0.20400808625177108,0.1838748020887086,0.16377596619780502,0.14393638769044664,0.14855737412626485,0.16911125467067448,0.18974238554674544,0.21040541263316448,0.23109605891611745,0.2518115896001062,0.2725503381244246,0.29331133077460614,0.31409400471327953,0.33489800950179893,0.35572307586611085,0.3765689349318884,0.39743527331438316,0.41832171245245864,0.43922780350419777,0.46015303160194243,0.4810968252093435,0.5020585677712959,0.5230376098847793,0.544033280936713,0.565044899636283,0.5860717831809537,0.6071132549892116,0.628168651047291,0.6492373249790198,0.6703186519765685,0.6914120317381757,0.7125168905553464,0.7336326826821005],[0.5687997979905407,0.5481280575812769,0.5274766971542132,0.5068469700755786,0.4862401801131028,0.465657672316896,0.44510082075042146,0.42457101262151486,0.4040696284801683,0.38359801838574853,0.363157474337911,0.3427491998312468,0.32237427809832025,0.3020336412923308,0.28172804313347954,0.26145803658799405,0.241223954514418,0.2210258827141703,0.2008635991113772,0.18073643154494856,0.16064764358643052,0.1461738836282721,0.1644846607508777,0.1851248733259337,0.20579239719048262,0.22648367637110275,0.24719725346744226,0.2679322338625335,0.288688109844298,0.3094646052285653,0.3302615545113963,0.35107881765809706,0.3719162255768658,0.3927735494384655,0.41365048719298586,0.43454666167938844,0.455461625981342,0.47639487285446613,0.49734584602209597,0.5183139518886166,0.5392985707723745,0.5602990671498345,0.5813147986662438,0.6023451238386446,0.6233894084815493,0.6444470309447643,0.6655173862820281,0.686599889479288,0.7076939778701238,0.7287991128580813,0.7499147810547845],[0.5655003759105177,0.5448394450182777,0.5241989125833454,0.5035799895102493,0.4829839304913753,0.4624120252891289,0.44186558727499026,0.4213459389221069,0.4008543940890313,0.3803922371748345,0.3599606995864416,0.33956093442516067,0.3191939907914926,0.2988607894110459,0.27856210094122996,0.2582985264743673,0.23807047501510242,0.21787812321471867,0.19772132696620878,0.1775995659069376,0.15772886277626502,0.1602449017808267,0.1807764033677362,0.20142716760176746,0.22210150039130755,0.242798574837076,0.26351778658826497,0.28425868242677244,0.30502091514662266,0.32580419323331056,0.34660823773451843,0.3674327506480214,0.38827739494355773,0.4091417844468947,0.4300254812250116,0.4509279981828935,0.47184880493912174,0.4927873354834736,0.5137429965329744,0.5347151758506661,0.555703250063097,0.5767065917131787,0.5977245754259304,0.6187565831586126,0.6398020085657401,0.660860260543475,0.6819307660348339,0.7030129721828798,0.7241063479179111,0.745210385059518,0.766324599007248],[0.5622536924520711,0.5416010646764844,0.5209686551737976,0.5003576334674933,0.47976921146539314,0.4592046363514636,0.43866518127454635,0.4181521336171229,0.3976667807355342,0.3772103932309711,0.35678420603094385,0.3363893977922055,0.31602706926798674,0.29569822108027344,0.2754037303615961,0.2551443232405367,0.23492053505797977,0.21473264129841696,0.19458053407793618,0.17447062416813236,0.15936718530264254,0.1767290795102,0.1973332969655361,0.21796953850301698,0.23863274500357967,0.25932188020506164,0.2800359961976754,0.3007742333641121,0.32153580901638246,0.3423199993595414,0.36312612049950427,0.38395351190663013,0.40480152384013185,0.42566950897025374,0.44655681773415673,0.46746279666400187,0.48838678887560577,0.5093281359863269,0.5302861808652459,0.5512602707626981,0.5722497604969563,0.5932540154839305,0.6142724144794164,0.6353043519648163,0.6563492401500961,0.6774065105960965,0.6984756154758789,0.7195560285046543,0.7406472455724769,0.7617487851150738,0.7828601882572889],[0.5590524657472613,0.5384056674863991,0.517778746824888,0.4971728388841374,0.47658912488222416,0.4560288275980674,0.435493205205676,0.4149835432636464,0.39450114466761027,0.3740473173963057,0.35362335987599425,0.3332305436903463,0.31287009305429114,0.29254315974219736,0.2722507906779043,0.2519938826712422,0.23177311423382907,0.21158883783185697,0.19144121623709945,0.1715954568659428,0.1731453485494028,0.19351774713054765,0.21409517823294116,0.23470732206703185,0.25535195057768645,0.2760271758953082,0.2967312585984826,0.3174626126706427,0.3382198011236958,0.3590015232155186,0.3798065970077023,0.4006339407421938,0.421482555386275,0.44235150958452163,0.4632399274411803,0.48414697905400017,0.5050718734612154,0.5260138535657857,0.5469721925987236,0.5679461917297944,0.5889351784996181,0.6099385058153086,0.6309555513136014,0.6519857169474317,0.6730284286934829,0.6940831363101948,0.7151493130995561,0.7362264556433146,0.7573140834965126,0.7784117388297512,0.7995189860173332],[0.5558907696272256,0.5352474347175182,0.5146235121937761,0.4940201132116959,0.47343840334746223,0.45287960132812144,0.432344976666627,0.41183584590055544,0.3913535670272189,0.37089953155308686,0.35047515328445106,0.33008185250642313,0.3097210334241113,0.2893940515356036,0.26910216581392954,0.24884646806249705,0.2286277785837111,0.20844651081988438,0.1883151360843032,0.17327708691894408,0.18997524372586624,0.2104705240429386,0.23101798491591166,0.25160610445427567,0.2722319488162212,0.29289277067247654,0.3135860365552998,0.3343094479317346,0.3550609427049114,0.3758386820763785,0.396641028869987,0.4174665223565566,0.43831385301899795,0.4591818392673835,0.480069407060164,0.5009755727019679,0.5218994286891705,0.5428401322733022,0.5637968963366814,0.5847689821717968,0.6057556937909716,0.6267563734438735,0.6477703980749039,0.66879717650366,0.6898361471565028,0.7108867762148575,0.7319485560764775,0.753021004050247,0.774103661224233,0.7951960914614903,0.816297880489544],[0.5527639034115407,0.5321218252464891,0.5114986009455957,0.49089532947311393,0.47031317637356984,0.44975337620978995,0.4292172343638658,0.40870612773780746,0.388221503625931,0.3677648756250225,0.34733781484021753,0.3269419337623559,0.30657885896680304,0.28625018718044987,0.26595741734853007,0.2457018493718758,0.22548443992305417,0.20530635774505684,0.1855311659317685,0.18689610352381383,0.20707378701637352,0.22754868904845327,0.2480728684375809,0.26864219741209744,0.28925310383196684,0.3099021933296494,0.3305863298464382,0.35130267495203393,0.37204869507895516,0.3928221476690384,0.41362105548284706,0.43444367579429227,0.4552884688516855,0.4761540681668385,0.49703925392078874,0.5179429299540604,0.5388641043214312,0.5598018731296148,0.5807554072593283,0.6017239415430147,0.6227067659874271,0.6437032186718832,0.664712680003447,0.6857345680612476,0.7067683348092022,0.7278134629977221,0.7488694636100267,0.7699358737377544,0.7910122547942972,0.8120981909934185,0.8331932880360574],[0.5496682563089733,0.5290254214002388,0.5084008139072881,0.48779553199004183,0.4672107554576588,0.44664775214296687,0.4261078840157132,0.40559261235648314,0.38510350087496553,0.3646422150047039,0.34421051467161784,0.3238102365511776,0.3034432601752398,0.2831114503070318,0.26281656606974063,0.2425601261370856,0.2223432742070291,0.20218948403092862,0.18757144149642704,0.20388615654182768,0.2242742903310027,0.2447327185801759,0.26524281746583245,0.28580058280253484,0.3064020495040887,0.32704343565612637,0.3477212474694285,0.3684323276440423,0.3891738647245297,0.40994337817672893,0.4307386901684212,0.4515578915766012,0.47239930699261246,0.49326146149967043,0.5141430506436907,0.5350429141544045,0.5559600134566791,0.5768934127275888,0.5978422631192093,0.6188057897220615,0.6397832808508588,0.6607740792679426,0.6817775750052705,0.702793199494118,0.723820420757858,0.7448587394648926,0.7659076856751141,0.7869668161440957,0.8080357120749511,0.8291139772290185,0.8502012363238798],[0.5466011746155847,0.5259557819012122,0.5053279415799513,0.48471876069238923,0.4641294449213448,0.4435613089667191,0.42301578697207365,0.40249444208762997,0.38199897364213226,0.36153121950163514,0.34109314993889883,0.3206868476666172,0.30031446661983396,0.2799781597963689,0.2596799644919138,0.2394216371971563,0.21920614313442957,0.19954206205728803,0.20114831386718107,0.22116553796478328,0.24156091323100246,0.26201365128235665,0.2825188254047283,0.3030722883386737,0.323669911319211,0.3443077685241468,0.3649822418172622,0.3856900666520383,0.40642833911288206,0.42719449937732457,0.4479863024626873,0.4688017835106157,0.4896392221578031,0.5104971086362553,0.531374112971932,0.5522690578385746,0.573180895133716,0.5941086860693259,0.6150515844333309,0.6360088226272764,0.6569797000843265,0.6779635736977605,0.6989598499288794,0.7199679783061823,0.7409874460699297,0.7620177737552144,0.7830585115412745,0.8041092362246957,0.8251695486995535,0.8462390718488175,0.8673174487690003],[0.5435608371595497,0.5229113070904341,0.5022786195928686,0.481663897645741,0.4610683808084384,0.4404934395406562,0.4199405898607053,0.39941150720115254,0.37890803754708036,0.3584322028219982,0.3379861959310464,0.31757235882457413,0.2971931344504326,0.2768509807809958,0.2565482333326744,0.23628705258922977,0.21610901126629972,0.20208874908677243,0.21821183143547382,0.23853083893549282,0.25893196092110277,0.2793885845865543,0.29989666642340146,0.32045204969270935,0.341050643202489,0.36168858398361414,0.382362324908302,0.4030686702957816,0.4238047778724813,0.4445681406047612,0.46535655781389823,0.48616810179514014,0.5070010838345047,0.5278540218955454,0.5487256111652423,0.5696146979544086,0.5905202570246006,0.6114413721715344,0.6323772197707888,0.6533270549411052,0.6742901999742439,0.6952660346988147,0.7162539884763879,0.7372535335639633,0.7582641796130206,0.779285469109458,0.8003169735895069,0.8213582904937503,0.8424090405446771,0.8634688655529995,0.8845374265746135],[0.5405461420801766,0.5198911189642084,0.4992522028448957,0.47863053649468884,0.458027397218042,0.43744421497679287,0.41688259116016146,0.3963443166769873,0.37583138713757713,0.35534601157504425,0.33489060932530224,0.31446778726822566,0.2940802866642917,0.2737308856245659,0.25342225558317916,0.2331603192152843,0.21364513946477293,0.21570971608627007,0.23561846060743377,0.25597485074418275,0.27638970788756173,0.296857572224481,0.3173745131789737,0.33793652324482876,0.35853971783307115,0.3791804589778301,0.399855418815647,0.4205616021865346,0.4412963430912205,0.462057285648072,0.482842356900969,0.5036497363360632,0.5244778251613613,0.5453252171466431,0.566190671976597,0.5870730915227649,0.6079714991004069,0.6288850215779099,0.6498128741008489,0.6707543471466912,0.691708795616476,0.7126756296813642,0.7336543071247876,0.7546443269487685,0.7756452240419855,0.7966565647351351,0.817677943094876,0.8387089778306377,0.8597493097086947,0.8807985993852216,0.9018565255848385],[0.5375566062252679,0.5168949566645262,0.49624865815625385,0.4756188736488777,0.45500691772422863,0.4344142783272259,0.4138426395109659,0.3932939037683178,0.3727702115088632,0.35227395376370974,0.33180777212611284,0.31137453714969926,0.2909772929151712,0.2706191531485226,0.25030349596838586,0.23009927400548863,0.21677491759522471,0.23282926767283926,0.25312133764674993,0.27350285196226987,0.2939375004253043,0.3144215712998303,0.33495132833916136,0.3555230573953014,0.37613321068749916,0.3967784902710697,0.4174558880950653,0.4381626968708737,0.4588965023671586,0.47965516474942566,0.5004367942339666,0.5212397245628047,0.5420624865281393,0.562903782876744,0.5837624653127038,0.6046375139131879,0.6255280190159563,0.6464331654833693,0.6673522191624941,0.6882845153207751,0.7092294488250988,0.7301864658376948,0.7511550568176081,0.7721347506365761,0.7931251096399092,0.8141257255045552,0.8351362157668291,0.8561562209107508,0.877185401924385,0.8982234382459293,0.9192700260337456],[0.5345922771764947,0.5139230867933757,0.49326847403959284,0.47262961893961375,0.4520078686182444,0.43140476237884817,0.4108220582690804,0.39026175969739996,0.3697261395923409,0.34921775800877974,0.3287394668058924,0.30829439186938645,0.28788587941144217,0.26751743004649947,0.24719939978388514,0.22787085649259153,0.23050926274467934,0.2503560160337089,0.27071075587644694,0.2911202399637983,0.3115781758456032,0.33208119129818825,0.35262588140717527,0.3732089362188197,0.39382723142793596,0.4144778784735278,0.4351582461475251,0.4558659630577015,0.47659890788256776,0.4973551924219848,0.5181331409440506,0.5389312681943993,0.5597482576006367,0.5805829406080734,0.6014342776670996,0.6223013411111686,0.6431832999805314,0.6640794067323059,0.6849889857109224,0.7059114232189124,0.7268461590152571,0.7477926790692122,0.7687505094062811,0.7897192108961392,0.8106983748474237,0.8316876192898517,0.8526865858391786,0.8736949370545204,0.8947123542102926,0.9157385354163228,0.9367731940296681],[0.5316536570689998,0.5109762271278584,0.49031258549384643,0.4696639228996907,0.4490316103104669,0.4284172270337946,0.4078225909113967,0.3872497892614031,0.36670120816008683,0.34617955600881845,0.32568787489861883,0.3052295298122005,0.2848081662425997,0.26442841624819124,0.24419819753798455,0.2316349694337676,0.2477010692209479,0.26799925641368944,0.28839168773746826,0.3088307697155566,0.3293132245896703,0.34983603581055994,0.37039623515843095,0.39099098448174485,0.41161762631546905,0.43227371033308354,0.4529570027406393,0.47366548406700765,0.4943973394531991,0.5151509444607668,0.5359248485656968,0.5567177578442413,0.5775285178577648,0.5983560973743465,0.6191995732983615,0.6400581169921489,0.660930982046606,0.6818174934744923,0.7027170382490092,0.7236290570814733,0.7445530373185498,0.7654885068363921,0.7864350288124384,0.8073921972629229,0.8283596332435493,0.8493369816210583,0.8703239083337904,0.8913200980693086,0.9123252522964357,0.933339087597507,0.9543613342542117],[0.5287416368536151,0.5080554818616964,0.4873823113654751,0.4667233175797806,0.44607988313744495,0.42545361183725855,0.40484636218684467,0.3842602826342078,0.3636978463456143,0.34316188175479223,0.3226555925939353,0.30218255806900013,0.2817468020305558,0.2613649862557305,0.24226458203558865,0.24554243172819734,0.26536107656980407,0.28574032242605363,0.3061678005569127,0.32663606042215754,0.34714246930031323,0.3676844612808086,0.3882595613257657,0.40886542688452165,0.4294998726800312,0.45016088276442445,0.4708466132994601,0.4915553888044929,0.5122856940278175,0.5330361631053051,0.5538055672590275,0.5745928019504923,0.5953968741315478,0.6162168900234473,0.6370520436926064,0.6579016065716644,0.678764917988367,0.6996413767051723,0.72053043343305,0.7414315842585136,0.7623443649093593,0.7832683457786729,0.8042031276259642,0.8251483378769979,0.8461036274486748,0.867068668031273,0.8880431497668058,0.9090267792687691,0.9300192779348689,0.9510203805102254,0.9720298338640052],[0.5258574393672116,0.5051622862829312,0.484479301688856,0.46380966777975363,0.44315476389516517,0.42251619941074187,0.40189585022930513,0.3812958980992617,0.3607188710519952,0.3401676817014906,0.3196456577494222,0.2991565698393728,0.2787062410772294,0.25845579229209076,0.2467053652176608,0.2628335754835267,0.28315776734410963,0.30357996884803223,0.324040163740183,0.3445355845789956,0.3650640885466208,0.38562360735405987,0.4062121679564682,0.4268279099950238,0.44746909630634607,0.4681341177405992,0.48882149345180625,0.5095298677276698,0.5302580043128512,0.5510047790468359,0.571769171495005,0.5925502561110451,0.6133471933395194,0.6341592209548077,0.6549856458389114,0.6758258363256717,0.6966792151811598,0.717545253246991,0.7384234637425711,0.7593133972012678,0.7802146370020642,0.8011267954504646,0.8220495103587986,0.8429824420753655,0.8639252709131595,0.8848776949314875,0.9058394280271551,0.9268101982956143,0.9477897466263473,0.9687778255005515,0.989774197962841],[0.523002569458782,0.502298358740014,0.48160549242823175,0.4609251296574916,0.4402586295787452,0.4196075857785314,0.3989738651375326,0.3783596507768803,0.3577674879567864,0.33720033042283815,0.3166615845865618,0.2961553751667214,0.2757072309211937,0.25688405240795087,0.2608338907055772,0.28064341354557204,0.30106031425981883,0.3215179487347066,0.34200741674781887,0.36252693069536535,0.38307484476444936,0.40364958324461603,0.4242496461964499,0.44487361513224705,0.46552015720187095,0.4861880274858402,0.506876069330242,0.5275832128850247,0.5483084721378081,0.5690509407893967,0.58980978731797,0.6105842495472287,0.6313736289855891,0.652177285149992,0.6729946300360231,0.6938251228496812,0.7146682650770277,0.735523595936392,0.7563906882333604,0.7772691446205493,0.7981585942511352,0.8190586898063051,0.8399691048712427,0.8608895316312379,0.8818196788582953,0.9027592701587359,0.9237080424533127,0.9446657446629446,0.965632136575149,0.9866069878683593,1.0075900772735071],[0.5201787694156972,0.49946565779690244,0.4787630651457456,0.45807211383179913,0.4373941250072974,0.4167306538029238,0.39608352975842265,0.3754549026048462,0.35484729293085493,0.3342636464936516,0.3137074251293399,0.29318570474882355,0.27293020065046425,0.26203467406202746,0.2782480680849607,0.2986047346216784,0.31906374987726493,0.33955166716077667,0.3600662299939972,0.3806062012831515,0.4011704080524071,0.42175772417474156,0.44236706927264874,0.4629974103587247,0.4836477643808325,0.5043172005909601,0.5250048421484093,0.545709866712144,0.5664315059997997,0.5871690444208031,0.6079218169550422,0.6286892064687403,0.6494706406525872,0.6702655887459652,0.6910735581834648,0.7118940912710399,0.732726761972108,0.7535711728601976,0.7744269522749575,0.7952937517024574,0.8161712433884185,0.8370591181838256,0.8579570836157823,0.8788648621719861,0.8997821897843525,0.9207088144957497,0.9416444952931716,0.9625890010907325,0.9835421098464012,1.0045036077972413,1.0254732887989744],[0.5173879780128028,0.4966663426001783,0.475954409285129,0.45525325029735714,0.4345641312369645,0.41388854616738924,0.39322825859533195,0.3725853489218648,0.35196226865091107,0.33136190696897494,0.3107881451496703,0.2902791081834235,0.2717914004812387,0.2764135988525201,0.2962178687245549,0.3166737718628775,0.3371636282570501,0.35767663968317126,0.37821184029062127,0.39876844619433094,0.419345699669562,0.439942859447806,0.4605591988472633,0.4811940073510952,0.5018465937595411,0.5225162897168243,0.5432024529007837,0.5639044695066511,0.5846217558861266,0.6053537593467414,0.6260999581984337,0.6468598611736688,0.6676330063591766,0.6884189597723206,0.7092173137008718,0.7300276849066175,0.7508497127740167,0.7716830574669037,0.792527398140048,0.8133824312385981,0.8342478689071149,0.8551234375208949,0.8760088763453018,0.8969039363236007,0.9178083789899911,0.9387219755019117,0.9596445057839755,0.9805757577749002,1.0015155267683302,1.0224636148383843,1.0434198303409694]],\"type\":\"surface\",\"contours\":{\"z\":{\"project\":{\"z\":true},\"highlightcolor\":\"limegreen\",\"show\":true,\"usecolormap\":true}}}],                        {\"template\":{\"data\":{\"histogram2dcontour\":[{\"type\":\"histogram2dcontour\",\"colorbar\":{\"outlinewidth\":0,\"ticks\":\"\"},\"colorscale\":[[0.0,\"#0d0887\"],[0.1111111111111111,\"#46039f\"],[0.2222222222222222,\"#7201a8\"],[0.3333333333333333,\"#9c179e\"],[0.4444444444444444,\"#bd3786\"],[0.5555555555555556,\"#d8576b\"],[0.6666666666666666,\"#ed7953\"],[0.7777777777777778,\"#fb9f3a\"],[0.8888888888888888,\"#fdca26\"],[1.0,\"#f0f921\"]]}],\"choropleth\":[{\"type\":\"choropleth\",\"colorbar\":{\"outlinewidth\":0,\"ticks\":\"\"}}],\"histogram2d\":[{\"type\":\"histogram2d\",\"colorbar\":{\"outlinewidth\":0,\"ticks\":\"\"},\"colorscale\":[[0.0,\"#0d0887\"],[0.1111111111111111,\"#46039f\"],[0.2222222222222222,\"#7201a8\"],[0.3333333333333333,\"#9c179e\"],[0.4444444444444444,\"#bd3786\"],[0.5555555555555556,\"#d8576b\"],[0.6666666666666666,\"#ed7953\"],[0.7777777777777778,\"#fb9f3a\"],[0.8888888888888888,\"#fdca26\"],[1.0,\"#f0f921\"]]}],\"heatmap\":[{\"type\":\"heatmap\",\"colorbar\":{\"outlinewidth\":0,\"ticks\":\"\"},\"colorscale\":[[0.0,\"#0d0887\"],[0.1111111111111111,\"#46039f\"],[0.2222222222222222,\"#7201a8\"],[0.3333333333333333,\"#9c179e\"],[0.4444444444444444,\"#bd3786\"],[0.5555555555555556,\"#d8576b\"],[0.6666666666666666,\"#ed7953\"],[0.7777777777777778,\"#fb9f3a\"],[0.8888888888888888,\"#fdca26\"],[1.0,\"#f0f921\"]]}],\"heatmapgl\":[{\"type\":\"heatmapgl\",\"colorbar\":{\"outlinewidth\":0,\"ticks\":\"\"},\"colorscale\":[[0.0,\"#0d0887\"],[0.1111111111111111,\"#46039f\"],[0.2222222222222222,\"#7201a8\"],[0.3333333333333333,\"#9c179e\"],[0.4444444444444444,\"#bd3786\"],[0.5555555555555556,\"#d8576b\"],[0.6666666666666666,\"#ed7953\"],[0.7777777777777778,\"#fb9f3a\"],[0.8888888888888888,\"#fdca26\"],[1.0,\"#f0f921\"]]}],\"contourcarpet\":[{\"type\":\"contourcarpet\",\"colorbar\":{\"outlinewidth\":0,\"ticks\":\"\"}}],\"contour\":[{\"type\":\"contour\",\"colorbar\":{\"outlinewidth\":0,\"ticks\":\"\"},\"colorscale\":[[0.0,\"#0d0887\"],[0.1111111111111111,\"#46039f\"],[0.2222222222222222,\"#7201a8\"],[0.3333333333333333,\"#9c179e\"],[0.4444444444444444,\"#bd3786\"],[0.5555555555555556,\"#d8576b\"],[0.6666666666666666,\"#ed7953\"],[0.7777777777777778,\"#fb9f3a\"],[0.8888888888888888,\"#fdca26\"],[1.0,\"#f0f921\"]]}],\"surface\":[{\"type\":\"surface\",\"colorbar\":{\"outlinewidth\":0,\"ticks\":\"\"},\"colorscale\":[[0.0,\"#0d0887\"],[0.1111111111111111,\"#46039f\"],[0.2222222222222222,\"#7201a8\"],[0.3333333333333333,\"#9c179e\"],[0.4444444444444444,\"#bd3786\"],[0.5555555555555556,\"#d8576b\"],[0.6666666666666666,\"#ed7953\"],[0.7777777777777778,\"#fb9f3a\"],[0.8888888888888888,\"#fdca26\"],[1.0,\"#f0f921\"]]}],\"mesh3d\":[{\"type\":\"mesh3d\",\"colorbar\":{\"outlinewidth\":0,\"ticks\":\"\"}}],\"scatter\":[{\"fillpattern\":{\"fillmode\":\"overlay\",\"size\":10,\"solidity\":0.2},\"type\":\"scatter\"}],\"parcoords\":[{\"type\":\"parcoords\",\"line\":{\"colorbar\":{\"outlinewidth\":0,\"ticks\":\"\"}}}],\"scatterpolargl\":[{\"type\":\"scatterpolargl\",\"marker\":{\"colorbar\":{\"outlinewidth\":0,\"ticks\":\"\"}}}],\"bar\":[{\"error_x\":{\"color\":\"#2a3f5f\"},\"error_y\":{\"color\":\"#2a3f5f\"},\"marker\":{\"line\":{\"color\":\"#E5ECF6\",\"width\":0.5},\"pattern\":{\"fillmode\":\"overlay\",\"size\":10,\"solidity\":0.2}},\"type\":\"bar\"}],\"scattergeo\":[{\"type\":\"scattergeo\",\"marker\":{\"colorbar\":{\"outlinewidth\":0,\"ticks\":\"\"}}}],\"scatterpolar\":[{\"type\":\"scatterpolar\",\"marker\":{\"colorbar\":{\"outlinewidth\":0,\"ticks\":\"\"}}}],\"histogram\":[{\"marker\":{\"pattern\":{\"fillmode\":\"overlay\",\"size\":10,\"solidity\":0.2}},\"type\":\"histogram\"}],\"scattergl\":[{\"type\":\"scattergl\",\"marker\":{\"colorbar\":{\"outlinewidth\":0,\"ticks\":\"\"}}}],\"scatter3d\":[{\"type\":\"scatter3d\",\"line\":{\"colorbar\":{\"outlinewidth\":0,\"ticks\":\"\"}},\"marker\":{\"colorbar\":{\"outlinewidth\":0,\"ticks\":\"\"}}}],\"scattermapbox\":[{\"type\":\"scattermapbox\",\"marker\":{\"colorbar\":{\"outlinewidth\":0,\"ticks\":\"\"}}}],\"scatterternary\":[{\"type\":\"scatterternary\",\"marker\":{\"colorbar\":{\"outlinewidth\":0,\"ticks\":\"\"}}}],\"scattercarpet\":[{\"type\":\"scattercarpet\",\"marker\":{\"colorbar\":{\"outlinewidth\":0,\"ticks\":\"\"}}}],\"carpet\":[{\"aaxis\":{\"endlinecolor\":\"#2a3f5f\",\"gridcolor\":\"white\",\"linecolor\":\"white\",\"minorgridcolor\":\"white\",\"startlinecolor\":\"#2a3f5f\"},\"baxis\":{\"endlinecolor\":\"#2a3f5f\",\"gridcolor\":\"white\",\"linecolor\":\"white\",\"minorgridcolor\":\"white\",\"startlinecolor\":\"#2a3f5f\"},\"type\":\"carpet\"}],\"table\":[{\"cells\":{\"fill\":{\"color\":\"#EBF0F8\"},\"line\":{\"color\":\"white\"}},\"header\":{\"fill\":{\"color\":\"#C8D4E3\"},\"line\":{\"color\":\"white\"}},\"type\":\"table\"}],\"barpolar\":[{\"marker\":{\"line\":{\"color\":\"#E5ECF6\",\"width\":0.5},\"pattern\":{\"fillmode\":\"overlay\",\"size\":10,\"solidity\":0.2}},\"type\":\"barpolar\"}],\"pie\":[{\"automargin\":true,\"type\":\"pie\"}]},\"layout\":{\"autotypenumbers\":\"strict\",\"colorway\":[\"#636efa\",\"#EF553B\",\"#00cc96\",\"#ab63fa\",\"#FFA15A\",\"#19d3f3\",\"#FF6692\",\"#B6E880\",\"#FF97FF\",\"#FECB52\"],\"font\":{\"color\":\"#2a3f5f\"},\"hovermode\":\"closest\",\"hoverlabel\":{\"align\":\"left\"},\"paper_bgcolor\":\"white\",\"plot_bgcolor\":\"#E5ECF6\",\"polar\":{\"bgcolor\":\"#E5ECF6\",\"angularaxis\":{\"gridcolor\":\"white\",\"linecolor\":\"white\",\"ticks\":\"\"},\"radialaxis\":{\"gridcolor\":\"white\",\"linecolor\":\"white\",\"ticks\":\"\"}},\"ternary\":{\"bgcolor\":\"#E5ECF6\",\"aaxis\":{\"gridcolor\":\"white\",\"linecolor\":\"white\",\"ticks\":\"\"},\"baxis\":{\"gridcolor\":\"white\",\"linecolor\":\"white\",\"ticks\":\"\"},\"caxis\":{\"gridcolor\":\"white\",\"linecolor\":\"white\",\"ticks\":\"\"}},\"coloraxis\":{\"colorbar\":{\"outlinewidth\":0,\"ticks\":\"\"}},\"colorscale\":{\"sequential\":[[0.0,\"#0d0887\"],[0.1111111111111111,\"#46039f\"],[0.2222222222222222,\"#7201a8\"],[0.3333333333333333,\"#9c179e\"],[0.4444444444444444,\"#bd3786\"],[0.5555555555555556,\"#d8576b\"],[0.6666666666666666,\"#ed7953\"],[0.7777777777777778,\"#fb9f3a\"],[0.8888888888888888,\"#fdca26\"],[1.0,\"#f0f921\"]],\"sequentialminus\":[[0.0,\"#0d0887\"],[0.1111111111111111,\"#46039f\"],[0.2222222222222222,\"#7201a8\"],[0.3333333333333333,\"#9c179e\"],[0.4444444444444444,\"#bd3786\"],[0.5555555555555556,\"#d8576b\"],[0.6666666666666666,\"#ed7953\"],[0.7777777777777778,\"#fb9f3a\"],[0.8888888888888888,\"#fdca26\"],[1.0,\"#f0f921\"]],\"diverging\":[[0,\"#8e0152\"],[0.1,\"#c51b7d\"],[0.2,\"#de77ae\"],[0.3,\"#f1b6da\"],[0.4,\"#fde0ef\"],[0.5,\"#f7f7f7\"],[0.6,\"#e6f5d0\"],[0.7,\"#b8e186\"],[0.8,\"#7fbc41\"],[0.9,\"#4d9221\"],[1,\"#276419\"]]},\"xaxis\":{\"gridcolor\":\"white\",\"linecolor\":\"white\",\"ticks\":\"\",\"title\":{\"standoff\":15},\"zerolinecolor\":\"white\",\"automargin\":true,\"zerolinewidth\":2},\"yaxis\":{\"gridcolor\":\"white\",\"linecolor\":\"white\",\"ticks\":\"\",\"title\":{\"standoff\":15},\"zerolinecolor\":\"white\",\"automargin\":true,\"zerolinewidth\":2},\"scene\":{\"xaxis\":{\"backgroundcolor\":\"#E5ECF6\",\"gridcolor\":\"white\",\"linecolor\":\"white\",\"showbackground\":true,\"ticks\":\"\",\"zerolinecolor\":\"white\",\"gridwidth\":2},\"yaxis\":{\"backgroundcolor\":\"#E5ECF6\",\"gridcolor\":\"white\",\"linecolor\":\"white\",\"showbackground\":true,\"ticks\":\"\",\"zerolinecolor\":\"white\",\"gridwidth\":2},\"zaxis\":{\"backgroundcolor\":\"#E5ECF6\",\"gridcolor\":\"white\",\"linecolor\":\"white\",\"showbackground\":true,\"ticks\":\"\",\"zerolinecolor\":\"white\",\"gridwidth\":2}},\"shapedefaults\":{\"line\":{\"color\":\"#2a3f5f\"}},\"annotationdefaults\":{\"arrowcolor\":\"#2a3f5f\",\"arrowhead\":0,\"arrowwidth\":1},\"geo\":{\"bgcolor\":\"white\",\"landcolor\":\"#E5ECF6\",\"subunitcolor\":\"white\",\"showland\":true,\"showlakes\":true,\"lakecolor\":\"white\"},\"title\":{\"x\":0.05},\"mapbox\":{\"style\":\"light\"}}},\"title\":{\"text\":\"L27 landscape\"},\"scene\":{\"xaxis\":{\"title\":{\"text\":\"a\"}},\"yaxis\":{\"title\":{\"text\":\"b\"}},\"zaxis\":{\"title\":{\"text\":\"loss\"}}}},                        {\"responsive\": true}                    ).then(function(){\n",
              "                            \n",
              "var gd = document.getElementById('99c18c3c-08e0-417e-81ae-57d12700ed33');\n",
              "var x = new MutationObserver(function (mutations, observer) {{\n",
              "        var display = window.getComputedStyle(gd).display;\n",
              "        if (!display || display === 'none') {{\n",
              "            console.log([gd, 'removed!']);\n",
              "            Plotly.purge(gd);\n",
              "            observer.disconnect();\n",
              "        }}\n",
              "}});\n",
              "\n",
              "// Listen for the removal of the full notebook cells\n",
              "var notebookContainer = gd.closest('#notebook-container');\n",
              "if (notebookContainer) {{\n",
              "    x.observe(notebookContainer, {childList: true});\n",
              "}}\n",
              "\n",
              "// Listen for the clearing of the current output cell\n",
              "var outputEl = gd.closest('.output');\n",
              "if (outputEl) {{\n",
              "    x.observe(outputEl, {childList: true});\n",
              "}}\n",
              "\n",
              "                        })                };                            </script>        </div>\n",
              "</body>\n",
              "</html>"
            ]
          },
          "metadata": {}
        }
      ]
    },
    {
      "cell_type": "markdown",
      "metadata": {
        "id": "FXq55ce581os"
      },
      "source": [
        "### \"Tear down this loss[!](https://youtu.be/IguMXrgfrg8)\"\n",
        "\n",
        "Now we will explicitily compute the parameters $\\theta$ for several polynomial fits, defined in matrix notation as:\n",
        "\n",
        "![polyfit matrix notation](https://drive.google.com/uc?export=view&id=1e4AsSC00ivIXW4c35VNLladTcCTY4dpL)\n",
        "\n",
        "As seen in the lecture, we can analytically find the parameters $\\theta$ that minimize the MSE loss by solving a linear system:\n",
        "\n",
        "$$\\theta = (\\mathbf{X}^\\top \\mathbf{X})^{-1}\\mathbf{X}^\\top\\mathbf{y}$$\n",
        "\n",
        "Let's do it for a 3-degree polynomial fit, this time using pytorch instead of numpy.\n",
        "\n",
        "\n",
        "\n"
      ]
    },
    {
      "cell_type": "code",
      "metadata": {
        "id": "g1Oq4K-CbWqa"
      },
      "source": [
        "# Poly3 fit\n",
        "y = torch.from_numpy(t)\n",
        "x_tens = torch.from_numpy(x)\n",
        "\n",
        "X = torch.ones((y.shape[0], 4), dtype=torch.float64)  # double precision is needed for this calculation, especially with high degree polyfits\n",
        "X[:,0] = x_tens ** 3\n",
        "X[:,1] = x_tens ** 2\n",
        "X[:,2] = x_tens"
      ],
      "execution_count": 34,
      "outputs": []
    },
    {
      "cell_type": "markdown",
      "metadata": {
        "id": "Tv9COWdXnovB"
      },
      "source": [
        ">**EXERCISE**: complete the code"
      ]
    },
    {
      "cell_type": "code",
      "metadata": {
        "id": "4v9Puu-9qosN"
      },
      "source": [
        "# ✏️ your code here (look at the formula above!) X è nk\n",
        "xtx = torch.einsum('kn,nm -> km', X.T, X)  #kk\n",
        "inv_xtx = torch.inverse(xtx)                #kk\n",
        "inv_xtx_xt = torch.einsum('kk,kn -> kn', inv_xtx, X.T) #kn\n",
        "theta = torch.einsum('kn,n -> k', inv_xtx_xt,y )\n",
        "\n",
        "# theta = torch.inverse(X.T @ X) @ X.T @ y alternativa più veloce e leggibile"
      ],
      "execution_count": 40,
      "outputs": []
    },
    {
      "cell_type": "code",
      "source": [
        "# @title 👀 Solution (without einsum)\n",
        "\n",
        "theta = torch.inverse(X.t() @ X) @ X.t() @ y"
      ],
      "metadata": {
        "id": "Ck8sPJ96gd9P"
      },
      "execution_count": null,
      "outputs": []
    },
    {
      "cell_type": "code",
      "metadata": {
        "id": "4di4c5yUqkdE"
      },
      "source": [
        "# @title 👀 Solution (with einsum)\n",
        "\n",
        "temp_inverse = torch.inverse(torch.einsum('ij,jk->ik', X.t(), X))  # or torch.einsum('ji,jk->ik', X, X)\n",
        "theta = torch.einsum('ij,jk,k->i', temp_inverse, X.t(), y)"
      ],
      "execution_count": null,
      "outputs": []
    },
    {
      "cell_type": "code",
      "source": [
        "# @title 👀 Solution (numerically stable)\n",
        "\n",
        "# The equation for theta requires us to solve a linear system.\n",
        "# Instead of explicitly computing a matrix inverse and then multiplying, a more\n",
        "# efficient and stable way is to use torch.linalg.solve(), which is designed to\n",
        "# handle this task more appropriately.\n",
        "\n",
        "theta = torch.linalg.solve(X.t() @ X, X.t() @ y)"
      ],
      "metadata": {
        "cellView": "form",
        "id": "x97OTApfhMo_"
      },
      "execution_count": null,
      "outputs": []
    },
    {
      "cell_type": "code",
      "metadata": {
        "id": "tOJse7C9bojf",
        "outputId": "084231b6-1da5-4c85-be41-c51b96183bc0",
        "colab": {
          "base_uri": "https://localhost:8080/",
          "height": 228
        }
      },
      "source": [
        "#@title 3-degree polynomial fit\n",
        "\n",
        "a, b, c, d = theta.numpy()\n",
        "fig = go.Figure()\n",
        "fig.add_trace(go.Scatter(x=x, y=t, name='dataset', mode='markers', marker=dict(color=\"mediumpurple\")))\n",
        "fig.add_trace(go.Scatter(x=x_funcs, y=np.sin(2*np.pi*x_funcs), name='ground truth', mode='lines', line=dict(color=\"lightgreen\")))\n",
        "fig.add_trace(go.Scatter(x=x_funcs, y=a*x_funcs**3 + b*x_funcs**2 + c*x_funcs + d, name='poly3 fit', mode='lines', line=dict(color=\"lightsalmon\")))\n",
        "fig.update_xaxes(title_text=\"x\", range = [0,1])\n",
        "fig.update_yaxes(title_text=\"t\", range = [-1.5,1.5])\n",
        "fig.show()"
      ],
      "execution_count": 41,
      "outputs": [
        {
          "output_type": "error",
          "ename": "NameError",
          "evalue": "name 'x_funcs' is not defined",
          "traceback": [
            "\u001b[0;31m---------------------------------------------------------------------------\u001b[0m",
            "\u001b[0;31mNameError\u001b[0m                                 Traceback (most recent call last)",
            "\u001b[0;32m<ipython-input-41-f5cb6db71a0c>\u001b[0m in \u001b[0;36m<cell line: 0>\u001b[0;34m()\u001b[0m\n\u001b[1;32m      4\u001b[0m \u001b[0mfig\u001b[0m \u001b[0;34m=\u001b[0m \u001b[0mgo\u001b[0m\u001b[0;34m.\u001b[0m\u001b[0mFigure\u001b[0m\u001b[0;34m(\u001b[0m\u001b[0;34m)\u001b[0m\u001b[0;34m\u001b[0m\u001b[0;34m\u001b[0m\u001b[0m\n\u001b[1;32m      5\u001b[0m \u001b[0mfig\u001b[0m\u001b[0;34m.\u001b[0m\u001b[0madd_trace\u001b[0m\u001b[0;34m(\u001b[0m\u001b[0mgo\u001b[0m\u001b[0;34m.\u001b[0m\u001b[0mScatter\u001b[0m\u001b[0;34m(\u001b[0m\u001b[0mx\u001b[0m\u001b[0;34m=\u001b[0m\u001b[0mx\u001b[0m\u001b[0;34m,\u001b[0m \u001b[0my\u001b[0m\u001b[0;34m=\u001b[0m\u001b[0mt\u001b[0m\u001b[0;34m,\u001b[0m \u001b[0mname\u001b[0m\u001b[0;34m=\u001b[0m\u001b[0;34m'dataset'\u001b[0m\u001b[0;34m,\u001b[0m \u001b[0mmode\u001b[0m\u001b[0;34m=\u001b[0m\u001b[0;34m'markers'\u001b[0m\u001b[0;34m,\u001b[0m \u001b[0mmarker\u001b[0m\u001b[0;34m=\u001b[0m\u001b[0mdict\u001b[0m\u001b[0;34m(\u001b[0m\u001b[0mcolor\u001b[0m\u001b[0;34m=\u001b[0m\u001b[0;34m\"mediumpurple\"\u001b[0m\u001b[0;34m)\u001b[0m\u001b[0;34m)\u001b[0m\u001b[0;34m)\u001b[0m\u001b[0;34m\u001b[0m\u001b[0;34m\u001b[0m\u001b[0m\n\u001b[0;32m----> 6\u001b[0;31m \u001b[0mfig\u001b[0m\u001b[0;34m.\u001b[0m\u001b[0madd_trace\u001b[0m\u001b[0;34m(\u001b[0m\u001b[0mgo\u001b[0m\u001b[0;34m.\u001b[0m\u001b[0mScatter\u001b[0m\u001b[0;34m(\u001b[0m\u001b[0mx\u001b[0m\u001b[0;34m=\u001b[0m\u001b[0mx_funcs\u001b[0m\u001b[0;34m,\u001b[0m \u001b[0my\u001b[0m\u001b[0;34m=\u001b[0m\u001b[0mnp\u001b[0m\u001b[0;34m.\u001b[0m\u001b[0msin\u001b[0m\u001b[0;34m(\u001b[0m\u001b[0;36m2\u001b[0m\u001b[0;34m*\u001b[0m\u001b[0mnp\u001b[0m\u001b[0;34m.\u001b[0m\u001b[0mpi\u001b[0m\u001b[0;34m*\u001b[0m\u001b[0mx_funcs\u001b[0m\u001b[0;34m)\u001b[0m\u001b[0;34m,\u001b[0m \u001b[0mname\u001b[0m\u001b[0;34m=\u001b[0m\u001b[0;34m'ground truth'\u001b[0m\u001b[0;34m,\u001b[0m \u001b[0mmode\u001b[0m\u001b[0;34m=\u001b[0m\u001b[0;34m'lines'\u001b[0m\u001b[0;34m,\u001b[0m \u001b[0mline\u001b[0m\u001b[0;34m=\u001b[0m\u001b[0mdict\u001b[0m\u001b[0;34m(\u001b[0m\u001b[0mcolor\u001b[0m\u001b[0;34m=\u001b[0m\u001b[0;34m\"lightgreen\"\u001b[0m\u001b[0;34m)\u001b[0m\u001b[0;34m)\u001b[0m\u001b[0;34m)\u001b[0m\u001b[0;34m\u001b[0m\u001b[0;34m\u001b[0m\u001b[0m\n\u001b[0m\u001b[1;32m      7\u001b[0m \u001b[0mfig\u001b[0m\u001b[0;34m.\u001b[0m\u001b[0madd_trace\u001b[0m\u001b[0;34m(\u001b[0m\u001b[0mgo\u001b[0m\u001b[0;34m.\u001b[0m\u001b[0mScatter\u001b[0m\u001b[0;34m(\u001b[0m\u001b[0mx\u001b[0m\u001b[0;34m=\u001b[0m\u001b[0mx_funcs\u001b[0m\u001b[0;34m,\u001b[0m \u001b[0my\u001b[0m\u001b[0;34m=\u001b[0m\u001b[0ma\u001b[0m\u001b[0;34m*\u001b[0m\u001b[0mx_funcs\u001b[0m\u001b[0;34m**\u001b[0m\u001b[0;36m3\u001b[0m \u001b[0;34m+\u001b[0m \u001b[0mb\u001b[0m\u001b[0;34m*\u001b[0m\u001b[0mx_funcs\u001b[0m\u001b[0;34m**\u001b[0m\u001b[0;36m2\u001b[0m \u001b[0;34m+\u001b[0m \u001b[0mc\u001b[0m\u001b[0;34m*\u001b[0m\u001b[0mx_funcs\u001b[0m \u001b[0;34m+\u001b[0m \u001b[0md\u001b[0m\u001b[0;34m,\u001b[0m \u001b[0mname\u001b[0m\u001b[0;34m=\u001b[0m\u001b[0;34m'poly3 fit'\u001b[0m\u001b[0;34m,\u001b[0m \u001b[0mmode\u001b[0m\u001b[0;34m=\u001b[0m\u001b[0;34m'lines'\u001b[0m\u001b[0;34m,\u001b[0m \u001b[0mline\u001b[0m\u001b[0;34m=\u001b[0m\u001b[0mdict\u001b[0m\u001b[0;34m(\u001b[0m\u001b[0mcolor\u001b[0m\u001b[0;34m=\u001b[0m\u001b[0;34m\"lightsalmon\"\u001b[0m\u001b[0;34m)\u001b[0m\u001b[0;34m)\u001b[0m\u001b[0;34m)\u001b[0m\u001b[0;34m\u001b[0m\u001b[0;34m\u001b[0m\u001b[0m\n\u001b[1;32m      8\u001b[0m \u001b[0mfig\u001b[0m\u001b[0;34m.\u001b[0m\u001b[0mupdate_xaxes\u001b[0m\u001b[0;34m(\u001b[0m\u001b[0mtitle_text\u001b[0m\u001b[0;34m=\u001b[0m\u001b[0;34m\"x\"\u001b[0m\u001b[0;34m,\u001b[0m \u001b[0mrange\u001b[0m \u001b[0;34m=\u001b[0m \u001b[0;34m[\u001b[0m\u001b[0;36m0\u001b[0m\u001b[0;34m,\u001b[0m\u001b[0;36m1\u001b[0m\u001b[0;34m]\u001b[0m\u001b[0;34m)\u001b[0m\u001b[0;34m\u001b[0m\u001b[0;34m\u001b[0m\u001b[0m\n",
            "\u001b[0;31mNameError\u001b[0m: name 'x_funcs' is not defined"
          ]
        }
      ]
    },
    {
      "cell_type": "markdown",
      "metadata": {
        "id": "xV6sseHGnDCZ"
      },
      "source": [
        "Let's now compare several polynomial fits with different degrees.\n",
        "\n",
        "Play a bit with the degrees while taking a look at the coefficients $\\theta$.\n",
        "\n",
        "Which one is the best in *your judgement*?\n",
        "Which one is the best according to the MSE loss?\n",
        "\n",
        "An evergreen reminder that here fits well:\n",
        "> **be skeptical!** Especially about the numbers that should tell us if the results we get are good or bad. Are these really evaluating what should be evaluated?"
      ]
    },
    {
      "cell_type": "code",
      "metadata": {
        "id": "uFyk0X9cfcis",
        "cellView": "form"
      },
      "source": [
        "# @title Polynomial fits (press play at least once to trigger the self-update) { run: \"auto\" }\n",
        "\n",
        "degree = {}\n",
        "deg_a = 2  #@param {type:\"slider\", min:0, max:15, step:1}\n",
        "deg_b = 4  #@param {type:\"slider\", min:0, max:15, step:1}\n",
        "deg_c = 7 #@param {type:\"slider\", min:0, max:15, step:1}\n",
        "\n",
        "degree[0], degree[1], degree[2] = deg_a, deg_b, deg_c\n",
        "\n",
        "max_degree = max(degree.values())\n",
        "y = torch.from_numpy(t)\n",
        "X_full = torch.ones((y.shape[0], max_degree + 1), dtype=torch.float64)  # double precision is needed for this calculation!\n",
        "for i in range(max_degree):\n",
        "    X_full[:,i] =  torch.from_numpy(x) ** (max_degree - i)\n",
        "\n",
        "theta_collection = {}\n",
        "\n",
        "for i in range(3):\n",
        "    X = X_full[:,-(degree[i] + 1):]\n",
        "    temp_inverse = torch.inverse(torch.einsum('ij,jk->ik', X.t(), X))\n",
        "    theta_collection[i] = torch.einsum('ij,jk,k->i', temp_inverse, X.t(), y)\n",
        "\n",
        "fig = make_subplots(\n",
        "    rows=1, cols=3,\n",
        "    subplot_titles=(f\"poly{degree[0]} fit\", f\"poly{degree[1]} fit\", f\"poly{degree[2]} fit\"))\n",
        "\n",
        "x_funcs = np.arange(0,1,1./100)\n",
        "y_funcs = {}\n",
        "for i in range(3):\n",
        "    theta_funcs = theta_collection[i].numpy()\n",
        "    X_funcs = np.ones((x_funcs.shape[0], degree[i] + 1), dtype=np.float64)\n",
        "    for j in range(degree[i]):\n",
        "        X_funcs[:,j] =  x_funcs ** (degree[i] - j)\n",
        "    y_funcs[i] = np.einsum('ij,j->i', X_funcs, theta_funcs)\n",
        "    coefficients_string = '<br><br><br>' + '<br>'.join([c + f': {np.round(theta_funcs[i], decimals=2)}' for i, c in enumerate('abcdefghijklmnopqrstuvwxyz'[:len(theta_funcs)])])\n",
        "\n",
        "    fig.add_trace(go.Scatter(x=x, y=t, mode='markers', marker=dict(color=\"mediumpurple\")), row=1, col=i + 1)\n",
        "    fig.add_trace(go.Scatter(x=x_funcs, y=np.sin(2*np.pi*x_funcs), mode='lines', line=dict(color=\"lightgreen\")), row=1, col=i + 1)\n",
        "    fig.add_trace(go.Scatter(x=x_funcs, y=y_funcs[i], mode='lines', line=dict(color=\"lightsalmon\")), row=1, col=i + 1)\n",
        "    fig.update_xaxes(title_text=\"x\" + coefficients_string, range = [0,1], row=1, col=i+1)\n",
        "\n",
        "fig.update_layout(showlegend=False)\n",
        "fig.update_yaxes(title_text=\"t\", range = [-5,5])\n",
        "fig.update_layout(height=700, width=1300, title_text=\"Polynomial fits and their coefficients\")\n",
        "fig.show()"
      ],
      "execution_count": null,
      "outputs": []
    },
    {
      "cell_type": "markdown",
      "metadata": {
        "id": "4KPPrymvhAmb"
      },
      "source": [
        "Nevertheless you should find *evidence* to support your judgement. Our intuition right now is that \"High-degree polynomial fits lead to a high generalization error for this dataset\", how can we test it?\n",
        "As you have learnt in the lecture, a useful study you can perform consists in evaluating the MSE loss on a *test set*, i.e., on samples not used for training.\n",
        "\n",
        "Such as the ones that are going to magically appear in the next cell."
      ]
    },
    {
      "cell_type": "code",
      "metadata": {
        "id": "QPi-ZFkUliUA"
      },
      "source": [
        "x_test = np.random.rand(10)\n",
        "t_test = np.sin(2 * np.pi * x_test) + 0.1 * np.random.randn(10)"
      ],
      "execution_count": null,
      "outputs": []
    },
    {
      "cell_type": "markdown",
      "metadata": {
        "id": "YJu_1xXUloK0"
      },
      "source": [
        "> **EXERCISE**: Do a nice plot entitled \"MSE loss **vs** degree of the polynomial fit\" that shows the trends of the training set and the test set."
      ]
    },
    {
      "cell_type": "code",
      "metadata": {
        "id": "HuQphUAXhh_w"
      },
      "source": [
        "# ✏️ your code here"
      ],
      "execution_count": null,
      "outputs": []
    },
    {
      "cell_type": "markdown",
      "source": [
        "**NOTE**\n",
        "\n",
        "Typically, when you are designing a learning model, you would get all the available data at the beginning. Then, you split this data into training, validation, and test sets.\n",
        "\n",
        "To recap:\n",
        "\n",
        "* **Training set**: the data we use to estimate our model's parameters.\n",
        "* **Validation set**: new data we use to evaluate our model, and possibly tune its hyperparameters.\n",
        "* **Test set**: new data we use to evaluate the final model."
      ],
      "metadata": {
        "id": "x2GV2rQ4mpNI"
      }
    },
    {
      "cell_type": "markdown",
      "source": [
        "### Data leakage\n",
        "\n",
        "> ⚠️ Using the test set to tune your model's design and hyperparameters is not just cheating: it is *conceptually wrong*.\n",
        ">\n",
        "> In the real world, you almost never have access to the test set. For example, ChatGPT has never seen the crazy prompts we give it, but it still works well. Our input forms ChatGPT's test set. We can conclude that ChatGPT generalizes well to unseen data."
      ],
      "metadata": {
        "id": "bVl2SP8J92tr"
      }
    },
    {
      "cell_type": "markdown",
      "metadata": {
        "id": "5z1iX6ltDTx8"
      },
      "source": [
        "###Regularization"
      ]
    },
    {
      "cell_type": "markdown",
      "metadata": {
        "id": "ENt79TByFzyD"
      },
      "source": [
        "Still, it is not always desirable to work with simple models with few parameters.\n",
        "\n",
        "Think about the true link between the input variable $x$ and the target variable $t$, it is through a $\\sin$ function.\n",
        "And a $\\sin$ function written in a polynomial basis (i.e. [its Taylor series](https://www.wolframalpha.com/input?i=taylor+series+sin+x)) contains terms of *every* odd degree, i.e. infinite terms. Our approximation of the ground truth function should benefit from high order terms, since they are *needed* to express a $\\sin$ function.\n",
        "\n",
        "We want to have many parameters, and we want them to do the right thing: to not overfit.\n",
        "This is why we need **regularizers**.\n",
        "\n",
        "Let's start with the simplest and most universal regularizer, *more data*.\n"
      ]
    },
    {
      "cell_type": "code",
      "metadata": {
        "id": "qcikXP28Ntfo",
        "cellView": "form"
      },
      "source": [
        "# @title Regularized polynomial fits: more data (again: play at least once) { run: \"auto\" }\n",
        "\n",
        "training_dataset_size = 75  #@param {type:\"slider\", min:1, max:100, step:1}\n",
        "temp_x, temp_t = x, t\n",
        "x = np.random.rand(training_dataset_size)\n",
        "t = np.sin(2 * np.pi * x) + 0.1 * np.random.randn(training_dataset_size)\n",
        "\n",
        "deg_1 = 2  #@param {type:\"slider\", min:0, max:15, step:1}\n",
        "deg_2 = 6  #@param {type:\"slider\", min:0, max:15, step:1}\n",
        "deg_3 = 13  #@param {type:\"slider\", min:0, max:15, step:1}\n",
        "\n",
        "degree = {}\n",
        "degree[0], degree[1], degree[2] = deg_1, deg_2, deg_3\n",
        "\n",
        "max_degree = max(degree.values())\n",
        "y = torch.from_numpy(t)\n",
        "X_full = torch.ones((y.shape[0], max_degree + 1), dtype=torch.float64)  # double precision is needed for this calculation!\n",
        "for i in range(max_degree):\n",
        "    X_full[:,i] =  torch.from_numpy(x) ** (max_degree - i)\n",
        "\n",
        "theta_collection = {}\n",
        "\n",
        "for i in range(3):\n",
        "    X = X_full[:,-(degree[i] + 1):]\n",
        "    temp_inverse = torch.inverse(torch.einsum('ij,jk->ik', X.t(), X))\n",
        "    theta_collection[i] = torch.einsum('ij,jk,k->i', temp_inverse, X.t(), y)\n",
        "\n",
        "fig = make_subplots(\n",
        "    rows=1, cols=3,\n",
        "    subplot_titles=(f\"poly{degree[0]} fit\", f\"poly{degree[1]} fit\", f\"poly{degree[2]} fit\"))\n",
        "\n",
        "x_funcs = np.arange(0,1,1./100)\n",
        "y_funcs = {}\n",
        "for i in range(3):\n",
        "    theta_funcs = theta_collection[i].numpy()\n",
        "    X_funcs = np.ones((x_funcs.shape[0], degree[i] + 1), dtype=np.float64)\n",
        "    for j in range(degree[i]):\n",
        "        X_funcs[:,j] =  x_funcs ** (degree[i] - j)\n",
        "    y_funcs[i] = np.einsum('ij,j->i', X_funcs, theta_funcs)\n",
        "    coefficients_string = '<br><br><br>' + '<br>'.join([c + f': {np.round(theta_funcs[i], decimals=2)}' for i, c in enumerate('abcdefghijklmnopqrstuvwxyz'[:len(theta_funcs)])])\n",
        "\n",
        "    fig.add_trace(go.Scatter(x=x, y=t, mode='markers', marker=dict(color=\"mediumpurple\")), row=1, col=i + 1)\n",
        "    fig.add_trace(go.Scatter(x=x_funcs, y=np.sin(2*np.pi*x_funcs), mode='lines', line=dict(color=\"lightgreen\")), row=1, col=i + 1)\n",
        "    fig.add_trace(go.Scatter(x=x_funcs, y=y_funcs[i], mode='lines', line=dict(color=\"lightsalmon\")), row=1, col=i + 1)\n",
        "    fig.update_xaxes(title_text=\"x\" + coefficients_string, range = [0,1], row=1, col=i+1)\n",
        "\n",
        "fig.update_layout(showlegend=False)\n",
        "fig.update_yaxes(title_text=\"t\", range = [-5,5])\n",
        "fig.update_layout(height=700, width=1300, title_text=\"Polynomial fits and their coefficients\")\n",
        "fig.show()\n",
        "\n",
        "x, t = temp_x, temp_t"
      ],
      "execution_count": null,
      "outputs": []
    },
    {
      "cell_type": "markdown",
      "metadata": {
        "id": "AdW9hYYgPAey"
      },
      "source": [
        "Unfortunately, we do not always have access to more data. Usually our goal is precisely to learn a general rule from a *few* samples, take for instance the [ARC challenge](https://www.kaggle.com/c/abstraction-and-reasoning-challenge/overview).\n",
        "\n",
        "Indeed intelligence seems more related to the (small) ratio between the amount of available data and the prediction performance, rather than just to the prediction performance.\n",
        "\n",
        "Have you noticed the huge values of $\\theta$ in the case of overfitting? Aren't the coefficients of the high-order terms in the Taylor expansion of $\\sin (x)$ supposed to be smaller and smaller?\n",
        "What if we try to discourage this overfitting behavior by adding to the loss a penalization term proportional to the norm of $\\theta$?\n",
        "\n",
        "You have already seen (or will soon see) this very common regularization technique in the theoretical lectures:\n",
        "$$E'(\\theta) = \\lambda \\|\\theta\\|^2 + \\frac{1}{N} \\sum_{i=1}^N(f_\\theta(x_i) - t_i)^2$$\n",
        "\n",
        "> 📖 **EXERCISE**: Obtain the vectorized closed-form solution for $\\theta$ that minimizes $E'$. (The one for $E$ was $\\theta = (\\mathbf{X}^\\top \\mathbf{X})^{-1}\\mathbf{X}^\\top\\mathbf{y}$)\n",
        ">\n",
        "> **Hint**: This is the first step:\n",
        "> $$ E'(\\theta) = (\\mathbf{y} - \\mathbf{X}\\theta)^\\top(\\mathbf{y} - \\mathbf{X}\\theta) + \\lambda\\theta^\\top\\theta$$\n",
        ">\n",
        "> Solve the exercise using pen and paper, the good old way.\n",
        "\n",
        "When you're done, let's play with the $\\lambda$ parameter."
      ]
    },
    {
      "cell_type": "code",
      "metadata": {
        "id": "7TO701p_BoFJ",
        "cellView": "form"
      },
      "source": [
        "# @title Regularized polynomial fits: weight decay { run: \"auto\" }\n",
        "\n",
        "deg_1 = 2  #@param {type:\"slider\", min:0, max:15, step:1}\n",
        "deg_2 = 6  #@param {type:\"slider\", min:0, max:15, step:1}\n",
        "deg_3 = 15  #@param {type:\"slider\", min:0, max:15, step:1}\n",
        "lam =   0.0001#@param {type:\"number\"}\n",
        "\n",
        "degree = {}\n",
        "degree[0], degree[1], degree[2] = deg_1, deg_2, deg_3\n",
        "\n",
        "max_degree = max(degree.values())\n",
        "y = torch.from_numpy(t)\n",
        "X_full = torch.ones((y.shape[0], max_degree + 1), dtype=torch.float64)  # double precision is needed for this calculation!\n",
        "for i in range(max_degree):\n",
        "    X_full[:,i] =  torch.from_numpy(x) ** (max_degree - i)\n",
        "\n",
        "theta_collection = {}\n",
        "\n",
        "for i in range(3):\n",
        "    X = X_full[:,-(degree[i] + 1):]\n",
        "    temp_inverse = torch.inverse(torch.einsum('ij,jk->ik', X.t(), X) + lam * torch.eye(degree[i] + 1))\n",
        "    theta_collection[i] = torch.einsum('ij,jk,k->i', temp_inverse, X.t(), y)\n",
        "\n",
        "fig = make_subplots(\n",
        "    rows=1, cols=3,\n",
        "    subplot_titles=(f\"poly{degree[0]} fit\", f\"poly{degree[1]} fit\", f\"poly{degree[2]} fit\"))\n",
        "\n",
        "x_funcs = np.arange(0,1,1./100)\n",
        "y_funcs = {}\n",
        "for i in range(3):\n",
        "    theta_funcs = theta_collection[i].numpy()\n",
        "    X_funcs = np.ones((x_funcs.shape[0], degree[i] + 1), dtype=np.float64)\n",
        "    for j in range(degree[i]):\n",
        "        X_funcs[:,j] =  x_funcs ** (degree[i] - j)\n",
        "    y_funcs[i] = np.einsum('ij,j->i', X_funcs, theta_funcs)\n",
        "    coefficients_string = '<br><br><br>' + '<br>'.join([c + f': {np.round(theta_funcs[i], decimals=2)}' for i, c in enumerate('abcdefghijklmnopqrstuvwxyz'[:len(theta_funcs)])])\n",
        "\n",
        "    fig.add_trace(go.Scatter(x=x, y=t, mode='markers', marker=dict(color=\"mediumpurple\")), row=1, col=i + 1)\n",
        "    fig.add_trace(go.Scatter(x=x_funcs, y=np.sin(2*np.pi*x_funcs), mode='lines', line=dict(color=\"lightgreen\")), row=1, col=i + 1)\n",
        "    fig.add_trace(go.Scatter(x=x_funcs, y=y_funcs[i], mode='lines', line=dict(color=\"lightsalmon\")), row=1, col=i + 1)\n",
        "    fig.update_xaxes(title_text=\"x\" + coefficients_string, range = [0,1], row=1, col=i+1)\n",
        "\n",
        "fig.update_layout(showlegend=False)\n",
        "fig.update_yaxes(title_text=\"t\", range = [-5,5])\n",
        "fig.update_layout(height=700, width=1300, title_text=\"Polynomial fits and their coefficients\")\n",
        "fig.show()"
      ],
      "execution_count": null,
      "outputs": []
    },
    {
      "cell_type": "markdown",
      "metadata": {
        "id": "3vQ8ittKYZjQ"
      },
      "source": [
        "Not so easy to tune, isn't it?\n",
        "\n",
        "Look at the magnitude of those parameters though, not spiking up anymore!\n",
        "\n",
        "It's a good moment to take a break, two new Pytorch classes await us in the next sections!"
      ]
    },
    {
      "cell_type": "markdown",
      "metadata": {
        "id": "Tvpx3YbdcKlK"
      },
      "source": [
        "## PyTorch Dataset"
      ]
    },
    {
      "cell_type": "markdown",
      "source": [
        "**Preamble:** In deep learning, we deal with data all the time -- so let's make sure we do it the best possible way! What follows is needed for next week's notebook (where we will write a learning model to automatically classify handwritten digits) and will be _fundamental_ for our deep neural networks all throughout the course.\n",
        "\n",
        "Let's head on!\n",
        "\n",
        "In PyTorch (and other common frameworks) you can decouple the code that *manages* the data from the code that *uses* the data.\n",
        "\n",
        "This produces simpler and more understandable code, and enables the possibility to re-use the same dataset with different models or the same model with different datasets.\n",
        "\n",
        "In the following sections, we will have a glimpse into how to manage the data pipeline.\n",
        "\n",
        "[`torch.utils.data.Dataset`](https://pytorch.org/docs/stable/data.html?highlight=dataset#torch.utils.data.Dataset) is an abstract class representing a dataset. Your custom dataset should inherit `Dataset` and override the following methods:\n",
        "\n",
        "- `__len__`: so that `len(dataset)` returns the size of the dataset\n",
        "- `__getitem__`: so that `dataset[i]` returns the $i$-th sample from the dataset.\n",
        "\n",
        "Let's create a toy dataset:"
      ],
      "metadata": {
        "id": "gUB7xjinRNYi"
      }
    },
    {
      "cell_type": "code",
      "metadata": {
        "id": "HclJRK7QdOZM"
      },
      "source": [
        "from torch.utils.data import Dataset\n",
        "\n",
        "class ToyDataset(Dataset):\n",
        "\n",
        "  def __init__(self, n_points: int = 20, noise: float = .1):\n",
        "    super().__init__()  # In python 3 this is enough\n",
        "\n",
        "    self.n_points = n_points\n",
        "\n",
        "    # these two lines pre-load the entire dataset in memory\n",
        "    self.x = torch.linspace(-1, 1, n_points)\n",
        "    self.y = self.x ** 3 + noise * torch.randn(n_points)\n",
        "\n",
        "  def __len__(self):\n",
        "    return self.n_points\n",
        "\n",
        "  def __getitem__(self, idx):\n",
        "    return {\n",
        "        'x': self.x[idx],\n",
        "        'y': self.y[idx]\n",
        "    }\n",
        "\n",
        "toydataset = ToyDataset(20, noise=.1)\n",
        "toydataset[5]"
      ],
      "execution_count": null,
      "outputs": []
    },
    {
      "cell_type": "markdown",
      "metadata": {
        "id": "BZRoEO92fefK"
      },
      "source": [
        "In this case the dataset is composed of simple pairs:"
      ]
    },
    {
      "cell_type": "code",
      "metadata": {
        "id": "Z-jhx5AUvQ2E"
      },
      "source": [
        "toydataset[2]"
      ],
      "execution_count": null,
      "outputs": []
    },
    {
      "cell_type": "code",
      "metadata": {
        "id": "M6vM4yKRfZEm"
      },
      "source": [
        "import plotly.express as px\n",
        "fig = px.scatter(x=toydataset.x.numpy(), y=toydataset.y.numpy())\n",
        "fig.show()"
      ],
      "execution_count": null,
      "outputs": []
    },
    {
      "cell_type": "markdown",
      "metadata": {
        "id": "NS0j3M_pgk8s"
      },
      "source": [
        "> **NOTE**\n",
        ">\n",
        "> Small Python reminder. Every object that implements the `__getitem__` method follows the [iterator procotol](https://www.python.org/dev/peps/pep-0234/#python-api-specification). It means that you can **iterate** the dataset:\n",
        "\n",
        "\n"
      ]
    },
    {
      "cell_type": "code",
      "metadata": {
        "id": "sMdwLEFDhZCu"
      },
      "source": [
        "from tqdm.notebook import tqdm as tqdm   # just a progress bar\n",
        "\n",
        "for sample in tqdm(toydataset):  # wrap the iterable in tqdm and you're done\n",
        "  pass"
      ],
      "execution_count": null,
      "outputs": []
    },
    {
      "cell_type": "markdown",
      "metadata": {
        "id": "9GXYYwNTfK7D"
      },
      "source": [
        "In the `ToyDataset` the whole dataset is stored **in memory**, i.e. in attributes of the `ToyDataset` class.\n",
        "This is the fastest and simplest way to implement a dataset, but it is **not always feasible**.\n",
        "What if you must train a neural network on 500GB of images?\n",
        "The whole dataset does not fit in memory!\n",
        "\n",
        "> For the same reason, using a single file to store the whole dataset does not scale with the dataset size.\n",
        ">\n",
        "> *Obviously, this depends on the file format used, e.g. it is perfectly fine if we are dealing with `HDF5` files*\n",
        "\n",
        "The `Dataset` abstraction is particularly useful when implementing *lazy loading* policies, that is, when you load each item **only when you need it**.\n",
        "You can even apply some preprocessing on the fly, to each item.\n",
        "\n",
        "One example of how it can be done:\n",
        "\n",
        "```python\n",
        "class LazyDataset(Dataset):\n",
        "\n",
        "  def __init__(self, file_paths: Sequence[Path]):\n",
        "    super().__init__()  \n",
        "    self.file_paths = file_paths\n",
        "\n",
        "  def __len__(self):\n",
        "    return len(self.file_paths)\n",
        "\n",
        "  def __getitem__(self, idx):\n",
        "    sample_path = self.file_paths[idx]\n",
        "\n",
        "    # -> Load sample_path in memory\n",
        "    # -> Perform some lightweight preprocessing\n",
        "    # -> Generate (sample_input, sample_output)\n",
        "\n",
        "    return {\n",
        "        'x': sample_input,\n",
        "        'y': sample_output\n",
        "    }\n",
        "\n",
        "```\n"
      ]
    },
    {
      "cell_type": "markdown",
      "metadata": {
        "id": "P79iR6q0gIzw"
      },
      "source": [
        "**NOTE**\n",
        "\n",
        "The dataset can return any type of object, you are *not* forced to return a dictionary of tensors:\n",
        "\n"
      ]
    },
    {
      "cell_type": "code",
      "metadata": {
        "id": "nDg1ggjdiMA4"
      },
      "source": [
        "from torch.utils.data import Dataset\n",
        "\n",
        "class AnotherDataset(Dataset):\n",
        "  def __init__(self):\n",
        "    super().__init__()\n",
        "    self.myitems = torch.arange(100)\n",
        "\n",
        "  def __len__(self):\n",
        "    return len(self.myitems)\n",
        "\n",
        "  def __getitem__(self, idx):\n",
        "    return f'Sample{idx}', self.myitems[idx], None, 3.5\n",
        "\n",
        "dataset = AnotherDataset()\n",
        "dataset[5]"
      ],
      "execution_count": null,
      "outputs": []
    },
    {
      "cell_type": "markdown",
      "metadata": {
        "id": "zOwlr_u2iLh6"
      },
      "source": [
        "\n",
        "However, it is often useful to return a dictionary of tensors.\n",
        "\n",
        "⚠️ Do *not* return tensors that are stored on the GPU memory, as it [causes problems](https://pytorch.org/docs/stable/data.html#multi-process-data-loading) with the multiprocessing behavior of the DataLoader. We'll see memory pinning as a preferred way, further below.\n",
        "\n",
        "Returning a dictionary of tensors will:\n",
        "\n",
        "- Make your code more readable\n",
        "- Ease the batch creation process: you may use the `DataLoader` default `collate_fn` (we'll see this in a second)"
      ]
    },
    {
      "cell_type": "markdown",
      "metadata": {
        "id": "ndnx7HJxkvXH"
      },
      "source": [
        "## PyTorch DataLoader"
      ]
    },
    {
      "cell_type": "markdown",
      "source": [
        "\n",
        "[`torch.utils.data.DataLoader`](https://pytorch.org/docs/stable/data.html?highlight=dataloader#torch.utils.data.DataLoader) is an iterator that provides:\n",
        "\n",
        "- Data batching\n",
        "- Data shuffling\n",
        "- Parallel data loading using `multiprocessing` workers. Meaning that while the `GPU` is performing some computation on a batch, in parallel you can load the next batch.\n",
        "\n",
        "\n",
        "Creating a dataloader from a dataset is straightforward. Here's an example that highlights some of the most used parameters:"
      ],
      "metadata": {
        "id": "G_peCB8pRTn7"
      }
    },
    {
      "cell_type": "code",
      "metadata": {
        "id": "bNxfH3vayfVx"
      },
      "source": [
        "from torch.utils.data import DataLoader\n",
        "\n",
        "toydataset = ToyDataset(200)\n",
        "toyloader = DataLoader(toydataset,\n",
        "                       batch_size=8,    # number of elements in each batch\n",
        "                       shuffle=True,    # shuffle the dataset\n",
        "                       num_workers=4,   # number of workers, i.e. batches to prefetch\n",
        "                       pin_memory=True  # return memory-pinned tensors, see below for an explanation!\n",
        "                       )\n",
        "\n",
        "# 200 iterations\n",
        "for sample in tqdm(toydataset):\n",
        "  pass\n",
        "print(sample)\n",
        "\n",
        "# 25 iterations\n",
        "for batch in tqdm(toyloader):  # there is some overhead when using multiple workers!\n",
        "  pass\n",
        "batch"
      ],
      "execution_count": null,
      "outputs": []
    },
    {
      "cell_type": "markdown",
      "metadata": {
        "id": "Bm9Uhxbt52fy"
      },
      "source": [
        "If you are not returning a dictionary or some other form of regular structure from the dataset, you must manually specify *how* to put the samples together to form a batch. This can be done with the `collate_fn` parameter of the `DataLoader`.\n",
        "\n",
        "Please read these [docs](https://pytorch.org/docs/stable/data.html#loading-batched-and-non-batched-data) to understand the default behavior of `collate_fn` and how you can define custom `collate_fn` functions."
      ]
    },
    {
      "cell_type": "markdown",
      "metadata": {
        "id": "pALUlr9Czk_B"
      },
      "source": [
        "> **NOTE**\n",
        ">\n",
        "> The `DataLoader` is just an iterator, it can't be directly indexed!"
      ]
    },
    {
      "cell_type": "code",
      "metadata": {
        "id": "ijjb5ujOzpvQ"
      },
      "source": [
        "try:\n",
        "  toyloader[0]\n",
        "except Exception as e:\n",
        "  print('Error:', e)"
      ],
      "execution_count": null,
      "outputs": []
    },
    {
      "cell_type": "markdown",
      "metadata": {
        "id": "SYYP8rCj2-Ae"
      },
      "source": [
        "### 📖 Memory pinning"
      ]
    },
    {
      "cell_type": "markdown",
      "metadata": {
        "id": "GRqZeY_A1Ink"
      },
      "source": [
        "Pytorch tensors support [memory pinning](https://devblogs.nvidia.com/how-optimize-data-transfers-cuda-cc/):"
      ]
    },
    {
      "cell_type": "markdown",
      "metadata": {
        "id": "T1BIKzR36fww"
      },
      "source": [
        "![](https://devblogs.nvidia.com/wp-content/uploads/2012/12/pinned-1024x541.jpg)"
      ]
    },
    {
      "cell_type": "markdown",
      "metadata": {
        "id": "84rs4T_66ffq"
      },
      "source": [
        "\n",
        "Pinned tensors enable:\n",
        "- **Much faster copies** from CPU to GPU.\n",
        "- **Aynchronous GPU copies**: *while* the tensor is being transferred, the code continues if it doesn't need that tensor! To enable this, just pass an additional **`non_blocking=True`** argument to a `to()` or a `cuda()` call.  (**gpu operations are [asynchronous](https://pytorch.org/docs/stable/notes/cuda.html#asynchronous-execution) by default**)\n",
        "\n",
        "Given a tensor you can manually pin it:"
      ]
    },
    {
      "cell_type": "code",
      "metadata": {
        "id": "tF0GVdOq3tnG"
      },
      "source": [
        "t = torch.rand(100)\n",
        "t.is_pinned()"
      ],
      "execution_count": null,
      "outputs": []
    },
    {
      "cell_type": "code",
      "metadata": {
        "id": "6p_mlBoh3p-a"
      },
      "source": [
        "# be sure to use a GPU runtime, otherwise there's nothing to pin for!\n",
        "\n",
        "t = t.pin_memory()  # reassigning to t, because pin_memory() is not in-place"
      ],
      "execution_count": null,
      "outputs": []
    },
    {
      "cell_type": "code",
      "metadata": {
        "id": "kgFj15grDJPl"
      },
      "source": [
        "t.is_pinned()"
      ],
      "execution_count": null,
      "outputs": []
    },
    {
      "cell_type": "markdown",
      "metadata": {
        "id": "nY2UFPT14EkF"
      },
      "source": [
        "Passing `pin_memory=True` to a `DataLoader` will automatically put the fetched data tensors in pinned memory, enabling faster data transfer to CUDA-enabled GPUs.\n",
        "\n",
        "`DataLoader` only knows how to pin the standard types returned by `Dataset`; this includes Tensor, Map and Sequence of Tensors. If you want to pin some custom type, read more [here](https://pytorch.org/docs/stable/data.html#memory-pinning) (tldr: define a `pin_memory()` method on your custom type(s))."
      ]
    },
    {
      "cell_type": "code",
      "metadata": {
        "id": "5gNnoz6U5sMz"
      },
      "source": [
        "batch['x'].is_pinned()"
      ],
      "execution_count": null,
      "outputs": []
    },
    {
      "cell_type": "markdown",
      "metadata": {
        "id": "Q4l1TIvepi6H"
      },
      "source": [
        "### Troubleshooting bottlenecks\n",
        "Make sure the data loading is **not a bottleneck** in your pipeline.\n",
        "Your GPU must not **wait for data**.\n",
        "\n"
      ]
    },
    {
      "cell_type": "markdown",
      "metadata": {
        "id": "zFEIytCKlMsQ"
      },
      "source": [
        "#### How to check if your data loading is a bottleneck?\n",
        "\n",
        "##### **Check resource usage**\n",
        "\n",
        "Check the GPU (or CPU) usage, if it is ~$100\\%$ it is being fully utilised. This is good!\n",
        "\n",
        "Otherwise you may have a bottleneck somewhere, or your data operations may not be GPU friendly (e.g. small batches).\n",
        "\n",
        "\n",
        "##### **Check data loading speed**\n",
        "\n",
        "Iterate over the `Dataset` or `DataLoader` and check the data loading speed by counting the number of items that are loaded per second. Then compare this to how many items per second are processed by the rest of the pipeline.\n",
        "\n",
        "If you can load more items than you can process in the training loop, it means you _don't_ have a bottleneck in your data loading. The GPU is not waiting for you, good job!\n",
        "\n",
        "You can use the [tqdm](https://github.com/tqdm/tqdm) package to easily check the iteration speed of any iterable with a minimal overhead."
      ]
    },
    {
      "cell_type": "code",
      "metadata": {
        "id": "-PLGSqUenoTz"
      },
      "source": [
        "# Checking the loading speed\n",
        "from tqdm.notebook import tqdm as tqdm  # just a progress bar\n",
        "\n",
        "toydataset = ToyDataset(20000)\n",
        "toyloader = DataLoader(toydataset,\n",
        "                       batch_size=8,    # number of elements in each batch\n",
        "                       shuffle=True,    # shuffle the dataset\n",
        "                       num_workers=4,   # number of workers, i.e. batches to prefetch\n",
        "                       pin_memory=True  # return memory pinnded tensors\n",
        "                       )\n",
        "for batch in tqdm(toyloader):\n",
        "  pass\n",
        "\n",
        "# Example:\n",
        "# tqdm reports 350.00it/s (iterations per second) for the loader.\n",
        "# tqdm reports 280.12it/s for the training step given the data.\n",
        "# -> data loading is NOT a bottleneck!\n",
        "#\n",
        "# This scenario means your computation time is the primary factor in how long\n",
        "# each iteration takes, and the data loading process is efficient enough to keep\n",
        "# up with the computational demands."
      ],
      "execution_count": null,
      "outputs": []
    },
    {
      "cell_type": "markdown",
      "metadata": {
        "id": "DUhUSCRNoTQb"
      },
      "source": [
        "#### How to fix a bottleneck in the data loading?\n",
        "\n",
        "##### 1) **Use in-memory datasets**\n",
        "If your dataset fits on memory, load the whole dataset in memory.\n",
        "\n",
        "##### 2) **Tune DataLoader parameters**\n",
        "Tune the `num_workers` and `batch_size` parameter of the `DataLoader`, paying attention that the batch size will have a direct impact on the training. A good default for `num_workers` is the number of cores in your CPU.\n",
        "\n",
        "##### 3) **Do not preprocess on the fly**\n",
        "If you need preprocessing for your files, save the preprocessed files to disk.\n",
        "\n",
        "##### 4) **Speed up raw file loading**\n",
        "If even just loading the files from disk is slow, consider changing the way in which the files are stored (e.g. another [format](https://www.h5py.org/) or a [database](https://github.com/google/leveldb))."
      ]
    },
    {
      "cell_type": "markdown",
      "metadata": {
        "id": "34YGEYsZyBvS"
      },
      "source": [
        "> **NOTE**\n",
        ">\n",
        "> You can read much more on the `torch.utils.data` package [here](https://pytorch.org/docs/stable/data.html).\n",
        ">\n",
        "> Moreover, keep in mind that the [`torchvision`](https://pytorch.org/vision/stable/index.html) package provides some common datasets and transforms. We'll use it next week!"
      ]
    },
    {
      "cell_type": "markdown",
      "metadata": {
        "id": "JiCv7axFUEel"
      },
      "source": [
        "### Dataset and DataLoader exercises\n",
        "\n",
        "> **EXERCISE**\n",
        ">\n",
        "> You want to create a neural network that is able to learn how to recover corrupted images from the [CIFAR10](https://www.cs.toronto.edu/~kriz/cifar.html) dataset. That is, given as input a corrupted image, the model outputs a corresponding uncorrupted version.\n",
        ">\n",
        "> You are free to choose the type of corruption to apply. Possible examples are: random noise, random black patches, random crop, random reflections, all the previous together.\n",
        ">\n",
        "> 1) Think about the data pipeline this model would require. What should the dataset return?\n",
        ">\n",
        "> 2) Create the `Dataset` and `DataLoader` to implement it.\n",
        ">\n",
        "> 3) Plot the images in a **batch** to ensure you are doing everything right.\n",
        ">\n",
        ">  *hint*: you may use [`torchvision.datasets`](https://pytorch.org/vision/stable/datasets.html) and [`torchvision.transforms`](https://pytorch.org/vision/stable/transforms.html)"
      ]
    },
    {
      "cell_type": "code",
      "source": [
        "# ✏️ your code here"
      ],
      "metadata": {
        "id": "CuCHY0Zb-9pH"
      },
      "execution_count": null,
      "outputs": []
    },
    {
      "cell_type": "markdown",
      "metadata": {
        "id": "U07puKsVdCXZ"
      },
      "source": [
        "> **EXERCISE** *(discuss only)*\n",
        ">\n",
        "> Consider [The Abstraction and Reasoning Corpus (ARC)](https://github.com/fchollet/ARC).\n",
        ">\n",
        "> If you want, you can clone the ARC repository on your computer and play against some proposed tasks (without writing any program -- play yourself as a human!). It is enough to open `apps/testing_interface.html` in your browser.\n",
        ">\n",
        "> > *ARC can be seen as a general artificial intelligence benchmark, as a program synthesis benchmark, or as a psychometric intelligence test. It is targeted at both humans and artificially intelligent systems that aim at emulating a human-like form of general fluid intelligence.*\n",
        "> >\n",
        "> > **Dataset goal**\n",
        "> >\n",
        "> > A test-taker is said to solve a task when, upon seeing the task for the first time, they are able to produce the correct output grid for *all* test inputs in the task (this includes picking the dimensions of the output grid). For each test input, the test-taker is allowed 3 trials (this holds for all test-takers, either humans or AI).\n",
        "> >\n",
        "> > **Task file format**\n",
        "> >\n",
        "> > The `data` directory contains two subdirectories:\n",
        "> >\n",
        "> > - `data/training`: contains the task files for training (400 tasks). Use these to prototype your algorithm or to train your algorithm to acquire ARC-relevant cognitive priors.\n",
        "> > - `data/evaluation`: contains the task files for evaluation (400 tasks). Use these to evaluate your final algorithm. To ensure fair evaluation results, do not leak information from the evaluation set into your algorithm, e.g. by looking at the evaluation tasks yourself during development, or by repeatedly modifying an algorithm while using its evaluation score as feedback (remember that [this is conceptually wrong](#data-leakage)!).\n",
        "> >\n",
        "> > The tasks are stored in JSON format. Each task JSON file contains a dictionary with two fields:\n",
        "> >\n",
        "> > - `\"train\"`: demonstration input/output pairs. It is a list of \"pairs\" (typically 3 pairs).\n",
        "> > - `\"test\"`: test input/output pairs. It is a list of \"pairs\" (typically 1 pair).\n",
        "> >\n",
        "> > A \"pair\" is a dictionary with two fields:\n",
        "> >\n",
        "> > - `\"input\"`: the input \"grid\" for the pair.\n",
        "> > - `\"output\"`: the output \"grid\" for the pair.\n",
        "> >\n",
        "> > A \"grid\" is a rectangular matrix (list of lists) of integers between 0 and 9 (inclusive). The smallest possible grid size is 1x1 and the largest is 30x30.\n",
        ">\n",
        ">\n",
        "> - What would your`Dataset` return for this task?\n",
        "> - What would each batch contain?\n",
        ">\n",
        "> Discuss and compare your choices with your colleagues. Did you all make the same choices? Why or why not?\n"
      ]
    },
    {
      "cell_type": "markdown",
      "source": [
        "✏️ Write down your conclusions here"
      ],
      "metadata": {
        "id": "x9IwEqyp_E8t"
      }
    }
  ]
}