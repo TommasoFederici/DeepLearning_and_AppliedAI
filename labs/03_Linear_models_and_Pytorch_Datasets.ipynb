{
  "nbformat": 4,
  "nbformat_minor": 0,
  "metadata": {
    "colab": {
      "provenance": [],
      "collapsed_sections": [
        "4C5Ct9yoZKYa",
        "dHLO4Z-T_yxB",
        "GPHftSvUaIhe",
        "0PAIT1NjFUhk",
        "8htU_ACVGQY5",
        "i8kq5mSFOHul",
        "mhRdUyWpwX-v",
        "yTDKBC5GL7MI",
        "CENyGHlSp_FX",
        "FXq55ce581os",
        "5z1iX6ltDTx8",
        "Tvpx3YbdcKlK",
        "ndnx7HJxkvXH",
        "SYYP8rCj2-Ae",
        "Q4l1TIvepi6H",
        "zFEIytCKlMsQ",
        "DUhUSCRNoTQb"
      ],
      "toc_visible": true,
      "include_colab_link": true
    },
    "kernelspec": {
      "name": "python3",
      "display_name": "Python 3"
    }
  },
  "cells": [
    {
      "cell_type": "markdown",
      "metadata": {
        "id": "view-in-github",
        "colab_type": "text"
      },
      "source": [
        "<a href=\"https://colab.research.google.com/github/TommasoFederici/DeepLearning_and_AppliedAI/blob/main/labs/03_Linear_models_and_Pytorch_Datasets.ipynb\" target=\"_parent\"><img src=\"https://colab.research.google.com/assets/colab-badge.svg\" alt=\"Open In Colab\"/></a>"
      ]
    },
    {
      "cell_type": "markdown",
      "metadata": {
        "id": "4C5Ct9yoZKYa"
      },
      "source": [
        "# Deep Learning & Applied AI\n",
        "\n",
        "# Tutorial 3: Linear models and Pytorch Datasets\n",
        "\n",
        "In this tutorial, we will cover:\n",
        "\n",
        "- Linear models\n",
        "- Pytorch Dataset and DataLoader\n",
        "\n",
        "Based on original material by Dr. Luca Moschella (moschella@di.uniroma1.it) and Dr. Antonio Norelli (norelli@di.uniroma1.it)\n",
        "\n",
        "Course:\n",
        "\n",
        "- Website and notebooks will be available at https://erodola.github.io/DLAI-s2-2025/\n",
        "\n",
        "#### Instructions\n",
        "We encourage you to form small groups of 2-3 people to read and discuss the notebooks together.\n",
        "\n",
        "Run the code and play with it! It is very easy to edit the code locally and make small experiments. Try whatever comes to your mind, this is the best way to learn! Python notebooks are designed to be used in this way, that's why we chose them for the DLAI lab sessions.\n",
        "\n",
        "There will be some exercises, try to do them by yourself, and when everyone in your group has finished, compare the solutions with each other.\n",
        "\n",
        "When something is not clear or you have a question, raise your hand and we will come to you, or directly approach us.\n",
        "\n",
        "Some sections in the notebooks are marked with 📖. This is additional content for further reading outside of class. You may want to go through it at home or during class if you finish early. (Some sections are \"more optional\" than others, those marked with more books 📖📖)\n",
        "\n",
        "Let's start!"
      ]
    },
    {
      "cell_type": "markdown",
      "metadata": {
        "id": "dHLO4Z-T_yxB"
      },
      "source": [
        "### Import dependencies"
      ]
    },
    {
      "cell_type": "markdown",
      "source": [
        "In this notebook you will discover **Plotly**, a powerful plotting library (there are many [visualization libraries](https://pyviz.org/overviews/index.html) for Python).\n",
        "Effectively communicating your findings through plots and visualizations is an essential part of any scientific or engineering project.\n",
        "Plotly is a modern library that makes interactive plots very easy to produce, and is very popular also outside of the DL community.\n",
        "\n",
        "[Here](https://plot.ly/python/) you can find its documentation."
      ],
      "metadata": {
        "id": "GHKiAWxOGLb1"
      }
    },
    {
      "cell_type": "code",
      "metadata": {
        "id": "pRePt-K1_yw9"
      },
      "source": [
        "import torch\n",
        "import numpy as np\n",
        "import plotly.express as px\n",
        "from plotly.subplots import make_subplots\n",
        "import plotly.graph_objects as go"
      ],
      "execution_count": 1,
      "outputs": []
    },
    {
      "cell_type": "markdown",
      "source": [
        "### A note on reproducibility\n",
        "\n",
        "As mentioned in the previous notebooks, we are going to ensure that all the RNGs used in different parts of this notebook produce the same sequence of numbers each time."
      ],
      "metadata": {
        "id": "pcNRBDwVUlkl"
      }
    },
    {
      "cell_type": "code",
      "metadata": {
        "id": "2tGN_bJOcfd3"
      },
      "source": [
        "# Reproducibility stuff\n",
        "\n",
        "import random\n",
        "torch.manual_seed(42)      # PyTorch CPU\n",
        "np.random.seed(42)         # NumPy\n",
        "random.seed(0)             # Python built-in\n",
        "torch.cuda.manual_seed(0)  # PyTorch GPU"
      ],
      "execution_count": 2,
      "outputs": []
    },
    {
      "cell_type": "markdown",
      "source": [
        "For some operations, cuDNN (NVIDIA's library for deep neural networks) uses algorithms that can produce different results on different runs, *even* with the same inputs and the same seed. Below we set `deterministic = True`, forcing cuDNN to use deterministic algorithms where possible. This might limit cuDNN to a subset of algorithms that might not be  the most efficient, but will produce the same results across different runs."
      ],
      "metadata": {
        "id": "WB-2WlPSU8Fl"
      }
    },
    {
      "cell_type": "code",
      "source": [
        "torch.backends.cudnn.deterministic = True"
      ],
      "metadata": {
        "id": "rNcVjPZPVJuf"
      },
      "execution_count": 3,
      "outputs": []
    },
    {
      "cell_type": "markdown",
      "source": [
        "Finally, when `benchmark = True`, cuDNN will automatically find the most efficient algorithms for your specific operations based on your network architecture and input sizes. This can greatly improve performance. However, since the selection of algorithms might change from one run to another, this can lead to non-deterministic behavior. Setting it to `benchmark = False` prevents cuDNN from dynamically selecting algorithms, thus improving reproducibility at the cost of potential performance gains."
      ],
      "metadata": {
        "id": "YDdgn57QVLI5"
      }
    },
    {
      "cell_type": "code",
      "source": [
        "torch.backends.cudnn.benchmark = False"
      ],
      "metadata": {
        "id": "Vl8AGAIfVS9J"
      },
      "execution_count": 4,
      "outputs": []
    },
    {
      "cell_type": "markdown",
      "source": [
        "Enough about reproducibility, let's move on to the meat!"
      ],
      "metadata": {
        "id": "4AOnQMcxVTa7"
      }
    },
    {
      "cell_type": "markdown",
      "metadata": {
        "id": "GPHftSvUaIhe"
      },
      "source": [
        "##Linear models\n"
      ]
    },
    {
      "cell_type": "markdown",
      "source": [
        "Today we'll work with **linear models**. Don't underestimate their power! Linear models are simple, but they are at the heart of several effective pipelines. They will provide solid baselines for our experiments at the very least, and are a useful tool to study more advanced topics in modern deep learning."
      ],
      "metadata": {
        "id": "sCRBI35LWCvt"
      }
    },
    {
      "cell_type": "markdown",
      "metadata": {
        "id": "0PAIT1NjFUhk"
      },
      "source": [
        "###The regression problem\n"
      ]
    },
    {
      "cell_type": "markdown",
      "source": [
        "####The general definition\n",
        "We observe a phenomenon $\\mathcal{P}$ where a variable of interest $t$ depends on another variable $x$.\n",
        "\n",
        "**Problem**: Given a set of $N$ paired observations $(x, t)$, $\\mathbf{D}=\\{(x_1, t_1),...,(x_N, t_N)\\}$, and a new *input* instance $x_i$, find the corresponding *target* $t_i$."
      ],
      "metadata": {
        "id": "8htU_ACVGQY5"
      }
    },
    {
      "cell_type": "markdown",
      "metadata": {
        "id": "i8kq5mSFOHul"
      },
      "source": [
        "####Our workspace\n",
        "\n",
        "In our workspace, the underlying law governing our phenomenon $\\mathcal{P}$ links $t$ to a $x \\in [0,1]$ through a $\\sin$ function.\n",
        "For our purposes, we are going to synthetically generate a set of observations --our *dataset*-- following this rule:\n",
        "\n",
        "$$t=\\sin(2\\pi x) + 0.1\\epsilon \\;\\;\\;\\;\\;\\;\\;\\;\\; \\epsilon \\sim \\mathcal{N}(0,1)$$\n",
        "\n",
        "where $\\sim \\mathcal{N}(0,1)$ means \"*sampled from a gaussian distribution with $\\mu=0$ and $\\sigma=1$*\".\n",
        "\n",
        "In this way, we are simulating the measurement process of any phenomenon: there is a global and general regularity (that we wish to discover) but all observations are plagued by uncertainty, here modeled with gaussian noise. Uncertainty usually comes from the finite precision of our measuring instrument, but may also be due to sources of variability we do not care about. Sometimes the problem we are tackling is intrinsically stochastic --such as measurements in quantum mechanics or idealized scenarios like the multi-armed bandit-- and we want to figure out just the non-stochastic part of the underlying rule.\n",
        "\n",
        "This is our dataset:"
      ]
    },
    {
      "cell_type": "code",
      "metadata": {
        "id": "qJyjckvQE-aZ",
        "outputId": "394734d7-ea92-4e4a-b647-ff9d62ffbee1",
        "colab": {
          "base_uri": "https://localhost:8080/"
        }
      },
      "source": [
        "x = np.random.rand(10)\n",
        "t = np.sin(2 * np.pi * x) + 0.1 * np.random.randn(10)"
      ],
      "execution_count": 29,
      "outputs": [
        {
          "output_type": "execute_result",
          "data": {
            "text/plain": [
              "array([-0.13796301, -0.30856341,  0.79234717,  0.41260227, -0.204306  ,\n",
              "        1.14687554,  1.00043626,  0.61075762,  0.27808945,  0.95307872])"
            ]
          },
          "metadata": {},
          "execution_count": 29
        }
      ]
    },
    {
      "cell_type": "code",
      "metadata": {
        "id": "IMJNXRXZGJS0",
        "outputId": "b2007a10-fa15-40e4-c709-19e498ea89ff",
        "colab": {
          "base_uri": "https://localhost:8080/",
          "height": 542
        }
      },
      "source": [
        "fig = px.scatter(x=x, y=t)\n",
        "fig.show()"
      ],
      "execution_count": 7,
      "outputs": [
        {
          "output_type": "display_data",
          "data": {
            "text/html": [
              "<html>\n",
              "<head><meta charset=\"utf-8\" /></head>\n",
              "<body>\n",
              "    <div>            <script src=\"https://cdnjs.cloudflare.com/ajax/libs/mathjax/2.7.5/MathJax.js?config=TeX-AMS-MML_SVG\"></script><script type=\"text/javascript\">if (window.MathJax && window.MathJax.Hub && window.MathJax.Hub.Config) {window.MathJax.Hub.Config({SVG: {font: \"STIX-Web\"}});}</script>                <script type=\"text/javascript\">window.PlotlyConfig = {MathJaxConfig: 'local'};</script>\n",
              "        <script charset=\"utf-8\" src=\"https://cdn.plot.ly/plotly-2.35.2.min.js\"></script>                <div id=\"d16dfcf9-68ea-4443-a6b0-40d1eeec9803\" class=\"plotly-graph-div\" style=\"height:525px; width:100%;\"></div>            <script type=\"text/javascript\">                                    window.PLOTLYENV=window.PLOTLYENV || {};                                    if (document.getElementById(\"d16dfcf9-68ea-4443-a6b0-40d1eeec9803\")) {                    Plotly.newPlot(                        \"d16dfcf9-68ea-4443-a6b0-40d1eeec9803\",                        [{\"hovertemplate\":\"x=%{x}\\u003cbr\\u003ey=%{y}\\u003cextra\\u003e\\u003c\\u002fextra\\u003e\",\"legendgroup\":\"\",\"marker\":{\"color\":\"#636efa\",\"symbol\":\"circle\"},\"mode\":\"markers\",\"name\":\"\",\"orientation\":\"v\",\"showlegend\":false,\"x\":[0.3745401188473625,0.9507143064099162,0.7319939418114051,0.5986584841970366,0.15601864044243652,0.15599452033620265,0.05808361216819946,0.8661761457749352,0.6011150117432088,0.7080725777960455],\"xaxis\":\"x\",\"y\":[0.6621995859491285,-0.2504894367193866,-1.0399487832345553,-0.6275182299806012,0.854857342681687,0.6392487011533475,0.18441089666331875,-0.8014323286500792,-0.6947217251134631,-0.9340757540684701],\"yaxis\":\"y\",\"type\":\"scatter\"}],                        {\"template\":{\"data\":{\"histogram2dcontour\":[{\"type\":\"histogram2dcontour\",\"colorbar\":{\"outlinewidth\":0,\"ticks\":\"\"},\"colorscale\":[[0.0,\"#0d0887\"],[0.1111111111111111,\"#46039f\"],[0.2222222222222222,\"#7201a8\"],[0.3333333333333333,\"#9c179e\"],[0.4444444444444444,\"#bd3786\"],[0.5555555555555556,\"#d8576b\"],[0.6666666666666666,\"#ed7953\"],[0.7777777777777778,\"#fb9f3a\"],[0.8888888888888888,\"#fdca26\"],[1.0,\"#f0f921\"]]}],\"choropleth\":[{\"type\":\"choropleth\",\"colorbar\":{\"outlinewidth\":0,\"ticks\":\"\"}}],\"histogram2d\":[{\"type\":\"histogram2d\",\"colorbar\":{\"outlinewidth\":0,\"ticks\":\"\"},\"colorscale\":[[0.0,\"#0d0887\"],[0.1111111111111111,\"#46039f\"],[0.2222222222222222,\"#7201a8\"],[0.3333333333333333,\"#9c179e\"],[0.4444444444444444,\"#bd3786\"],[0.5555555555555556,\"#d8576b\"],[0.6666666666666666,\"#ed7953\"],[0.7777777777777778,\"#fb9f3a\"],[0.8888888888888888,\"#fdca26\"],[1.0,\"#f0f921\"]]}],\"heatmap\":[{\"type\":\"heatmap\",\"colorbar\":{\"outlinewidth\":0,\"ticks\":\"\"},\"colorscale\":[[0.0,\"#0d0887\"],[0.1111111111111111,\"#46039f\"],[0.2222222222222222,\"#7201a8\"],[0.3333333333333333,\"#9c179e\"],[0.4444444444444444,\"#bd3786\"],[0.5555555555555556,\"#d8576b\"],[0.6666666666666666,\"#ed7953\"],[0.7777777777777778,\"#fb9f3a\"],[0.8888888888888888,\"#fdca26\"],[1.0,\"#f0f921\"]]}],\"heatmapgl\":[{\"type\":\"heatmapgl\",\"colorbar\":{\"outlinewidth\":0,\"ticks\":\"\"},\"colorscale\":[[0.0,\"#0d0887\"],[0.1111111111111111,\"#46039f\"],[0.2222222222222222,\"#7201a8\"],[0.3333333333333333,\"#9c179e\"],[0.4444444444444444,\"#bd3786\"],[0.5555555555555556,\"#d8576b\"],[0.6666666666666666,\"#ed7953\"],[0.7777777777777778,\"#fb9f3a\"],[0.8888888888888888,\"#fdca26\"],[1.0,\"#f0f921\"]]}],\"contourcarpet\":[{\"type\":\"contourcarpet\",\"colorbar\":{\"outlinewidth\":0,\"ticks\":\"\"}}],\"contour\":[{\"type\":\"contour\",\"colorbar\":{\"outlinewidth\":0,\"ticks\":\"\"},\"colorscale\":[[0.0,\"#0d0887\"],[0.1111111111111111,\"#46039f\"],[0.2222222222222222,\"#7201a8\"],[0.3333333333333333,\"#9c179e\"],[0.4444444444444444,\"#bd3786\"],[0.5555555555555556,\"#d8576b\"],[0.6666666666666666,\"#ed7953\"],[0.7777777777777778,\"#fb9f3a\"],[0.8888888888888888,\"#fdca26\"],[1.0,\"#f0f921\"]]}],\"surface\":[{\"type\":\"surface\",\"colorbar\":{\"outlinewidth\":0,\"ticks\":\"\"},\"colorscale\":[[0.0,\"#0d0887\"],[0.1111111111111111,\"#46039f\"],[0.2222222222222222,\"#7201a8\"],[0.3333333333333333,\"#9c179e\"],[0.4444444444444444,\"#bd3786\"],[0.5555555555555556,\"#d8576b\"],[0.6666666666666666,\"#ed7953\"],[0.7777777777777778,\"#fb9f3a\"],[0.8888888888888888,\"#fdca26\"],[1.0,\"#f0f921\"]]}],\"mesh3d\":[{\"type\":\"mesh3d\",\"colorbar\":{\"outlinewidth\":0,\"ticks\":\"\"}}],\"scatter\":[{\"fillpattern\":{\"fillmode\":\"overlay\",\"size\":10,\"solidity\":0.2},\"type\":\"scatter\"}],\"parcoords\":[{\"type\":\"parcoords\",\"line\":{\"colorbar\":{\"outlinewidth\":0,\"ticks\":\"\"}}}],\"scatterpolargl\":[{\"type\":\"scatterpolargl\",\"marker\":{\"colorbar\":{\"outlinewidth\":0,\"ticks\":\"\"}}}],\"bar\":[{\"error_x\":{\"color\":\"#2a3f5f\"},\"error_y\":{\"color\":\"#2a3f5f\"},\"marker\":{\"line\":{\"color\":\"#E5ECF6\",\"width\":0.5},\"pattern\":{\"fillmode\":\"overlay\",\"size\":10,\"solidity\":0.2}},\"type\":\"bar\"}],\"scattergeo\":[{\"type\":\"scattergeo\",\"marker\":{\"colorbar\":{\"outlinewidth\":0,\"ticks\":\"\"}}}],\"scatterpolar\":[{\"type\":\"scatterpolar\",\"marker\":{\"colorbar\":{\"outlinewidth\":0,\"ticks\":\"\"}}}],\"histogram\":[{\"marker\":{\"pattern\":{\"fillmode\":\"overlay\",\"size\":10,\"solidity\":0.2}},\"type\":\"histogram\"}],\"scattergl\":[{\"type\":\"scattergl\",\"marker\":{\"colorbar\":{\"outlinewidth\":0,\"ticks\":\"\"}}}],\"scatter3d\":[{\"type\":\"scatter3d\",\"line\":{\"colorbar\":{\"outlinewidth\":0,\"ticks\":\"\"}},\"marker\":{\"colorbar\":{\"outlinewidth\":0,\"ticks\":\"\"}}}],\"scattermapbox\":[{\"type\":\"scattermapbox\",\"marker\":{\"colorbar\":{\"outlinewidth\":0,\"ticks\":\"\"}}}],\"scatterternary\":[{\"type\":\"scatterternary\",\"marker\":{\"colorbar\":{\"outlinewidth\":0,\"ticks\":\"\"}}}],\"scattercarpet\":[{\"type\":\"scattercarpet\",\"marker\":{\"colorbar\":{\"outlinewidth\":0,\"ticks\":\"\"}}}],\"carpet\":[{\"aaxis\":{\"endlinecolor\":\"#2a3f5f\",\"gridcolor\":\"white\",\"linecolor\":\"white\",\"minorgridcolor\":\"white\",\"startlinecolor\":\"#2a3f5f\"},\"baxis\":{\"endlinecolor\":\"#2a3f5f\",\"gridcolor\":\"white\",\"linecolor\":\"white\",\"minorgridcolor\":\"white\",\"startlinecolor\":\"#2a3f5f\"},\"type\":\"carpet\"}],\"table\":[{\"cells\":{\"fill\":{\"color\":\"#EBF0F8\"},\"line\":{\"color\":\"white\"}},\"header\":{\"fill\":{\"color\":\"#C8D4E3\"},\"line\":{\"color\":\"white\"}},\"type\":\"table\"}],\"barpolar\":[{\"marker\":{\"line\":{\"color\":\"#E5ECF6\",\"width\":0.5},\"pattern\":{\"fillmode\":\"overlay\",\"size\":10,\"solidity\":0.2}},\"type\":\"barpolar\"}],\"pie\":[{\"automargin\":true,\"type\":\"pie\"}]},\"layout\":{\"autotypenumbers\":\"strict\",\"colorway\":[\"#636efa\",\"#EF553B\",\"#00cc96\",\"#ab63fa\",\"#FFA15A\",\"#19d3f3\",\"#FF6692\",\"#B6E880\",\"#FF97FF\",\"#FECB52\"],\"font\":{\"color\":\"#2a3f5f\"},\"hovermode\":\"closest\",\"hoverlabel\":{\"align\":\"left\"},\"paper_bgcolor\":\"white\",\"plot_bgcolor\":\"#E5ECF6\",\"polar\":{\"bgcolor\":\"#E5ECF6\",\"angularaxis\":{\"gridcolor\":\"white\",\"linecolor\":\"white\",\"ticks\":\"\"},\"radialaxis\":{\"gridcolor\":\"white\",\"linecolor\":\"white\",\"ticks\":\"\"}},\"ternary\":{\"bgcolor\":\"#E5ECF6\",\"aaxis\":{\"gridcolor\":\"white\",\"linecolor\":\"white\",\"ticks\":\"\"},\"baxis\":{\"gridcolor\":\"white\",\"linecolor\":\"white\",\"ticks\":\"\"},\"caxis\":{\"gridcolor\":\"white\",\"linecolor\":\"white\",\"ticks\":\"\"}},\"coloraxis\":{\"colorbar\":{\"outlinewidth\":0,\"ticks\":\"\"}},\"colorscale\":{\"sequential\":[[0.0,\"#0d0887\"],[0.1111111111111111,\"#46039f\"],[0.2222222222222222,\"#7201a8\"],[0.3333333333333333,\"#9c179e\"],[0.4444444444444444,\"#bd3786\"],[0.5555555555555556,\"#d8576b\"],[0.6666666666666666,\"#ed7953\"],[0.7777777777777778,\"#fb9f3a\"],[0.8888888888888888,\"#fdca26\"],[1.0,\"#f0f921\"]],\"sequentialminus\":[[0.0,\"#0d0887\"],[0.1111111111111111,\"#46039f\"],[0.2222222222222222,\"#7201a8\"],[0.3333333333333333,\"#9c179e\"],[0.4444444444444444,\"#bd3786\"],[0.5555555555555556,\"#d8576b\"],[0.6666666666666666,\"#ed7953\"],[0.7777777777777778,\"#fb9f3a\"],[0.8888888888888888,\"#fdca26\"],[1.0,\"#f0f921\"]],\"diverging\":[[0,\"#8e0152\"],[0.1,\"#c51b7d\"],[0.2,\"#de77ae\"],[0.3,\"#f1b6da\"],[0.4,\"#fde0ef\"],[0.5,\"#f7f7f7\"],[0.6,\"#e6f5d0\"],[0.7,\"#b8e186\"],[0.8,\"#7fbc41\"],[0.9,\"#4d9221\"],[1,\"#276419\"]]},\"xaxis\":{\"gridcolor\":\"white\",\"linecolor\":\"white\",\"ticks\":\"\",\"title\":{\"standoff\":15},\"zerolinecolor\":\"white\",\"automargin\":true,\"zerolinewidth\":2},\"yaxis\":{\"gridcolor\":\"white\",\"linecolor\":\"white\",\"ticks\":\"\",\"title\":{\"standoff\":15},\"zerolinecolor\":\"white\",\"automargin\":true,\"zerolinewidth\":2},\"scene\":{\"xaxis\":{\"backgroundcolor\":\"#E5ECF6\",\"gridcolor\":\"white\",\"linecolor\":\"white\",\"showbackground\":true,\"ticks\":\"\",\"zerolinecolor\":\"white\",\"gridwidth\":2},\"yaxis\":{\"backgroundcolor\":\"#E5ECF6\",\"gridcolor\":\"white\",\"linecolor\":\"white\",\"showbackground\":true,\"ticks\":\"\",\"zerolinecolor\":\"white\",\"gridwidth\":2},\"zaxis\":{\"backgroundcolor\":\"#E5ECF6\",\"gridcolor\":\"white\",\"linecolor\":\"white\",\"showbackground\":true,\"ticks\":\"\",\"zerolinecolor\":\"white\",\"gridwidth\":2}},\"shapedefaults\":{\"line\":{\"color\":\"#2a3f5f\"}},\"annotationdefaults\":{\"arrowcolor\":\"#2a3f5f\",\"arrowhead\":0,\"arrowwidth\":1},\"geo\":{\"bgcolor\":\"white\",\"landcolor\":\"#E5ECF6\",\"subunitcolor\":\"white\",\"showland\":true,\"showlakes\":true,\"lakecolor\":\"white\"},\"title\":{\"x\":0.05},\"mapbox\":{\"style\":\"light\"}}},\"xaxis\":{\"anchor\":\"y\",\"domain\":[0.0,1.0],\"title\":{\"text\":\"x\"}},\"yaxis\":{\"anchor\":\"x\",\"domain\":[0.0,1.0],\"title\":{\"text\":\"y\"}},\"legend\":{\"tracegroupgap\":0},\"margin\":{\"t\":60}},                        {\"responsive\": true}                    ).then(function(){\n",
              "                            \n",
              "var gd = document.getElementById('d16dfcf9-68ea-4443-a6b0-40d1eeec9803');\n",
              "var x = new MutationObserver(function (mutations, observer) {{\n",
              "        var display = window.getComputedStyle(gd).display;\n",
              "        if (!display || display === 'none') {{\n",
              "            console.log([gd, 'removed!']);\n",
              "            Plotly.purge(gd);\n",
              "            observer.disconnect();\n",
              "        }}\n",
              "}});\n",
              "\n",
              "// Listen for the removal of the full notebook cells\n",
              "var notebookContainer = gd.closest('#notebook-container');\n",
              "if (notebookContainer) {{\n",
              "    x.observe(notebookContainer, {childList: true});\n",
              "}}\n",
              "\n",
              "// Listen for the clearing of the current output cell\n",
              "var outputEl = gd.closest('.output');\n",
              "if (outputEl) {{\n",
              "    x.observe(outputEl, {childList: true});\n",
              "}}\n",
              "\n",
              "                        })                };                            </script>        </div>\n",
              "</body>\n",
              "</html>"
            ]
          },
          "metadata": {}
        }
      ]
    },
    {
      "cell_type": "markdown",
      "metadata": {
        "id": "SN_Ao9LRMr7s"
      },
      "source": [
        "It seems we have very little to work with! Just a handful of noisy points.\n",
        "\n",
        "How is it possible to devise a rule $f$ that is valid in general --i.e. for all the *infinite* points $x_i$ between 0 and 1 shall occur $t_i=f(x_i)$-- from such a *finite* set of observations?\n",
        "\n",
        "If we collect just 10 points and each of them agrees with a precise rule, why does that give us *any grounds* --even probabilistic grounds-- to expect the 11[$^{st}$](https://translate.google.com/translate?sl=it&tl=en&u=https://it.wikipedia.org/wiki/Tacchino_induttivista) point to follow the same rule?\n",
        "\n",
        "This is the essence of the so called [*Problem of induction*](https://ar5iv.labs.arxiv.org/html/1108.1791#S7) raised by David Hume more than two centuries ago. Still today this problem is at the core of the philosophical debate on the nature of knowledge."
      ]
    },
    {
      "cell_type": "markdown",
      "metadata": {
        "id": "mhRdUyWpwX-v"
      },
      "source": [
        "### Where to restart from?"
      ]
    },
    {
      "cell_type": "markdown",
      "source": [
        "We will take a very pragmatic point of view. Even if induction cannot be justified in general, we note that \"often it seems to work\". Therefore we proceed with our quest to find $f$.\n",
        "\n",
        "First of all, we observe that the quality of our guess $f$ depends crucially on how much information about the phenomenon $\\mathcal{P}$ we are given in advance, i.e. what **priors** do we have.\n",
        "\n",
        "\n",
        "\n",
        "**EXERCISE**: Suppose you have to guess this general rule $f$ to make predictions for new $x_i \\in [0,1]$. In which of the following scenarios would you like to find yourself to make the most accurate predictions?\n",
        "\n",
        "Write down a ranking from best to worst scenario, and then compare your ranking with those of your neighbors.\n",
        "\n",
        "For each scenario below, we give you a description of the available priors together with a plot.\n",
        "\n",
        "\n",
        "> **Scenario A**\n",
        ">\n",
        "> *priors:*\n",
        "> - 20 observations $(x_i,t_i)$ in the interval $[0,1]$ affected by a gaussian noise $0.1*\\epsilon$ where $\\epsilon \\sim \\mathcal{N}(0,1)$.\n",
        "\n",
        "> **Scenario B**\n",
        ">\n",
        "> *priors:*\n",
        "> - 20 observations $(x_i,t_i)$ in the interval $[0,1]$ affected by a gaussian noise $0.5*\\epsilon$ where $\\epsilon \\sim \\mathcal{N}(0,1)$\n",
        "\n",
        "> **Scenario C**\n",
        ">\n",
        "> *priors:*\n",
        "> - 40 observations $(x_i,t_i)$ in the interval $[0,1]$ affected by a gaussian noise $0.1*\\epsilon$ where $\\epsilon \\sim \\mathcal{N}(0,1)$\n",
        "\n",
        "> **Scenario D**\n",
        ">\n",
        "> *priors:*\n",
        "> - 100 observations $(x_i,t_i)$ in the interval $[0,0.3]$ affected by a gaussian noise $0.1*\\epsilon$ where $\\epsilon \\sim \\mathcal{N}(0,1)$\n",
        "\n",
        "> **Scenario E**\n",
        ">\n",
        "> *priors:*\n",
        "> - 10 observations $(x_i,t_i)$ in the interval $[0,1]$ affected by a gaussian noise $0.1*\\epsilon$ where $\\epsilon \\sim \\mathcal{N}(0,1)$\n",
        "> - you know that $f$ is in the form $f(x)=\\sin(kx)$ with $k\\in \\mathbb{R}$\n"
      ],
      "metadata": {
        "id": "4P5vTHieHC2R"
      }
    },
    {
      "cell_type": "code",
      "metadata": {
        "id": "3drUw3Pc8RWr",
        "colab": {
          "base_uri": "https://localhost:8080/",
          "height": 542
        },
        "outputId": "d74a999d-4698-41bf-a540-ae549de849c5",
        "cellView": "form"
      },
      "source": [
        "# @title Scenario plots\n",
        "\n",
        "xA = np.random.rand(20)\n",
        "tA = np.sin(2 * np.pi * xA) + 0.1 * np.random.randn(20)\n",
        "\n",
        "xB = np.random.rand(20)\n",
        "tB = np.sin(2 * np.pi * xB) + 0.5 * np.random.randn(20)\n",
        "\n",
        "xC = np.random.rand(40)\n",
        "tC = np.sin(2 * np.pi * xC) + 0.1 * np.random.randn(40)\n",
        "\n",
        "xD = np.random.rand(100) * 0.3\n",
        "tD = np.sin(2 * np.pi * xD) + 0.1 * np.random.randn(100)\n",
        "\n",
        "xE = np.random.rand(10)\n",
        "tE = np.sin(2 * np.pi * xE) + 0.1 * np.random.randn(10)\n",
        "\n",
        "fig = make_subplots(\n",
        "    rows=1, cols=5,\n",
        "    subplot_titles=(\"Scenario A\", \"Scenario B\", \"Scenario C\", \"Scenario D\", \"Scenario E\"))\n",
        "\n",
        "fig.add_trace(go.Scatter(x=xA, y=tA, mode='markers', marker=dict(color=\"mediumpurple\")),\n",
        "              row=1, col=1)\n",
        "\n",
        "fig.add_trace(go.Scatter(x=xB, y=tB, mode='markers', marker=dict(color=\"mediumpurple\")),\n",
        "              row=1, col=2)\n",
        "\n",
        "fig.add_trace(go.Scatter(x=xC, y=tC, mode='markers', marker=dict(color=\"mediumpurple\")),\n",
        "              row=1, col=3)\n",
        "\n",
        "fig.add_trace(go.Scatter(x=xD, y=tD, mode='markers', marker=dict(color=\"mediumpurple\")),\n",
        "              row=1, col=4)\n",
        "\n",
        "fig.add_trace(go.Scatter(x=xE, y=tE, mode='markers', marker=dict(color=\"crimson\")),\n",
        "              row=1, col=5)\n",
        "\n",
        "fig.update_xaxes(title_text=\"x\", range=[0, 1])\n",
        "fig.update_yaxes(title_text=\"\", range=[-1.7, 1.7])\n",
        "fig.update_layout(showlegend=False)\n",
        "\n",
        "fig.show()"
      ],
      "execution_count": 8,
      "outputs": [
        {
          "output_type": "display_data",
          "data": {
            "text/html": [
              "<html>\n",
              "<head><meta charset=\"utf-8\" /></head>\n",
              "<body>\n",
              "    <div>            <script src=\"https://cdnjs.cloudflare.com/ajax/libs/mathjax/2.7.5/MathJax.js?config=TeX-AMS-MML_SVG\"></script><script type=\"text/javascript\">if (window.MathJax && window.MathJax.Hub && window.MathJax.Hub.Config) {window.MathJax.Hub.Config({SVG: {font: \"STIX-Web\"}});}</script>                <script type=\"text/javascript\">window.PlotlyConfig = {MathJaxConfig: 'local'};</script>\n",
              "        <script charset=\"utf-8\" src=\"https://cdn.plot.ly/plotly-2.35.2.min.js\"></script>                <div id=\"7dbf17ba-9aae-43cc-be49-ca9d45d25e78\" class=\"plotly-graph-div\" style=\"height:525px; width:100%;\"></div>            <script type=\"text/javascript\">                                    window.PLOTLYENV=window.PLOTLYENV || {};                                    if (document.getElementById(\"7dbf17ba-9aae-43cc-be49-ca9d45d25e78\")) {                    Plotly.newPlot(                        \"7dbf17ba-9aae-43cc-be49-ca9d45d25e78\",                        [{\"marker\":{\"color\":\"mediumpurple\"},\"mode\":\"markers\",\"x\":[0.29214464853521815,0.3663618432936917,0.45606998421703593,0.7851759613930136,0.19967378215835974,0.5142344384136116,0.5924145688620425,0.046450412719997725,0.6075448519014384,0.17052412368729153,0.06505159298527952,0.9488855372533332,0.9656320330745594,0.8083973481164611,0.3046137691733707,0.09767211400638387,0.6842330265121569,0.4401524937396013,0.12203823484477883,0.4951769101112702],\"y\":[1.0473986646372184,0.6223406569333729,0.2934152421753372,-1.171641999181489,0.8176025258895546,-0.06963230184878447,-0.4747274365242228,0.3048675877466595,-0.6370273950283458,0.8477780508141505,0.2495931776706199,-0.3876534400464828,-0.26032986655933765,-0.8277239867725625,0.9760618621915267,0.3995856670069373,-0.8834217094123248,0.3287252937868287,0.6261341303657666,0.09146735826145963],\"type\":\"scatter\",\"xaxis\":\"x\",\"yaxis\":\"y\"},{\"marker\":{\"color\":\"mediumpurple\"},\"mode\":\"markers\",\"x\":[0.005522117123602399,0.8154614284548342,0.7068573438476171,0.7290071680409873,0.7712703466859457,0.07404465173409036,0.3584657285442726,0.11586905952512971,0.8631034258755935,0.6232981268275579,0.3308980248526492,0.06355835028602363,0.3109823217156622,0.32518332202674705,0.7296061783380641,0.6375574713552131,0.8872127425763265,0.4722149251619493,0.1195942459383017,0.713244787222995],\"y\":[0.2153873268108042,-0.14758105968559254,-0.9813970771358488,-0.20899172756978435,-2.300955272813918,0.8595852224156049,0.820145717991251,0.515894263730882,-0.7120577767262324,-1.6932897329097907,0.7637385267809292,0.5673748359932289,1.6664337078529434,0.6313478968344268,-1.3960483343758894,-1.0115189555624717,-0.19311838126033076,0.3380688845501171,0.4178063284244009,-0.7168179922721039],\"type\":\"scatter\",\"xaxis\":\"x2\",\"yaxis\":\"y2\"},{\"marker\":{\"color\":\"mediumpurple\"},\"mode\":\"markers\",\"x\":[0.8925589984899778,0.5393422419156507,0.8074401551640625,0.8960912999234932,0.3180034749718639,0.11005192452767676,0.22793516254194168,0.4271077886262563,0.8180147659224931,0.8607305832563434,0.006952130531190703,0.5107473025775657,0.417411003148779,0.22210781047073025,0.1198653673336828,0.33761517140362796,0.9429097039125192,0.32320293202075523,0.5187906217433661,0.7030189588951778,0.363629602379294,0.9717820827209607,0.9624472949421112,0.25178229582536416,0.49724850589238545,0.30087830981676966,0.2848404943774676,0.036886947354532795,0.6095643339798968,0.5026790232288615,0.05147875124998935,0.27864646423661144,0.9082658859666537,0.23956189066697242,0.1448948720912231,0.489452760277563,0.9856504541106007,0.2420552715115004,0.6721355474058786,0.7616196153287176],\"y\":[-0.5458501143397135,-0.3356235442910603,-0.7952974458681501,-0.7476598279337927,0.9687826324163429,0.8567208994483376,0.8913515771922633,0.385521101140059,-0.9001023857248115,-0.8179266757765974,-0.11139870864918461,-0.060619687850113776,0.3897139441639967,1.0320419111183123,0.5919877870607935,1.0072552790717517,-0.4293909417964871,0.8638696133639039,-0.03643913666568993,-1.0798331452977148,0.7785233870777207,-0.045656698970320264,-0.3945156802943589,1.0184006833640145,0.04327556560710827,1.0275189940299556,0.8524398245980173,0.09765248553567893,-0.5831182675564751,0.012866462832574338,0.3428893351058709,1.0184901172314904,-0.612996873677882,1.0210754722494138,0.8190572388783036,-0.00521337654043931,0.09653869820973064,1.0461376373754585,-1.0018221402938086,-0.9316807243537488],\"type\":\"scatter\",\"xaxis\":\"x3\",\"yaxis\":\"y3\"},{\"marker\":{\"color\":\"mediumpurple\"},\"mode\":\"markers\",\"x\":[0.21365376640426076,0.07117472624904002,0.09761990944778032,0.22394742153540723,0.1948898697141644,0.2547670231482534,0.197283867690103,0.1704925810006415,0.028102430348427743,0.11031474091783006,0.07956071030451763,0.07319689301372508,0.29190316642573366,0.11792931740002811,0.26761396655313396,0.18934158779917887,0.23844339106249451,0.15079112793155763,0.17307116538790773,0.14775530814565915,0.058572896339413344,0.2167356345784516,0.08423170873225673,0.007294789929436152,0.19364168877215035,0.05313320382211468,0.2821375753058743,0.2861785731007762,0.2744593170661345,0.11104761007663332,0.004636984958660229,0.2784955687763176,0.1284552444951943,0.28999644571310085,0.28908599312677585,0.255902836640208,0.0883346676208757,0.11552931858057758,0.25534100145505706,0.0950766015468833,0.05084782400582775,0.16704037873750505,0.2808464322482343,0.2088089390024919,0.17101835102680948,0.02915294813123056,0.18450216800975092,0.297016155031279,0.04202520457095721,0.155498895709121,0.26321192157838663,0.22223058532626133,0.20910472229858038,0.21074522519613278,0.10784734536592655,0.088077553279348,0.24280834664355408,0.24303401840375422,0.2601216955740311,0.2739721657669414,0.15340271965828134,0.15045488840615986,0.23948855369003252,0.19498917923332953,0.210590063177311,0.2387378008308303,0.2670016025452699,0.10139854705546074,0.1126748857919832,0.028194581952260697,0.1734840422988522,0.010782682139022625,0.13967940543973803,0.16279339041227298,0.08596237563848531,0.17724997817070323,0.009150074981714829,0.011204456624764325,0.24678016819789747,0.10805719242337887,0.038118153795565435,0.1566729780164413,0.23099806592958325,0.06474630824905295,0.18686714274570007,0.0256042394981304,0.01550451635058231,0.1594063894704444,0.16219053648303194,0.19122897044946197,0.21782740011679846,0.29275562383876036,0.1548901044903586,0.09688694188237379,0.23855585843061108,0.08124967537862227,0.13169142621169083,0.023536914402679788,0.007605223024637253,0.2887945244033775],\"y\":[1.0245354052648041,0.5190217012945867,0.4555918529463594,0.953182037930033,0.8931516164622207,0.9342185464347299,1.122190030978894,0.9182916686226423,0.04956828188807677,0.7307326851603748,0.6915487339294399,0.5471136663375872,0.8136031655938346,0.6265817959130471,1.120573237774318,0.8574786835278394,1.041746826755194,0.8893921576797281,0.792746165799121,0.7946942566945034,0.03564605180553432,0.8757988408299362,0.479623611560726,-0.07895984782191007,1.1011967027453649,0.18466474242996847,0.9356776061269534,0.9873486835895604,1.132341409903907,0.4988957002856807,0.14544728927161799,0.9850378904931532,0.6241393262395908,1.0147990621164746,0.9899013454740325,0.9392906083863244,0.533943129117044,0.6252715681020851,1.010788700843733,0.6286944554831024,0.4726805791729871,0.7434155164684184,1.1945801530163491,0.7714861660612208,0.8641927064886631,0.24098249272510502,0.9446070577950813,0.8944125530060174,0.24018216063614214,0.7795383514712947,0.9376199274539417,1.0697770860337474,1.002870463504912,0.9004460419355562,0.7169043923746283,0.5563191936571572,1.0802654761103807,1.0620051939678787,0.9150789237018115,0.9326598981981646,0.8961273039617218,0.871730691530382,0.995729638158491,0.9525904746979749,1.09726500369009,0.9383402410693642,1.0490094549864089,0.5746523017028511,0.6285151001201837,0.2861043359717379,0.9691835267504757,0.1490487369665766,0.8997755629123495,0.8557022868529239,0.5824320965201186,0.8663086771221707,0.08987658612804088,0.05732723473393957,1.009494960847243,0.6874867641912586,0.15539818555909518,1.0421819125760046,0.8922794190632143,0.2742656316464558,1.0381616330865717,0.23934940494528323,0.15967571818857207,0.9051581002808491,0.8503979210031914,0.8428659029939242,0.987218351156479,0.896416188438326,0.9242042353622808,0.5571437776983994,0.9148661818902639,0.45648087773868695,0.7774955244282766,0.09097586884858652,-0.0344551973712225,0.9948077146690533],\"type\":\"scatter\",\"xaxis\":\"x4\",\"yaxis\":\"y4\"},{\"marker\":{\"color\":\"crimson\"},\"mode\":\"markers\",\"x\":[0.08410680611499743,0.70096913145912,0.07276300636419353,0.8218600592903562,0.7062422271564962,0.08134878064189976,0.08483771408519192,0.9866395785011755,0.3742707957561203,0.3706421470668909],\"y\":[0.4323584300469619,-0.9742652642366553,0.4725133315290869,-0.7522536264180602,-0.8766760163182921,0.47316881517583953,0.5062618555254742,-0.18410038163147216,0.7084878034927269,0.697334875506115],\"type\":\"scatter\",\"xaxis\":\"x5\",\"yaxis\":\"y5\"}],                        {\"template\":{\"data\":{\"histogram2dcontour\":[{\"type\":\"histogram2dcontour\",\"colorbar\":{\"outlinewidth\":0,\"ticks\":\"\"},\"colorscale\":[[0.0,\"#0d0887\"],[0.1111111111111111,\"#46039f\"],[0.2222222222222222,\"#7201a8\"],[0.3333333333333333,\"#9c179e\"],[0.4444444444444444,\"#bd3786\"],[0.5555555555555556,\"#d8576b\"],[0.6666666666666666,\"#ed7953\"],[0.7777777777777778,\"#fb9f3a\"],[0.8888888888888888,\"#fdca26\"],[1.0,\"#f0f921\"]]}],\"choropleth\":[{\"type\":\"choropleth\",\"colorbar\":{\"outlinewidth\":0,\"ticks\":\"\"}}],\"histogram2d\":[{\"type\":\"histogram2d\",\"colorbar\":{\"outlinewidth\":0,\"ticks\":\"\"},\"colorscale\":[[0.0,\"#0d0887\"],[0.1111111111111111,\"#46039f\"],[0.2222222222222222,\"#7201a8\"],[0.3333333333333333,\"#9c179e\"],[0.4444444444444444,\"#bd3786\"],[0.5555555555555556,\"#d8576b\"],[0.6666666666666666,\"#ed7953\"],[0.7777777777777778,\"#fb9f3a\"],[0.8888888888888888,\"#fdca26\"],[1.0,\"#f0f921\"]]}],\"heatmap\":[{\"type\":\"heatmap\",\"colorbar\":{\"outlinewidth\":0,\"ticks\":\"\"},\"colorscale\":[[0.0,\"#0d0887\"],[0.1111111111111111,\"#46039f\"],[0.2222222222222222,\"#7201a8\"],[0.3333333333333333,\"#9c179e\"],[0.4444444444444444,\"#bd3786\"],[0.5555555555555556,\"#d8576b\"],[0.6666666666666666,\"#ed7953\"],[0.7777777777777778,\"#fb9f3a\"],[0.8888888888888888,\"#fdca26\"],[1.0,\"#f0f921\"]]}],\"heatmapgl\":[{\"type\":\"heatmapgl\",\"colorbar\":{\"outlinewidth\":0,\"ticks\":\"\"},\"colorscale\":[[0.0,\"#0d0887\"],[0.1111111111111111,\"#46039f\"],[0.2222222222222222,\"#7201a8\"],[0.3333333333333333,\"#9c179e\"],[0.4444444444444444,\"#bd3786\"],[0.5555555555555556,\"#d8576b\"],[0.6666666666666666,\"#ed7953\"],[0.7777777777777778,\"#fb9f3a\"],[0.8888888888888888,\"#fdca26\"],[1.0,\"#f0f921\"]]}],\"contourcarpet\":[{\"type\":\"contourcarpet\",\"colorbar\":{\"outlinewidth\":0,\"ticks\":\"\"}}],\"contour\":[{\"type\":\"contour\",\"colorbar\":{\"outlinewidth\":0,\"ticks\":\"\"},\"colorscale\":[[0.0,\"#0d0887\"],[0.1111111111111111,\"#46039f\"],[0.2222222222222222,\"#7201a8\"],[0.3333333333333333,\"#9c179e\"],[0.4444444444444444,\"#bd3786\"],[0.5555555555555556,\"#d8576b\"],[0.6666666666666666,\"#ed7953\"],[0.7777777777777778,\"#fb9f3a\"],[0.8888888888888888,\"#fdca26\"],[1.0,\"#f0f921\"]]}],\"surface\":[{\"type\":\"surface\",\"colorbar\":{\"outlinewidth\":0,\"ticks\":\"\"},\"colorscale\":[[0.0,\"#0d0887\"],[0.1111111111111111,\"#46039f\"],[0.2222222222222222,\"#7201a8\"],[0.3333333333333333,\"#9c179e\"],[0.4444444444444444,\"#bd3786\"],[0.5555555555555556,\"#d8576b\"],[0.6666666666666666,\"#ed7953\"],[0.7777777777777778,\"#fb9f3a\"],[0.8888888888888888,\"#fdca26\"],[1.0,\"#f0f921\"]]}],\"mesh3d\":[{\"type\":\"mesh3d\",\"colorbar\":{\"outlinewidth\":0,\"ticks\":\"\"}}],\"scatter\":[{\"fillpattern\":{\"fillmode\":\"overlay\",\"size\":10,\"solidity\":0.2},\"type\":\"scatter\"}],\"parcoords\":[{\"type\":\"parcoords\",\"line\":{\"colorbar\":{\"outlinewidth\":0,\"ticks\":\"\"}}}],\"scatterpolargl\":[{\"type\":\"scatterpolargl\",\"marker\":{\"colorbar\":{\"outlinewidth\":0,\"ticks\":\"\"}}}],\"bar\":[{\"error_x\":{\"color\":\"#2a3f5f\"},\"error_y\":{\"color\":\"#2a3f5f\"},\"marker\":{\"line\":{\"color\":\"#E5ECF6\",\"width\":0.5},\"pattern\":{\"fillmode\":\"overlay\",\"size\":10,\"solidity\":0.2}},\"type\":\"bar\"}],\"scattergeo\":[{\"type\":\"scattergeo\",\"marker\":{\"colorbar\":{\"outlinewidth\":0,\"ticks\":\"\"}}}],\"scatterpolar\":[{\"type\":\"scatterpolar\",\"marker\":{\"colorbar\":{\"outlinewidth\":0,\"ticks\":\"\"}}}],\"histogram\":[{\"marker\":{\"pattern\":{\"fillmode\":\"overlay\",\"size\":10,\"solidity\":0.2}},\"type\":\"histogram\"}],\"scattergl\":[{\"type\":\"scattergl\",\"marker\":{\"colorbar\":{\"outlinewidth\":0,\"ticks\":\"\"}}}],\"scatter3d\":[{\"type\":\"scatter3d\",\"line\":{\"colorbar\":{\"outlinewidth\":0,\"ticks\":\"\"}},\"marker\":{\"colorbar\":{\"outlinewidth\":0,\"ticks\":\"\"}}}],\"scattermapbox\":[{\"type\":\"scattermapbox\",\"marker\":{\"colorbar\":{\"outlinewidth\":0,\"ticks\":\"\"}}}],\"scatterternary\":[{\"type\":\"scatterternary\",\"marker\":{\"colorbar\":{\"outlinewidth\":0,\"ticks\":\"\"}}}],\"scattercarpet\":[{\"type\":\"scattercarpet\",\"marker\":{\"colorbar\":{\"outlinewidth\":0,\"ticks\":\"\"}}}],\"carpet\":[{\"aaxis\":{\"endlinecolor\":\"#2a3f5f\",\"gridcolor\":\"white\",\"linecolor\":\"white\",\"minorgridcolor\":\"white\",\"startlinecolor\":\"#2a3f5f\"},\"baxis\":{\"endlinecolor\":\"#2a3f5f\",\"gridcolor\":\"white\",\"linecolor\":\"white\",\"minorgridcolor\":\"white\",\"startlinecolor\":\"#2a3f5f\"},\"type\":\"carpet\"}],\"table\":[{\"cells\":{\"fill\":{\"color\":\"#EBF0F8\"},\"line\":{\"color\":\"white\"}},\"header\":{\"fill\":{\"color\":\"#C8D4E3\"},\"line\":{\"color\":\"white\"}},\"type\":\"table\"}],\"barpolar\":[{\"marker\":{\"line\":{\"color\":\"#E5ECF6\",\"width\":0.5},\"pattern\":{\"fillmode\":\"overlay\",\"size\":10,\"solidity\":0.2}},\"type\":\"barpolar\"}],\"pie\":[{\"automargin\":true,\"type\":\"pie\"}]},\"layout\":{\"autotypenumbers\":\"strict\",\"colorway\":[\"#636efa\",\"#EF553B\",\"#00cc96\",\"#ab63fa\",\"#FFA15A\",\"#19d3f3\",\"#FF6692\",\"#B6E880\",\"#FF97FF\",\"#FECB52\"],\"font\":{\"color\":\"#2a3f5f\"},\"hovermode\":\"closest\",\"hoverlabel\":{\"align\":\"left\"},\"paper_bgcolor\":\"white\",\"plot_bgcolor\":\"#E5ECF6\",\"polar\":{\"bgcolor\":\"#E5ECF6\",\"angularaxis\":{\"gridcolor\":\"white\",\"linecolor\":\"white\",\"ticks\":\"\"},\"radialaxis\":{\"gridcolor\":\"white\",\"linecolor\":\"white\",\"ticks\":\"\"}},\"ternary\":{\"bgcolor\":\"#E5ECF6\",\"aaxis\":{\"gridcolor\":\"white\",\"linecolor\":\"white\",\"ticks\":\"\"},\"baxis\":{\"gridcolor\":\"white\",\"linecolor\":\"white\",\"ticks\":\"\"},\"caxis\":{\"gridcolor\":\"white\",\"linecolor\":\"white\",\"ticks\":\"\"}},\"coloraxis\":{\"colorbar\":{\"outlinewidth\":0,\"ticks\":\"\"}},\"colorscale\":{\"sequential\":[[0.0,\"#0d0887\"],[0.1111111111111111,\"#46039f\"],[0.2222222222222222,\"#7201a8\"],[0.3333333333333333,\"#9c179e\"],[0.4444444444444444,\"#bd3786\"],[0.5555555555555556,\"#d8576b\"],[0.6666666666666666,\"#ed7953\"],[0.7777777777777778,\"#fb9f3a\"],[0.8888888888888888,\"#fdca26\"],[1.0,\"#f0f921\"]],\"sequentialminus\":[[0.0,\"#0d0887\"],[0.1111111111111111,\"#46039f\"],[0.2222222222222222,\"#7201a8\"],[0.3333333333333333,\"#9c179e\"],[0.4444444444444444,\"#bd3786\"],[0.5555555555555556,\"#d8576b\"],[0.6666666666666666,\"#ed7953\"],[0.7777777777777778,\"#fb9f3a\"],[0.8888888888888888,\"#fdca26\"],[1.0,\"#f0f921\"]],\"diverging\":[[0,\"#8e0152\"],[0.1,\"#c51b7d\"],[0.2,\"#de77ae\"],[0.3,\"#f1b6da\"],[0.4,\"#fde0ef\"],[0.5,\"#f7f7f7\"],[0.6,\"#e6f5d0\"],[0.7,\"#b8e186\"],[0.8,\"#7fbc41\"],[0.9,\"#4d9221\"],[1,\"#276419\"]]},\"xaxis\":{\"gridcolor\":\"white\",\"linecolor\":\"white\",\"ticks\":\"\",\"title\":{\"standoff\":15},\"zerolinecolor\":\"white\",\"automargin\":true,\"zerolinewidth\":2},\"yaxis\":{\"gridcolor\":\"white\",\"linecolor\":\"white\",\"ticks\":\"\",\"title\":{\"standoff\":15},\"zerolinecolor\":\"white\",\"automargin\":true,\"zerolinewidth\":2},\"scene\":{\"xaxis\":{\"backgroundcolor\":\"#E5ECF6\",\"gridcolor\":\"white\",\"linecolor\":\"white\",\"showbackground\":true,\"ticks\":\"\",\"zerolinecolor\":\"white\",\"gridwidth\":2},\"yaxis\":{\"backgroundcolor\":\"#E5ECF6\",\"gridcolor\":\"white\",\"linecolor\":\"white\",\"showbackground\":true,\"ticks\":\"\",\"zerolinecolor\":\"white\",\"gridwidth\":2},\"zaxis\":{\"backgroundcolor\":\"#E5ECF6\",\"gridcolor\":\"white\",\"linecolor\":\"white\",\"showbackground\":true,\"ticks\":\"\",\"zerolinecolor\":\"white\",\"gridwidth\":2}},\"shapedefaults\":{\"line\":{\"color\":\"#2a3f5f\"}},\"annotationdefaults\":{\"arrowcolor\":\"#2a3f5f\",\"arrowhead\":0,\"arrowwidth\":1},\"geo\":{\"bgcolor\":\"white\",\"landcolor\":\"#E5ECF6\",\"subunitcolor\":\"white\",\"showland\":true,\"showlakes\":true,\"lakecolor\":\"white\"},\"title\":{\"x\":0.05},\"mapbox\":{\"style\":\"light\"}}},\"xaxis\":{\"anchor\":\"y\",\"domain\":[0.0,0.16799999999999998],\"title\":{\"text\":\"x\"},\"range\":[0,1]},\"yaxis\":{\"anchor\":\"x\",\"domain\":[0.0,1.0],\"title\":{\"text\":\"\"},\"range\":[-1.7,1.7]},\"xaxis2\":{\"anchor\":\"y2\",\"domain\":[0.208,0.376],\"title\":{\"text\":\"x\"},\"range\":[0,1]},\"yaxis2\":{\"anchor\":\"x2\",\"domain\":[0.0,1.0],\"title\":{\"text\":\"\"},\"range\":[-1.7,1.7]},\"xaxis3\":{\"anchor\":\"y3\",\"domain\":[0.416,0.584],\"title\":{\"text\":\"x\"},\"range\":[0,1]},\"yaxis3\":{\"anchor\":\"x3\",\"domain\":[0.0,1.0],\"title\":{\"text\":\"\"},\"range\":[-1.7,1.7]},\"xaxis4\":{\"anchor\":\"y4\",\"domain\":[0.624,0.792],\"title\":{\"text\":\"x\"},\"range\":[0,1]},\"yaxis4\":{\"anchor\":\"x4\",\"domain\":[0.0,1.0],\"title\":{\"text\":\"\"},\"range\":[-1.7,1.7]},\"xaxis5\":{\"anchor\":\"y5\",\"domain\":[0.832,1.0],\"title\":{\"text\":\"x\"},\"range\":[0,1]},\"yaxis5\":{\"anchor\":\"x5\",\"domain\":[0.0,1.0],\"title\":{\"text\":\"\"},\"range\":[-1.7,1.7]},\"annotations\":[{\"font\":{\"size\":16},\"showarrow\":false,\"text\":\"Scenario A\",\"x\":0.08399999999999999,\"xanchor\":\"center\",\"xref\":\"paper\",\"y\":1.0,\"yanchor\":\"bottom\",\"yref\":\"paper\"},{\"font\":{\"size\":16},\"showarrow\":false,\"text\":\"Scenario B\",\"x\":0.292,\"xanchor\":\"center\",\"xref\":\"paper\",\"y\":1.0,\"yanchor\":\"bottom\",\"yref\":\"paper\"},{\"font\":{\"size\":16},\"showarrow\":false,\"text\":\"Scenario C\",\"x\":0.5,\"xanchor\":\"center\",\"xref\":\"paper\",\"y\":1.0,\"yanchor\":\"bottom\",\"yref\":\"paper\"},{\"font\":{\"size\":16},\"showarrow\":false,\"text\":\"Scenario D\",\"x\":0.708,\"xanchor\":\"center\",\"xref\":\"paper\",\"y\":1.0,\"yanchor\":\"bottom\",\"yref\":\"paper\"},{\"font\":{\"size\":16},\"showarrow\":false,\"text\":\"Scenario E\",\"x\":0.9159999999999999,\"xanchor\":\"center\",\"xref\":\"paper\",\"y\":1.0,\"yanchor\":\"bottom\",\"yref\":\"paper\"}],\"showlegend\":false},                        {\"responsive\": true}                    ).then(function(){\n",
              "                            \n",
              "var gd = document.getElementById('7dbf17ba-9aae-43cc-be49-ca9d45d25e78');\n",
              "var x = new MutationObserver(function (mutations, observer) {{\n",
              "        var display = window.getComputedStyle(gd).display;\n",
              "        if (!display || display === 'none') {{\n",
              "            console.log([gd, 'removed!']);\n",
              "            Plotly.purge(gd);\n",
              "            observer.disconnect();\n",
              "        }}\n",
              "}});\n",
              "\n",
              "// Listen for the removal of the full notebook cells\n",
              "var notebookContainer = gd.closest('#notebook-container');\n",
              "if (notebookContainer) {{\n",
              "    x.observe(notebookContainer, {childList: true});\n",
              "}}\n",
              "\n",
              "// Listen for the clearing of the current output cell\n",
              "var outputEl = gd.closest('.output');\n",
              "if (outputEl) {{\n",
              "    x.observe(outputEl, {childList: true});\n",
              "}}\n",
              "\n",
              "                        })                };                            </script>        </div>\n",
              "</body>\n",
              "</html>"
            ]
          },
          "metadata": {}
        }
      ]
    },
    {
      "cell_type": "markdown",
      "metadata": {
        "id": "uQDNfE2ADPUG"
      },
      "source": [
        "If you want to learn more, [here](http://bit.ly/3BLUE1BROWN2TWY9iI) you can find a nice discussion about an analogous exercise:\n",
        "> Three Amazon resellers offer a book at essentially the same price. These are their ratings:\n",
        ">\n",
        "> - 100% positive out of 10 reviews\n",
        "> - 96% positive out of 50 reviews\n",
        "> - 93% positive out of 200 reviews\n",
        ">\n",
        "> Which rating is better?\n",
        "\n",
        "> **EXERCISE (optional)**: You probably realized that in the previous exercise you wanted to be in the scenario with the largest amount of relevant information about the phenomenon $\\mathcal{P}$. Now a tricky question: the dataset of which scenario, A or B, contains more *absolute* information? (i.e. Shannon information)\n",
        ">\n",
        ">Answer [here](http://bit.ly/VeritasiumRandom3b0rPBe), or more directly [here](https://en.wikipedia.org/wiki/Quantities_of_information#Self-information)."
      ]
    },
    {
      "cell_type": "markdown",
      "metadata": {
        "id": "yTDKBC5GL7MI"
      },
      "source": [
        "### Being linear in the parameters does not mean linear in the input\n",
        "\n",
        "In this tutorial we will restrict our search of $f$ among parametrized functions $f_\\theta$ that depend *linearly* on their finite set of parameters $\\theta = \\{a,b,c,...\\}$.\n",
        "\n",
        "Possible choices of $f$ are\n",
        "- $f_1(x) = ax + b$\n",
        "- $f_2(x) = ax^2 + bx + c$\n",
        "- $f_3(x) = a \\sin(2 \\pi x) + bx + c$"
      ]
    },
    {
      "cell_type": "code",
      "metadata": {
        "id": "1C9ECfD-Q65g",
        "colab": {
          "base_uri": "https://localhost:8080/",
          "height": 542
        },
        "outputId": "f36bbc1d-d0bc-4998-ae79-9c03242f8ab8",
        "cellView": "form"
      },
      "source": [
        "# @title Some random plots of these linear models\n",
        "\n",
        "\n",
        "x_funcs = np.arange(0., 1.1, 2./51)\n",
        "theta_funcs = np.random.randn(10, 3)\n",
        "\n",
        "fig = make_subplots(\n",
        "    rows=1, cols=3,\n",
        "    subplot_titles=(\"f1\", \"f2\", \"f3\"))\n",
        "\n",
        "for a, b in theta_funcs[:,:2]:\n",
        "    fig.add_trace(go.Scatter(x=x_funcs, y=a*x_funcs + b, mode='lines'),\n",
        "                row=1, col=1)\n",
        "\n",
        "for a, b, c in theta_funcs:\n",
        "    fig.add_trace(go.Scatter(x=x_funcs, y=a*x_funcs**2 + b*x_funcs + c, mode='lines'),\n",
        "                row=1, col=2)\n",
        "\n",
        "for a, b, c in theta_funcs:\n",
        "    fig.add_trace(go.Scatter(x=x_funcs, y=a*np.sin(2 * np.pi * x_funcs) + b*x_funcs + c, mode='lines'),\n",
        "                row=1, col=3)\n",
        "\n",
        "for i in range(3):\n",
        "    fig.add_trace(go.Scatter(x=x, y=t, mode='markers', marker=dict(color=\"mediumpurple\")),\n",
        "                row=1, col=i + 1)\n",
        "\n",
        "fig.update_xaxes(title_text=\"x\", range = [0,1])\n",
        "fig.update_yaxes(title_text=\"t\", range = [-2,2])\n",
        "fig.update_layout(showlegend=False)\n",
        "\n",
        "fig.show()"
      ],
      "execution_count": 12,
      "outputs": [
        {
          "output_type": "display_data",
          "data": {
            "text/html": [
              "<html>\n",
              "<head><meta charset=\"utf-8\" /></head>\n",
              "<body>\n",
              "    <div>            <script src=\"https://cdnjs.cloudflare.com/ajax/libs/mathjax/2.7.5/MathJax.js?config=TeX-AMS-MML_SVG\"></script><script type=\"text/javascript\">if (window.MathJax && window.MathJax.Hub && window.MathJax.Hub.Config) {window.MathJax.Hub.Config({SVG: {font: \"STIX-Web\"}});}</script>                <script type=\"text/javascript\">window.PlotlyConfig = {MathJaxConfig: 'local'};</script>\n",
              "        <script charset=\"utf-8\" src=\"https://cdn.plot.ly/plotly-2.35.2.min.js\"></script>                <div id=\"dcd9b05a-98f5-40ea-a2d0-6f9f969ab942\" class=\"plotly-graph-div\" style=\"height:525px; width:100%;\"></div>            <script type=\"text/javascript\">                                    window.PLOTLYENV=window.PLOTLYENV || {};                                    if (document.getElementById(\"dcd9b05a-98f5-40ea-a2d0-6f9f969ab942\")) {                    Plotly.newPlot(                        \"dcd9b05a-98f5-40ea-a2d0-6f9f969ab942\",                        [{\"mode\":\"lines\",\"x\":[0.0,0.0392156862745098,0.0784313725490196,0.11764705882352941,0.1568627450980392,0.19607843137254902,0.23529411764705882,0.27450980392156865,0.3137254901960784,0.3529411764705882,0.39215686274509803,0.43137254901960786,0.47058823529411764,0.5098039215686274,0.5490196078431373,0.5882352941176471,0.6274509803921569,0.6666666666666666,0.7058823529411764,0.7450980392156863,0.7843137254901961,0.8235294117647058,0.8627450980392157,0.9019607843137255,0.9411764705882353,0.9803921568627451,1.0196078431372548,1.0588235294117647,1.0980392156862746],\"y\":[-1.0592135218889516,-1.0793651657060768,-1.099516809523202,-1.1196684533403274,-1.1398200971574526,-1.1599717409745778,-1.180123384791703,-1.2002750286088282,-1.2204266724259534,-1.2405783162430786,-1.260729960060204,-1.2808816038773292,-1.3010332476944544,-1.3211848915115796,-1.341336535328705,-1.3614881791458302,-1.3816398229629554,-1.4017914667800806,-1.4219431105972058,-1.442094754414331,-1.4622463982314562,-1.4823980420485814,-1.5025496858657068,-1.522701329682832,-1.5428529734999572,-1.5630046173170826,-1.5831562611342078,-1.603307904951333,-1.6234595487684582],\"type\":\"scatter\",\"xaxis\":\"x\",\"yaxis\":\"y\"},{\"mode\":\"lines\",\"x\":[0.0,0.0392156862745098,0.0784313725490196,0.11764705882352941,0.1568627450980392,0.19607843137254902,0.23529411764705882,0.27450980392156865,0.3137254901960784,0.3529411764705882,0.39215686274509803,0.43137254901960786,0.47058823529411764,0.5098039215686274,0.5490196078431373,0.5882352941176471,0.6274509803921569,0.6666666666666666,0.7058823529411764,0.7450980392156863,0.7843137254901961,0.8235294117647058,0.8627450980392157,0.9019607843137255,0.9411764705882353,0.9803921568627451,1.0196078431372548,1.0588235294117647,1.0980392156862746],\"y\":[-0.9857260463355437,-0.9482694847472599,-0.910812923158976,-0.8733563615706922,-0.8358997999824083,-0.7984432383941245,-0.7609866768058406,-0.7235301152175567,-0.6860735536292729,-0.6486169920409891,-0.6111604304527052,-0.5737038688644214,-0.5362473072761376,-0.49879074568785364,-0.4613341840995697,-0.4238776225112859,-0.3864210609230021,-0.3489644993347183,-0.3115079377464345,-0.27405137615815045,-0.23659481456986664,-0.19913825298158283,-0.1616816913932989,-0.1242251298050151,-0.08676856821673129,-0.04931200662844748,-0.01185544504016356,0.02560111654812025,0.06305767813640428],\"type\":\"scatter\",\"xaxis\":\"x\",\"yaxis\":\"y\"},{\"mode\":\"lines\",\"x\":[0.0,0.0392156862745098,0.0784313725490196,0.11764705882352941,0.1568627450980392,0.19607843137254902,0.23529411764705882,0.27450980392156865,0.3137254901960784,0.3529411764705882,0.39215686274509803,0.43137254901960786,0.47058823529411764,0.5098039215686274,0.5490196078431373,0.5882352941176471,0.6274509803921569,0.6666666666666666,0.7058823529411764,0.7450980392156863,0.7843137254901961,0.8235294117647058,0.8627450980392157,0.9019607843137255,0.9411764705882353,0.9803921568627451,1.0196078431372548,1.0588235294117647,1.0980392156862746],\"y\":[-0.7928728322623442,-0.8136672486691066,-0.8344616650758689,-0.8552560814826313,-0.8760504978893937,-0.8968449142961561,-0.9176393307029185,-0.9384337471096809,-0.9592281635164432,-0.9800225799232056,-1.000816996329968,-1.0216114127367304,-1.0424058291434928,-1.0632002455502552,-1.0839946619570175,-1.10478907836378,-1.1255834947705423,-1.1463779111773047,-1.167172327584067,-1.1879667439908295,-1.2087611603975918,-1.2295555768043542,-1.2503499932111166,-1.271144409617879,-1.2919388260246414,-1.3127332424314038,-1.3335276588381662,-1.3543220752449285,-1.375116491651691],\"type\":\"scatter\",\"xaxis\":\"x\",\"yaxis\":\"y\"},{\"mode\":\"lines\",\"x\":[0.0,0.0392156862745098,0.0784313725490196,0.11764705882352941,0.1568627450980392,0.19607843137254902,0.23529411764705882,0.27450980392156865,0.3137254901960784,0.3529411764705882,0.39215686274509803,0.43137254901960786,0.47058823529411764,0.5098039215686274,0.5490196078431373,0.5882352941176471,0.6274509803921569,0.6666666666666666,0.7058823529411764,0.7450980392156863,0.7843137254901961,0.8235294117647058,0.8627450980392157,0.9019607843137255,0.9411764705882353,0.9803921568627451,1.0196078431372548,1.0588235294117647,1.0980392156862746],\"y\":[-0.553649305347182,-0.5942470434812751,-0.6348447816153683,-0.6754425197494613,-0.7160402578835544,-0.7566379960176476,-0.7972357341517406,-0.8378334722858338,-0.8784312104199268,-0.91902894855402,-0.9596266866881131,-1.000224424822206,-1.0408221629562993,-1.0814199010903924,-1.1220176392244854,-1.1626153773585786,-1.2032131154926717,-1.2438108536267647,-1.2844085917608576,-1.325006329894951,-1.365604068029044,-1.4062018061631372,-1.4467995442972303,-1.4873972824313233,-1.5279950205654165,-1.5685927586995094,-1.6091904968336026,-1.6497882349676958,-1.690385973101789],\"type\":\"scatter\",\"xaxis\":\"x\",\"yaxis\":\"y\"},{\"mode\":\"lines\",\"x\":[0.0,0.0392156862745098,0.0784313725490196,0.11764705882352941,0.1568627450980392,0.19607843137254902,0.23529411764705882,0.27450980392156865,0.3137254901960784,0.3529411764705882,0.39215686274509803,0.43137254901960786,0.47058823529411764,0.5098039215686274,0.5490196078431373,0.5882352941176471,0.6274509803921569,0.6666666666666666,0.7058823529411764,0.7450980392156863,0.7843137254901961,0.8235294117647058,0.8627450980392157,0.9019607843137255,0.9411764705882353,0.9803921568627451,1.0196078431372548,1.0588235294117647,1.0980392156862746],\"y\":[0.03526355197172861,0.1123115963998223,0.189359640827916,0.2664076852560097,0.3434557296841034,0.4205037741121971,0.4975518185402908,0.5745998629683845,0.6516479073964782,0.7286959518245718,0.8057439962526656,0.8827920406807593,0.959840085108853,1.0368881295369465,1.1139361739650404,1.190984218393134,1.2680322628212277,1.3450803072493214,1.422128351677415,1.499176396105509,1.5762244405336026,1.6532724849616962,1.73032052938979,1.8073685738178837,1.8844166182459774,1.961464662674071,2.0385127071021647,2.115560751530259,2.1926087959583525],\"type\":\"scatter\",\"xaxis\":\"x\",\"yaxis\":\"y\"},{\"mode\":\"lines\",\"x\":[0.0,0.0392156862745098,0.0784313725490196,0.11764705882352941,0.1568627450980392,0.19607843137254902,0.23529411764705882,0.27450980392156865,0.3137254901960784,0.3529411764705882,0.39215686274509803,0.43137254901960786,0.47058823529411764,0.5098039215686274,0.5490196078431373,0.5882352941176471,0.6274509803921569,0.6666666666666666,0.7058823529411764,0.7450980392156863,0.7843137254901961,0.8235294117647058,0.8627450980392157,0.9019607843137255,0.9411764705882353,0.9803921568627451,1.0196078431372548,1.0588235294117647,1.0980392156862746],\"y\":[-0.11232804969082982,-0.10393668064242896,-0.0955453115940281,-0.08715394254562724,-0.07876257349722637,-0.0703712044488255,-0.06197983540042464,-0.05358846635202377,-0.045197097303622924,-0.03680572825522206,-0.028414359206821185,-0.020022990158420323,-0.01163162111001946,-0.003240252061618612,0.005151116986782278,0.013542486035183127,0.021933855083583975,0.03032522413198485,0.0387165931803857,0.047107962228786576,0.05549933127718745,0.0638907003255883,0.07228206937398918,0.08067343842239003,0.0890648074707909,0.09745617651919175,0.1058475455675926,0.11423891461599348,0.12263028366439438],\"type\":\"scatter\",\"xaxis\":\"x\",\"yaxis\":\"y\"},{\"mode\":\"lines\",\"x\":[0.0,0.0392156862745098,0.0784313725490196,0.11764705882352941,0.1568627450980392,0.19607843137254902,0.23529411764705882,0.27450980392156865,0.3137254901960784,0.3529411764705882,0.39215686274509803,0.43137254901960786,0.47058823529411764,0.5098039215686274,0.5490196078431373,0.5882352941176471,0.6274509803921569,0.6666666666666666,0.7058823529411764,0.7450980392156863,0.7843137254901961,0.8235294117647058,0.8627450980392157,0.9019607843137255,0.9411764705882353,0.9803921568627451,1.0196078431372548,1.0588235294117647,1.0980392156862746],\"y\":[0.7575077100473051,0.781592678676459,0.805677647305613,0.8297626159347669,0.8538475845639208,0.8779325531930747,0.9020175218222287,0.9261024904513826,0.9501874590805366,0.9742724277096905,0.9983573963388443,1.0224423649679983,1.0465273335971523,1.070612302226306,1.09469727085546,1.118782239484614,1.1428672081137679,1.1669521767429218,1.1910371453720758,1.2151221140012298,1.2392070826303838,1.2632920512595376,1.2873770198886916,1.3114619885178453,1.3355469571469993,1.3596319257761533,1.3837168944053073,1.4078018630344613,1.4318868316636153],\"type\":\"scatter\",\"xaxis\":\"x\",\"yaxis\":\"y\"},{\"mode\":\"lines\",\"x\":[0.0,0.0392156862745098,0.0784313725490196,0.11764705882352941,0.1568627450980392,0.19607843137254902,0.23529411764705882,0.27450980392156865,0.3137254901960784,0.3529411764705882,0.39215686274509803,0.43137254901960786,0.47058823529411764,0.5098039215686274,0.5490196078431373,0.5882352941176471,0.6274509803921569,0.6666666666666666,0.7058823529411764,0.7450980392156863,0.7843137254901961,0.8235294117647058,0.8627450980392157,0.9019607843137255,0.9411764705882353,0.9803921568627451,1.0196078431372548,1.0588235294117647,1.0980392156862746],\"y\":[-0.275051697151644,-0.297632804627906,-0.32021391210416794,-0.3427950195804299,-0.36537612705669187,-0.38795723453295383,-0.4105383420092158,-0.43311944948547776,-0.4557005569617397,-0.4782816644380017,-0.5008627719142636,-0.5234438793905256,-0.5460249868667875,-0.5686060943430495,-0.5911872018193115,-0.6137683092955735,-0.6363494167718353,-0.6589305242480974,-0.6815116317243592,-0.7040927392006213,-0.7266738466768832,-0.7492549541531452,-0.7718360616294072,-0.7944171691056692,-0.816998276581931,-0.839579384058193,-0.862160491534455,-0.884741599010717,-0.907322706486979],\"type\":\"scatter\",\"xaxis\":\"x\",\"yaxis\":\"y\"},{\"mode\":\"lines\",\"x\":[0.0,0.0392156862745098,0.0784313725490196,0.11764705882352941,0.1568627450980392,0.19607843137254902,0.23529411764705882,0.27450980392156865,0.3137254901960784,0.3529411764705882,0.39215686274509803,0.43137254901960786,0.47058823529411764,0.5098039215686274,0.5490196078431373,0.5882352941176471,0.6274509803921569,0.6666666666666666,0.7058823529411764,0.7450980392156863,0.7843137254901961,0.8235294117647058,0.8627450980392157,0.9019607843137255,0.9411764705882353,0.9803921568627451,1.0196078431372548,1.0588235294117647,1.0980392156862746],\"y\":[1.3668742674445247,1.307455010103405,1.2480357527622852,1.1886164954211655,1.129197238080046,1.0697779807389263,1.0103587233978066,0.9509394660566868,0.8915202087155671,0.8321009513744475,0.7726816940333278,0.713262436692208,0.6538431793510884,0.5944239220099686,0.5350046646688489,0.47558540732772914,0.4161661499866095,0.35674689264549,0.29732763530437034,0.23790837796325048,0.17848912062213085,0.11906986328101121,0.059650605939891355,0.00023134859877171898,-0.05918790874234792,-0.11860716608346777,-0.1780264234245874,-0.23744568076570727,-0.2968649381068269],\"type\":\"scatter\",\"xaxis\":\"x\",\"yaxis\":\"y\"},{\"mode\":\"lines\",\"x\":[0.0,0.0392156862745098,0.0784313725490196,0.11764705882352941,0.1568627450980392,0.19607843137254902,0.23529411764705882,0.27450980392156865,0.3137254901960784,0.3529411764705882,0.39215686274509803,0.43137254901960786,0.47058823529411764,0.5098039215686274,0.5490196078431373,0.5882352941176471,0.6274509803921569,0.6666666666666666,0.7058823529411764,0.7450980392156863,0.7843137254901961,0.8235294117647058,0.8627450980392157,0.9019607843137255,0.9411764705882353,0.9803921568627451,1.0196078431372548,1.0588235294117647,1.0980392156862746],\"y\":[0.5765569630557664,0.5667908438574771,0.5570247246591877,0.5472586054608984,0.537492486262609,0.5277263670643197,0.5179602478660303,0.5081941286677409,0.49842800946945165,0.4886618902711623,0.47889577107287296,0.4691296518745836,0.45936353267629426,0.44959741347800497,0.43983129427971557,0.4300651750814262,0.4202990558831369,0.4105329366848476,0.4007668174865582,0.3910006982882689,0.3812345790899795,0.3714684598916902,0.3617023406934008,0.3519362214951115,0.3421701022968221,0.3324039830985328,0.32263786390024346,0.31287174470195406,0.3031056255036647],\"type\":\"scatter\",\"xaxis\":\"x\",\"yaxis\":\"y\"},{\"mode\":\"lines\",\"x\":[0.0,0.0392156862745098,0.0784313725490196,0.11764705882352941,0.1568627450980392,0.19607843137254902,0.23529411764705882,0.27450980392156865,0.3137254901960784,0.3529411764705882,0.39215686274509803,0.43137254901960786,0.47058823529411764,0.5098039215686274,0.5490196078431373,0.5882352941176471,0.6274509803921569,0.6666666666666666,0.7058823529411764,0.7450980392156863,0.7843137254901961,0.8235294117647058,0.8627450980392157,0.9019607843137255,0.9411764705882353,0.9803921568627451,1.0196078431372548,1.0588235294117647,1.0980392156862746],\"y\":[-0.06267909727317188,-0.10500714298713568,-0.14891570978479557,-0.19440479766615154,-0.24147440663120362,-0.29012453667995186,-0.3403551878123961,-0.39216636002853655,-0.44555805332837295,-0.5005302677119055,-0.5570830031791342,-0.615216259730059,-0.6749300373646798,-0.7362243360829968,-0.79909915588501,-0.863554496770719,-0.9295903587401242,-0.9972067417932255,-1.066403645930023,-1.1371810711505166,-1.2095390174547063,-1.2834774848425918,-1.358996473314174,-1.4360959828694517,-1.5147760135084258,-1.5950365652310958,-1.6768776380374621,-1.7602992319275246,-1.8453013469012831],\"type\":\"scatter\",\"xaxis\":\"x2\",\"yaxis\":\"y2\"},{\"mode\":\"lines\",\"x\":[0.0,0.0392156862745098,0.0784313725490196,0.11764705882352941,0.1568627450980392,0.19607843137254902,0.23529411764705882,0.27450980392156865,0.3137254901960784,0.3529411764705882,0.39215686274509803,0.43137254901960786,0.47058823529411764,0.5098039215686274,0.5490196078431373,0.5882352941176471,0.6274509803921569,0.6666666666666666,0.7058823529411764,0.7450980392156863,0.7843137254901961,0.8235294117647058,0.8627450980392157,0.9019607843137255,0.9411764705882353,0.9803921568627451,1.0196078431372548,1.0588235294117647,1.0980392156862746],\"y\":[0.5040465155178444,0.4668594769003048,0.4326102078191012,0.4012987082742336,0.3729249782657019,0.34748901779350627,0.32499082685764663,0.30543040545812294,0.28880775359493527,0.27512287126808355,0.2643757584775679,0.2565664152233882,0.25169484150554444,0.24976103732403665,0.250765002678865,0.2547067375700292,0.26158624199752933,0.2714035159613656,0.28415855946153773,0.29985137249804594,0.31848195507089017,0.34005030718007034,0.3645564288255866,0.3920003200074387,0.4223819807256268,0.45570141098015093,0.4919586107710109,0.531153580098207,0.5732863189617394],\"type\":\"scatter\",\"xaxis\":\"x2\",\"yaxis\":\"y2\"},{\"mode\":\"lines\",\"x\":[0.0,0.0392156862745098,0.0784313725490196,0.11764705882352941,0.1568627450980392,0.19607843137254902,0.23529411764705882,0.27450980392156865,0.3137254901960784,0.3529411764705882,0.39215686274509803,0.43137254901960786,0.47058823529411764,0.5098039215686274,0.5490196078431373,0.5882352941176471,0.6274509803921569,0.6666666666666666,0.7058823529411764,0.7450980392156863,0.7843137254901961,0.8235294117647058,0.8627450980392157,0.9019607843137255,0.9411764705882353,0.9803921568627451,1.0196078431372548,1.0588235294117647,1.0980392156862746],\"y\":[-0.10703035995455783,-0.13893887951020906,-0.17247833368599852,-0.20764872248192623,-0.24445004589799213,-0.2828823039341963,-0.32294549659053867,-0.36463962386701926,-0.4079646857636381,-0.45292068228039506,-0.4995076134172904,-0.5477254791743239,-0.5975742795514956,-0.6490540145488055,-0.7021646841662538,-0.7569062884038401,-0.8132788272615648,-0.8712823007394275,-0.9309167088374285,-0.992182051555568,-1.0550783288938457,-1.1196055408522614,-1.1857636874308155,-1.2535527686295076,-1.322972784448338,-1.3940237348873066,-1.4667056199464135,-1.5410184396256588,-1.6169621939250423],\"type\":\"scatter\",\"xaxis\":\"x2\",\"yaxis\":\"y2\"},{\"mode\":\"lines\",\"x\":[0.0,0.0392156862745098,0.0784313725490196,0.11764705882352941,0.1568627450980392,0.19607843137254902,0.23529411764705882,0.27450980392156865,0.3137254901960784,0.3529411764705882,0.39215686274509803,0.43137254901960786,0.47058823529411764,0.5098039215686274,0.5490196078431373,0.5882352941176471,0.6274509803921569,0.6666666666666666,0.7058823529411764,0.7450980392156863,0.7843137254901961,0.8235294117647058,0.8627450980392157,0.9019607843137255,0.9411764705882353,0.9803921568627451,1.0196078431372548,1.0588235294117647,1.0980392156862746],\"y\":[-1.1978778925888485,-1.2211816982155652,-1.2476696401665244,-1.2773417184417264,-1.3101979330411708,-1.346238283964858,-1.3854627712127874,-1.4278713947849597,-1.4734641546813745,-1.5222410509020319,-1.5742020834469321,-1.6293472523160748,-1.6876765575094599,-1.7491899990270876,-1.8138875768689582,-1.8817692910350712,-1.9528351415254268,-2.027085128340025,-2.1045192514788655,-2.1851375109419493,-2.2689399067292753,-2.355926438840844,-2.446097107276655,-2.539451912036709,-2.6359908531210055,-2.7357139305295437,-2.8386211442623255,-2.94471249431935,-3.053987980700617],\"type\":\"scatter\",\"xaxis\":\"x2\",\"yaxis\":\"y2\"},{\"mode\":\"lines\",\"x\":[0.0,0.0392156862745098,0.0784313725490196,0.11764705882352941,0.1568627450980392,0.19607843137254902,0.23529411764705882,0.27450980392156865,0.3137254901960784,0.3529411764705882,0.39215686274509803,0.43137254901960786,0.47058823529411764,0.5098039215686274,0.5490196078431373,0.5882352941176471,0.6274509803921569,0.6666666666666666,0.7058823529411764,0.7450980392156863,0.7843137254901961,0.8235294117647058,0.8627450980392157,0.9019607843137255,0.9411764705882353,0.9803921568627451,1.0196078431372548,1.0588235294117647,1.0980392156862746],\"y\":[-0.6997255079925856,-0.6953211316631808,-0.6848737714570627,-0.6683834273742315,-0.645850099414687,-0.6172737875784293,-0.5826544918654584,-0.5419922122757741,-0.49528694880937674,-0.44253870146626617,-0.3837474702464423,-0.31891325514990504,-0.24803605617665475,-0.17111587332669131,-0.08815270660001417,0.0008534440033757251,0.09590257848347894,0.19699469684029536,0.30412979907382487,0.41730788518406803,0.5365289551710241,0.6617930090346936,0.7931000467750765,0.9304500683921723,1.0738430738859814,1.2232790632565038,1.3787580365037386,1.540279993627688,1.7078449346283509],\"type\":\"scatter\",\"xaxis\":\"x2\",\"yaxis\":\"y2\"},{\"mode\":\"lines\",\"x\":[0.0,0.0392156862745098,0.0784313725490196,0.11764705882352941,0.1568627450980392,0.19607843137254902,0.23529411764705882,0.27450980392156865,0.3137254901960784,0.3529411764705882,0.39215686274509803,0.43137254901960786,0.47058823529411764,0.5098039215686274,0.5490196078431373,0.5882352941176471,0.6274509803921569,0.6666666666666666,0.7058823529411764,0.7450980392156863,0.7843137254901961,0.8235294117647058,0.8627450980392157,0.9019607843137255,0.9411764705882353,0.9803921568627451,1.0196078431372548,1.0588235294117647,1.0980392156862746],\"y\":[-0.22096959953322298,-0.2250455477937104,-0.22846334946216637,-0.2312230045385909,-0.233324513022984,-0.23476787491534562,-0.23555309021567583,-0.23568015892397462,-0.23514908104024193,-0.23395985656447782,-0.23211248549668229,-0.22960696783685527,-0.22644330358499684,-0.22262149274110699,-0.21814153530518565,-0.2130034312772329,-0.20720718065724872,-0.2007527834452331,-0.193640239641186,-0.18586954924510748,-0.17744071225699753,-0.16835372867685616,-0.15860859850468328,-0.148205321740479,-0.13714389838424332,-0.12542432843597617,-0.11304661189567759,-0.1000107487633475,-0.08631673903898601],\"type\":\"scatter\",\"xaxis\":\"x2\",\"yaxis\":\"y2\"},{\"mode\":\"lines\",\"x\":[0.0,0.0392156862745098,0.0784313725490196,0.11764705882352941,0.1568627450980392,0.19607843137254902,0.23529411764705882,0.27450980392156865,0.3137254901960784,0.3529411764705882,0.39215686274509803,0.43137254901960786,0.47058823529411764,0.5098039215686274,0.5490196078431373,0.5882352941176471,0.6274509803921569,0.6666666666666666,0.7058823529411764,0.7450980392156863,0.7843137254901961,0.8235294117647058,0.8627450980392157,0.9019607843137255,0.9411764705882353,0.9803921568627451,1.0196078431372548,1.0588235294117647,1.0980392156862746],\"y\":[-0.5305011476105275,-0.4998504543290977,-0.4673107439002833,-0.4328820163240843,-0.3965642716005007,-0.3583575097295324,-0.3182617307111796,-0.276276934545442,-0.23240312123231993,-0.1866402907718132,-0.13898844316392184,-0.08944757840864581,-0.03801769650598524,0.015301202544059977,0.0705091187414899,0.12760605208630438,0.1865920025785035,0.24746697021808717,0.3102309550050555,0.37488395693940846,0.44142597602114597,0.5098570122502681,0.5801770656267751,0.6523861361506664,0.7264842238219424,0.8024713286406033,0.8803474506066484,0.9601125897200786,1.0417667459808935],\"type\":\"scatter\",\"xaxis\":\"x2\",\"yaxis\":\"y2\"},{\"mode\":\"lines\",\"x\":[0.0,0.0392156862745098,0.0784313725490196,0.11764705882352941,0.1568627450980392,0.19607843137254902,0.23529411764705882,0.27450980392156865,0.3137254901960784,0.3529411764705882,0.39215686274509803,0.43137254901960786,0.47058823529411764,0.5098039215686274,0.5490196078431373,0.5882352941176471,0.6274509803921569,0.6666666666666666,0.7058823529411764,0.7450980392156863,0.7843137254901961,0.8235294117647058,0.8627450980392157,0.9019607843137255,0.9411764705882353,0.9803921568627451,1.0196078431372548,1.0588235294117647,1.0980392156862746],\"y\":[-2.301921164735585,-2.313593039426875,-2.327035981371206,-2.3422499905685767,-2.3592350670189877,-2.3779912107224384,-2.3985184216789297,-2.4208166998884613,-2.4448860453510326,-2.470726458066644,-2.498337938035296,-2.527720485256988,-2.55887409973172,-2.5917987814594925,-2.626494530440305,-2.6629613466741575,-2.70119923016105,-2.741208180900983,-2.782988198893956,-2.8265392841399692,-2.8718614366390227,-2.918954656391116,-2.96781894339625,-3.0184542976544235,-3.070860719165638,-3.125038207929892,-3.180986763947186,-3.238706387217521,-3.2981970777408955],\"type\":\"scatter\",\"xaxis\":\"x2\",\"yaxis\":\"y2\"},{\"mode\":\"lines\",\"x\":[0.0,0.0392156862745098,0.0784313725490196,0.11764705882352941,0.1568627450980392,0.19607843137254902,0.23529411764705882,0.27450980392156865,0.3137254901960784,0.3529411764705882,0.39215686274509803,0.43137254901960786,0.47058823529411764,0.5098039215686274,0.5490196078431373,0.5882352941176471,0.6274509803921569,0.6666666666666666,0.7058823529411764,0.7450980392156863,0.7843137254901961,0.8235294117647058,0.8627450980392157,0.9019607843137255,0.9411764705882353,0.9803921568627451,1.0196078431372548,1.0588235294117647,1.0980392156862746],\"y\":[1.6449677135012837,1.6962404589955349,1.7428528705806787,1.784804948256715,1.8220966920236439,1.8547281018814652,1.8826991778301794,1.906009919869786,1.9246603280002852,1.9386504022216768,1.9479801425339611,1.952649548937138,1.9526586214312076,1.9480073600161698,1.9386957646920242,1.9247238354587715,1.9060915723164111,1.8827989752649437,1.8548460443043684,1.8222327794346858,1.784959180655896,1.7430252479679986,1.696430981370994,1.6451763808648816,1.589261446449662,1.528686178125335,1.4634505758919008,1.3935546397493586,1.3189983696977088],\"type\":\"scatter\",\"xaxis\":\"x2\",\"yaxis\":\"y2\"},{\"mode\":\"lines\",\"x\":[0.0,0.0392156862745098,0.0784313725490196,0.11764705882352941,0.1568627450980392,0.19607843137254902,0.23529411764705882,0.27450980392156865,0.3137254901960784,0.3529411764705882,0.39215686274509803,0.43137254901960786,0.47058823529411764,0.5098039215686274,0.5490196078431373,0.5882352941176471,0.6274509803921569,0.6666666666666666,0.7058823529411764,0.7450980392156863,0.7843137254901961,0.8235294117647058,0.8627450980392157,0.9019607843137255,0.9411764705882353,0.9803921568627451,1.0196078431372548,1.0588235294117647,1.0980392156862746],\"y\":[0.3112501545435361,0.3334772464595156,0.3549383682422959,0.3756335198918771,0.3955627014082591,0.41472591279144194,0.4331231540414256,0.45075442515821007,0.4676197261417954,0.48371905699218165,0.49905241770936865,0.5136198082933565,0.5274212287441452,0.5404566790617347,0.552726159246125,0.5642296692973162,0.5749672092153082,0.5849387790001012,0.5941443786516949,0.6025840081700894,0.6102576675552848,0.6171653568072809,0.623307075926078,0.6286828249116758,0.6332926037640746,0.6371364124832741,0.6402142510692745,0.6425261195220757,0.6440720178416777],\"type\":\"scatter\",\"xaxis\":\"x2\",\"yaxis\":\"y2\"},{\"mode\":\"lines\",\"x\":[0.0,0.0392156862745098,0.0784313725490196,0.11764705882352941,0.1568627450980392,0.19607843137254902,0.23529411764705882,0.27450980392156865,0.3137254901960784,0.3529411764705882,0.39215686274509803,0.43137254901960786,0.47058823529411764,0.5098039215686274,0.5490196078431373,0.5882352941176471,0.6274509803921569,0.6666666666666666,0.7058823529411764,0.7450980392156863,0.7843137254901961,0.8235294117647058,0.8627450980392157,0.9019607843137255,0.9411764705882353,0.9803921568627451,1.0196078431372548,1.0588235294117647,1.0980392156862746],\"y\":[-0.06267909727317188,-0.22955607389350446,-0.3888617952805757,-0.5334823564133351,-0.6571909259397264,-0.7550238849479385,-0.8235806599653874,-0.8612291384349374,-0.8682042583148224,-0.8465938163862858,-0.8002123525341215,-0.7343707281623977,-0.6555553176210657,-0.571036191447174,-0.48842795955394736,-0.41522980213023314,-0.35837247320264165,-0.3237996406211649,-0.31610885209865613,-0.3382738151555238,-0.39146476696282595,-0.4749777848460081,-0.5862773075280354,-0.7211492985682655,-0.8739557999867866,-1.037975499475413,-1.2058097388488331,-1.36982943833746,-1.5226359397559817],\"type\":\"scatter\",\"xaxis\":\"x3\",\"yaxis\":\"y3\"},{\"mode\":\"lines\",\"x\":[0.0,0.0392156862745098,0.0784313725490196,0.11764705882352941,0.1568627450980392,0.19607843137254902,0.23529411764705882,0.27450980392156865,0.3137254901960784,0.3529411764705882,0.39215686274509803,0.43137254901960786,0.47058823529411764,0.5098039215686274,0.5490196078431373,0.5882352941176471,0.6274509803921569,0.6666666666666666,0.7058823529411764,0.7450980392156863,0.7843137254901961,0.8235294117647058,0.8627450980392157,0.9019607843137255,0.9411764705882353,0.9803921568627451,1.0196078431372548,1.0588235294117647,1.0980392156862746],\"y\":[0.5040465155178444,0.6983629087585417,0.8786063464369603,1.0315539657448696,1.145631738570481,1.2116136137212354,1.223178826952427,1.1772937138607869,1.0743949618045214,0.9183632313108882,0.7162887403999332,0.47804297196772083,0.21568237572765592,-0.057279915233287126,-0.3266903605005502,-0.578609972904933,-0.8001563187647545,-0.980281695822875,-1.1104404821625746,-1.1851053441382946,-1.2021011211989434,-1.1627362189144155,-1.0717235732613488,-0.9368959604095985,-0.7687328490428689,-0.5797273762327719,-0.3836316854026278,-0.1946262125925302,-0.026463101225799646],\"type\":\"scatter\",\"xaxis\":\"x3\",\"yaxis\":\"y3\"},{\"mode\":\"lines\",\"x\":[0.0,0.0392156862745098,0.0784313725490196,0.11764705882352941,0.1568627450980392,0.19607843137254902,0.23529411764705882,0.27450980392156865,0.3137254901960784,0.3529411764705882,0.39215686274509803,0.43137254901960786,0.47058823529411764,0.5098039215686274,0.5490196078431373,0.5882352941176471,0.6274509803921569,0.6666666666666666,0.7058823529411764,0.7450980392156863,0.7843137254901961,0.8235294117647058,0.8627450980392157,0.9019607843137255,0.9411764705882353,0.9803921568627451,1.0196078431372548,1.0588235294117647,1.0980392156862746],\"y\":[-0.10703035995455783,-0.26746052051317015,-0.42007792716093173,-0.5575417641992162,-0.673426584393823,-0.7626104453626142,-0.8215843062822996,-0.84866399545732,-0.844091944610745,-0.8100225445225955,-0.7503920066247743,-0.6706805917097508,-0.5775815685960423,-0.4785968996756917,-0.3815840764142883,-0.2942814787162902,-0.223840929358542,-0.17639568006868622,-0.15668992553667588,-0.167792224983409,-0.21091014237986921,-0.28531730218341167,-0.38839726687171783,-0.5158015858024873,-0.6617124682792367,-0.8191942137603789,-0.9806121706734242,-1.1380939161545671,-1.2840047986313172],\"type\":\"scatter\",\"xaxis\":\"x3\",\"yaxis\":\"y3\"},{\"mode\":\"lines\",\"x\":[0.0,0.0392156862745098,0.0784313725490196,0.11764705882352941,0.1568627450980392,0.19607843137254902,0.23529411764705882,0.27450980392156865,0.3137254901960784,0.3529411764705882,0.39215686274509803,0.43137254901960786,0.47058823529411764,0.5098039215686274,0.5490196078431373,0.5882352941176471,0.6274509803921569,0.6666666666666666,0.7058823529411764,0.7450980392156863,0.7843137254901961,0.8235294117647058,0.8627450980392157,0.9019607843137255,0.9411764705882353,0.9803921568627451,1.0196078431372548,1.0588235294117647,1.0980392156862746],\"y\":[-1.1978778925888485,-1.4720994361283894,-1.7310678400185924,-1.9604513477151115,-2.1477053116978713,-2.2828299670540018,-2.358974478556435,-2.372850773093056,-2.324932159431762,-2.2194247374704714,-2.06401332402861,-1.8693972428191936,-1.6486440197318595,-1.4164000241922445,-1.1880057386967526,-0.978569099664371,-0.8020528854965827,-0.6704312791989917,-0.5929665543508278,-0.5756495770221993,-0.6208379207518482,-0.7271134546583655,-0.8893680072356368,-1.099111931214324,-1.3449869302809048,-1.6134521697778463,-1.8896022260942131,-2.158067465591156,-2.403942464657737],\"type\":\"scatter\",\"xaxis\":\"x3\",\"yaxis\":\"y3\"},{\"mode\":\"lines\",\"x\":[0.0,0.0392156862745098,0.0784313725490196,0.11764705882352941,0.1568627450980392,0.19607843137254902,0.23529411764705882,0.27450980392156865,0.3137254901960784,0.3529411764705882,0.39215686274509803,0.43137254901960786,0.47058823529411764,0.5098039215686274,0.5490196078431373,0.5882352941176471,0.6274509803921569,0.6666666666666666,0.7058823529411764,0.7450980392156863,0.7843137254901961,0.8235294117647058,0.8627450980392157,0.9019607843137255,0.9411764705882353,0.9803921568627451,1.0196078431372548,1.0588235294117647,1.0980392156862746],\"y\":[-0.6997255079925856,-0.21911920744147517,0.23253906212602793,0.6280499081892333,0.9436055866745899,1.160228135589918,1.2649157602243566,1.2514282212229904,1.1206637832836353,0.8806049544645854,0.5458362937816433,0.13666341447040942,-0.3221135994845238,-0.8026982703954229,-1.2759768044586197,-1.7132767433075382,-2.0880989562008607,-2.377718349904117,-2.564556603578827,-2.637244007079863,-2.5913062611210047,-2.4294347523700215,-2.161323977201304,-1.8030859347076658,-1.3762768632219213,-0.906595111426481,-0.4223288006152357,0.04735295118020655,0.4741620226659523],\"type\":\"scatter\",\"xaxis\":\"x3\",\"yaxis\":\"y3\"},{\"mode\":\"lines\",\"x\":[0.0,0.0392156862745098,0.0784313725490196,0.11764705882352941,0.1568627450980392,0.19607843137254902,0.23529411764705882,0.27450980392156865,0.3137254901960784,0.3529411764705882,0.39215686274509803,0.43137254901960786,0.47058823529411764,0.5098039215686274,0.5490196078431373,0.5882352941176471,0.6274509803921569,0.6666666666666666,0.7058823529411764,0.7450980392156863,0.7843137254901961,0.8235294117647058,0.8627450980392157,0.9019607843137255,0.9411764705882353,0.9803921568627451,1.0196078431372548,1.0588235294117647,1.0980392156862746],\"y\":[-0.22096959953322298,-0.17318198503408355,-0.12854712558552422,-0.09002733051320783,-0.060215521781785825,-0.041178605618989034,-0.0343326187136162,-0.04035719092215667,-0.05915449146073434,-0.08985513848395413,-0.13087071507587467,-0.1799897193654389,-0.2345111527914145,-0.2914076769670225,-0.34750848346981666,-0.39969083010088996,-0.445068673649636,-0.4811670045891389,-0.5060713528182847,-0.5185434333876076,-0.5180959464983599,-0.5050220133964973,-0.48037747005319537,-0.445917088202102,-0.4039885763735067,-0.35739076391251806,-0.3092045345355878,-0.26260672207459895,-0.2206782102460035],\"type\":\"scatter\",\"xaxis\":\"x3\",\"yaxis\":\"y3\"},{\"mode\":\"lines\",\"x\":[0.0,0.0392156862745098,0.0784313725490196,0.11764705882352941,0.1568627450980392,0.19607843137254902,0.23529411764705882,0.27450980392156865,0.3137254901960784,0.3529411764705882,0.39215686274509803,0.43137254901960786,0.47058823529411764,0.5098039215686274,0.5490196078431373,0.5882352941176471,0.6274509803921569,0.6666666666666666,0.7058823529411764,0.7450980392156863,0.7843137254901961,0.8235294117647058,0.8627450980392157,0.9019607843137255,0.9411764705882353,0.9803921568627451,1.0196078431372548,1.0588235294117647,1.0980392156862746],\"y\":[-0.5305011476105275,-0.3509912783285124,-0.1805304695812736,-0.027621163195277743,0.10029441730000532,0.19728382257870714,0.2592827338114767,0.28434047242863514,0.2727378330594057,0.22697012181561838,0.15159642451149535,0.052964209942712115,-0.06117409612570446,-0.1821294049819071,-0.3008008391715511,-0.4082254812655742,-0.49611978899704573,-0.5573799719750541,-0.5865111041558486,-0.5799590510484033,-0.5363251612171636,-0.45645075339959085,-0.34336629569887706,-0.2021083467400181,-0.039415316665180944,0.13667957413138365,0.3173335507421706,0.493428441538736,0.6561214716135735],\"type\":\"scatter\",\"xaxis\":\"x3\",\"yaxis\":\"y3\"},{\"mode\":\"lines\",\"x\":[0.0,0.0392156862745098,0.0784313725490196,0.11764705882352941,0.1568627450980392,0.19607843137254902,0.23529411764705882,0.27450980392156865,0.3137254901960784,0.3529411764705882,0.39215686274509803,0.43137254901960786,0.47058823529411764,0.5098039215686274,0.5490196078431373,0.5882352941176471,0.6274509803921569,0.6666666666666666,0.7058823529411764,0.7450980392156863,0.7843137254901961,0.8235294117647058,0.8627450980392157,0.9019607843137255,0.9411764705882353,0.9803921568627451,1.0196078431372548,1.0588235294117647,1.0980392156862746],\"y\":[-2.301921164735585,-2.45315747498226,-2.595909746422771,-2.7222064281844416,-2.8250699878499,-2.8989383971729157,-2.9400011126681935,-2.946429255788628,-2.9184860883967887,-2.8585111101351712,-2.7707787383114995,-2.66124010690001,-2.5371635815812748,-2.40669570591506,-2.278369100187867,-2.1605870388603274,-2.0611158412951047,-1.9866157384759269,-1.9422385542427407,-1.9313165035617637,-1.9551609063219435,-2.012982975577989,-2.1019414651154995,-2.217314298133268,-2.352783809618634,-2.5008183720284554,-2.6531273517460012,-2.8011619141558235,-2.93663142564119],\"type\":\"scatter\",\"xaxis\":\"x3\",\"yaxis\":\"y3\"},{\"mode\":\"lines\",\"x\":[0.0,0.0392156862745098,0.0784313725490196,0.11764705882352941,0.1568627450980392,0.19607843137254902,0.23529411764705882,0.27450980392156865,0.3137254901960784,0.3529411764705882,0.39215686274509803,0.43137254901960786,0.47058823529411764,0.5098039215686274,0.5490196078431373,0.5882352941176471,0.6274509803921569,0.6666666666666666,0.7058823529411764,0.7450980392156863,0.7843137254901961,0.8235294117647058,0.8627450980392157,0.9019607843137255,0.9411764705882353,0.9803921568627451,1.0196078431372548,1.0588235294117647,1.0980392156862746],\"y\":[1.6449677135012837,1.3289947372942763,1.0353464094972482,0.7849988329523341,0.5963124797820685,0.4839231063614984,0.4578576639462393,0.5229286093721806,0.6784432031722005,0.9182453552850378,1.2310874906190823,1.6013099715122592,2.0097870358079812,2.435082110090741,2.8547427100822267,3.2466567082789792,3.590388041955179,3.86841117658204,4.067169755508601,4.177895486975844,4.19713780267042,4.126972293195616,3.97487532967984,3.7532724451457917,3.478787756173088,3.1712397643854393,2.8524441975061787,2.5448962057185294,2.2704115167458245],\"type\":\"scatter\",\"xaxis\":\"x3\",\"yaxis\":\"y3\"},{\"mode\":\"lines\",\"x\":[0.0,0.0392156862745098,0.0784313725490196,0.11764705882352941,0.1568627450980392,0.19607843137254902,0.23529411764705882,0.27450980392156865,0.3137254901960784,0.3529411764705882,0.39215686274509803,0.43137254901960786,0.47058823529411764,0.5098039215686274,0.5490196078431373,0.5882352941176471,0.6274509803921569,0.6666666666666666,0.7058823529411764,0.7450980392156863,0.7843137254901961,0.8235294117647058,0.8627450980392157,0.9019607843137255,0.9411764705882353,0.9803921568627451,1.0196078431372548,1.0588235294117647,1.0980392156862746],\"y\":[0.3112501545435361,0.273116924676862,0.23865296277461395,0.21130589053114956,0.1940934258936344,0.18942109440566882,0.19893692072356256,0.22343187782811388,0.2627921074095422,0.31600579760711467,0.38122430264584695,0.4558738123696835,0.5368108261470521,0.620512039572163,0.703287173641681,0.7815018902202973,0.8517973283350732,0.9112929999610703,0.9577607891494846,0.9897595438846939,1.006722130497279,1.0089896920130137,0.9977910410236056,0.9751684318760804,0.9438541959954297,0.9071056923230065,0.8685085428755988,0.8317600392031754,0.8004458033225246],\"type\":\"scatter\",\"xaxis\":\"x3\",\"yaxis\":\"y3\"},{\"marker\":{\"color\":\"mediumpurple\"},\"mode\":\"markers\",\"x\":[0.3745401188473625,0.9507143064099162,0.7319939418114051,0.5986584841970366,0.15601864044243652,0.15599452033620265,0.05808361216819946,0.8661761457749352,0.6011150117432088,0.7080725777960455],\"y\":[0.6621995859491285,-0.2504894367193866,-1.0399487832345553,-0.6275182299806012,0.854857342681687,0.6392487011533475,0.18441089666331875,-0.8014323286500792,-0.6947217251134631,-0.9340757540684701],\"type\":\"scatter\",\"xaxis\":\"x\",\"yaxis\":\"y\"},{\"marker\":{\"color\":\"mediumpurple\"},\"mode\":\"markers\",\"x\":[0.3745401188473625,0.9507143064099162,0.7319939418114051,0.5986584841970366,0.15601864044243652,0.15599452033620265,0.05808361216819946,0.8661761457749352,0.6011150117432088,0.7080725777960455],\"y\":[0.6621995859491285,-0.2504894367193866,-1.0399487832345553,-0.6275182299806012,0.854857342681687,0.6392487011533475,0.18441089666331875,-0.8014323286500792,-0.6947217251134631,-0.9340757540684701],\"type\":\"scatter\",\"xaxis\":\"x2\",\"yaxis\":\"y2\"},{\"marker\":{\"color\":\"mediumpurple\"},\"mode\":\"markers\",\"x\":[0.3745401188473625,0.9507143064099162,0.7319939418114051,0.5986584841970366,0.15601864044243652,0.15599452033620265,0.05808361216819946,0.8661761457749352,0.6011150117432088,0.7080725777960455],\"y\":[0.6621995859491285,-0.2504894367193866,-1.0399487832345553,-0.6275182299806012,0.854857342681687,0.6392487011533475,0.18441089666331875,-0.8014323286500792,-0.6947217251134631,-0.9340757540684701],\"type\":\"scatter\",\"xaxis\":\"x3\",\"yaxis\":\"y3\"}],                        {\"template\":{\"data\":{\"histogram2dcontour\":[{\"type\":\"histogram2dcontour\",\"colorbar\":{\"outlinewidth\":0,\"ticks\":\"\"},\"colorscale\":[[0.0,\"#0d0887\"],[0.1111111111111111,\"#46039f\"],[0.2222222222222222,\"#7201a8\"],[0.3333333333333333,\"#9c179e\"],[0.4444444444444444,\"#bd3786\"],[0.5555555555555556,\"#d8576b\"],[0.6666666666666666,\"#ed7953\"],[0.7777777777777778,\"#fb9f3a\"],[0.8888888888888888,\"#fdca26\"],[1.0,\"#f0f921\"]]}],\"choropleth\":[{\"type\":\"choropleth\",\"colorbar\":{\"outlinewidth\":0,\"ticks\":\"\"}}],\"histogram2d\":[{\"type\":\"histogram2d\",\"colorbar\":{\"outlinewidth\":0,\"ticks\":\"\"},\"colorscale\":[[0.0,\"#0d0887\"],[0.1111111111111111,\"#46039f\"],[0.2222222222222222,\"#7201a8\"],[0.3333333333333333,\"#9c179e\"],[0.4444444444444444,\"#bd3786\"],[0.5555555555555556,\"#d8576b\"],[0.6666666666666666,\"#ed7953\"],[0.7777777777777778,\"#fb9f3a\"],[0.8888888888888888,\"#fdca26\"],[1.0,\"#f0f921\"]]}],\"heatmap\":[{\"type\":\"heatmap\",\"colorbar\":{\"outlinewidth\":0,\"ticks\":\"\"},\"colorscale\":[[0.0,\"#0d0887\"],[0.1111111111111111,\"#46039f\"],[0.2222222222222222,\"#7201a8\"],[0.3333333333333333,\"#9c179e\"],[0.4444444444444444,\"#bd3786\"],[0.5555555555555556,\"#d8576b\"],[0.6666666666666666,\"#ed7953\"],[0.7777777777777778,\"#fb9f3a\"],[0.8888888888888888,\"#fdca26\"],[1.0,\"#f0f921\"]]}],\"heatmapgl\":[{\"type\":\"heatmapgl\",\"colorbar\":{\"outlinewidth\":0,\"ticks\":\"\"},\"colorscale\":[[0.0,\"#0d0887\"],[0.1111111111111111,\"#46039f\"],[0.2222222222222222,\"#7201a8\"],[0.3333333333333333,\"#9c179e\"],[0.4444444444444444,\"#bd3786\"],[0.5555555555555556,\"#d8576b\"],[0.6666666666666666,\"#ed7953\"],[0.7777777777777778,\"#fb9f3a\"],[0.8888888888888888,\"#fdca26\"],[1.0,\"#f0f921\"]]}],\"contourcarpet\":[{\"type\":\"contourcarpet\",\"colorbar\":{\"outlinewidth\":0,\"ticks\":\"\"}}],\"contour\":[{\"type\":\"contour\",\"colorbar\":{\"outlinewidth\":0,\"ticks\":\"\"},\"colorscale\":[[0.0,\"#0d0887\"],[0.1111111111111111,\"#46039f\"],[0.2222222222222222,\"#7201a8\"],[0.3333333333333333,\"#9c179e\"],[0.4444444444444444,\"#bd3786\"],[0.5555555555555556,\"#d8576b\"],[0.6666666666666666,\"#ed7953\"],[0.7777777777777778,\"#fb9f3a\"],[0.8888888888888888,\"#fdca26\"],[1.0,\"#f0f921\"]]}],\"surface\":[{\"type\":\"surface\",\"colorbar\":{\"outlinewidth\":0,\"ticks\":\"\"},\"colorscale\":[[0.0,\"#0d0887\"],[0.1111111111111111,\"#46039f\"],[0.2222222222222222,\"#7201a8\"],[0.3333333333333333,\"#9c179e\"],[0.4444444444444444,\"#bd3786\"],[0.5555555555555556,\"#d8576b\"],[0.6666666666666666,\"#ed7953\"],[0.7777777777777778,\"#fb9f3a\"],[0.8888888888888888,\"#fdca26\"],[1.0,\"#f0f921\"]]}],\"mesh3d\":[{\"type\":\"mesh3d\",\"colorbar\":{\"outlinewidth\":0,\"ticks\":\"\"}}],\"scatter\":[{\"fillpattern\":{\"fillmode\":\"overlay\",\"size\":10,\"solidity\":0.2},\"type\":\"scatter\"}],\"parcoords\":[{\"type\":\"parcoords\",\"line\":{\"colorbar\":{\"outlinewidth\":0,\"ticks\":\"\"}}}],\"scatterpolargl\":[{\"type\":\"scatterpolargl\",\"marker\":{\"colorbar\":{\"outlinewidth\":0,\"ticks\":\"\"}}}],\"bar\":[{\"error_x\":{\"color\":\"#2a3f5f\"},\"error_y\":{\"color\":\"#2a3f5f\"},\"marker\":{\"line\":{\"color\":\"#E5ECF6\",\"width\":0.5},\"pattern\":{\"fillmode\":\"overlay\",\"size\":10,\"solidity\":0.2}},\"type\":\"bar\"}],\"scattergeo\":[{\"type\":\"scattergeo\",\"marker\":{\"colorbar\":{\"outlinewidth\":0,\"ticks\":\"\"}}}],\"scatterpolar\":[{\"type\":\"scatterpolar\",\"marker\":{\"colorbar\":{\"outlinewidth\":0,\"ticks\":\"\"}}}],\"histogram\":[{\"marker\":{\"pattern\":{\"fillmode\":\"overlay\",\"size\":10,\"solidity\":0.2}},\"type\":\"histogram\"}],\"scattergl\":[{\"type\":\"scattergl\",\"marker\":{\"colorbar\":{\"outlinewidth\":0,\"ticks\":\"\"}}}],\"scatter3d\":[{\"type\":\"scatter3d\",\"line\":{\"colorbar\":{\"outlinewidth\":0,\"ticks\":\"\"}},\"marker\":{\"colorbar\":{\"outlinewidth\":0,\"ticks\":\"\"}}}],\"scattermapbox\":[{\"type\":\"scattermapbox\",\"marker\":{\"colorbar\":{\"outlinewidth\":0,\"ticks\":\"\"}}}],\"scatterternary\":[{\"type\":\"scatterternary\",\"marker\":{\"colorbar\":{\"outlinewidth\":0,\"ticks\":\"\"}}}],\"scattercarpet\":[{\"type\":\"scattercarpet\",\"marker\":{\"colorbar\":{\"outlinewidth\":0,\"ticks\":\"\"}}}],\"carpet\":[{\"aaxis\":{\"endlinecolor\":\"#2a3f5f\",\"gridcolor\":\"white\",\"linecolor\":\"white\",\"minorgridcolor\":\"white\",\"startlinecolor\":\"#2a3f5f\"},\"baxis\":{\"endlinecolor\":\"#2a3f5f\",\"gridcolor\":\"white\",\"linecolor\":\"white\",\"minorgridcolor\":\"white\",\"startlinecolor\":\"#2a3f5f\"},\"type\":\"carpet\"}],\"table\":[{\"cells\":{\"fill\":{\"color\":\"#EBF0F8\"},\"line\":{\"color\":\"white\"}},\"header\":{\"fill\":{\"color\":\"#C8D4E3\"},\"line\":{\"color\":\"white\"}},\"type\":\"table\"}],\"barpolar\":[{\"marker\":{\"line\":{\"color\":\"#E5ECF6\",\"width\":0.5},\"pattern\":{\"fillmode\":\"overlay\",\"size\":10,\"solidity\":0.2}},\"type\":\"barpolar\"}],\"pie\":[{\"automargin\":true,\"type\":\"pie\"}]},\"layout\":{\"autotypenumbers\":\"strict\",\"colorway\":[\"#636efa\",\"#EF553B\",\"#00cc96\",\"#ab63fa\",\"#FFA15A\",\"#19d3f3\",\"#FF6692\",\"#B6E880\",\"#FF97FF\",\"#FECB52\"],\"font\":{\"color\":\"#2a3f5f\"},\"hovermode\":\"closest\",\"hoverlabel\":{\"align\":\"left\"},\"paper_bgcolor\":\"white\",\"plot_bgcolor\":\"#E5ECF6\",\"polar\":{\"bgcolor\":\"#E5ECF6\",\"angularaxis\":{\"gridcolor\":\"white\",\"linecolor\":\"white\",\"ticks\":\"\"},\"radialaxis\":{\"gridcolor\":\"white\",\"linecolor\":\"white\",\"ticks\":\"\"}},\"ternary\":{\"bgcolor\":\"#E5ECF6\",\"aaxis\":{\"gridcolor\":\"white\",\"linecolor\":\"white\",\"ticks\":\"\"},\"baxis\":{\"gridcolor\":\"white\",\"linecolor\":\"white\",\"ticks\":\"\"},\"caxis\":{\"gridcolor\":\"white\",\"linecolor\":\"white\",\"ticks\":\"\"}},\"coloraxis\":{\"colorbar\":{\"outlinewidth\":0,\"ticks\":\"\"}},\"colorscale\":{\"sequential\":[[0.0,\"#0d0887\"],[0.1111111111111111,\"#46039f\"],[0.2222222222222222,\"#7201a8\"],[0.3333333333333333,\"#9c179e\"],[0.4444444444444444,\"#bd3786\"],[0.5555555555555556,\"#d8576b\"],[0.6666666666666666,\"#ed7953\"],[0.7777777777777778,\"#fb9f3a\"],[0.8888888888888888,\"#fdca26\"],[1.0,\"#f0f921\"]],\"sequentialminus\":[[0.0,\"#0d0887\"],[0.1111111111111111,\"#46039f\"],[0.2222222222222222,\"#7201a8\"],[0.3333333333333333,\"#9c179e\"],[0.4444444444444444,\"#bd3786\"],[0.5555555555555556,\"#d8576b\"],[0.6666666666666666,\"#ed7953\"],[0.7777777777777778,\"#fb9f3a\"],[0.8888888888888888,\"#fdca26\"],[1.0,\"#f0f921\"]],\"diverging\":[[0,\"#8e0152\"],[0.1,\"#c51b7d\"],[0.2,\"#de77ae\"],[0.3,\"#f1b6da\"],[0.4,\"#fde0ef\"],[0.5,\"#f7f7f7\"],[0.6,\"#e6f5d0\"],[0.7,\"#b8e186\"],[0.8,\"#7fbc41\"],[0.9,\"#4d9221\"],[1,\"#276419\"]]},\"xaxis\":{\"gridcolor\":\"white\",\"linecolor\":\"white\",\"ticks\":\"\",\"title\":{\"standoff\":15},\"zerolinecolor\":\"white\",\"automargin\":true,\"zerolinewidth\":2},\"yaxis\":{\"gridcolor\":\"white\",\"linecolor\":\"white\",\"ticks\":\"\",\"title\":{\"standoff\":15},\"zerolinecolor\":\"white\",\"automargin\":true,\"zerolinewidth\":2},\"scene\":{\"xaxis\":{\"backgroundcolor\":\"#E5ECF6\",\"gridcolor\":\"white\",\"linecolor\":\"white\",\"showbackground\":true,\"ticks\":\"\",\"zerolinecolor\":\"white\",\"gridwidth\":2},\"yaxis\":{\"backgroundcolor\":\"#E5ECF6\",\"gridcolor\":\"white\",\"linecolor\":\"white\",\"showbackground\":true,\"ticks\":\"\",\"zerolinecolor\":\"white\",\"gridwidth\":2},\"zaxis\":{\"backgroundcolor\":\"#E5ECF6\",\"gridcolor\":\"white\",\"linecolor\":\"white\",\"showbackground\":true,\"ticks\":\"\",\"zerolinecolor\":\"white\",\"gridwidth\":2}},\"shapedefaults\":{\"line\":{\"color\":\"#2a3f5f\"}},\"annotationdefaults\":{\"arrowcolor\":\"#2a3f5f\",\"arrowhead\":0,\"arrowwidth\":1},\"geo\":{\"bgcolor\":\"white\",\"landcolor\":\"#E5ECF6\",\"subunitcolor\":\"white\",\"showland\":true,\"showlakes\":true,\"lakecolor\":\"white\"},\"title\":{\"x\":0.05},\"mapbox\":{\"style\":\"light\"}}},\"xaxis\":{\"anchor\":\"y\",\"domain\":[0.0,0.2888888888888889],\"title\":{\"text\":\"x\"},\"range\":[0,1]},\"yaxis\":{\"anchor\":\"x\",\"domain\":[0.0,1.0],\"title\":{\"text\":\"t\"},\"range\":[-2,2]},\"xaxis2\":{\"anchor\":\"y2\",\"domain\":[0.35555555555555557,0.6444444444444445],\"title\":{\"text\":\"x\"},\"range\":[0,1]},\"yaxis2\":{\"anchor\":\"x2\",\"domain\":[0.0,1.0],\"title\":{\"text\":\"t\"},\"range\":[-2,2]},\"xaxis3\":{\"anchor\":\"y3\",\"domain\":[0.7111111111111111,1.0],\"title\":{\"text\":\"x\"},\"range\":[0,1]},\"yaxis3\":{\"anchor\":\"x3\",\"domain\":[0.0,1.0],\"title\":{\"text\":\"t\"},\"range\":[-2,2]},\"annotations\":[{\"font\":{\"size\":16},\"showarrow\":false,\"text\":\"f1\",\"x\":0.14444444444444446,\"xanchor\":\"center\",\"xref\":\"paper\",\"y\":1.0,\"yanchor\":\"bottom\",\"yref\":\"paper\"},{\"font\":{\"size\":16},\"showarrow\":false,\"text\":\"f2\",\"x\":0.5,\"xanchor\":\"center\",\"xref\":\"paper\",\"y\":1.0,\"yanchor\":\"bottom\",\"yref\":\"paper\"},{\"font\":{\"size\":16},\"showarrow\":false,\"text\":\"f3\",\"x\":0.8555555555555556,\"xanchor\":\"center\",\"xref\":\"paper\",\"y\":1.0,\"yanchor\":\"bottom\",\"yref\":\"paper\"}],\"showlegend\":false},                        {\"responsive\": true}                    ).then(function(){\n",
              "                            \n",
              "var gd = document.getElementById('dcd9b05a-98f5-40ea-a2d0-6f9f969ab942');\n",
              "var x = new MutationObserver(function (mutations, observer) {{\n",
              "        var display = window.getComputedStyle(gd).display;\n",
              "        if (!display || display === 'none') {{\n",
              "            console.log([gd, 'removed!']);\n",
              "            Plotly.purge(gd);\n",
              "            observer.disconnect();\n",
              "        }}\n",
              "}});\n",
              "\n",
              "// Listen for the removal of the full notebook cells\n",
              "var notebookContainer = gd.closest('#notebook-container');\n",
              "if (notebookContainer) {{\n",
              "    x.observe(notebookContainer, {childList: true});\n",
              "}}\n",
              "\n",
              "// Listen for the clearing of the current output cell\n",
              "var outputEl = gd.closest('.output');\n",
              "if (outputEl) {{\n",
              "    x.observe(outputEl, {childList: true});\n",
              "}}\n",
              "\n",
              "                        })                };                            </script>        </div>\n",
              "</body>\n",
              "</html>"
            ]
          },
          "metadata": {}
        }
      ]
    },
    {
      "cell_type": "markdown",
      "metadata": {
        "id": "CENyGHlSp_FX"
      },
      "source": [
        "###Loss landscapes\n",
        "\n",
        "Let's focus now on the simple $f(x) = ax + b$.\n",
        "Given our dataset $(\\mathbf{x}, \\mathbf{t})$ we will choose the parameters $a$ and $b$ that minimize a global error $E$, also known as *loss*.\n",
        "\n",
        "The standard choice for $E$ in a regression problem is the Mean Squared Error, defined as:\n",
        "\n",
        "$$E(\\theta) = \\frac{1}{N} \\sum_{i=1}^N(f_\\theta(x_i) - t_i)^2$$\n",
        "\n",
        "Notice that apart from normalization factors, the MSE corresponds to the squared $L_2$ norm of the residual vector, namely $E=\\|f_\\theta(\\mathbf{x}) - \\mathbf{t}\\|_2^2$ (here $f_\\theta$ operates element-wise).\n",
        "\n",
        "Let's now compute the MSE **loss landscape** for our dataset, so that we can visualize it. The landscape is simply defined as the value of the loss function computed over a subset of the parameter domain.\n",
        "\n",
        "\n",
        "\n"
      ]
    },
    {
      "cell_type": "code",
      "metadata": {
        "id": "OXuXlT5Sx-UE"
      },
      "source": [
        "resolution = 51\n",
        "\n",
        "mse_losses = np.empty((resolution, resolution))\n",
        "a_range = np.linspace(-5, 5, resolution)\n",
        "b_range = np.linspace(-5, 5, resolution)\n",
        "\n",
        "for i, a in enumerate(a_range):\n",
        "    for j, b in enumerate(b_range):\n",
        "        y_pred = a * x + b\n",
        "        residuals = t - y_pred\n",
        "        loss = np.einsum('i,i->', residuals, residuals)\n",
        "        mse_losses[i][j] = loss\n",
        "\n",
        "# let's ignore the division by N for this exercise"
      ],
      "execution_count": 13,
      "outputs": []
    },
    {
      "cell_type": "markdown",
      "metadata": {
        "id": "VDZ63eJt6Uj5"
      },
      "source": [
        ">**EXERCISE** Vectorize the piece of code above. i.e. the two `for` cycles should disappear."
      ]
    },
    {
      "cell_type": "code",
      "metadata": {
        "id": "uAiwop63Qc1Q",
        "cellView": "both",
        "outputId": "a1bcbf22-4ec8-4419-c7c4-f666bb06044c",
        "colab": {
          "base_uri": "https://localhost:8080/"
        }
      },
      "source": [
        "# ✏️ your code here\n",
        "\n",
        "a_times_x = np.einsum('i,j -> ij', a_range,x) #crea matrice mxn con Ai,j = a[i]*x[j]\n",
        "Y_pred = a_times_x[:, :, None] + b_range[None,None, :]\n",
        "residuals = t[None,:,None] - Y_pred\n",
        "L = np.einsum('ijk -> ik', residuals**2)\n",
        "np.allclose(L, mse_losses)"
      ],
      "execution_count": 32,
      "outputs": [
        {
          "output_type": "execute_result",
          "data": {
            "text/plain": [
              "False"
            ]
          },
          "metadata": {},
          "execution_count": 32
        }
      ]
    },
    {
      "cell_type": "code",
      "source": [
        "# @title 👀 Solution (without einsum)\n",
        "\n",
        "Y_pred = x[None, None, :] * a_range[:, None, None] + b_range[None, :, None] # let broadcasting do the job!\n",
        "R = t[None, None, :] - Y_pred\n",
        "L = np.sum(R**2, axis=2)\n",
        "np.allclose(L, mse_losses)"
      ],
      "metadata": {
        "id": "J14M4HzfaTrb",
        "outputId": "9ccd36cb-1efb-481f-a1d2-27b63a08f356",
        "colab": {
          "base_uri": "https://localhost:8080/"
        }
      },
      "execution_count": 34,
      "outputs": [
        {
          "output_type": "execute_result",
          "data": {
            "text/plain": [
              "False"
            ]
          },
          "metadata": {},
          "execution_count": 34
        }
      ]
    },
    {
      "cell_type": "code",
      "metadata": {
        "id": "AutBpNSt0nAI",
        "outputId": "f8823165-5783-4011-d1f5-be16585f58c1",
        "colab": {
          "base_uri": "https://localhost:8080/"
        }
      },
      "source": [
        "# @title 👀 Solution (with einsum)\n",
        "\n",
        "a_times_x = np.einsum('i,j->ij', a_range, x)\n",
        "Y_pred = a_times_x[:, :, None] + b_range[None, None, :]\n",
        "residuals = t[None, :, None] - Y_pred\n",
        "L = np.einsum('ijk->ik', residuals ** 2)\n",
        "np.allclose(L, mse_losses)"
      ],
      "execution_count": 33,
      "outputs": [
        {
          "output_type": "execute_result",
          "data": {
            "text/plain": [
              "False"
            ]
          },
          "metadata": {},
          "execution_count": 33
        }
      ]
    },
    {
      "cell_type": "code",
      "metadata": {
        "id": "6B6SVoGH3kvN",
        "colab": {
          "base_uri": "https://localhost:8080/",
          "height": 542
        },
        "outputId": "78161560-fb0d-459a-a0cb-8f5993f0665e",
        "cellView": "form"
      },
      "source": [
        "# @title MSE loss landscape plot\n",
        "fig = go.Figure(data=[go.Surface(z=mse_losses, x=a_range, y=b_range)])\n",
        "fig.update_traces(contours_z=dict(show=True, usecolormap=True,\n",
        "                                  highlightcolor=\"limegreen\", project_z=True))\n",
        "fig.update_layout(\n",
        "    title=\"MSE loss landscape\",\n",
        "    scene = dict(\n",
        "                xaxis_title='a',\n",
        "                yaxis_title='b',\n",
        "                zaxis_title='loss')\n",
        ")\n",
        "\n",
        "\n",
        "fig.show()"
      ],
      "execution_count": 17,
      "outputs": [
        {
          "output_type": "display_data",
          "data": {
            "text/html": [
              "<html>\n",
              "<head><meta charset=\"utf-8\" /></head>\n",
              "<body>\n",
              "    <div>            <script src=\"https://cdnjs.cloudflare.com/ajax/libs/mathjax/2.7.5/MathJax.js?config=TeX-AMS-MML_SVG\"></script><script type=\"text/javascript\">if (window.MathJax && window.MathJax.Hub && window.MathJax.Hub.Config) {window.MathJax.Hub.Config({SVG: {font: \"STIX-Web\"}});}</script>                <script type=\"text/javascript\">window.PlotlyConfig = {MathJaxConfig: 'local'};</script>\n",
              "        <script charset=\"utf-8\" src=\"https://cdn.plot.ly/plotly-2.35.2.min.js\"></script>                <div id=\"8fd152c0-b138-4722-be52-05354babdf5d\" class=\"plotly-graph-div\" style=\"height:525px; width:100%;\"></div>            <script type=\"text/javascript\">                                    window.PLOTLYENV=window.PLOTLYENV || {};                                    if (document.getElementById(\"8fd152c0-b138-4722-be52-05354babdf5d\")) {                    Plotly.newPlot(                        \"8fd152c0-b138-4722-be52-05354babdf5d\",                        [{\"x\":[-5.0,-4.8,-4.6,-4.4,-4.2,-4.0,-3.8,-3.5999999999999996,-3.4,-3.2,-3.0,-2.8,-2.5999999999999996,-2.4,-2.1999999999999997,-2.0,-1.7999999999999998,-1.5999999999999996,-1.4,-1.1999999999999997,-1.0,-0.7999999999999998,-0.5999999999999996,-0.39999999999999947,-0.1999999999999993,0.0,0.20000000000000018,0.40000000000000036,0.6000000000000005,0.8000000000000007,1.0,1.2000000000000002,1.4000000000000004,1.6000000000000005,1.8000000000000007,2.0,2.2,2.4000000000000004,2.6000000000000005,2.8000000000000007,3.0,3.200000000000001,3.4000000000000004,3.5999999999999996,3.8000000000000007,4.0,4.200000000000001,4.4,4.600000000000001,4.800000000000001,5.0],\"y\":[-5.0,-4.8,-4.6,-4.4,-4.2,-4.0,-3.8,-3.5999999999999996,-3.4,-3.2,-3.0,-2.8,-2.5999999999999996,-2.4,-2.1999999999999997,-2.0,-1.7999999999999998,-1.5999999999999996,-1.4,-1.1999999999999997,-1.0,-0.7999999999999998,-0.5999999999999996,-0.39999999999999947,-0.1999999999999993,0.0,0.20000000000000018,0.40000000000000036,0.6000000000000005,0.8000000000000007,1.0,1.2000000000000002,1.4000000000000004,1.6000000000000005,1.8000000000000007,2.0,2.2,2.4000000000000004,2.6000000000000005,2.8000000000000007,3.0,3.200000000000001,3.4000000000000004,3.5999999999999996,3.8000000000000007,4.0,4.200000000000001,4.4,4.600000000000001,4.800000000000001,5.0],\"z\":[[558.6610318169367,529.4612849904108,501.06153816388496,473.46179133735916,446.66204451083325,420.66229768430736,395.4625508577815,371.0628040312556,347.4630572047297,324.66331037820396,302.66356355167807,281.4638167251521,261.06406989862626,241.4643230721004,222.66457624557455,204.6648294190487,187.46508259252283,171.06533576599693,155.4655889394711,140.6658421129452,126.66609528641935,113.4663484598935,101.0666016333676,89.46685480684172,78.66710798031585,68.66736115379001,59.467614327264144,51.067867500738274,43.46812067421239,36.668373847686524,30.668627021160678,25.468880194634806,21.069133368108936,17.46938654158307,14.669639715057205,12.669892888531347,11.47014606200548,11.070399235479615,11.470652408953748,12.670905582427885,14.671158755902013,17.47141192937616,21.071665102850282,25.471918276324402,30.67217144979856,36.672424623272676,43.47267779674685,51.07293097022095,59.473184143695136,68.67343731716925,78.67369049064334],[542.2582703799137,513.47463294215,485.4909955043863,458.3073580666226,431.92372062885886,406.3400831910951,381.55644575333133,357.5728083155676,334.3891708778039,312.0055334400402,290.42189600227647,269.63825856451274,249.65462112674896,230.47098368898526,212.0873462512215,194.50370881345785,177.72007137569406,161.73643393793034,146.55279650016666,132.1691590624029,118.58552162463918,105.80188418687545,93.81824674911172,82.63460931134797,72.25097187358425,62.66733443582055,53.88369699805682,45.90005956029309,38.71642212252935,32.33278468476563,26.749147247001922,21.96550980923819,17.98187237147446,14.798234933710733,12.414597495947007,10.830960058183287,10.047322620419559,10.063685182655835,10.88004774489211,12.496410307128382,14.91277286936465,18.129135431600943,22.145497993837203,26.96186055607346,32.578223118309765,38.99458568054602,46.21094824278233,54.227310805018575,63.0436733672549,72.66003592949114,83.07639849172737],[526.1437779081236,497.776249859122,470.20872181012044,443.44119376111894,417.47366571211734,392.3061376631157,367.93860961411406,344.3710815651125,321.6035535161109,299.6360254671094,278.46849741810775,258.1009693691061,238.53344132010454,219.765913271103,201.79838522210136,184.63085717309983,168.26332912409822,152.6958010750966,137.92827302609507,123.96074497709344,110.79321692809188,98.42568887909027,86.85816083008868,76.09063278108708,66.1231047320855,56.95557668308394,48.58804863408235,41.02052058508075,34.25299253607916,28.285464487077576,23.117936438076004,18.750408389074416,15.182880340072828,12.415352291071239,10.447824242069656,9.280296193068075,8.912768144066488,9.345240095064902,10.577712046063317,12.610183997061732,15.442655948060136,19.07512789905857,23.50759985005697,28.740071801055365,34.772543752053814,41.605015703052196,49.23748765405065,57.669959605049044,66.90243155604752,76.9349035070459,87.76737545804427],[510.31755440156644,482.366135741327,455.21471708108754,428.8632984208482,403.31187976060863,378.56046110036914,354.60904244012966,331.45762377989024,309.1062051196508,287.5547864594114,266.80336779917195,246.8519491389324,227.700530478693,209.3491118184536,191.7976931582141,175.0462744979747,159.09485583773522,143.94343717749575,129.59201851725632,116.04059985701687,103.28918119677745,91.33776253653798,80.18634387629854,69.83492521605906,60.28350655581961,51.532087895580204,43.58066923534074,36.42925057510129,30.07783191486184,24.526413254622387,19.77499459438296,15.823575934143506,12.672157273904055,10.320738613664606,8.76931995342516,8.017901293185716,8.066482632946268,8.915063972706822,10.563645312467376,13.012226652227932,16.26080799198847,20.309389331749045,25.157970671509585,30.806552011270114,37.2551333510307,44.50371469079123,52.55229603055182,61.400877370312344,71.04945871007297,81.49804004983349,92.746621389594],[494.779599860242,467.24429058876467,440.5089813172873,414.5736720458101,389.43836277433275,365.10305350285546,341.56774423137813,318.8324349599008,296.8971256884235,275.7618164169462,255.42650714546892,235.8911978739916,217.15588860251427,199.220579331037,182.08527005955966,165.74996078808238,150.21465151660504,135.47934224512773,121.54403297365045,108.40872370217312,96.07341443069582,84.5381051592185,73.80279588774118,63.867486616263875,54.732177344786564,46.396868073309285,38.86155880183196,32.126249530354656,26.19094025887734,21.055630987400033,16.72032171592274,13.185012444445428,10.449703172968118,8.514393901490811,7.379084630013506,7.043775358536201,7.508466087058893,8.773156815581586,10.83784754410428,13.702538272626978,17.367229001149656,21.831919729672375,27.09661045819505,33.16130118671772,40.02599191524045,47.69068264376311,56.15537337228586,65.42006410080852,75.48475482933128,86.34944555785393,98.01413628637658],[479.5299142841503,452.41071440143526,426.09151451872003,400.572314636005,375.8531147532898,351.93391487057454,328.81471498785936,306.4955151051442,284.97631522242904,264.25711533971395,244.3379154569987,225.21871557428358,206.89951569156835,189.3803158088532,172.66111592613805,156.7419160434229,141.62271616070774,127.30351627799253,113.78431639527739,101.0651165125622,89.14591662984705,78.02671674713187,67.7075168644167,58.18831698170153,49.46911709898635,41.54991721627121,34.43071733355604,28.111517450840864,22.592317568125694,17.873117685410527,13.95391780269537,10.834717919980204,8.515518037265032,6.996318154549866,6.2771182718347,6.357918389119533,7.238718506404368,8.919518623689202,11.400318740974036,14.681118858258873,18.76191897554369,23.64271909282855,29.323519210113368,35.804319327398176,43.085119444683045,51.16591956196784,60.04671967925273,69.72751979653752,80.20831991382242,91.4891200311072,103.56992014839201],[464.5684976732917,437.8654071793386,411.9623166853856,386.85922619143264,362.5561356974796,339.0530452035265,316.3499547095735,294.44686421562045,273.3437737216675,253.04068322771448,233.53759273376141,214.8345022398084,196.9314117458553,179.8283212519023,163.52523075794926,148.02214026399628,133.31904977004325,119.4159592760902,106.31286878213717,94.00977828818415,82.50668779423113,71.8035973002781,61.90050680632506,52.79741631237203,44.49432581841899,36.99123532446599,30.288144830512955,24.38505433655993,19.2819638426069,14.978873348653867,11.475782854700855,8.772692360747824,6.869601866794797,5.76651137284177,5.463420878888744,5.960330384935716,7.257239890982689,9.354149397029666,12.25105890307664,15.94796840912362,20.444877915170576,25.74178742121758,31.83869692726453,38.735606433311474,46.432515939358495,54.92942544540543,64.22633495145246,74.32324445749938,85.22015396354644,96.91706346959336,109.4139729756403],[449.8953500276658,423.60836892247494,398.121387817284,373.43440671209316,349.54742560690227,326.4604445017114,304.17346339652045,282.6864822913296,261.99950118613873,242.11252008094786,223.02553897575694,204.73855787056604,187.25157676537515,170.5645956601843,154.67761455499334,139.5906334498025,125.3036523446116,111.8166712394207,99.12969013422983,87.24270902903893,76.15572792384806,65.86874681865717,56.381765713466265,47.69478460827538,39.80780350308448,32.72082239789362,26.43384129270273,20.946860187511838,16.259879082320946,12.372897977130059,9.285916871939184,6.998935766748295,5.511954661557407,4.824973556366521,4.937992451175637,5.851011345984746,7.56403024079386,10.077049135602977,13.390068030412092,17.50308692522121,22.416105820030307,28.12912471483945,34.64214360964854,41.95516250445763,50.06818139926679,58.98120029407587,68.69421918888503,79.20723808369411,90.5202569785033,102.63327587331236,115.54629476812143],[435.51047134727276,409.63959963084403,384.56872791441526,360.2978561979867,336.8269844815578,314.156112765129,292.2852410487003,271.21436933227153,250.94349761584283,231.47262589941408,212.80175418298535,194.93088246655657,177.8600107501278,161.5891390336991,146.11826731727035,131.44739560084162,117.57652388441284,104.50565216798407,92.23478045155534,80.76390873512659,70.09303701869784,60.22216530226909,51.151293585840335,42.88042186941158,35.40955015298283,28.73867843655411,22.867806720125355,17.796935003696603,13.526063287267853,10.055191570839103,7.384319854410366,5.513448137981617,4.442576421552869,4.171704705124122,4.700832988695376,6.029961272266625,8.15908955583788,11.088217839409133,14.81734612298039,19.34647440655165,24.675602690122886,30.80473097369417,37.7338592572654,45.46298754083662,53.99211582440792,63.32124410797914,73.45037239155045,84.37950067512168,96.10862895869298,108.6377572422642,121.96688552583541],[421.4138616321127,395.959099304446,371.3043369767794,347.44957464911283,324.39481232144624,302.1400499937796,280.685287666113,260.0305253384464,240.1757630107798,221.1210006831132,202.86623835544657,185.41147602777994,168.75671370011332,152.90195137244677,137.84718904478012,123.59242671711353,110.13766438944691,97.48290206178027,85.62813973411369,74.57337740644707,64.31861507878048,54.86385275111387,46.20909042344725,38.354328095780645,31.29956576811402,25.04480344044744,19.590041112780828,14.935278785114217,11.080516457447606,8.025754129780996,5.770991802114397,4.316229474447787,3.6614671467811792,3.8067048191145725,4.751942491447966,6.497180163781354,9.042417836114748,12.387655508448145,16.532893180781542,21.478130853114937,27.22336852544831,33.768606197781736,41.113843870115105,49.25908154244846,58.20431921478191,67.94955688711526,78.4947945594487,89.84003223178206,101.98526990411554,114.93050757644887,128.67574524878222],[407.6055208821853,382.56686794328084,358.3282150043764,334.889562065472,312.25090912656754,290.41225618766305,269.3736032487585,249.13495030985402,229.6962973709496,211.05764443204515,193.21899149314066,176.18033855423616,159.94168561533166,144.50303267642724,129.86437973752277,116.02572679861831,102.9870738597138,90.74842092080935,79.3097679819049,68.67111504300043,58.83246210409597,49.79380916519148,41.55515622628701,34.116503287382535,27.477850348478064,21.63919740957362,16.600544470669146,12.361891531764673,8.923238592860205,6.284585653955734,4.445932715051274,3.4072797761468046,3.1686268372423365,3.7299738983378696,5.091320959433405,7.2526680205289304,10.214015081624463,13.975362142719998,18.536709203815533,23.898056264911077,30.05940332600658,37.020750387102154,44.78209744819766,53.343444509293164,62.70479157038875,72.86613863148423,83.82748569257984,95.58883275367532,108.15017981477095,121.51152687586642,135.67287393696188],[394.0854490974908,369.4629055473485,345.6403619972061,322.6178184470639,300.3952748969216,278.9727313467792,258.3501877966369,238.5276442464945,219.5051006963522,201.28255714620994,183.86001359606757,167.23747004592525,151.41492649578288,136.39238294564058,122.16983939549824,108.74729584535592,96.1247522952136,84.30220874507125,73.27966519492894,63.05712164478659,53.63457809464428,45.01203454450195,37.189490994359616,30.166947444217286,23.944403894074952,18.52186034393264,13.899316793790307,10.076773243647978,7.054229693505648,4.831686143363321,3.409142593220998,2.78659904307867,2.9640554929363425,3.9415119427940164,5.718968392651693,8.296424842509357,11.673881292367032,15.851337742224707,20.828794192082384,26.606250641940065,33.183707091797714,40.56116354165542,48.73861999151307,57.71607644137071,67.49353289122843,78.07098934108606,89.44844579094381,101.62590224080144,114.60335869065918,128.3808151405168,142.9582715903744],[380.85364627802926,356.64721211664903,333.2407779552688,310.6343437938887,288.82790963250847,267.8214754711283,247.61504130974805,228.2086071483679,209.6021729869877,191.79573882560754,174.78930466422736,158.58287050284713,143.17643634146697,128.57000218008676,114.76356801870656,101.75713385732641,89.55069969594621,78.14426553456602,67.53783137318582,57.731397211805636,48.72496305042546,40.518528889045264,33.112094727665074,26.505660566284877,20.699226404904685,15.692792243524515,11.486358082144323,8.07992392076413,5.473489759383943,3.667055598003756,2.6606214366235728,2.4541872752433846,3.047753113863198,4.441318952483013,6.63488479110283,9.62845062972263,13.422016468342445,18.01558230696226,23.40914814558208,29.602713984201905,36.596279822821685,44.38984566144154,52.98341150006132,62.3769773386811,72.57054317730096,83.56410901592074,95.35767485454062,107.95124069316039,121.34480653178026,135.53837237040005,150.5319382090198],[367.91011242380046,344.1197876511824,321.12946287856437,298.93913810594637,277.5488133333283,256.95848856071024,237.16816378809216,218.1778390154741,199.9875142428561,182.59718947023805,166.00686469762,150.2165399250019,135.22621515238384,121.03589037976582,107.64556560714776,95.05524083452973,83.26491606191168,72.27459128929362,62.08426651667558,52.69394174405751,44.10361697143948,36.31329219882143,29.322967426203377,23.13264265358532,17.74231788096727,13.151993108349242,9.361668335731187,6.371343563113137,4.181018790495088,2.790694017877041,2.2003692452589956,2.4100444726409473,3.4197197000229007,5.229394927404856,7.839070154786811,11.248745382168753,15.458420609550707,20.46809583693266,26.27777106431462,32.88744629169658,40.2971215190785,48.506796746460495,57.51647197384243,67.32614720122434,77.93582242860634,89.34549765598825,101.55517288337026,114.56484811075218,128.37452333813422,142.98419856551612,158.39387379289803],[355.2548475348046,331.8806321509486,309.30641676709274,287.5322013832369,266.5579859993809,246.38377061552504,227.00955523166905,208.43533984781317,190.66112446395724,173.68690908010137,157.51269369624546,142.1384783123895,127.56426292853361,113.79004754467772,100.8158321608218,88.64161677696589,77.26740139310999,66.69318600925405,56.91897062539817,47.94475524154225,39.77053985768635,32.39632447383044,25.822109089974525,20.047893706118614,15.073678322262701,10.89946293840681,7.5252475545509,4.951032170694989,3.1768167868390806,2.202601402983174,2.0283860191272676,2.6541706352713597,4.079955251415454,6.305739867559549,9.331524483703644,13.157309099847726,17.78309371599182,23.208878332135917,29.434662948280018,36.460447564424115,44.28623218056818,52.91201679671232,62.33780141285638,72.56358602900043,83.58937064514458,95.41515526128865,108.04093987743279,121.46672449357683,135.69250910972102,150.71829372586504,166.54407834200907],[342.88785161104147,319.9297456159477,297.7716396208539,276.41353362576024,255.85542763066638,236.0973216355726,217.13921564047882,198.98110964538506,181.6230036502913,165.06489765519757,149.30679166010378,134.34868566500998,120.19057966991622,106.83247367482247,94.2743676797287,82.51626168463491,71.55815568954114,61.40004969444737,52.04194369935362,43.48383770425984,35.72573170916607,28.767625714072302,22.609519718978525,17.25141372388476,12.693307728790987,8.935201733697234,5.977095738603463,3.818989743509693,2.460883748415924,1.9027777533221566,2.1446717582283883,3.1865657631346203,5.028459768040854,7.670353772947088,11.112247777853327,15.354141782759541,20.396035787665777,26.23792979257201,32.87982379747825,40.32171780238449,48.56361180729069,57.605505812196974,67.44739981710318,78.08929382200937,89.53118782691567,101.77308183182186,114.81497583672815,128.65686984163435,143.29876384654062,158.74065785144683,174.982551856353],[330.80912465251123,308.2671280461796,286.525131439848,265.5831348335164,245.44113822718475,226.0991416208531,207.55714501452147,189.8151484081898,172.87315180185817,156.73115519552658,141.38915858919495,126.8471619828633,113.10516537653166,100.16316877020006,88.02117216386841,76.6791755575368,66.13717895120516,56.39518234487352,47.453185738541904,39.31118913221027,31.969192525878643,25.42719591954701,19.685199313215378,14.743202706883746,10.601206100552119,7.259209494220503,4.717212887888872,2.975216281557242,2.0332196752256135,1.8912230688939868,2.5492264625623573,4.00722985623073,6.265233249899104,9.32323664356748,13.181240037235856,17.83924343090421,23.29724682457259,29.555250218240964,36.61325361190934,44.47125700557772,53.129260399246064,62.58726379291449,72.84526718658282,83.90327058025116,95.7612739739196,108.41927736758792,121.87728076125636,136.1352841549247,151.19328754859316,167.05129094226146,183.70929433592977],[319.01866665921386,296.8927794416443,275.5668922240748,255.04100500650543,235.3151177889359,216.3892305713664,198.26334335379687,180.9374561362274,164.4115689186579,148.68568170108847,133.75979448351896,119.63390726594946,106.30802004837996,93.78213283081047,82.05624561324097,71.13035839567151,61.004471178102015,51.67858396053252,43.15269674296303,35.42680952539354,28.500922307824062,22.37503509025457,17.049147872685076,12.523260655115585,8.797373437546096,5.871486219976619,3.7455990024071286,2.4197117848376397,1.8938245672681524,2.1679373496986667,3.242050132129176,5.116162914559689,7.790275696990204,11.26438847942072,15.538501261851238,20.612614044281727,26.48672682671225,33.16083960914276,40.63495239157329,48.90906517400381,57.983177956434275,67.85729073886486,78.53140352129533,90.0055163037258,102.27962908615638,115.35374186858684,129.22785465101742,143.9019674334479,159.3760802158785,175.65019299830894,192.7243057807394],[307.5164776311493,285.80669980234194,264.8969219735345,244.78714414472728,225.47736631591994,206.96758848711258,189.25781065830523,172.34803282949787,156.23825500069051,140.9284771718832,126.41869934307584,112.70892151426847,99.7991436854611,87.68936585665378,76.37958802784642,65.86981019903908,56.16003237023173,47.25025454142437,39.14047671261703,31.830698883809674,25.32092105500233,19.611143226194976,14.70136539738763,10.591587568580277,7.281809739772927,4.7720319109655875,3.062254082158237,2.152476253350888,2.04269842454354,2.7329205957361937,4.223142766928841,6.513364938121493,9.603587109314148,13.493809280506804,18.18403145169946,23.674253622892092,29.96447579408475,37.0546979652774,44.94492013647007,53.63514230766272,63.125364478855346,73.41558665004804,84.50580882124066,96.39603099243328,109.08625316362598,122.57647533481858,136.86669750601135,151.95691967720393,167.84714184839666,184.53736401958926,202.02758619078185],[296.30255756831764,275.0088891282724,254.51522068822717,234.82155224818203,215.9278838081368,197.83421536809158,180.54054692804635,164.04687848800114,148.35321004795594,133.45954160791075,119.36587316786554,106.07220472782032,93.57853628777511,81.88486784772991,70.99119940768469,60.8975309676395,51.60386252759427,43.11019408754906,35.41652564750386,28.52285720745865,22.42918876741345,17.135520327368233,12.641851887323023,8.948183447277811,6.054515007232602,3.960846567187402,2.667178127142192,2.173509687096983,2.4798412470517763,3.5861728070065704,5.492504366961356,8.19883592691615,11.705167486870945,16.011499046825744,21.11783060678054,27.02416216673531,33.730493726690106,41.2368252866449,49.5431568465997,58.649488406554504,68.55581996650926,79.2621515264641,90.76848308641885,103.0748146463736,116.18114620632846,130.0874777662832,144.7938093262381,160.30014088619282,176.6064724461477,193.71280400610243,211.6191355660572],[285.37690647071884,264.49934741943576,244.42178836815262,225.14422931686966,206.66667026558656,188.98911121430348,172.1115521630204,156.0339931117373,140.75643406045424,126.2788750091712,112.60131595788812,99.72375690660505,87.64619785532196,76.36863880403891,65.89107975275581,56.21352070147277,47.33596165018969,39.25840259890661,31.980843547623554,25.503284496340477,19.825725445057415,14.948166393774342,10.870607342491269,7.593048291208198,5.115489239925129,3.437930188642066,2.560371137358996,2.4828120860759277,3.20525303479286,4.727693983509794,7.050134932226717,10.17257588094365,14.095016829660587,18.817457778377523,24.339898727094457,30.662339675811367,37.78478062452831,45.70722157324524,54.429662521962186,63.952103470679134,74.27454441939602,85.39698536811301,97.31942631682989,110.04186726554678,123.56430821426379,137.88674916298066,153.00919011169765,168.9316310604146,185.6540720091316,203.17651295784847,221.4989539065653],[274.7395243383528,254.27807467583187,234.6166250133109,215.75517535079007,197.69372568826913,180.43227602574814,163.97082636322722,148.30937670070628,133.44792703818538,119.38647737566447,106.12502771314352,93.66357805062259,82.00212838810165,71.14067872558073,61.0792290630598,51.81777940053888,43.35632973801793,35.694880075497,28.833430412976085,22.77198075045515,17.510531087934226,13.049081425413295,9.387631762892362,6.526182100371431,4.464732437850503,3.203282775329579,2.7418331128086493,3.080383450287721,4.218933787766794,6.157484125245869,8.89603446272493,12.434584800204005,16.77313513768308,21.91168547516216,27.85023581264123,34.588786150120285,42.12733648759936,50.465886825078435,59.60443716255752,69.54298750003659,80.28153783751563,91.82008817499477,104.1586385124738,117.29718884995282,131.23573918743196,145.97428952491097,161.51283986239014,177.85139019986914,194.98994053734833,212.92849087482733,231.66704121230634],[264.3904111712196,244.34507089746086,225.09973062370204,206.65439034994336,189.0090500761845,172.16370980242573,156.1183695286669,140.87302925490812,126.42768898114936,112.78234870739058,99.93700843363179,87.89166815987299,76.6463278861142,66.20098761235542,56.555647338596614,47.710307064837835,39.66496679107904,32.41962651732024,25.974286243561465,20.32894596980267,15.483605696043888,11.438265422285093,8.192925148526303,5.747584874767513,4.102244601008726,3.2569043272499396,3.2115640534911507,3.9662237797323634,5.520883505973577,7.875543232214792,11.030202958455993,14.984862684697205,19.739522410938424,25.29418213717964,31.64884186342086,38.80350158966205,46.758161315903266,55.51282104214447,65.0674807683857,75.42214049462692,86.5768002208681,98.53145994710937,111.28611967335053,124.84077939959168,139.19543912583296,154.35009885207415,170.30475857831541,187.05941830455657,204.6140780307979,222.96873775703907,242.1233974832802],[254.3295669693194,234.70033608432271,215.87110519932605,197.84187431432946,180.61264342933282,164.18341254433614,148.55418165933946,133.7249507743428,119.6957198893462,106.46648900434954,94.03725811935288,82.40802723435623,71.57879634935956,61.549565464362935,52.32033457936628,43.89110369436965,36.26187280937299,29.43264192437633,23.40341103937969,18.174180154383038,13.744949269386396,10.115718384389744,7.286487499393093,5.257256614396445,4.028025729399796,3.59879484440315,3.9695639594065018,5.140333074409855,7.111102189413211,9.881871304416565,13.452640419419906,17.823409534423263,22.99417864942662,28.964947764429972,35.73571687943333,43.306485994436656,51.67725510944001,60.84802422444338,70.81879333944674,81.58956245445012,93.16033156945342,105.53110068445682,118.70186979946013,132.67263891446345,147.44340802946687,163.01417714447018,179.38494625947362,196.5557153744769,214.52648448948037,233.29725360448361,252.8680227194869],[244.5569917326519,225.34387023641742,206.93074874018288,189.31762724394844,172.5045057477139,156.49138425147936,141.27826275524487,126.86514125901034,113.25201976277586,100.43889826654136,88.42577677030684,77.21265527407232,66.79953377783781,57.186412281603324,48.373290785368795,40.360169289134305,33.14704779289979,26.733926296665274,21.12080480043077,16.307683304196257,12.294561807961752,9.081440311727244,6.668318815492734,5.055197319258225,4.242075823023717,4.22895432678921,5.015832830554702,6.602711334320196,8.98958983808569,12.176468341851187,16.163346845616665,20.950225349382166,26.537103853147663,32.92398235691316,40.110860860678656,48.097739364444124,56.88461786820962,66.47149637197512,76.85837487574062,88.04525337950614,100.03213188327157,112.81901038703714,126.4058888908026,140.79276739456805,155.9796458983336,171.96652440209903,188.75340290586462,206.34028140963005,224.72715991339564,243.91403841716107,263.9009169209265],[235.07268546121736,216.275673353745,198.27866124627258,181.0816491388003,164.6846370313279,149.08762492385551,134.29061281638315,120.29360070891076,107.09658860143841,94.69957649396606,83.10256438649367,72.3055522790213,62.30854017154891,53.11152806407656,44.71451595660418,37.11750384913182,30.320491741659445,24.323479634187066,19.126467526714706,14.729455419242331,11.132443311769967,8.335431204297594,6.3384190968252225,5.141406989352853,4.744394881880485,5.147382774408114,6.350370666935746,8.353358559463377,11.156346451991011,14.759334344518646,19.16232223704626,24.365310129573892,30.36829802210153,37.171285914629166,44.7742738071568,53.17726169968441,62.38024959221204,72.38323748473968,83.18622537726733,94.78921326979497,107.19220116232253,120.39518905485026,134.39817694737783,149.2011648399054,164.80415273243312,181.2071406249607,198.41012851748843,216.41311641001602,235.21610430254373,254.81909219507128,275.22208008759884],[225.87664815501563,207.49574543630538,189.91484271759515,173.13393999888496,157.15303728017471,141.97213456146446,127.59123184275423,114.01032912404399,101.22942640533378,89.24852368662357,78.06762096791333,67.6867182492031,58.105815530492855,49.324912811782625,41.3440100930724,34.16310737436217,27.782204655651938,22.201301936941704,17.42039921823148,13.439496499521248,10.25859378081102,7.877691062100789,6.296788343390558,5.51588562468033,5.534982905970102,6.3540801872598704,7.9731774685496415,10.392274749839414,13.61137203112919,17.630469312418967,22.449566593708717,28.068663874998492,34.48776115628827,41.70685843757805,49.72595571886782,58.54505300015757,68.16415028144735,78.58324756273713,89.80234484402692,101.8214421253167,114.64053940660642,128.25963668789626,142.678733969186,157.8978312504757,173.91692853176556,190.73602581305525,208.35512309434512,226.77422037563483,245.99331765692472,266.0124149382144,286.83151221950413],[216.96887981404672,199.0040864840986,181.83929315415054,165.4744998242025,149.90970649425438,135.14491316430627,121.18011983435818,108.01532650441007,95.650533174462,84.08573984451394,73.32094651456582,63.356153184617725,54.19135985466964,45.82656652472156,38.26177319477346,31.496979864825374,25.53218653487728,20.367393204929186,16.0025998749811,12.43780654503301,9.673013215084925,7.708219885136834,6.543426555188745,6.178633225240656,6.613839895292568,7.849046565344476,9.884253235396388,12.719459905448302,16.354666575500218,20.789873245552133,26.025079915604028,32.060286585655945,38.89549325570786,46.53069992575978,54.965906595811695,64.20111326586357,74.23631993591549,85.0715266059674,96.70673327601934,109.14193994607126,122.37714661612311,136.41235328617512,151.24755995622698,166.88276662627885,183.31797329633082,200.5531799663827,218.58838663643468,237.42359330648654,257.0587999765385,277.4940066465904,298.72921331664224],[208.34938043831067,190.80069649712473,174.05201255593875,158.10332861475285,142.9546446735669,128.60596073238094,115.05727679119494,102.30859285000902,90.35990890882307,79.21122496763714,68.86254102645117,59.31385708526522,50.56517314407926,42.61648920289333,35.46780526170737,29.119121320521423,23.570437379335473,18.821753438149518,14.873069496963577,11.724385555777623,9.375701614591678,7.827017673405728,7.078333732219779,7.12964979103383,7.980965849847884,9.63228190866193,12.083597967475981,15.334914026290038,19.386230085104092,24.237546143918152,29.888862202732177,36.340178261546235,43.5914943203603,51.642810379174364,60.49412643798841,70.14544249680243,80.59675855561649,91.84807461443054,103.89939067324462,116.75070673205869,130.40202279087268,144.8533388496868,160.1046549085008,176.1559709673148,193.00728702612895,210.6586030849429,229.10991914375705,248.36123520257107,268.4125512613852,289.2638673201992,310.91518337901323],[200.01815002780748,182.88557547538366,166.55300092295982,151.02042637053606,136.28785181811224,122.35527726568841,109.2227027132646,96.89012816084079,85.35755360841699,74.6249790559932,64.69240450356938,55.55982995114555,47.22725539872174,39.69468084629794,32.96210629387413,27.029531741450327,21.896957189026516,17.564382636602705,14.031808084178898,11.299233531755087,9.366658979331284,8.23408442690747,7.901509874483662,8.368935322059855,9.636360769636049,11.703786217212233,14.571211664788427,18.23863711236462,22.70606255994082,27.973488007517016,34.04091345509318,40.908338902669385,48.575764350245585,57.04318979782179,66.31061524539798,76.37804069297414,87.24546614055033,98.91289158812654,111.38031703570275,124.64774248327895,138.7151679308551,153.5825933784314,169.25001882600748,185.71744427358362,202.9848697211599,221.05229516873607,239.9197206163123,259.58714606388844,280.05457151146476,301.32199695904086,323.389422406617],[191.97518858253713,175.2587234188755,159.34225825521378,144.22579309155216,129.9093279278905,116.3928627642288,103.67639760056713,91.75993243690544,80.64346727324377,70.32700210958211,60.81053694592045,52.094071782258766,44.17760661859708,37.06114145493543,30.74467629127375,25.228211127612084,20.51174596395041,16.595280800288737,13.478815636627072,11.1623504729654,9.645885309303731,8.92942014564206,9.01295498198039,9.89648981831872,11.580024654657054,14.063559490995376,17.347094327333707,21.430629163672037,26.314164000010376,31.997698836348707,38.48123367268701,45.76476850902535,53.84830334536368,62.73183818170202,72.41537301804037,82.89890785437865,94.182442690717,106.26597752705533,119.14951236339367,132.83304719973202,147.31658203607032,162.6001168724087,178.683651708747,195.56718654508524,213.25072138142366,231.73425621776195,251.01779105410037,271.1013258904386,291.9848607267771,313.66839556311527,336.1519303994536],[184.22049610249965,167.9201403276001,152.41978455270058,137.71942877780108,123.81907300290153,110.71871722800199,98.41836145310245,86.91800567820292,76.21764990330341,66.31729412840389,57.21693835350435,48.91658257860481,41.41622680370527,34.71587102880575,28.815515253906213,23.715159479006687,19.41480370410715,15.914447929207617,13.21409215430809,11.31373637940856,10.21338060450903,9.9130248296095,10.41266905470997,11.712313279810441,13.811957504910914,16.711601730011374,20.41124595511185,24.91089018021232,30.210534405312796,36.310178630413276,43.20982285551372,50.90946708061419,59.409111305714674,68.70875553081515,78.80839975591563,89.70804398101606,101.40768820611653,113.90733243121701,127.2069766563175,141.30662088141798,156.2062651065184,171.90590933161894,188.40555355671938,205.70519778181978,223.80484200692035,242.70448623202077,262.4041304571213,282.90377468222175,304.2034189073223,326.3030631324227,349.2027073575231],[176.75407258769502,160.86982620155757,145.7855798154202,131.50133342928285,118.01708704314544,105.33284065700806,93.44859427087063,82.36434788473323,72.08010149859587,62.595855112458494,53.91160872632109,46.02736234018369,38.9431159540463,32.65886956790891,27.174623181771516,22.490376795634134,18.60613040949674,15.521884023359348,13.23763763722196,11.753391251084569,11.069144864947178,11.184898478809789,12.100652092672401,13.816405706535013,16.332159320397626,19.647912934260226,23.763666548122842,28.679420161985455,34.39517377584808,40.91092738971069,48.226681003573276,56.34243461743589,65.2581882312985,74.97394184516112,85.48969545902375,96.80544907288632,108.92120268674893,121.83695630061156,135.55270991447418,150.0684635283368,165.38421714219936,181.49997075606205,198.4157243699246,216.13147798378714,234.64723159764986,253.96298521151238,274.0787388253751,294.99449243923766,316.7102460531004,339.22599966696293,362.54175328082545],[169.57591803812318,154.1077810407479,139.43964404337265,125.57150704599744,112.5033700486222,100.23523305124692,88.76709605387168,78.09895905649643,68.23082205912118,59.16268506174593,50.89454806437068,43.42641106699543,36.75827406962017,30.890137072244926,25.822000074869674,21.553863077494427,18.085726080119173,15.417589082743923,13.549452085368674,12.481315087993426,12.213178090618175,12.745041093242925,14.076904095867679,16.20876709849243,19.14063010111719,22.872493103741924,27.404356106366677,32.736219108991435,38.86808211161619,45.799945114240955,53.531808116865676,62.06367111949044,71.3955341221152,81.52739712473995,92.45926012736471,104.19112312998942,116.72298613261418,130.05484913523895,144.1867121378637,159.11857514048847,174.85043814311317,191.382301145738,208.71416414836267,226.84602715098737,245.77789015361225,265.5097531562369,286.04161615886176,307.37347916148644,329.5053421641113,352.437205166736,376.1690681693607],[162.6860324537842,147.6340048451711,133.38197723655796,119.92994962794491,107.2779220193318,95.42589441071867,84.37386680210555,74.12183919349243,64.66981158487934,56.017783976266244,48.16575636765312,41.11372875904001,34.861701150426896,29.409673541813795,24.75764593320068,20.905618324587575,17.853590715974462,15.60156310736135,14.149535498748243,13.497507890135132,13.645480281522023,14.593452672908914,16.341425064295805,18.8893974556827,22.237369847069594,26.385342238456474,31.33331462984337,37.08128702123027,43.629259412617166,50.97723180400406,59.12520419539093,68.07317658677782,77.82114897816473,88.36912136955162,99.71709376093852,111.86506615232538,124.81303854371227,138.5610109350992,153.10898332648605,168.456955717873,184.60492810925982,201.55290050064679,219.30087289203362,237.84884528342047,257.19681767480745,277.34479006619426,298.29276245758126,320.0407348489681,342.5887072403551,365.9366796317419,390.0846520231287],[156.08441583467814,141.44849761482715,127.61257939497617,114.57666117512524,102.34074295527428,90.90482473542328,80.26890651557231,70.43298829572133,61.39707007587037,53.1611518560194,45.725233636168426,39.08931541631745,33.25339719646647,28.21747897661551,23.981560756764537,20.54564253691357,17.909724317062597,16.073806097211623,15.037887877360653,14.80196965750968,15.366051437658708,16.73013321780774,18.894214997956773,21.858296778105803,25.622378558254837,30.186460338403855,35.55054211855289,41.71462389870192,48.67870567885095,56.44278745899999,65.00686923914898,74.37095101929803,84.53503279944707,95.49911457959611,107.26319635974514,119.82727813989412,133.19135992004317,147.35544170019222,162.31952348034125,178.0836052604903,194.64768704063925,212.0117688207884,230.17585060093734,249.13993238108628,268.9040141612354,289.4680959413844,310.8321777215336,332.9962595016825,355.9603412818317,379.7244230619806,404.28850484212956],[149.77106818080486,135.55125934971602,122.13145051862719,109.5116416875384,97.69183285644957,86.67202402536073,76.45221519427189,67.03240636318306,58.41259753209424,50.592788701005404,43.57297986991657,37.35317103882773,31.933362207738902,27.313553376650077,23.493744545561242,20.473935714472415,18.254126883383577,16.834318052294748,16.21450922120592,16.394700390117087,17.374891559028253,19.155082727939426,21.735273896850597,25.115465065761768,29.295656234672947,34.2758474035841,40.05603857249527,46.636229741406446,54.01642091031762,62.1966120792288,71.17680324813995,80.95699441705112,91.5371855859623,102.91737675487347,115.09756792378465,128.07775909269577,141.85795026160696,156.43814143051813,171.8183325994293,187.99852376834053,204.97871493725162,222.7589061061629,241.339097275074,260.7192884439851,280.89947961289636,301.8796707818075,323.6598619507188,346.24005311962986,369.62024428854113,393.80043545745224,418.7806266263633],[143.74598949216448,129.94229004983777,116.93859060751109,104.73489116518442,93.33119172285771,82.72749228053102,72.9237928382043,63.92009339587763,55.71639395355095,48.31269451122425,41.708995068897565,35.90529562657087,30.90159618424417,26.697896741917482,23.29419729959079,20.6904978572641,18.88679841493741,17.883098972610718,17.67939953028403,18.27570008795734,19.672000645630646,21.868301203303957,24.864601760977273,28.660902318650585,33.2572028763239,38.653503433997194,44.849803991670505,51.84610454934383,59.64240510701714,68.23870566469046,77.63500622236373,87.83130678003705,98.82760733771036,110.62390789538368,123.22020845305703,136.61650901073025,150.8128095684036,165.8091101260769,181.60541068375025,198.20171124142354,215.5980117990968,233.7943123567702,252.79061291444344,272.5869134721167,293.18321402979007,314.57951458746334,336.7758151451368,359.77211570281,383.56841626048345,408.16471681815665,433.5610173758299],[138.0091797687569,124.62158971519236,112.03399966162777,100.24640960806329,89.25881955449871,79.07122950093415,69.6836394473696,61.096049393805046,53.3084593402405,46.32086928667596,40.1332792331114,34.745689179546844,30.158099125982297,26.370509072417754,23.382919018853194,21.195328965288645,19.807738911724094,19.220148858159547,19.43255880459499,20.444968751030444,22.25737869746589,24.86978864390134,28.282198590336794,32.49460853677225,37.50701848320771,43.31942842964314,49.93183837607859,57.34424832251405,65.5566582689495,74.56906821538496,84.38147816182038,94.99388810825585,106.40629805469129,118.61870800112675,131.63111794756222,145.4435278939976,160.05593784043307,175.46834778686855,191.680757733304,208.69316767973947,226.50557762617484,245.1179875726104,264.5303975190458,284.7428074654812,305.75521741191676,327.56762735835207,350.1800373047877,373.592447251223,397.80485719765863,422.817267144094,448.6296770905293],[132.56063901058218,119.58915834577977,107.41767768097733,96.04619701617497,85.47471635137256,75.70323568657014,66.73175502176773,58.5602743569653,51.18879369216291,44.61731302736051,38.84583236255809,33.87435169775567,29.70287103295326,26.331390368150856,23.75990970334844,21.98842903854603,21.01694837374362,20.845467708941207,21.4739870441388,22.90250637933639,25.131025714533976,28.15954504973157,31.988064384929167,36.61658372012676,42.04510305532436,48.27362239052193,55.30214172571952,63.13066106091712,71.75918039611471,81.18769973131232,91.41621906650988,102.44473840170747,114.27325773690508,126.90177707210267,140.33029640730027,154.5588157424978,169.5873350776954,185.415854412893,202.0443737480906,219.47289308328823,237.70141241848577,256.72993175368345,276.55845108888093,297.1869704240785,318.61548975927616,340.8440090944737,363.87252842967143,387.7010477648689,412.32956710006664,437.7580864352642,463.98660577046167],[127.40036721764034,114.84499594160006,103.0896246655598,92.13425338951954,81.97888211347927,72.623510837439,64.06813956139871,56.312768285358445,49.35739700931818,43.20202573327791,37.84665445723763,33.29128318119736,29.53591190515708,26.58054062911681,24.42516935307654,23.06979807703627,22.514426800996,22.759055524955727,23.803684248915452,25.648312972875182,28.292941696834905,31.737570420794633,35.982199144754375,41.0268278687141,46.87145659267384,53.51608531663354,60.960714040593274,69.20534276455302,78.24997148851276,88.09460021247249,98.73922893643218,110.18385766039191,122.42848638435166,135.4731151083114,149.31774383227113,163.96237255623083,179.40700128019057,195.65163000415032,212.69625872811002,230.5408874520698,249.18551617602944,268.63014489998926,288.87477362394895,309.9194023479086,331.7640310718685,354.4086597958281,377.85328851978795,402.0979172437476,427.14254596770746,452.9871746916671,479.6318034156268],[122.52836438993131,110.38910250265317,99.04984061537503,88.51057872809695,78.7713168408188,69.83205495354066,61.692793066262524,54.3535311789844,47.81426929170627,42.07500740442815,37.135745517150006,32.996483629871875,29.65722174259374,27.11795985531562,25.378697968037493,24.43943608075936,24.30017419348123,24.960912306203102,26.421650418924976,28.682388531646843,31.743126644368708,35.603864757090584,40.26460286981246,45.725340982534334,51.986079095256216,59.04681720797805,66.90755532069993,75.56829343342181,85.02903154614368,95.28976965886557,106.35050777158742,118.21124588430929,130.87198399703118,144.33272210975306,158.59346022247493,173.65419833519675,189.51493644791864,206.17567456064054,223.6364126733624,241.8971507860843,260.9578888988061,280.81862701152806,301.47936512424985,322.94010323697165,345.20084134969363,368.2615794624154,392.12231757513746,416.78305568785925,442.2437938005812,468.504531913303,495.5652700260248],[117.94463052745517,106.22147802893916,95.29832553042317,85.1751730319072,75.8520205333912,67.32886803487521,59.6057155363592,52.682563037843224,46.55941053932723,41.23625804081125,36.71310554229525,32.98995304377925,30.066800545263263,27.943648046747278,26.620495548231283,26.097343049715285,26.3741905511993,27.45103805268331,29.327885554167313,32.00473305565132,35.48158055713533,39.75842805861934,44.835275560103355,50.71212306158736,57.38897056307138,64.86581806455537,73.14266556603938,82.2195130675234,92.09636056900743,102.77320807049145,114.25005557197542,126.52690307345942,139.60375057494346,153.48059807642747,168.15744557791152,183.63429307939543,199.91114058087948,216.9879880823635,234.8648355838475,253.54168308533156,273.0185305868155,293.2953780882996,314.37222558978357,336.24907309126746,358.9259205927516,382.4027680942355,406.67961559571967,431.7564630972036,457.6333105986878,484.3101581001717,511.7870056016556],[113.64916563021185,102.34212252045802,91.83507941070413,82.12803630095033,73.22099319119646,65.1139500814426,57.80690697168875,51.29986386193489,45.592820752181034,40.68577764242719,36.57873453267334,33.27169142291948,30.764648313165623,29.05760520341177,28.150562093657925,28.043518983904065,28.736475874150212,30.229432764396368,32.52238965464251,35.61534654488866,39.5083034351348,44.20126032538094,49.694217215627106,55.98717410587325,63.08013099611941,70.97308788636553,79.66604477661168,89.15900166685785,99.45195855710399,110.54491544735015,122.43787233759627,135.1308292278424,148.62378611808856,162.91674300833475,178.0096998985809,193.90265678882702,210.59561367907315,228.0885705693193,246.38152745956546,265.47448434981163,285.3674412400577,306.060398130304,327.5533550205501,349.8463119107961,372.93926880104243,396.83222569128844,421.52518258153475,447.0181394717808,473.3110963620271,500.4040532522732,528.2970101425192],[109.64196969820136,98.75103597720968,88.66010225621793,79.36916853522627,70.87823481423455,63.18730109324282,56.29636737225111,50.20543365125939,44.91449993026768,40.42356620927598,36.73263248828427,33.84169876729255,31.75076504630084,30.459831325309132,29.96889760431742,30.277963883325704,31.387030162334,33.29609644134229,36.005162720350576,39.51422899935886,43.823295278367155,48.932361557375444,54.841427836383744,61.55049411539204,69.05956039440034,77.36862667340858,86.4776929524169,96.38675923142519,107.0958255104335,118.60489178944178,130.91395806845003,144.02302434745835,157.93209062646665,172.64115690547496,188.1502231844832,204.45928946349144,221.56835574249976,239.47742202150806,258.1864883005164,277.6955545795247,298.0046208585329,319.1136871375413,341.0227534165495,363.7318196955577,387.24088597456614,411.54995225357436,436.65901853258276,462.56808481159095,489.2771510905994,516.7862173696076,545.0952836486158],[105.92304273142375,95.4482183991942,85.77339406696461,76.89856973473505,68.8237454025055,61.5489210702759,55.074096738046336,49.39927240581675,44.524448073587195,40.44962374135763,37.17479940912804,34.699975076898475,33.0251507446689,32.15032641243933,32.07550208020976,32.80067774798019,34.32585341575061,36.65102908352104,39.77620475129146,43.70138041906189,48.42655608683231,53.95173175460275,60.27690742237318,67.40208309014362,75.32725875791405,84.05243442568444,93.5776100934549,103.90278576122532,115.02796142899578,126.9531370967662,139.67831276453657,153.20348843230704,167.52866410007746,182.6538397678479,198.57901543561835,215.3041911033887,232.8293667711592,251.15454243892958,270.27971810670005,290.2048937744705,310.93006944224084,332.45524511001133,354.7804207777817,377.9055964455521,401.8307721133226,426.555947781093,452.08112344886354,478.40629911663393,505.53147478440445,533.4566504521747,562.1818261199451],[102.49238472987898,92.43366978641154,83.17495484294412,74.7162398994767,67.05752495600927,60.198810012541834,54.14009506907439,48.88138012560696,44.42266518213954,40.763950238672116,37.905235295204676,35.84652035173724,34.587805408269816,34.12909046480238,34.47037552133495,35.611660577867525,37.55294563440009,40.29423069093267,43.83551574746522,48.17680080399779,53.318085860530374,59.25937091706294,66.00065597359551,73.5419410301281,81.88322608666067,91.02451114319321,100.96579619972579,111.70708125625836,123.24836631279096,135.58965136932352,148.73093642585604,162.67222148238864,177.4135065389212,192.9547915954538,209.29607665198634,226.4373617085189,244.37864676505149,263.11993182158403,282.66121687811665,303.0025019346492,324.14378699118174,346.08507204771445,368.8263571042469,392.3676421607794,416.7089272173121,441.8502122738446,467.7914973303773,494.53278238690973,522.0740674434425,550.4153524999749,579.5566375565074],[99.34999569356708,89.70739013886177,80.86478458415647,72.8221790294512,65.5795734747459,59.13696792004062,53.49436236533532,48.65175681063002,44.609151255924736,41.366545701219444,38.923940146514155,37.28133459180886,36.43872903710357,36.39612348239827,37.15351792769298,38.710912372987686,41.068306818282394,44.22570126357711,48.18309570887182,52.940490154166525,58.49788459946122,64.85527904475595,72.01267349005064,79.97006793534537,88.72746238064008,98.28485682593475,108.64225127122947,119.7996457165242,131.7570401618189,144.51443460711363,158.0718290524083,172.42922349770302,187.58661794299775,203.54401238829246,220.30140683358718,237.85880127888183,256.21619572417654,275.3735901694713,295.33098461476595,316.08837906006073,337.64577350535535,360.0031679506502,383.16056239594485,407.11795684123945,431.8753512865343,457.4327457318289,483.7901401771238,510.9475346224184,538.9049290677133,567.662323513008,597.2197179583025],[96.495875622488,87.26937945654483,78.84288329060166,71.21638712465855,64.3898909587154,58.36339479277224,53.13689862682909,48.71040246088593,45.08390629494279,42.25741012899964,40.23091396305649,39.00441779711334,38.57792163117019,38.95142546522703,40.12492929928389,42.098433133340734,44.87193696739759,48.445440801454446,52.81894463551128,57.99244846956814,63.96595230362499,70.73945613768184,78.3129599717387,86.68646380579554,95.85996763985241,105.83347147390924,116.6069753079661,128.18047914202296,140.55398297607982,153.72748681013667,167.70099064419347,182.47449447825034,198.0479983123072,214.42150214636408,231.59500598042092,249.56850981447772,268.3420136485346,287.91551748259144,308.2890213166483,329.4625251507052,351.43602898476195,374.2095328188189,397.7830366528757,422.15654048693244,447.3300443209895,473.3035481550462,500.0770519891032,527.65055582316,556.0240596572171,585.1975634912737,615.1710673253306],[93.93002451664177,85.11963773946076,77.10925096227973,69.89886418509874,63.488477407917735,57.87809063073671,53.067703853555706,49.057317076374694,45.84693029919369,43.43654352201267,41.82615674483166,41.01576996765065,41.00538319046964,41.794996413288615,43.38460963610761,45.77422285892659,48.96383608174558,52.95344930456458,57.74306252738356,63.332675750202554,69.72228897302153,76.91190219584053,84.90151541865953,93.69112864147853,103.28074186429753,113.67035508711646,124.85996830993548,136.84958153275448,149.6391947555735,163.22880797839247,177.61842120121142,192.80803442403044,208.79764764684944,225.58726086966846,243.17687409248742,261.56648731530635,280.75610053812534,300.74571376094434,321.53532698376335,343.1249402065823,365.5145534294013,388.70416665222035,412.69377987503924,437.4833930978582,463.0730063206773,489.4626195434962,516.6522327663154,544.6418459891343,573.4314592119533,603.0210724347723,633.4106856575911],[91.6524423760284,83.25816498760952,75.66388759919064,68.8696102107718,62.87533282235292,57.68105543393404,53.28677804551516,49.69250065709629,46.89822326867743,44.90394588025855,43.70966849183968,43.315391103420794,43.72111371500192,44.92683632658305,46.93255893816418,49.7382815497453,53.344004161326424,57.749726772907565,62.95544938448869,68.96117199606982,75.76689460765093,83.37261721923207,91.7783398308132,100.98406244239433,110.98978505397545,121.79550766555656,133.4012302771377,145.80695288871883,159.01267550029996,173.0183981118811,187.8241207234622,203.42984333504333,219.83556594662446,237.04128855820562,255.04701116978674,273.85273378136776,293.45845639294896,313.8641790045301,335.0699016161112,357.0756242276924,379.8813468392734,403.4870694508546,427.8927920624357,453.09851467401677,479.104237285598,505.9099598971791,533.5156825087604,561.9214051203414,591.1271277319227,621.1328503435037,651.9385729550847]],\"type\":\"surface\",\"contours\":{\"z\":{\"project\":{\"z\":true},\"highlightcolor\":\"limegreen\",\"show\":true,\"usecolormap\":true}}}],                        {\"template\":{\"data\":{\"histogram2dcontour\":[{\"type\":\"histogram2dcontour\",\"colorbar\":{\"outlinewidth\":0,\"ticks\":\"\"},\"colorscale\":[[0.0,\"#0d0887\"],[0.1111111111111111,\"#46039f\"],[0.2222222222222222,\"#7201a8\"],[0.3333333333333333,\"#9c179e\"],[0.4444444444444444,\"#bd3786\"],[0.5555555555555556,\"#d8576b\"],[0.6666666666666666,\"#ed7953\"],[0.7777777777777778,\"#fb9f3a\"],[0.8888888888888888,\"#fdca26\"],[1.0,\"#f0f921\"]]}],\"choropleth\":[{\"type\":\"choropleth\",\"colorbar\":{\"outlinewidth\":0,\"ticks\":\"\"}}],\"histogram2d\":[{\"type\":\"histogram2d\",\"colorbar\":{\"outlinewidth\":0,\"ticks\":\"\"},\"colorscale\":[[0.0,\"#0d0887\"],[0.1111111111111111,\"#46039f\"],[0.2222222222222222,\"#7201a8\"],[0.3333333333333333,\"#9c179e\"],[0.4444444444444444,\"#bd3786\"],[0.5555555555555556,\"#d8576b\"],[0.6666666666666666,\"#ed7953\"],[0.7777777777777778,\"#fb9f3a\"],[0.8888888888888888,\"#fdca26\"],[1.0,\"#f0f921\"]]}],\"heatmap\":[{\"type\":\"heatmap\",\"colorbar\":{\"outlinewidth\":0,\"ticks\":\"\"},\"colorscale\":[[0.0,\"#0d0887\"],[0.1111111111111111,\"#46039f\"],[0.2222222222222222,\"#7201a8\"],[0.3333333333333333,\"#9c179e\"],[0.4444444444444444,\"#bd3786\"],[0.5555555555555556,\"#d8576b\"],[0.6666666666666666,\"#ed7953\"],[0.7777777777777778,\"#fb9f3a\"],[0.8888888888888888,\"#fdca26\"],[1.0,\"#f0f921\"]]}],\"heatmapgl\":[{\"type\":\"heatmapgl\",\"colorbar\":{\"outlinewidth\":0,\"ticks\":\"\"},\"colorscale\":[[0.0,\"#0d0887\"],[0.1111111111111111,\"#46039f\"],[0.2222222222222222,\"#7201a8\"],[0.3333333333333333,\"#9c179e\"],[0.4444444444444444,\"#bd3786\"],[0.5555555555555556,\"#d8576b\"],[0.6666666666666666,\"#ed7953\"],[0.7777777777777778,\"#fb9f3a\"],[0.8888888888888888,\"#fdca26\"],[1.0,\"#f0f921\"]]}],\"contourcarpet\":[{\"type\":\"contourcarpet\",\"colorbar\":{\"outlinewidth\":0,\"ticks\":\"\"}}],\"contour\":[{\"type\":\"contour\",\"colorbar\":{\"outlinewidth\":0,\"ticks\":\"\"},\"colorscale\":[[0.0,\"#0d0887\"],[0.1111111111111111,\"#46039f\"],[0.2222222222222222,\"#7201a8\"],[0.3333333333333333,\"#9c179e\"],[0.4444444444444444,\"#bd3786\"],[0.5555555555555556,\"#d8576b\"],[0.6666666666666666,\"#ed7953\"],[0.7777777777777778,\"#fb9f3a\"],[0.8888888888888888,\"#fdca26\"],[1.0,\"#f0f921\"]]}],\"surface\":[{\"type\":\"surface\",\"colorbar\":{\"outlinewidth\":0,\"ticks\":\"\"},\"colorscale\":[[0.0,\"#0d0887\"],[0.1111111111111111,\"#46039f\"],[0.2222222222222222,\"#7201a8\"],[0.3333333333333333,\"#9c179e\"],[0.4444444444444444,\"#bd3786\"],[0.5555555555555556,\"#d8576b\"],[0.6666666666666666,\"#ed7953\"],[0.7777777777777778,\"#fb9f3a\"],[0.8888888888888888,\"#fdca26\"],[1.0,\"#f0f921\"]]}],\"mesh3d\":[{\"type\":\"mesh3d\",\"colorbar\":{\"outlinewidth\":0,\"ticks\":\"\"}}],\"scatter\":[{\"fillpattern\":{\"fillmode\":\"overlay\",\"size\":10,\"solidity\":0.2},\"type\":\"scatter\"}],\"parcoords\":[{\"type\":\"parcoords\",\"line\":{\"colorbar\":{\"outlinewidth\":0,\"ticks\":\"\"}}}],\"scatterpolargl\":[{\"type\":\"scatterpolargl\",\"marker\":{\"colorbar\":{\"outlinewidth\":0,\"ticks\":\"\"}}}],\"bar\":[{\"error_x\":{\"color\":\"#2a3f5f\"},\"error_y\":{\"color\":\"#2a3f5f\"},\"marker\":{\"line\":{\"color\":\"#E5ECF6\",\"width\":0.5},\"pattern\":{\"fillmode\":\"overlay\",\"size\":10,\"solidity\":0.2}},\"type\":\"bar\"}],\"scattergeo\":[{\"type\":\"scattergeo\",\"marker\":{\"colorbar\":{\"outlinewidth\":0,\"ticks\":\"\"}}}],\"scatterpolar\":[{\"type\":\"scatterpolar\",\"marker\":{\"colorbar\":{\"outlinewidth\":0,\"ticks\":\"\"}}}],\"histogram\":[{\"marker\":{\"pattern\":{\"fillmode\":\"overlay\",\"size\":10,\"solidity\":0.2}},\"type\":\"histogram\"}],\"scattergl\":[{\"type\":\"scattergl\",\"marker\":{\"colorbar\":{\"outlinewidth\":0,\"ticks\":\"\"}}}],\"scatter3d\":[{\"type\":\"scatter3d\",\"line\":{\"colorbar\":{\"outlinewidth\":0,\"ticks\":\"\"}},\"marker\":{\"colorbar\":{\"outlinewidth\":0,\"ticks\":\"\"}}}],\"scattermapbox\":[{\"type\":\"scattermapbox\",\"marker\":{\"colorbar\":{\"outlinewidth\":0,\"ticks\":\"\"}}}],\"scatterternary\":[{\"type\":\"scatterternary\",\"marker\":{\"colorbar\":{\"outlinewidth\":0,\"ticks\":\"\"}}}],\"scattercarpet\":[{\"type\":\"scattercarpet\",\"marker\":{\"colorbar\":{\"outlinewidth\":0,\"ticks\":\"\"}}}],\"carpet\":[{\"aaxis\":{\"endlinecolor\":\"#2a3f5f\",\"gridcolor\":\"white\",\"linecolor\":\"white\",\"minorgridcolor\":\"white\",\"startlinecolor\":\"#2a3f5f\"},\"baxis\":{\"endlinecolor\":\"#2a3f5f\",\"gridcolor\":\"white\",\"linecolor\":\"white\",\"minorgridcolor\":\"white\",\"startlinecolor\":\"#2a3f5f\"},\"type\":\"carpet\"}],\"table\":[{\"cells\":{\"fill\":{\"color\":\"#EBF0F8\"},\"line\":{\"color\":\"white\"}},\"header\":{\"fill\":{\"color\":\"#C8D4E3\"},\"line\":{\"color\":\"white\"}},\"type\":\"table\"}],\"barpolar\":[{\"marker\":{\"line\":{\"color\":\"#E5ECF6\",\"width\":0.5},\"pattern\":{\"fillmode\":\"overlay\",\"size\":10,\"solidity\":0.2}},\"type\":\"barpolar\"}],\"pie\":[{\"automargin\":true,\"type\":\"pie\"}]},\"layout\":{\"autotypenumbers\":\"strict\",\"colorway\":[\"#636efa\",\"#EF553B\",\"#00cc96\",\"#ab63fa\",\"#FFA15A\",\"#19d3f3\",\"#FF6692\",\"#B6E880\",\"#FF97FF\",\"#FECB52\"],\"font\":{\"color\":\"#2a3f5f\"},\"hovermode\":\"closest\",\"hoverlabel\":{\"align\":\"left\"},\"paper_bgcolor\":\"white\",\"plot_bgcolor\":\"#E5ECF6\",\"polar\":{\"bgcolor\":\"#E5ECF6\",\"angularaxis\":{\"gridcolor\":\"white\",\"linecolor\":\"white\",\"ticks\":\"\"},\"radialaxis\":{\"gridcolor\":\"white\",\"linecolor\":\"white\",\"ticks\":\"\"}},\"ternary\":{\"bgcolor\":\"#E5ECF6\",\"aaxis\":{\"gridcolor\":\"white\",\"linecolor\":\"white\",\"ticks\":\"\"},\"baxis\":{\"gridcolor\":\"white\",\"linecolor\":\"white\",\"ticks\":\"\"},\"caxis\":{\"gridcolor\":\"white\",\"linecolor\":\"white\",\"ticks\":\"\"}},\"coloraxis\":{\"colorbar\":{\"outlinewidth\":0,\"ticks\":\"\"}},\"colorscale\":{\"sequential\":[[0.0,\"#0d0887\"],[0.1111111111111111,\"#46039f\"],[0.2222222222222222,\"#7201a8\"],[0.3333333333333333,\"#9c179e\"],[0.4444444444444444,\"#bd3786\"],[0.5555555555555556,\"#d8576b\"],[0.6666666666666666,\"#ed7953\"],[0.7777777777777778,\"#fb9f3a\"],[0.8888888888888888,\"#fdca26\"],[1.0,\"#f0f921\"]],\"sequentialminus\":[[0.0,\"#0d0887\"],[0.1111111111111111,\"#46039f\"],[0.2222222222222222,\"#7201a8\"],[0.3333333333333333,\"#9c179e\"],[0.4444444444444444,\"#bd3786\"],[0.5555555555555556,\"#d8576b\"],[0.6666666666666666,\"#ed7953\"],[0.7777777777777778,\"#fb9f3a\"],[0.8888888888888888,\"#fdca26\"],[1.0,\"#f0f921\"]],\"diverging\":[[0,\"#8e0152\"],[0.1,\"#c51b7d\"],[0.2,\"#de77ae\"],[0.3,\"#f1b6da\"],[0.4,\"#fde0ef\"],[0.5,\"#f7f7f7\"],[0.6,\"#e6f5d0\"],[0.7,\"#b8e186\"],[0.8,\"#7fbc41\"],[0.9,\"#4d9221\"],[1,\"#276419\"]]},\"xaxis\":{\"gridcolor\":\"white\",\"linecolor\":\"white\",\"ticks\":\"\",\"title\":{\"standoff\":15},\"zerolinecolor\":\"white\",\"automargin\":true,\"zerolinewidth\":2},\"yaxis\":{\"gridcolor\":\"white\",\"linecolor\":\"white\",\"ticks\":\"\",\"title\":{\"standoff\":15},\"zerolinecolor\":\"white\",\"automargin\":true,\"zerolinewidth\":2},\"scene\":{\"xaxis\":{\"backgroundcolor\":\"#E5ECF6\",\"gridcolor\":\"white\",\"linecolor\":\"white\",\"showbackground\":true,\"ticks\":\"\",\"zerolinecolor\":\"white\",\"gridwidth\":2},\"yaxis\":{\"backgroundcolor\":\"#E5ECF6\",\"gridcolor\":\"white\",\"linecolor\":\"white\",\"showbackground\":true,\"ticks\":\"\",\"zerolinecolor\":\"white\",\"gridwidth\":2},\"zaxis\":{\"backgroundcolor\":\"#E5ECF6\",\"gridcolor\":\"white\",\"linecolor\":\"white\",\"showbackground\":true,\"ticks\":\"\",\"zerolinecolor\":\"white\",\"gridwidth\":2}},\"shapedefaults\":{\"line\":{\"color\":\"#2a3f5f\"}},\"annotationdefaults\":{\"arrowcolor\":\"#2a3f5f\",\"arrowhead\":0,\"arrowwidth\":1},\"geo\":{\"bgcolor\":\"white\",\"landcolor\":\"#E5ECF6\",\"subunitcolor\":\"white\",\"showland\":true,\"showlakes\":true,\"lakecolor\":\"white\"},\"title\":{\"x\":0.05},\"mapbox\":{\"style\":\"light\"}}},\"title\":{\"text\":\"MSE loss landscape\"},\"scene\":{\"xaxis\":{\"title\":{\"text\":\"a\"}},\"yaxis\":{\"title\":{\"text\":\"b\"}},\"zaxis\":{\"title\":{\"text\":\"loss\"}}}},                        {\"responsive\": true}                    ).then(function(){\n",
              "                            \n",
              "var gd = document.getElementById('8fd152c0-b138-4722-be52-05354babdf5d');\n",
              "var x = new MutationObserver(function (mutations, observer) {{\n",
              "        var display = window.getComputedStyle(gd).display;\n",
              "        if (!display || display === 'none') {{\n",
              "            console.log([gd, 'removed!']);\n",
              "            Plotly.purge(gd);\n",
              "            observer.disconnect();\n",
              "        }}\n",
              "}});\n",
              "\n",
              "// Listen for the removal of the full notebook cells\n",
              "var notebookContainer = gd.closest('#notebook-container');\n",
              "if (notebookContainer) {{\n",
              "    x.observe(notebookContainer, {childList: true});\n",
              "}}\n",
              "\n",
              "// Listen for the clearing of the current output cell\n",
              "var outputEl = gd.closest('.output');\n",
              "if (outputEl) {{\n",
              "    x.observe(outputEl, {childList: true});\n",
              "}}\n",
              "\n",
              "                        })                };                            </script>        </div>\n",
              "</body>\n",
              "</html>"
            ]
          },
          "metadata": {}
        }
      ]
    },
    {
      "cell_type": "markdown",
      "metadata": {
        "id": "jZy5qkSz6_2S"
      },
      "source": [
        "Look at the [convexity](https://en.wikipedia.org/wiki/Convex_function) of the MSE loss. Can you do the linear regression by sight hovering the mouse over it?\n",
        "\n",
        ">**EXERCISE** Visualize the **loss landscape** of other loss choices, such as the $L_1$ norm of the residual vector ($\\|f_\\theta(\\mathbf{x}) - \\mathbf{x}\\|_1)$ (absolute error) or the $L_{50}$ norm. Are these still convex?  "
      ]
    },
    {
      "cell_type": "code",
      "metadata": {
        "id": "DhhE2MtUi3g_"
      },
      "source": [
        "# ✏️ your code here"
      ],
      "execution_count": null,
      "outputs": []
    },
    {
      "cell_type": "code",
      "metadata": {
        "cellView": "form",
        "id": "IrlLWxcm0tb9"
      },
      "source": [
        "# @title 👀 Solution (see how we did the slider!) { run: \"auto\" }\n",
        "\n",
        "p = 1  #@param {type:\"slider\", min:1, max:50, step:1}\n",
        "\n",
        "predictions = a_range[:, None, None] * x[None, None, :]  + b_range[None, :, None]\n",
        "residuals = np.abs(t[None, None, :] - predictions) ** p\n",
        "losses = (residuals.sum(-1) ** (1/p)) / predictions.shape[-1]\n",
        "\n",
        "\n",
        "fig = go.Figure(data=[go.Surface(z=losses, x=a_range, y=b_range)])\n",
        "fig.update_traces(contours_z=dict(show=True, usecolormap=True,\n",
        "                                  highlightcolor=\"limegreen\", project_z=True))\n",
        "fig.update_layout(\n",
        "    title=f\"L{p} landscape\",\n",
        "    scene = dict(\n",
        "                xaxis_title='a',\n",
        "                yaxis_title='b',\n",
        "                zaxis_title='loss')\n",
        ")\n",
        "fig.show()"
      ],
      "execution_count": null,
      "outputs": []
    },
    {
      "cell_type": "markdown",
      "metadata": {
        "id": "FXq55ce581os"
      },
      "source": [
        "### \"Tear down this loss[!](https://youtu.be/IguMXrgfrg8)\"\n",
        "\n",
        "Now we will explicitily compute the parameters $\\theta$ for several polynomial fits, defined in matrix notation as:\n",
        "\n",
        "![polyfit matrix notation](https://drive.google.com/uc?export=view&id=1e4AsSC00ivIXW4c35VNLladTcCTY4dpL)\n",
        "\n",
        "As seen in the lecture, we can analytically find the parameters $\\theta$ that minimize the MSE loss by solving a linear system:\n",
        "\n",
        "$$\\theta = (\\mathbf{X}^\\top \\mathbf{X})^{-1}\\mathbf{X}^\\top\\mathbf{y}$$\n",
        "\n",
        "Let's do it for a 3-degree polynomial fit, this time using pytorch instead of numpy.\n",
        "\n",
        "\n",
        "\n"
      ]
    },
    {
      "cell_type": "code",
      "metadata": {
        "id": "g1Oq4K-CbWqa"
      },
      "source": [
        "# Poly3 fit\n",
        "y = torch.from_numpy(t)\n",
        "x_tens = torch.from_numpy(x)\n",
        "\n",
        "X = torch.ones((y.shape[0], 4), dtype=torch.float64)  # double precision is needed for this calculation, especially with high degree polyfits\n",
        "X[:,0] = x_tens ** 3\n",
        "X[:,1] = x_tens ** 2\n",
        "X[:,2] = x_tens"
      ],
      "execution_count": null,
      "outputs": []
    },
    {
      "cell_type": "markdown",
      "metadata": {
        "id": "Tv9COWdXnovB"
      },
      "source": [
        ">**EXERCISE**: complete the code"
      ]
    },
    {
      "cell_type": "code",
      "metadata": {
        "id": "4v9Puu-9qosN"
      },
      "source": [
        "# ✏️ your code here (look at the formula above!)\n",
        "theta = None"
      ],
      "execution_count": null,
      "outputs": []
    },
    {
      "cell_type": "code",
      "source": [
        "# @title 👀 Solution (without einsum)\n",
        "\n",
        "theta = torch.inverse(X.t() @ X) @ X.t() @ y"
      ],
      "metadata": {
        "cellView": "form",
        "id": "Ck8sPJ96gd9P"
      },
      "execution_count": null,
      "outputs": []
    },
    {
      "cell_type": "code",
      "metadata": {
        "id": "4di4c5yUqkdE",
        "cellView": "form"
      },
      "source": [
        "# @title 👀 Solution (with einsum)\n",
        "\n",
        "temp_inverse = torch.inverse(torch.einsum('ij,jk->ik', X.t(), X))  # or torch.einsum('ji,jk->ik', X, X)\n",
        "theta = torch.einsum('ij,jk,k->i', temp_inverse, X.t(), y)"
      ],
      "execution_count": null,
      "outputs": []
    },
    {
      "cell_type": "code",
      "source": [
        "# @title 👀 Solution (numerically stable)\n",
        "\n",
        "# The equation for theta requires us to solve a linear system.\n",
        "# Instead of explicitly computing a matrix inverse and then multiplying, a more\n",
        "# efficient and stable way is to use torch.linalg.solve(), which is designed to\n",
        "# handle this task more appropriately.\n",
        "\n",
        "theta = torch.linalg.solve(X.t() @ X, X.t() @ y)"
      ],
      "metadata": {
        "cellView": "form",
        "id": "x97OTApfhMo_"
      },
      "execution_count": null,
      "outputs": []
    },
    {
      "cell_type": "code",
      "metadata": {
        "id": "tOJse7C9bojf"
      },
      "source": [
        "#@title 3-degree polynomial fit\n",
        "\n",
        "a, b, c, d = theta.numpy()\n",
        "fig = go.Figure()\n",
        "fig.add_trace(go.Scatter(x=x, y=t, name='dataset', mode='markers', marker=dict(color=\"mediumpurple\")))\n",
        "fig.add_trace(go.Scatter(x=x_funcs, y=np.sin(2*np.pi*x_funcs), name='ground truth', mode='lines', line=dict(color=\"lightgreen\")))\n",
        "fig.add_trace(go.Scatter(x=x_funcs, y=a*x_funcs**3 + b*x_funcs**2 + c*x_funcs + d, name='poly3 fit', mode='lines', line=dict(color=\"lightsalmon\")))\n",
        "fig.update_xaxes(title_text=\"x\", range = [0,1])\n",
        "fig.update_yaxes(title_text=\"t\", range = [-1.5,1.5])\n",
        "fig.show()"
      ],
      "execution_count": null,
      "outputs": []
    },
    {
      "cell_type": "markdown",
      "metadata": {
        "id": "xV6sseHGnDCZ"
      },
      "source": [
        "Let's now compare several polynomial fits with different degrees.\n",
        "\n",
        "Play a bit with the degrees while taking a look at the coefficients $\\theta$.\n",
        "\n",
        "Which one is the best in *your judgement*?\n",
        "Which one is the best according to the MSE loss?\n",
        "\n",
        "An evergreen reminder that here fits well:\n",
        "> **be skeptical!** Especially about the numbers that should tell us if the results we get are good or bad. Are these really evaluating what should be evaluated?"
      ]
    },
    {
      "cell_type": "code",
      "metadata": {
        "id": "uFyk0X9cfcis",
        "cellView": "form"
      },
      "source": [
        "# @title Polynomial fits (press play at least once to trigger the self-update) { run: \"auto\" }\n",
        "\n",
        "degree = {}\n",
        "deg_a = 2  #@param {type:\"slider\", min:0, max:15, step:1}\n",
        "deg_b = 4  #@param {type:\"slider\", min:0, max:15, step:1}\n",
        "deg_c = 7 #@param {type:\"slider\", min:0, max:15, step:1}\n",
        "\n",
        "degree[0], degree[1], degree[2] = deg_a, deg_b, deg_c\n",
        "\n",
        "max_degree = max(degree.values())\n",
        "y = torch.from_numpy(t)\n",
        "X_full = torch.ones((y.shape[0], max_degree + 1), dtype=torch.float64)  # double precision is needed for this calculation!\n",
        "for i in range(max_degree):\n",
        "    X_full[:,i] =  torch.from_numpy(x) ** (max_degree - i)\n",
        "\n",
        "theta_collection = {}\n",
        "\n",
        "for i in range(3):\n",
        "    X = X_full[:,-(degree[i] + 1):]\n",
        "    temp_inverse = torch.inverse(torch.einsum('ij,jk->ik', X.t(), X))\n",
        "    theta_collection[i] = torch.einsum('ij,jk,k->i', temp_inverse, X.t(), y)\n",
        "\n",
        "fig = make_subplots(\n",
        "    rows=1, cols=3,\n",
        "    subplot_titles=(f\"poly{degree[0]} fit\", f\"poly{degree[1]} fit\", f\"poly{degree[2]} fit\"))\n",
        "\n",
        "x_funcs = np.arange(0,1,1./100)\n",
        "y_funcs = {}\n",
        "for i in range(3):\n",
        "    theta_funcs = theta_collection[i].numpy()\n",
        "    X_funcs = np.ones((x_funcs.shape[0], degree[i] + 1), dtype=np.float64)\n",
        "    for j in range(degree[i]):\n",
        "        X_funcs[:,j] =  x_funcs ** (degree[i] - j)\n",
        "    y_funcs[i] = np.einsum('ij,j->i', X_funcs, theta_funcs)\n",
        "    coefficients_string = '<br><br><br>' + '<br>'.join([c + f': {np.round(theta_funcs[i], decimals=2)}' for i, c in enumerate('abcdefghijklmnopqrstuvwxyz'[:len(theta_funcs)])])\n",
        "\n",
        "    fig.add_trace(go.Scatter(x=x, y=t, mode='markers', marker=dict(color=\"mediumpurple\")), row=1, col=i + 1)\n",
        "    fig.add_trace(go.Scatter(x=x_funcs, y=np.sin(2*np.pi*x_funcs), mode='lines', line=dict(color=\"lightgreen\")), row=1, col=i + 1)\n",
        "    fig.add_trace(go.Scatter(x=x_funcs, y=y_funcs[i], mode='lines', line=dict(color=\"lightsalmon\")), row=1, col=i + 1)\n",
        "    fig.update_xaxes(title_text=\"x\" + coefficients_string, range = [0,1], row=1, col=i+1)\n",
        "\n",
        "fig.update_layout(showlegend=False)\n",
        "fig.update_yaxes(title_text=\"t\", range = [-5,5])\n",
        "fig.update_layout(height=700, width=1300, title_text=\"Polynomial fits and their coefficients\")\n",
        "fig.show()"
      ],
      "execution_count": null,
      "outputs": []
    },
    {
      "cell_type": "markdown",
      "metadata": {
        "id": "4KPPrymvhAmb"
      },
      "source": [
        "Nevertheless you should find *evidence* to support your judgement. Our intuition right now is that \"High-degree polynomial fits lead to a high generalization error for this dataset\", how can we test it?\n",
        "As you have learnt in the lecture, a useful study you can perform consists in evaluating the MSE loss on a *test set*, i.e., on samples not used for training.\n",
        "\n",
        "Such as the ones that are going to magically appear in the next cell."
      ]
    },
    {
      "cell_type": "code",
      "metadata": {
        "id": "QPi-ZFkUliUA"
      },
      "source": [
        "x_test = np.random.rand(10)\n",
        "t_test = np.sin(2 * np.pi * x_test) + 0.1 * np.random.randn(10)"
      ],
      "execution_count": null,
      "outputs": []
    },
    {
      "cell_type": "markdown",
      "metadata": {
        "id": "YJu_1xXUloK0"
      },
      "source": [
        "> **EXERCISE**: Do a nice plot entitled \"MSE loss **vs** degree of the polynomial fit\" that shows the trends of the training set and the test set."
      ]
    },
    {
      "cell_type": "code",
      "metadata": {
        "id": "HuQphUAXhh_w"
      },
      "source": [
        "# ✏️ your code here"
      ],
      "execution_count": null,
      "outputs": []
    },
    {
      "cell_type": "markdown",
      "source": [
        "**NOTE**\n",
        "\n",
        "Typically, when you are designing a learning model, you would get all the available data at the beginning. Then, you split this data into training, validation, and test sets.\n",
        "\n",
        "To recap:\n",
        "\n",
        "* **Training set**: the data we use to estimate our model's parameters.\n",
        "* **Validation set**: new data we use to evaluate our model, and possibly tune its hyperparameters.\n",
        "* **Test set**: new data we use to evaluate the final model."
      ],
      "metadata": {
        "id": "x2GV2rQ4mpNI"
      }
    },
    {
      "cell_type": "markdown",
      "source": [
        "### Data leakage\n",
        "\n",
        "> ⚠️ Using the test set to tune your model's design and hyperparameters is not just cheating: it is *conceptually wrong*.\n",
        ">\n",
        "> In the real world, you almost never have access to the test set. For example, ChatGPT has never seen the crazy prompts we give it, but it still works well. Our input forms ChatGPT's test set. We can conclude that ChatGPT generalizes well to unseen data."
      ],
      "metadata": {
        "id": "bVl2SP8J92tr"
      }
    },
    {
      "cell_type": "markdown",
      "metadata": {
        "id": "5z1iX6ltDTx8"
      },
      "source": [
        "###Regularization"
      ]
    },
    {
      "cell_type": "markdown",
      "metadata": {
        "id": "ENt79TByFzyD"
      },
      "source": [
        "Still, it is not always desirable to work with simple models with few parameters.\n",
        "\n",
        "Think about the true link between the input variable $x$ and the target variable $t$, it is through a $\\sin$ function.\n",
        "And a $\\sin$ function written in a polynomial basis (i.e. [its Taylor series](https://www.wolframalpha.com/input?i=taylor+series+sin+x)) contains terms of *every* odd degree, i.e. infinite terms. Our approximation of the ground truth function should benefit from high order terms, since they are *needed* to express a $\\sin$ function.\n",
        "\n",
        "We want to have many parameters, and we want them to do the right thing: to not overfit.\n",
        "This is why we need **regularizers**.\n",
        "\n",
        "Let's start with the simplest and most universal regularizer, *more data*.\n"
      ]
    },
    {
      "cell_type": "code",
      "metadata": {
        "id": "qcikXP28Ntfo",
        "cellView": "form"
      },
      "source": [
        "# @title Regularized polynomial fits: more data (again: play at least once) { run: \"auto\" }\n",
        "\n",
        "training_dataset_size = 75  #@param {type:\"slider\", min:1, max:100, step:1}\n",
        "temp_x, temp_t = x, t\n",
        "x = np.random.rand(training_dataset_size)\n",
        "t = np.sin(2 * np.pi * x) + 0.1 * np.random.randn(training_dataset_size)\n",
        "\n",
        "deg_1 = 2  #@param {type:\"slider\", min:0, max:15, step:1}\n",
        "deg_2 = 6  #@param {type:\"slider\", min:0, max:15, step:1}\n",
        "deg_3 = 13  #@param {type:\"slider\", min:0, max:15, step:1}\n",
        "\n",
        "degree = {}\n",
        "degree[0], degree[1], degree[2] = deg_1, deg_2, deg_3\n",
        "\n",
        "max_degree = max(degree.values())\n",
        "y = torch.from_numpy(t)\n",
        "X_full = torch.ones((y.shape[0], max_degree + 1), dtype=torch.float64)  # double precision is needed for this calculation!\n",
        "for i in range(max_degree):\n",
        "    X_full[:,i] =  torch.from_numpy(x) ** (max_degree - i)\n",
        "\n",
        "theta_collection = {}\n",
        "\n",
        "for i in range(3):\n",
        "    X = X_full[:,-(degree[i] + 1):]\n",
        "    temp_inverse = torch.inverse(torch.einsum('ij,jk->ik', X.t(), X))\n",
        "    theta_collection[i] = torch.einsum('ij,jk,k->i', temp_inverse, X.t(), y)\n",
        "\n",
        "fig = make_subplots(\n",
        "    rows=1, cols=3,\n",
        "    subplot_titles=(f\"poly{degree[0]} fit\", f\"poly{degree[1]} fit\", f\"poly{degree[2]} fit\"))\n",
        "\n",
        "x_funcs = np.arange(0,1,1./100)\n",
        "y_funcs = {}\n",
        "for i in range(3):\n",
        "    theta_funcs = theta_collection[i].numpy()\n",
        "    X_funcs = np.ones((x_funcs.shape[0], degree[i] + 1), dtype=np.float64)\n",
        "    for j in range(degree[i]):\n",
        "        X_funcs[:,j] =  x_funcs ** (degree[i] - j)\n",
        "    y_funcs[i] = np.einsum('ij,j->i', X_funcs, theta_funcs)\n",
        "    coefficients_string = '<br><br><br>' + '<br>'.join([c + f': {np.round(theta_funcs[i], decimals=2)}' for i, c in enumerate('abcdefghijklmnopqrstuvwxyz'[:len(theta_funcs)])])\n",
        "\n",
        "    fig.add_trace(go.Scatter(x=x, y=t, mode='markers', marker=dict(color=\"mediumpurple\")), row=1, col=i + 1)\n",
        "    fig.add_trace(go.Scatter(x=x_funcs, y=np.sin(2*np.pi*x_funcs), mode='lines', line=dict(color=\"lightgreen\")), row=1, col=i + 1)\n",
        "    fig.add_trace(go.Scatter(x=x_funcs, y=y_funcs[i], mode='lines', line=dict(color=\"lightsalmon\")), row=1, col=i + 1)\n",
        "    fig.update_xaxes(title_text=\"x\" + coefficients_string, range = [0,1], row=1, col=i+1)\n",
        "\n",
        "fig.update_layout(showlegend=False)\n",
        "fig.update_yaxes(title_text=\"t\", range = [-5,5])\n",
        "fig.update_layout(height=700, width=1300, title_text=\"Polynomial fits and their coefficients\")\n",
        "fig.show()\n",
        "\n",
        "x, t = temp_x, temp_t"
      ],
      "execution_count": null,
      "outputs": []
    },
    {
      "cell_type": "markdown",
      "metadata": {
        "id": "AdW9hYYgPAey"
      },
      "source": [
        "Unfortunately, we do not always have access to more data. Usually our goal is precisely to learn a general rule from a *few* samples, take for instance the [ARC challenge](https://www.kaggle.com/c/abstraction-and-reasoning-challenge/overview).\n",
        "\n",
        "Indeed intelligence seems more related to the (small) ratio between the amount of available data and the prediction performance, rather than just to the prediction performance.\n",
        "\n",
        "Have you noticed the huge values of $\\theta$ in the case of overfitting? Aren't the coefficients of the high-order terms in the Taylor expansion of $\\sin (x)$ supposed to be smaller and smaller?\n",
        "What if we try to discourage this overfitting behavior by adding to the loss a penalization term proportional to the norm of $\\theta$?\n",
        "\n",
        "You have already seen (or will soon see) this very common regularization technique in the theoretical lectures:\n",
        "$$E'(\\theta) = \\lambda \\|\\theta\\|^2 + \\frac{1}{N} \\sum_{i=1}^N(f_\\theta(x_i) - t_i)^2$$\n",
        "\n",
        "> 📖 **EXERCISE**: Obtain the vectorized closed-form solution for $\\theta$ that minimizes $E'$. (The one for $E$ was $\\theta = (\\mathbf{X}^\\top \\mathbf{X})^{-1}\\mathbf{X}^\\top\\mathbf{y}$)\n",
        ">\n",
        "> **Hint**: This is the first step:\n",
        "> $$ E'(\\theta) = (\\mathbf{y} - \\mathbf{X}\\theta)^\\top(\\mathbf{y} - \\mathbf{X}\\theta) + \\lambda\\theta^\\top\\theta$$\n",
        ">\n",
        "> Solve the exercise using pen and paper, the good old way.\n",
        "\n",
        "When you're done, let's play with the $\\lambda$ parameter."
      ]
    },
    {
      "cell_type": "code",
      "metadata": {
        "id": "7TO701p_BoFJ",
        "cellView": "form"
      },
      "source": [
        "# @title Regularized polynomial fits: weight decay { run: \"auto\" }\n",
        "\n",
        "deg_1 = 2  #@param {type:\"slider\", min:0, max:15, step:1}\n",
        "deg_2 = 6  #@param {type:\"slider\", min:0, max:15, step:1}\n",
        "deg_3 = 15  #@param {type:\"slider\", min:0, max:15, step:1}\n",
        "lam =   0.0001#@param {type:\"number\"}\n",
        "\n",
        "degree = {}\n",
        "degree[0], degree[1], degree[2] = deg_1, deg_2, deg_3\n",
        "\n",
        "max_degree = max(degree.values())\n",
        "y = torch.from_numpy(t)\n",
        "X_full = torch.ones((y.shape[0], max_degree + 1), dtype=torch.float64)  # double precision is needed for this calculation!\n",
        "for i in range(max_degree):\n",
        "    X_full[:,i] =  torch.from_numpy(x) ** (max_degree - i)\n",
        "\n",
        "theta_collection = {}\n",
        "\n",
        "for i in range(3):\n",
        "    X = X_full[:,-(degree[i] + 1):]\n",
        "    temp_inverse = torch.inverse(torch.einsum('ij,jk->ik', X.t(), X) + lam * torch.eye(degree[i] + 1))\n",
        "    theta_collection[i] = torch.einsum('ij,jk,k->i', temp_inverse, X.t(), y)\n",
        "\n",
        "fig = make_subplots(\n",
        "    rows=1, cols=3,\n",
        "    subplot_titles=(f\"poly{degree[0]} fit\", f\"poly{degree[1]} fit\", f\"poly{degree[2]} fit\"))\n",
        "\n",
        "x_funcs = np.arange(0,1,1./100)\n",
        "y_funcs = {}\n",
        "for i in range(3):\n",
        "    theta_funcs = theta_collection[i].numpy()\n",
        "    X_funcs = np.ones((x_funcs.shape[0], degree[i] + 1), dtype=np.float64)\n",
        "    for j in range(degree[i]):\n",
        "        X_funcs[:,j] =  x_funcs ** (degree[i] - j)\n",
        "    y_funcs[i] = np.einsum('ij,j->i', X_funcs, theta_funcs)\n",
        "    coefficients_string = '<br><br><br>' + '<br>'.join([c + f': {np.round(theta_funcs[i], decimals=2)}' for i, c in enumerate('abcdefghijklmnopqrstuvwxyz'[:len(theta_funcs)])])\n",
        "\n",
        "    fig.add_trace(go.Scatter(x=x, y=t, mode='markers', marker=dict(color=\"mediumpurple\")), row=1, col=i + 1)\n",
        "    fig.add_trace(go.Scatter(x=x_funcs, y=np.sin(2*np.pi*x_funcs), mode='lines', line=dict(color=\"lightgreen\")), row=1, col=i + 1)\n",
        "    fig.add_trace(go.Scatter(x=x_funcs, y=y_funcs[i], mode='lines', line=dict(color=\"lightsalmon\")), row=1, col=i + 1)\n",
        "    fig.update_xaxes(title_text=\"x\" + coefficients_string, range = [0,1], row=1, col=i+1)\n",
        "\n",
        "fig.update_layout(showlegend=False)\n",
        "fig.update_yaxes(title_text=\"t\", range = [-5,5])\n",
        "fig.update_layout(height=700, width=1300, title_text=\"Polynomial fits and their coefficients\")\n",
        "fig.show()"
      ],
      "execution_count": null,
      "outputs": []
    },
    {
      "cell_type": "markdown",
      "metadata": {
        "id": "3vQ8ittKYZjQ"
      },
      "source": [
        "Not so easy to tune, isn't it?\n",
        "\n",
        "Look at the magnitude of those parameters though, not spiking up anymore!\n",
        "\n",
        "It's a good moment to take a break, two new Pytorch classes await us in the next sections!"
      ]
    },
    {
      "cell_type": "markdown",
      "metadata": {
        "id": "Tvpx3YbdcKlK"
      },
      "source": [
        "## PyTorch Dataset"
      ]
    },
    {
      "cell_type": "markdown",
      "source": [
        "**Preamble:** In deep learning, we deal with data all the time -- so let's make sure we do it the best possible way! What follows is needed for next week's notebook (where we will write a learning model to automatically classify handwritten digits) and will be _fundamental_ for our deep neural networks all throughout the course.\n",
        "\n",
        "Let's head on!\n",
        "\n",
        "In PyTorch (and other common frameworks) you can decouple the code that *manages* the data from the code that *uses* the data.\n",
        "\n",
        "This produces simpler and more understandable code, and enables the possibility to re-use the same dataset with different models or the same model with different datasets.\n",
        "\n",
        "In the following sections, we will have a glimpse into how to manage the data pipeline.\n",
        "\n",
        "[`torch.utils.data.Dataset`](https://pytorch.org/docs/stable/data.html?highlight=dataset#torch.utils.data.Dataset) is an abstract class representing a dataset. Your custom dataset should inherit `Dataset` and override the following methods:\n",
        "\n",
        "- `__len__`: so that `len(dataset)` returns the size of the dataset\n",
        "- `__getitem__`: so that `dataset[i]` returns the $i$-th sample from the dataset.\n",
        "\n",
        "Let's create a toy dataset:"
      ],
      "metadata": {
        "id": "gUB7xjinRNYi"
      }
    },
    {
      "cell_type": "code",
      "metadata": {
        "id": "HclJRK7QdOZM"
      },
      "source": [
        "from torch.utils.data import Dataset\n",
        "\n",
        "class ToyDataset(Dataset):\n",
        "\n",
        "  def __init__(self, n_points: int = 20, noise: float = .1):\n",
        "    super().__init__()  # In python 3 this is enough\n",
        "\n",
        "    self.n_points = n_points\n",
        "\n",
        "    # these two lines pre-load the entire dataset in memory\n",
        "    self.x = torch.linspace(-1, 1, n_points)\n",
        "    self.y = self.x ** 3 + noise * torch.randn(n_points)\n",
        "\n",
        "  def __len__(self):\n",
        "    return self.n_points\n",
        "\n",
        "  def __getitem__(self, idx):\n",
        "    return {\n",
        "        'x': self.x[idx],\n",
        "        'y': self.y[idx]\n",
        "    }\n",
        "\n",
        "toydataset = ToyDataset(20, noise=.1)\n",
        "toydataset[5]"
      ],
      "execution_count": null,
      "outputs": []
    },
    {
      "cell_type": "markdown",
      "metadata": {
        "id": "BZRoEO92fefK"
      },
      "source": [
        "In this case the dataset is composed of simple pairs:"
      ]
    },
    {
      "cell_type": "code",
      "metadata": {
        "id": "Z-jhx5AUvQ2E"
      },
      "source": [
        "toydataset[2]"
      ],
      "execution_count": null,
      "outputs": []
    },
    {
      "cell_type": "code",
      "metadata": {
        "id": "M6vM4yKRfZEm"
      },
      "source": [
        "import plotly.express as px\n",
        "fig = px.scatter(x=toydataset.x.numpy(), y=toydataset.y.numpy())\n",
        "fig.show()"
      ],
      "execution_count": null,
      "outputs": []
    },
    {
      "cell_type": "markdown",
      "metadata": {
        "id": "NS0j3M_pgk8s"
      },
      "source": [
        "> **NOTE**\n",
        ">\n",
        "> Small Python reminder. Every object that implements the `__getitem__` method follows the [iterator procotol](https://www.python.org/dev/peps/pep-0234/#python-api-specification). It means that you can **iterate** the dataset:\n",
        "\n",
        "\n"
      ]
    },
    {
      "cell_type": "code",
      "metadata": {
        "id": "sMdwLEFDhZCu"
      },
      "source": [
        "from tqdm.notebook import tqdm as tqdm   # just a progress bar\n",
        "\n",
        "for sample in tqdm(toydataset):  # wrap the iterable in tqdm and you're done\n",
        "  pass"
      ],
      "execution_count": null,
      "outputs": []
    },
    {
      "cell_type": "markdown",
      "metadata": {
        "id": "9GXYYwNTfK7D"
      },
      "source": [
        "In the `ToyDataset` the whole dataset is stored **in memory**, i.e. in attributes of the `ToyDataset` class.\n",
        "This is the fastest and simplest way to implement a dataset, but it is **not always feasible**.\n",
        "What if you must train a neural network on 500GB of images?\n",
        "The whole dataset does not fit in memory!\n",
        "\n",
        "> For the same reason, using a single file to store the whole dataset does not scale with the dataset size.\n",
        ">\n",
        "> *Obviously, this depends on the file format used, e.g. it is perfectly fine if we are dealing with `HDF5` files*\n",
        "\n",
        "The `Dataset` abstraction is particularly useful when implementing *lazy loading* policies, that is, when you load each item **only when you need it**.\n",
        "You can even apply some preprocessing on the fly, to each item.\n",
        "\n",
        "One example of how it can be done:\n",
        "\n",
        "```python\n",
        "class LazyDataset(Dataset):\n",
        "\n",
        "  def __init__(self, file_paths: Sequence[Path]):\n",
        "    super().__init__()  \n",
        "    self.file_paths = file_paths\n",
        "\n",
        "  def __len__(self):\n",
        "    return len(self.file_paths)\n",
        "\n",
        "  def __getitem__(self, idx):\n",
        "    sample_path = self.file_paths[idx]\n",
        "\n",
        "    # -> Load sample_path in memory\n",
        "    # -> Perform some lightweight preprocessing\n",
        "    # -> Generate (sample_input, sample_output)\n",
        "\n",
        "    return {\n",
        "        'x': sample_input,\n",
        "        'y': sample_output\n",
        "    }\n",
        "\n",
        "```\n"
      ]
    },
    {
      "cell_type": "markdown",
      "metadata": {
        "id": "P79iR6q0gIzw"
      },
      "source": [
        "**NOTE**\n",
        "\n",
        "The dataset can return any type of object, you are *not* forced to return a dictionary of tensors:\n",
        "\n"
      ]
    },
    {
      "cell_type": "code",
      "metadata": {
        "id": "nDg1ggjdiMA4"
      },
      "source": [
        "from torch.utils.data import Dataset\n",
        "\n",
        "class AnotherDataset(Dataset):\n",
        "  def __init__(self):\n",
        "    super().__init__()\n",
        "    self.myitems = torch.arange(100)\n",
        "\n",
        "  def __len__(self):\n",
        "    return len(self.myitems)\n",
        "\n",
        "  def __getitem__(self, idx):\n",
        "    return f'Sample{idx}', self.myitems[idx], None, 3.5\n",
        "\n",
        "dataset = AnotherDataset()\n",
        "dataset[5]"
      ],
      "execution_count": null,
      "outputs": []
    },
    {
      "cell_type": "markdown",
      "metadata": {
        "id": "zOwlr_u2iLh6"
      },
      "source": [
        "\n",
        "However, it is often useful to return a dictionary of tensors.\n",
        "\n",
        "⚠️ Do *not* return tensors that are stored on the GPU memory, as it [causes problems](https://pytorch.org/docs/stable/data.html#multi-process-data-loading) with the multiprocessing behavior of the DataLoader. We'll see memory pinning as a preferred way, further below.\n",
        "\n",
        "Returning a dictionary of tensors will:\n",
        "\n",
        "- Make your code more readable\n",
        "- Ease the batch creation process: you may use the `DataLoader` default `collate_fn` (we'll see this in a second)"
      ]
    },
    {
      "cell_type": "markdown",
      "metadata": {
        "id": "ndnx7HJxkvXH"
      },
      "source": [
        "## PyTorch DataLoader"
      ]
    },
    {
      "cell_type": "markdown",
      "source": [
        "\n",
        "[`torch.utils.data.DataLoader`](https://pytorch.org/docs/stable/data.html?highlight=dataloader#torch.utils.data.DataLoader) is an iterator that provides:\n",
        "\n",
        "- Data batching\n",
        "- Data shuffling\n",
        "- Parallel data loading using `multiprocessing` workers. Meaning that while the `GPU` is performing some computation on a batch, in parallel you can load the next batch.\n",
        "\n",
        "\n",
        "Creating a dataloader from a dataset is straightforward. Here's an example that highlights some of the most used parameters:"
      ],
      "metadata": {
        "id": "G_peCB8pRTn7"
      }
    },
    {
      "cell_type": "code",
      "metadata": {
        "id": "bNxfH3vayfVx"
      },
      "source": [
        "from torch.utils.data import DataLoader\n",
        "\n",
        "toydataset = ToyDataset(200)\n",
        "toyloader = DataLoader(toydataset,\n",
        "                       batch_size=8,    # number of elements in each batch\n",
        "                       shuffle=True,    # shuffle the dataset\n",
        "                       num_workers=4,   # number of workers, i.e. batches to prefetch\n",
        "                       pin_memory=True  # return memory-pinned tensors, see below for an explanation!\n",
        "                       )\n",
        "\n",
        "# 200 iterations\n",
        "for sample in tqdm(toydataset):\n",
        "  pass\n",
        "print(sample)\n",
        "\n",
        "# 25 iterations\n",
        "for batch in tqdm(toyloader):  # there is some overhead when using multiple workers!\n",
        "  pass\n",
        "batch"
      ],
      "execution_count": null,
      "outputs": []
    },
    {
      "cell_type": "markdown",
      "metadata": {
        "id": "Bm9Uhxbt52fy"
      },
      "source": [
        "If you are not returning a dictionary or some other form of regular structure from the dataset, you must manually specify *how* to put the samples together to form a batch. This can be done with the `collate_fn` parameter of the `DataLoader`.\n",
        "\n",
        "Please read these [docs](https://pytorch.org/docs/stable/data.html#loading-batched-and-non-batched-data) to understand the default behavior of `collate_fn` and how you can define custom `collate_fn` functions."
      ]
    },
    {
      "cell_type": "markdown",
      "metadata": {
        "id": "pALUlr9Czk_B"
      },
      "source": [
        "> **NOTE**\n",
        ">\n",
        "> The `DataLoader` is just an iterator, it can't be directly indexed!"
      ]
    },
    {
      "cell_type": "code",
      "metadata": {
        "id": "ijjb5ujOzpvQ"
      },
      "source": [
        "try:\n",
        "  toyloader[0]\n",
        "except Exception as e:\n",
        "  print('Error:', e)"
      ],
      "execution_count": null,
      "outputs": []
    },
    {
      "cell_type": "markdown",
      "metadata": {
        "id": "SYYP8rCj2-Ae"
      },
      "source": [
        "### 📖 Memory pinning"
      ]
    },
    {
      "cell_type": "markdown",
      "metadata": {
        "id": "GRqZeY_A1Ink"
      },
      "source": [
        "Pytorch tensors support [memory pinning](https://devblogs.nvidia.com/how-optimize-data-transfers-cuda-cc/):"
      ]
    },
    {
      "cell_type": "markdown",
      "metadata": {
        "id": "T1BIKzR36fww"
      },
      "source": [
        "![](https://devblogs.nvidia.com/wp-content/uploads/2012/12/pinned-1024x541.jpg)"
      ]
    },
    {
      "cell_type": "markdown",
      "metadata": {
        "id": "84rs4T_66ffq"
      },
      "source": [
        "\n",
        "Pinned tensors enable:\n",
        "- **Much faster copies** from CPU to GPU.\n",
        "- **Aynchronous GPU copies**: *while* the tensor is being transferred, the code continues if it doesn't need that tensor! To enable this, just pass an additional **`non_blocking=True`** argument to a `to()` or a `cuda()` call.  (**gpu operations are [asynchronous](https://pytorch.org/docs/stable/notes/cuda.html#asynchronous-execution) by default**)\n",
        "\n",
        "Given a tensor you can manually pin it:"
      ]
    },
    {
      "cell_type": "code",
      "metadata": {
        "id": "tF0GVdOq3tnG"
      },
      "source": [
        "t = torch.rand(100)\n",
        "t.is_pinned()"
      ],
      "execution_count": null,
      "outputs": []
    },
    {
      "cell_type": "code",
      "metadata": {
        "id": "6p_mlBoh3p-a"
      },
      "source": [
        "# be sure to use a GPU runtime, otherwise there's nothing to pin for!\n",
        "\n",
        "t = t.pin_memory()  # reassigning to t, because pin_memory() is not in-place"
      ],
      "execution_count": null,
      "outputs": []
    },
    {
      "cell_type": "code",
      "metadata": {
        "id": "kgFj15grDJPl"
      },
      "source": [
        "t.is_pinned()"
      ],
      "execution_count": null,
      "outputs": []
    },
    {
      "cell_type": "markdown",
      "metadata": {
        "id": "nY2UFPT14EkF"
      },
      "source": [
        "Passing `pin_memory=True` to a `DataLoader` will automatically put the fetched data tensors in pinned memory, enabling faster data transfer to CUDA-enabled GPUs.\n",
        "\n",
        "`DataLoader` only knows how to pin the standard types returned by `Dataset`; this includes Tensor, Map and Sequence of Tensors. If you want to pin some custom type, read more [here](https://pytorch.org/docs/stable/data.html#memory-pinning) (tldr: define a `pin_memory()` method on your custom type(s))."
      ]
    },
    {
      "cell_type": "code",
      "metadata": {
        "id": "5gNnoz6U5sMz"
      },
      "source": [
        "batch['x'].is_pinned()"
      ],
      "execution_count": null,
      "outputs": []
    },
    {
      "cell_type": "markdown",
      "metadata": {
        "id": "Q4l1TIvepi6H"
      },
      "source": [
        "### Troubleshooting bottlenecks\n",
        "Make sure the data loading is **not a bottleneck** in your pipeline.\n",
        "Your GPU must not **wait for data**.\n",
        "\n"
      ]
    },
    {
      "cell_type": "markdown",
      "metadata": {
        "id": "zFEIytCKlMsQ"
      },
      "source": [
        "#### How to check if your data loading is a bottleneck?\n",
        "\n",
        "##### **Check resource usage**\n",
        "\n",
        "Check the GPU (or CPU) usage, if it is ~$100\\%$ it is being fully utilised. This is good!\n",
        "\n",
        "Otherwise you may have a bottleneck somewhere, or your data operations may not be GPU friendly (e.g. small batches).\n",
        "\n",
        "\n",
        "##### **Check data loading speed**\n",
        "\n",
        "Iterate over the `Dataset` or `DataLoader` and check the data loading speed by counting the number of items that are loaded per second. Then compare this to how many items per second are processed by the rest of the pipeline.\n",
        "\n",
        "If you can load more items than you can process in the training loop, it means you _don't_ have a bottleneck in your data loading. The GPU is not waiting for you, good job!\n",
        "\n",
        "You can use the [tqdm](https://github.com/tqdm/tqdm) package to easily check the iteration speed of any iterable with a minimal overhead."
      ]
    },
    {
      "cell_type": "code",
      "metadata": {
        "id": "-PLGSqUenoTz"
      },
      "source": [
        "# Checking the loading speed\n",
        "from tqdm.notebook import tqdm as tqdm  # just a progress bar\n",
        "\n",
        "toydataset = ToyDataset(20000)\n",
        "toyloader = DataLoader(toydataset,\n",
        "                       batch_size=8,    # number of elements in each batch\n",
        "                       shuffle=True,    # shuffle the dataset\n",
        "                       num_workers=4,   # number of workers, i.e. batches to prefetch\n",
        "                       pin_memory=True  # return memory pinnded tensors\n",
        "                       )\n",
        "for batch in tqdm(toyloader):\n",
        "  pass\n",
        "\n",
        "# Example:\n",
        "# tqdm reports 350.00it/s (iterations per second) for the loader.\n",
        "# tqdm reports 280.12it/s for the training step given the data.\n",
        "# -> data loading is NOT a bottleneck!\n",
        "#\n",
        "# This scenario means your computation time is the primary factor in how long\n",
        "# each iteration takes, and the data loading process is efficient enough to keep\n",
        "# up with the computational demands."
      ],
      "execution_count": null,
      "outputs": []
    },
    {
      "cell_type": "markdown",
      "metadata": {
        "id": "DUhUSCRNoTQb"
      },
      "source": [
        "#### How to fix a bottleneck in the data loading?\n",
        "\n",
        "##### 1) **Use in-memory datasets**\n",
        "If your dataset fits on memory, load the whole dataset in memory.\n",
        "\n",
        "##### 2) **Tune DataLoader parameters**\n",
        "Tune the `num_workers` and `batch_size` parameter of the `DataLoader`, paying attention that the batch size will have a direct impact on the training. A good default for `num_workers` is the number of cores in your CPU.\n",
        "\n",
        "##### 3) **Do not preprocess on the fly**\n",
        "If you need preprocessing for your files, save the preprocessed files to disk.\n",
        "\n",
        "##### 4) **Speed up raw file loading**\n",
        "If even just loading the files from disk is slow, consider changing the way in which the files are stored (e.g. another [format](https://www.h5py.org/) or a [database](https://github.com/google/leveldb))."
      ]
    },
    {
      "cell_type": "markdown",
      "metadata": {
        "id": "34YGEYsZyBvS"
      },
      "source": [
        "> **NOTE**\n",
        ">\n",
        "> You can read much more on the `torch.utils.data` package [here](https://pytorch.org/docs/stable/data.html).\n",
        ">\n",
        "> Moreover, keep in mind that the [`torchvision`](https://pytorch.org/vision/stable/index.html) package provides some common datasets and transforms. We'll use it next week!"
      ]
    },
    {
      "cell_type": "markdown",
      "metadata": {
        "id": "JiCv7axFUEel"
      },
      "source": [
        "### Dataset and DataLoader exercises\n",
        "\n",
        "> **EXERCISE**\n",
        ">\n",
        "> You want to create a neural network that is able to learn how to recover corrupted images from the [CIFAR10](https://www.cs.toronto.edu/~kriz/cifar.html) dataset. That is, given as input a corrupted image, the model outputs a corresponding uncorrupted version.\n",
        ">\n",
        "> You are free to choose the type of corruption to apply. Possible examples are: random noise, random black patches, random crop, random reflections, all the previous together.\n",
        ">\n",
        "> 1) Think about the data pipeline this model would require. What should the dataset return?\n",
        ">\n",
        "> 2) Create the `Dataset` and `DataLoader` to implement it.\n",
        ">\n",
        "> 3) Plot the images in a **batch** to ensure you are doing everything right.\n",
        ">\n",
        ">  *hint*: you may use [`torchvision.datasets`](https://pytorch.org/vision/stable/datasets.html) and [`torchvision.transforms`](https://pytorch.org/vision/stable/transforms.html)"
      ]
    },
    {
      "cell_type": "code",
      "source": [
        "# ✏️ your code here"
      ],
      "metadata": {
        "id": "CuCHY0Zb-9pH"
      },
      "execution_count": null,
      "outputs": []
    },
    {
      "cell_type": "markdown",
      "metadata": {
        "id": "U07puKsVdCXZ"
      },
      "source": [
        "> **EXERCISE** *(discuss only)*\n",
        ">\n",
        "> Consider [The Abstraction and Reasoning Corpus (ARC)](https://github.com/fchollet/ARC).\n",
        ">\n",
        "> If you want, you can clone the ARC repository on your computer and play against some proposed tasks (without writing any program -- play yourself as a human!). It is enough to open `apps/testing_interface.html` in your browser.\n",
        ">\n",
        "> > *ARC can be seen as a general artificial intelligence benchmark, as a program synthesis benchmark, or as a psychometric intelligence test. It is targeted at both humans and artificially intelligent systems that aim at emulating a human-like form of general fluid intelligence.*\n",
        "> >\n",
        "> > **Dataset goal**\n",
        "> >\n",
        "> > A test-taker is said to solve a task when, upon seeing the task for the first time, they are able to produce the correct output grid for *all* test inputs in the task (this includes picking the dimensions of the output grid). For each test input, the test-taker is allowed 3 trials (this holds for all test-takers, either humans or AI).\n",
        "> >\n",
        "> > **Task file format**\n",
        "> >\n",
        "> > The `data` directory contains two subdirectories:\n",
        "> >\n",
        "> > - `data/training`: contains the task files for training (400 tasks). Use these to prototype your algorithm or to train your algorithm to acquire ARC-relevant cognitive priors.\n",
        "> > - `data/evaluation`: contains the task files for evaluation (400 tasks). Use these to evaluate your final algorithm. To ensure fair evaluation results, do not leak information from the evaluation set into your algorithm, e.g. by looking at the evaluation tasks yourself during development, or by repeatedly modifying an algorithm while using its evaluation score as feedback (remember that [this is conceptually wrong](#data-leakage)!).\n",
        "> >\n",
        "> > The tasks are stored in JSON format. Each task JSON file contains a dictionary with two fields:\n",
        "> >\n",
        "> > - `\"train\"`: demonstration input/output pairs. It is a list of \"pairs\" (typically 3 pairs).\n",
        "> > - `\"test\"`: test input/output pairs. It is a list of \"pairs\" (typically 1 pair).\n",
        "> >\n",
        "> > A \"pair\" is a dictionary with two fields:\n",
        "> >\n",
        "> > - `\"input\"`: the input \"grid\" for the pair.\n",
        "> > - `\"output\"`: the output \"grid\" for the pair.\n",
        "> >\n",
        "> > A \"grid\" is a rectangular matrix (list of lists) of integers between 0 and 9 (inclusive). The smallest possible grid size is 1x1 and the largest is 30x30.\n",
        ">\n",
        ">\n",
        "> - What would your`Dataset` return for this task?\n",
        "> - What would each batch contain?\n",
        ">\n",
        "> Discuss and compare your choices with your colleagues. Did you all make the same choices? Why or why not?\n"
      ]
    },
    {
      "cell_type": "markdown",
      "source": [
        "✏️ Write down your conclusions here"
      ],
      "metadata": {
        "id": "x9IwEqyp_E8t"
      }
    }
  ]
}